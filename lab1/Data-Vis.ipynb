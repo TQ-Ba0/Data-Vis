{
 "cells": [
  {
   "cell_type": "markdown",
   "metadata": {},
   "source": [
    "## Import the necessary libraries"
   ]
  },
  {
   "cell_type": "code",
   "execution_count": 45,
   "metadata": {},
   "outputs": [],
   "source": [
    "import pandas as pd\n",
    "import numpy as np\n",
    "\n",
    "import matplotlib.pyplot as plt \n",
    "\n",
    "from datetime import date\n",
    "import math\n",
    "import plotly.express as px\n",
    "import plotly.graph_objects as go\n",
    "import seaborn as sns\n"
   ]
  },
  {
   "attachments": {},
   "cell_type": "markdown",
   "metadata": {},
   "source": [
    "## Read data from CSV file"
   ]
  },
  {
   "cell_type": "code",
   "execution_count": 46,
   "metadata": {},
   "outputs": [
    {
     "data": {
      "text/html": [
       "<div>\n",
       "<style scoped>\n",
       "    .dataframe tbody tr th:only-of-type {\n",
       "        vertical-align: middle;\n",
       "    }\n",
       "\n",
       "    .dataframe tbody tr th {\n",
       "        vertical-align: top;\n",
       "    }\n",
       "\n",
       "    .dataframe thead th {\n",
       "        text-align: right;\n",
       "    }\n",
       "</style>\n",
       "<table border=\"1\" class=\"dataframe\">\n",
       "  <thead>\n",
       "    <tr style=\"text-align: right;\">\n",
       "      <th></th>\n",
       "      <th>Country, Other</th>\n",
       "      <th>Total Cases</th>\n",
       "      <th>Total Deaths</th>\n",
       "      <th>Total Recovered</th>\n",
       "      <th>Active Cases</th>\n",
       "      <th>Serious, Critical</th>\n",
       "      <th>1M pop</th>\n",
       "      <th>Deaths/ 1M pop</th>\n",
       "      <th>Total Tests</th>\n",
       "      <th>Tests/ 1M pop</th>\n",
       "      <th>Population</th>\n",
       "      <th>Continent</th>\n",
       "    </tr>\n",
       "  </thead>\n",
       "  <tbody>\n",
       "    <tr>\n",
       "      <th>0</th>\n",
       "      <td>USA</td>\n",
       "      <td>105665981</td>\n",
       "      <td>1149253.0</td>\n",
       "      <td>103319965.0</td>\n",
       "      <td>1196763.0</td>\n",
       "      <td>2157.0</td>\n",
       "      <td>315604.0</td>\n",
       "      <td>3433.0</td>\n",
       "      <td>1.169268e+09</td>\n",
       "      <td>3492381.0</td>\n",
       "      <td>3.348053e+08</td>\n",
       "      <td>North America</td>\n",
       "    </tr>\n",
       "    <tr>\n",
       "      <th>1</th>\n",
       "      <td>India</td>\n",
       "      <td>44691956</td>\n",
       "      <td>530789.0</td>\n",
       "      <td>44156970.0</td>\n",
       "      <td>4197.0</td>\n",
       "      <td>NaN</td>\n",
       "      <td>31772.0</td>\n",
       "      <td>377.0</td>\n",
       "      <td>9.198164e+08</td>\n",
       "      <td>653914.0</td>\n",
       "      <td>1.406632e+09</td>\n",
       "      <td>Asia</td>\n",
       "    </tr>\n",
       "    <tr>\n",
       "      <th>2</th>\n",
       "      <td>France</td>\n",
       "      <td>39667102</td>\n",
       "      <td>165240.0</td>\n",
       "      <td>39435308.0</td>\n",
       "      <td>66554.0</td>\n",
       "      <td>869.0</td>\n",
       "      <td>604824.0</td>\n",
       "      <td>2519.0</td>\n",
       "      <td>2.714902e+08</td>\n",
       "      <td>4139547.0</td>\n",
       "      <td>6.558452e+07</td>\n",
       "      <td>Europe</td>\n",
       "    </tr>\n",
       "    <tr>\n",
       "      <th>3</th>\n",
       "      <td>Germany</td>\n",
       "      <td>38276190</td>\n",
       "      <td>169345.0</td>\n",
       "      <td>37906300.0</td>\n",
       "      <td>200545.0</td>\n",
       "      <td>NaN</td>\n",
       "      <td>456301.0</td>\n",
       "      <td>2019.0</td>\n",
       "      <td>1.223324e+08</td>\n",
       "      <td>1458359.0</td>\n",
       "      <td>8.388360e+07</td>\n",
       "      <td>Europe</td>\n",
       "    </tr>\n",
       "    <tr>\n",
       "      <th>4</th>\n",
       "      <td>Brazil</td>\n",
       "      <td>37085520</td>\n",
       "      <td>699310.0</td>\n",
       "      <td>36249161.0</td>\n",
       "      <td>137049.0</td>\n",
       "      <td>NaN</td>\n",
       "      <td>172208.0</td>\n",
       "      <td>3247.0</td>\n",
       "      <td>6.377617e+07</td>\n",
       "      <td>296146.0</td>\n",
       "      <td>2.153536e+08</td>\n",
       "      <td>South America</td>\n",
       "    </tr>\n",
       "    <tr>\n",
       "      <th>...</th>\n",
       "      <td>...</td>\n",
       "      <td>...</td>\n",
       "      <td>...</td>\n",
       "      <td>...</td>\n",
       "      <td>...</td>\n",
       "      <td>...</td>\n",
       "      <td>...</td>\n",
       "      <td>...</td>\n",
       "      <td>...</td>\n",
       "      <td>...</td>\n",
       "      <td>...</td>\n",
       "      <td>...</td>\n",
       "    </tr>\n",
       "    <tr>\n",
       "      <th>226</th>\n",
       "      <td>Diamond Princess</td>\n",
       "      <td>712</td>\n",
       "      <td>13.0</td>\n",
       "      <td>699.0</td>\n",
       "      <td>0.0</td>\n",
       "      <td>NaN</td>\n",
       "      <td>NaN</td>\n",
       "      <td>NaN</td>\n",
       "      <td>NaN</td>\n",
       "      <td>NaN</td>\n",
       "      <td>NaN</td>\n",
       "      <td>NaN</td>\n",
       "    </tr>\n",
       "    <tr>\n",
       "      <th>227</th>\n",
       "      <td>Vatican City</td>\n",
       "      <td>29</td>\n",
       "      <td>NaN</td>\n",
       "      <td>29.0</td>\n",
       "      <td>0.0</td>\n",
       "      <td>NaN</td>\n",
       "      <td>36295.0</td>\n",
       "      <td>NaN</td>\n",
       "      <td>NaN</td>\n",
       "      <td>NaN</td>\n",
       "      <td>7.990000e+02</td>\n",
       "      <td>Europe</td>\n",
       "    </tr>\n",
       "    <tr>\n",
       "      <th>228</th>\n",
       "      <td>Western Sahara</td>\n",
       "      <td>10</td>\n",
       "      <td>1.0</td>\n",
       "      <td>9.0</td>\n",
       "      <td>0.0</td>\n",
       "      <td>NaN</td>\n",
       "      <td>16.0</td>\n",
       "      <td>2.0</td>\n",
       "      <td>NaN</td>\n",
       "      <td>NaN</td>\n",
       "      <td>6.261610e+05</td>\n",
       "      <td>Africa</td>\n",
       "    </tr>\n",
       "    <tr>\n",
       "      <th>229</th>\n",
       "      <td>MS Zaandam</td>\n",
       "      <td>9</td>\n",
       "      <td>2.0</td>\n",
       "      <td>7.0</td>\n",
       "      <td>0.0</td>\n",
       "      <td>NaN</td>\n",
       "      <td>NaN</td>\n",
       "      <td>NaN</td>\n",
       "      <td>NaN</td>\n",
       "      <td>NaN</td>\n",
       "      <td>NaN</td>\n",
       "      <td>NaN</td>\n",
       "    </tr>\n",
       "    <tr>\n",
       "      <th>230</th>\n",
       "      <td>Tokelau</td>\n",
       "      <td>5</td>\n",
       "      <td>NaN</td>\n",
       "      <td>NaN</td>\n",
       "      <td>5.0</td>\n",
       "      <td>NaN</td>\n",
       "      <td>3628.0</td>\n",
       "      <td>NaN</td>\n",
       "      <td>NaN</td>\n",
       "      <td>NaN</td>\n",
       "      <td>1.378000e+03</td>\n",
       "      <td>Australia/Oceania</td>\n",
       "    </tr>\n",
       "  </tbody>\n",
       "</table>\n",
       "<p>231 rows × 12 columns</p>\n",
       "</div>"
      ],
      "text/plain": [
       "       Country, Other  Total Cases  Total Deaths  Total Recovered  \\\n",
       "0                 USA    105665981     1149253.0      103319965.0   \n",
       "1               India     44691956      530789.0       44156970.0   \n",
       "2              France     39667102      165240.0       39435308.0   \n",
       "3             Germany     38276190      169345.0       37906300.0   \n",
       "4              Brazil     37085520      699310.0       36249161.0   \n",
       "..                ...          ...           ...              ...   \n",
       "226  Diamond Princess          712          13.0            699.0   \n",
       "227      Vatican City           29           NaN             29.0   \n",
       "228    Western Sahara           10           1.0              9.0   \n",
       "229        MS Zaandam            9           2.0              7.0   \n",
       "230           Tokelau            5           NaN              NaN   \n",
       "\n",
       "     Active Cases  Serious, Critical    1M pop  Deaths/ 1M pop   Total Tests  \\\n",
       "0       1196763.0             2157.0  315604.0          3433.0  1.169268e+09   \n",
       "1          4197.0                NaN   31772.0           377.0  9.198164e+08   \n",
       "2         66554.0              869.0  604824.0          2519.0  2.714902e+08   \n",
       "3        200545.0                NaN  456301.0          2019.0  1.223324e+08   \n",
       "4        137049.0                NaN  172208.0          3247.0  6.377617e+07   \n",
       "..            ...                ...       ...             ...           ...   \n",
       "226           0.0                NaN       NaN             NaN           NaN   \n",
       "227           0.0                NaN   36295.0             NaN           NaN   \n",
       "228           0.0                NaN      16.0             2.0           NaN   \n",
       "229           0.0                NaN       NaN             NaN           NaN   \n",
       "230           5.0                NaN    3628.0             NaN           NaN   \n",
       "\n",
       "     Tests/ 1M pop    Population          Continent  \n",
       "0        3492381.0  3.348053e+08      North America  \n",
       "1         653914.0  1.406632e+09               Asia  \n",
       "2        4139547.0  6.558452e+07             Europe  \n",
       "3        1458359.0  8.388360e+07             Europe  \n",
       "4         296146.0  2.153536e+08      South America  \n",
       "..             ...           ...                ...  \n",
       "226            NaN           NaN                NaN  \n",
       "227            NaN  7.990000e+02             Europe  \n",
       "228            NaN  6.261610e+05             Africa  \n",
       "229            NaN           NaN                NaN  \n",
       "230            NaN  1.378000e+03  Australia/Oceania  \n",
       "\n",
       "[231 rows x 12 columns]"
      ]
     },
     "execution_count": 46,
     "metadata": {},
     "output_type": "execute_result"
    }
   ],
   "source": [
    "df = pd.read_csv(\"2023-02-16.csv\")\n",
    "# df = pd.read_csv(f\"{date.today()}.csv\")\n",
    "df = df.drop(df.columns[0], axis=1)\n",
    "# df = df.astype({df.columns[i]:'Int64' for i in range(1,len(columns)-1)})\n",
    "df"
   ]
  },
  {
   "attachments": {},
   "cell_type": "markdown",
   "metadata": {},
   "source": [
    "---\n",
    "\n",
    "# Visualization\n",
    "## Correlation between 2 attributes"
   ]
  },
  {
   "cell_type": "code",
   "execution_count": 47,
   "metadata": {},
   "outputs": [],
   "source": [
    "def correlation_2_attr(attr1, attr2):\n",
    "    x_values = df[f'{attr1}'].apply(lambda x: math.log10(x))\n",
    "    y_values = df[f'{attr2}'].apply(lambda x: math.log10(x))\n",
    "    plt.scatter(x_values, y_values)\n",
    "    plt.title(f'{attr1} and {attr2} Correlation (log scale)')\n",
    "    plt.xlabel(attr1)\n",
    "    plt.ylabel(attr2)\n",
    "    plt.plot([0, max(x_values)], [0, max(x_values)], label=f'Where {attr1} equals to {attr2}')\n",
    "    plt.legend()\n",
    "    plt.show()"
   ]
  },
  {
   "cell_type": "code",
   "execution_count": 48,
   "metadata": {},
   "outputs": [
    {
     "data": {
      "image/png": "[encoded data removed]",
      "text/plain": [
       "<Figure size 432x288 with 1 Axes>"
      ]
     },
     "metadata": {
      "needs_background": "light"
     },
     "output_type": "display_data"
    }
   ],
   "source": [
    "correlation_2_attr('Total Deaths','Total Recovered')"
   ]
  },
  {
   "cell_type": "markdown",
   "metadata": {},
   "source": [
    "`Comment:` \n",
    "- All countries have more recovered cases than death cases.\n",
    "- Recovered cases and death cases have positive linear correlation."
   ]
  },
  {
   "cell_type": "code",
   "execution_count": 49,
   "metadata": {},
   "outputs": [
    {
     "data": {
      "image/png": "[encoded data removed]",
      "text/plain": [
       "<Figure size 432x288 with 1 Axes>"
      ]
     },
     "metadata": {
      "needs_background": "light"
     },
     "output_type": "display_data"
    }
   ],
   "source": [
    "correlation_2_attr('Total Deaths','Total Cases')"
   ]
  },
  {
   "cell_type": "markdown",
   "metadata": {},
   "source": [
    "`Comment:` no difference with correlation between Recovered cases and Death cases"
   ]
  },
  {
   "attachments": {},
   "cell_type": "markdown",
   "metadata": {},
   "source": [
    "### Overview of the epidemic situation in the world and continent"
   ]
  },
  {
   "cell_type": "code",
   "execution_count": 50,
   "metadata": {},
   "outputs": [
    {
     "data": {
      "application/vnd.plotly.v1+json": {
       "config": {
        "plotlyServerURL": "https://plot.ly"
       },
       "data": [
        {
         "autocolorscale": false,
         "colorbar": {
          "title": {
           "text": "Total Covid Cases"
          }
         },
         "colorscale": [
          [
           0,
           "#440154"
          ],
          [
           0.1111111111111111,
           "#482878"
          ],
          [
           0.2222222222222222,
           "#3e4989"
          ],
          [
           0.3333333333333333,
           "#31688e"
          ],
          [
           0.4444444444444444,
           "#26828e"
          ],
          [
           0.5555555555555556,
           "#1f9e89"
          ],
          [
           0.6666666666666666,
           "#35b779"
          ],
          [
           0.7777777777777778,
           "#6ece58"
          ],
          [
           0.8888888888888888,
           "#b5de2b"
          ],
          [
           1,
           "#fde725"
          ]
         ],
         "locationmode": "country names",
         "locations": [
          "USA",
          "India",
          "France",
          "Germany",
          "Brazil",
          "Japan",
          "S. Korea",
          "Italy",
          "UK",
          "Russia",
          "Turkey",
          "Spain",
          "Vietnam",
          "Australia",
          "Taiwan",
          "Argentina",
          "Netherlands",
          "Iran",
          "Mexico",
          "Indonesia",
          "Poland",
          "Colombia",
          "Austria",
          "Greece",
          "Portugal",
          "Ukraine",
          "Chile",
          "Malaysia",
          "Israel",
          "DPRK",
          "Belgium",
          "Thailand",
          "Czechia",
          "Canada",
          "Peru",
          "Switzerland",
          "Philippines",
          "South Africa",
          "Romania",
          "Denmark",
          "Hong Kong",
          "Sweden",
          "Serbia",
          "Iraq",
          "New Zealand",
          "Singapore",
          "Hungary",
          "Bangladesh",
          "Slovakia",
          "Georgia",
          "Jordan",
          "Ireland",
          "Pakistan",
          "Norway",
          "Finland",
          "Kazakhstan",
          "Slovenia",
          "Lithuania",
          "Bulgaria",
          "Morocco",
          "Croatia",
          "Guatemala",
          "Lebanon",
          "Costa Rica",
          "Bolivia",
          "Tunisia",
          "Cuba",
          "Ecuador",
          "UAE",
          "Uruguay",
          "Panama",
          "Mongolia",
          "Nepal",
          "Belarus",
          "Latvia",
          "Saudi Arabia",
          "Azerbaijan",
          "Paraguay",
          "Bahrain",
          "Sri Lanka",
          "Kuwait",
          "Dominican Republic",
          "Cyprus",
          "Myanmar",
          "Palestine",
          "Estonia",
          "Moldova",
          "Venezuela",
          "Egypt",
          "Libya",
          "China",
          "Ethiopia",
          "Qatar",
          "Réunion",
          "Honduras",
          "Armenia",
          "Bosnia and Herzegovina",
          "Oman",
          "North Macedonia",
          "Zambia",
          "Kenya",
          "Albania",
          "Botswana",
          "Luxembourg",
          "Montenegro",
          "Brunei ",
          "Algeria",
          "Nigeria",
          "Zimbabwe",
          "Uzbekistan",
          "Mozambique",
          "Martinique",
          "Laos",
          "Afghanistan",
          "Iceland",
          "Kyrgyzstan",
          "Guadeloupe",
          "El Salvador",
          "Trinidad and Tobago",
          "Maldives",
          "Ghana",
          "Namibia",
          "Uganda",
          "Jamaica",
          "Cambodia",
          "Rwanda",
          "Cameroon",
          "Malta",
          "Barbados",
          "Angola",
          "Channel Islands",
          "French Guiana",
          "DRC",
          "Senegal",
          "Malawi",
          "Ivory Coast",
          "Suriname",
          "New Caledonia",
          "French Polynesia",
          "Eswatini",
          "Guyana",
          "Belize",
          "Fiji",
          "Madagascar",
          "Sudan",
          "Mauritania",
          "Cabo Verde",
          "Bhutan",
          "Syria",
          "Burundi",
          "Seychelles",
          "Gabon",
          "Andorra",
          "Papua New Guinea",
          "Curaçao",
          "Aruba",
          "Tanzania",
          "Mayotte",
          "Mauritius",
          "Togo",
          "Guinea",
          "Isle of Man",
          "Bahamas",
          "Lesotho",
          "Faeroe Islands",
          "Haiti",
          "Mali",
          "Cayman Islands",
          "Saint Lucia",
          "Benin",
          "Somalia",
          "Congo",
          "Solomon Islands",
          "Micronesia",
          "San Marino",
          "Timor-Leste",
          "Burkina Faso",
          "Liechtenstein",
          "Gibraltar",
          "Grenada",
          "Bermuda",
          "Nicaragua",
          "South Sudan",
          "Tajikistan",
          "Equatorial Guinea",
          "Tonga",
          "Samoa",
          "Monaco",
          "Dominica",
          "Djibouti",
          "Marshall Islands",
          "CAR",
          "Gambia",
          "Saint Martin",
          "Vanuatu",
          "Greenland",
          "Yemen",
          "Caribbean Netherlands",
          "Sint Maarten",
          "Eritrea",
          "Niger",
          "St. Vincent Grenadines",
          "Antigua and Barbuda",
          "Comoros",
          "Guinea-Bissau",
          "Liberia",
          "Sierra Leone",
          "Chad",
          "British Virgin Islands",
          "Cook Islands",
          "Saint Kitts and Nevis",
          "Turks and Caicos",
          "Sao Tome and Principe",
          "Palau",
          "St. Barth",
          "Nauru",
          "Kiribati",
          "Anguilla",
          "Macao",
          "Saint Pierre Miquelon",
          "Wallis and Futuna",
          "Tuvalu",
          "Saint Helena",
          "Falkland Islands",
          "Montserrat",
          "Niue",
          "Diamond Princess",
          "Vatican City",
          "Western Sahara",
          "MS Zaandam",
          "Tokelau"
         ],
         "reversescale": true,
         "text": [
          "USA",
          "India",
          "France",
          "Germany",
          "Brazil",
          "Japan",
          "S. Korea",
          "Italy",
          "UK",
          "Russia",
          "Turkey",
          "Spain",
          "Vietnam",
          "Australia",
          "Taiwan",
          "Argentina",
          "Netherlands",
          "Iran",
          "Mexico",
          "Indonesia",
          "Poland",
          "Colombia",
          "Austria",
          "Greece",
          "Portugal",
          "Ukraine",
          "Chile",
          "Malaysia",
          "Israel",
          "DPRK",
          "Belgium",
          "Thailand",
          "Czechia",
          "Canada",
          "Peru",
          "Switzerland",
          "Philippines",
          "South Africa",
          "Romania",
          "Denmark",
          "Hong Kong",
          "Sweden",
          "Serbia",
          "Iraq",
          "New Zealand",
          "Singapore",
          "Hungary",
          "Bangladesh",
          "Slovakia",
          "Georgia",
          "Jordan",
          "Ireland",
          "Pakistan",
          "Norway",
          "Finland",
          "Kazakhstan",
          "Slovenia",
          "Lithuania",
          "Bulgaria",
          "Morocco",
          "Croatia",
          "Guatemala",
          "Lebanon",
          "Costa Rica",
          "Bolivia",
          "Tunisia",
          "Cuba",
          "Ecuador",
          "UAE",
          "Uruguay",
          "Panama",
          "Mongolia",
          "Nepal",
          "Belarus",
          "Latvia",
          "Saudi Arabia",
          "Azerbaijan",
          "Paraguay",
          "Bahrain",
          "Sri Lanka",
          "Kuwait",
          "Dominican Republic",
          "Cyprus",
          "Myanmar",
          "Palestine",
          "Estonia",
          "Moldova",
          "Venezuela",
          "Egypt",
          "Libya",
          "China",
          "Ethiopia",
          "Qatar",
          "Réunion",
          "Honduras",
          "Armenia",
          "Bosnia and Herzegovina",
          "Oman",
          "North Macedonia",
          "Zambia",
          "Kenya",
          "Albania",
          "Botswana",
          "Luxembourg",
          "Montenegro",
          "Brunei ",
          "Algeria",
          "Nigeria",
          "Zimbabwe",
          "Uzbekistan",
          "Mozambique",
          "Martinique",
          "Laos",
          "Afghanistan",
          "Iceland",
          "Kyrgyzstan",
          "Guadeloupe",
          "El Salvador",
          "Trinidad and Tobago",
          "Maldives",
          "Ghana",
          "Namibia",
          "Uganda",
          "Jamaica",
          "Cambodia",
          "Rwanda",
          "Cameroon",
          "Malta",
          "Barbados",
          "Angola",
          "Channel Islands",
          "French Guiana",
          "DRC",
          "Senegal",
          "Malawi",
          "Ivory Coast",
          "Suriname",
          "New Caledonia",
          "French Polynesia",
          "Eswatini",
          "Guyana",
          "Belize",
          "Fiji",
          "Madagascar",
          "Sudan",
          "Mauritania",
          "Cabo Verde",
          "Bhutan",
          "Syria",
          "Burundi",
          "Seychelles",
          "Gabon",
          "Andorra",
          "Papua New Guinea",
          "Curaçao",
          "Aruba",
          "Tanzania",
          "Mayotte",
          "Mauritius",
          "Togo",
          "Guinea",
          "Isle of Man",
          "Bahamas",
          "Lesotho",
          "Faeroe Islands",
          "Haiti",
          "Mali",
          "Cayman Islands",
          "Saint Lucia",
          "Benin",
          "Somalia",
          "Congo",
          "Solomon Islands",
          "Micronesia",
          "San Marino",
          "Timor-Leste",
          "Burkina Faso",
          "Liechtenstein",
          "Gibraltar",
          "Grenada",
          "Bermuda",
          "Nicaragua",
          "South Sudan",
          "Tajikistan",
          "Equatorial Guinea",
          "Tonga",
          "Samoa",
          "Monaco",
          "Dominica",
          "Djibouti",
          "Marshall Islands",
          "CAR",
          "Gambia",
          "Saint Martin",
          "Vanuatu",
          "Greenland",
          "Yemen",
          "Caribbean Netherlands",
          "Sint Maarten",
          "Eritrea",
          "Niger",
          "St. Vincent Grenadines",
          "Antigua and Barbuda",
          "Comoros",
          "Guinea-Bissau",
          "Liberia",
          "Sierra Leone",
          "Chad",
          "British Virgin Islands",
          "Cook Islands",
          "Saint Kitts and Nevis",
          "Turks and Caicos",
          "Sao Tome and Principe",
          "Palau",
          "St. Barth",
          "Nauru",
          "Kiribati",
          "Anguilla",
          "Macao",
          "Saint Pierre Miquelon",
          "Wallis and Futuna",
          "Tuvalu",
          "Saint Helena",
          "Falkland Islands",
          "Montserrat",
          "Niue",
          "Diamond Princess",
          "Vatican City",
          "Western Sahara",
          "MS Zaandam",
          "Tokelau"
         ],
         "type": "choropleth",
         "z": [
          105665981,
          44691956,
          39667102,
          38276190,
          37085520,
          33346529,
          30662229,
          25627473,
          24396534,
          22454933,
          17042722,
          13778467,
          11527079,
          11385534,
          10197421,
          10044957,
          8604733,
          7573328,
          7492112,
          6740031,
          6462369,
          6360780,
          5981084,
          5896788,
          5570473,
          5399231,
          5209152,
          5045192,
          4806396,
          4772813,
          4739365,
          4728304,
          4623277,
          4609277,
          4488338,
          4392464,
          4078231,
          4068319,
          3352356,
          3176268,
          2884099,
          2699339,
          2504113,
          2465545,
          2239800,
          2234996,
          2196804,
          2037871,
          1864353,
          1827537,
          1746997,
          1704502,
          1577785,
          1479746,
          1463644,
          1408124,
          1334089,
          1309661,
          1298013,
          1272526,
          1269687,
          1239341,
          1233151,
          1209725,
          1194687,
          1151333,
          1112667,
          1057121,
          1054008,
          1034303,
          1032237,
          1007900,
          1001172,
          994037,
          976402,
          830870,
          829011,
          808507,
          712094,
          672047,
          663860,
          660790,
          652386,
          633965,
          621008,
          615735,
          613974,
          552225,
          515759,
          507201,
          503302,
          500188,
          495856,
          486588,
          472340,
          447308,
          401729,
          399449,
          346852,
          343271,
          342938,
          334523,
          329769,
          297757,
          289069,
          279661,
          271535,
          266628,
          264276,
          251247,
          233214,
          229807,
          218024,
          209602,
          209168,
          206708,
          201886,
          201785,
          190285,
          185744,
          171288,
          171156,
          170558,
          154416,
          138720,
          133194,
          124605,
          117749,
          106798,
          105288,
          101530,
          98041,
          95815,
          88926,
          88707,
          88286,
          82467,
          79881,
          78055,
          74323,
          73093,
          70782,
          68898,
          67941,
          63829,
          63668,
          63249,
          62627,
          57478,
          53631,
          50937,
          48981,
          47890,
          46825,
          45986,
          44044,
          42906,
          42004,
          41769,
          39408,
          38267,
          38008,
          37491,
          34790,
          34658,
          34202,
          33068,
          31472,
          30004,
          27999,
          27324,
          25375,
          24575,
          23948,
          23663,
          23419,
          22056,
          21434,
          20462,
          19680,
          18828,
          18491,
          18368,
          17786,
          17229,
          16810,
          16607,
          16119,
          15760,
          15690,
          15649,
          15368,
          12598,
          12271,
          12014,
          11971,
          11945,
          11679,
          11020,
          10189,
          9931,
          9589,
          9106,
          9008,
          8960,
          8090,
          7760,
          7682,
          7305,
          7033,
          6597,
          6561,
          6281,
          5994,
          5441,
          5393,
          5014,
          3904,
          3514,
          3452,
          3427,
          2805,
          2166,
          1930,
          1403,
          793,
          712,
          29,
          10,
          9,
          5
         ]
        }
       ],
       "layout": {
        "geo": {
         "projection": {
          "type": "orthographic"
         },
         "showcoastlines": false,
         "showframe": false
        },
        "template": {
         "data": {
          "bar": [
           {
            "error_x": {
             "color": "#2a3f5f"
            },
            "error_y": {
             "color": "#2a3f5f"
            },
            "marker": {
             "line": {
              "color": "#E5ECF6",
              "width": 0.5
             },
             "pattern": {
              "fillmode": "overlay",
              "size": 10,
              "solidity": 0.2
             }
            },
            "type": "bar"
           }
          ],
          "barpolar": [
           {
            "marker": {
             "line": {
              "color": "#E5ECF6",
              "width": 0.5
             },
             "pattern": {
              "fillmode": "overlay",
              "size": 10,
              "solidity": 0.2
             }
            },
            "type": "barpolar"
           }
          ],
          "carpet": [
           {
            "aaxis": {
             "endlinecolor": "#2a3f5f",
             "gridcolor": "white",
             "linecolor": "white",
             "minorgridcolor": "white",
             "startlinecolor": "#2a3f5f"
            },
            "baxis": {
             "endlinecolor": "#2a3f5f",
             "gridcolor": "white",
             "linecolor": "white",
             "minorgridcolor": "white",
             "startlinecolor": "#2a3f5f"
            },
            "type": "carpet"
           }
          ],
          "choropleth": [
           {
            "colorbar": {
             "outlinewidth": 0,
             "ticks": ""
            },
            "type": "choropleth"
           }
          ],
          "contour": [
           {
            "colorbar": {
             "outlinewidth": 0,
             "ticks": ""
            },
            "colorscale": [
             [
              0,
              "#0d0887"
             ],
             [
              0.1111111111111111,
              "#46039f"
             ],
             [
              0.2222222222222222,
              "#7201a8"
             ],
             [
              0.3333333333333333,
              "#9c179e"
             ],
             [
              0.4444444444444444,
              "#bd3786"
             ],
             [
              0.5555555555555556,
              "#d8576b"
             ],
             [
              0.6666666666666666,
              "#ed7953"
             ],
             [
              0.7777777777777778,
              "#fb9f3a"
             ],
             [
              0.8888888888888888,
              "#fdca26"
             ],
             [
              1,
              "#f0f921"
             ]
            ],
            "type": "contour"
           }
          ],
          "contourcarpet": [
           {
            "colorbar": {
             "outlinewidth": 0,
             "ticks": ""
            },
            "type": "contourcarpet"
           }
          ],
          "heatmap": [
           {
            "colorbar": {
             "outlinewidth": 0,
             "ticks": ""
            },
            "colorscale": [
             [
              0,
              "#0d0887"
             ],
             [
              0.1111111111111111,
              "#46039f"
             ],
             [
              0.2222222222222222,
              "#7201a8"
             ],
             [
              0.3333333333333333,
              "#9c179e"
             ],
             [
              0.4444444444444444,
              "#bd3786"
             ],
             [
              0.5555555555555556,
              "#d8576b"
             ],
             [
              0.6666666666666666,
              "#ed7953"
             ],
             [
              0.7777777777777778,
              "#fb9f3a"
             ],
             [
              0.8888888888888888,
              "#fdca26"
             ],
             [
              1,
              "#f0f921"
             ]
            ],
            "type": "heatmap"
           }
          ],
          "heatmapgl": [
           {
            "colorbar": {
             "outlinewidth": 0,
             "ticks": ""
            },
            "colorscale": [
             [
              0,
              "#0d0887"
             ],
             [
              0.1111111111111111,
              "#46039f"
             ],
             [
              0.2222222222222222,
              "#7201a8"
             ],
             [
              0.3333333333333333,
              "#9c179e"
             ],
             [
              0.4444444444444444,
              "#bd3786"
             ],
             [
              0.5555555555555556,
              "#d8576b"
             ],
             [
              0.6666666666666666,
              "#ed7953"
             ],
             [
              0.7777777777777778,
              "#fb9f3a"
             ],
             [
              0.8888888888888888,
              "#fdca26"
             ],
             [
              1,
              "#f0f921"
             ]
            ],
            "type": "heatmapgl"
           }
          ],
          "histogram": [
           {
            "marker": {
             "pattern": {
              "fillmode": "overlay",
              "size": 10,
              "solidity": 0.2
             }
            },
            "type": "histogram"
           }
          ],
          "histogram2d": [
           {
            "colorbar": {
             "outlinewidth": 0,
             "ticks": ""
            },
            "colorscale": [
             [
              0,
              "#0d0887"
             ],
             [
              0.1111111111111111,
              "#46039f"
             ],
             [
              0.2222222222222222,
              "#7201a8"
             ],
             [
              0.3333333333333333,
              "#9c179e"
             ],
             [
              0.4444444444444444,
              "#bd3786"
             ],
             [
              0.5555555555555556,
              "#d8576b"
             ],
             [
              0.6666666666666666,
              "#ed7953"
             ],
             [
              0.7777777777777778,
              "#fb9f3a"
             ],
             [
              0.8888888888888888,
              "#fdca26"
             ],
             [
              1,
              "#f0f921"
             ]
            ],
            "type": "histogram2d"
           }
          ],
          "histogram2dcontour": [
           {
            "colorbar": {
             "outlinewidth": 0,
             "ticks": ""
            },
            "colorscale": [
             [
              0,
              "#0d0887"
             ],
             [
              0.1111111111111111,
              "#46039f"
             ],
             [
              0.2222222222222222,
              "#7201a8"
             ],
             [
              0.3333333333333333,
              "#9c179e"
             ],
             [
              0.4444444444444444,
              "#bd3786"
             ],
             [
              0.5555555555555556,
              "#d8576b"
             ],
             [
              0.6666666666666666,
              "#ed7953"
             ],
             [
              0.7777777777777778,
              "#fb9f3a"
             ],
             [
              0.8888888888888888,
              "#fdca26"
             ],
             [
              1,
              "#f0f921"
             ]
            ],
            "type": "histogram2dcontour"
           }
          ],
          "mesh3d": [
           {
            "colorbar": {
             "outlinewidth": 0,
             "ticks": ""
            },
            "type": "mesh3d"
           }
          ],
          "parcoords": [
           {
            "line": {
             "colorbar": {
              "outlinewidth": 0,
              "ticks": ""
             }
            },
            "type": "parcoords"
           }
          ],
          "pie": [
           {
            "automargin": true,
            "type": "pie"
           }
          ],
          "scatter": [
           {
            "fillpattern": {
             "fillmode": "overlay",
             "size": 10,
             "solidity": 0.2
            },
            "type": "scatter"
           }
          ],
          "scatter3d": [
           {
            "line": {
             "colorbar": {
              "outlinewidth": 0,
              "ticks": ""
             }
            },
            "marker": {
             "colorbar": {
              "outlinewidth": 0,
              "ticks": ""
             }
            },
            "type": "scatter3d"
           }
          ],
          "scattercarpet": [
           {
            "marker": {
             "colorbar": {
              "outlinewidth": 0,
              "ticks": ""
             }
            },
            "type": "scattercarpet"
           }
          ],
          "scattergeo": [
           {
            "marker": {
             "colorbar": {
              "outlinewidth": 0,
              "ticks": ""
             }
            },
            "type": "scattergeo"
           }
          ],
          "scattergl": [
           {
            "marker": {
             "colorbar": {
              "outlinewidth": 0,
              "ticks": ""
             }
            },
            "type": "scattergl"
           }
          ],
          "scattermapbox": [
           {
            "marker": {
             "colorbar": {
              "outlinewidth": 0,
              "ticks": ""
             }
            },
            "type": "scattermapbox"
           }
          ],
          "scatterpolar": [
           {
            "marker": {
             "colorbar": {
              "outlinewidth": 0,
              "ticks": ""
             }
            },
            "type": "scatterpolar"
           }
          ],
          "scatterpolargl": [
           {
            "marker": {
             "colorbar": {
              "outlinewidth": 0,
              "ticks": ""
             }
            },
            "type": "scatterpolargl"
           }
          ],
          "scatterternary": [
           {
            "marker": {
             "colorbar": {
              "outlinewidth": 0,
              "ticks": ""
             }
            },
            "type": "scatterternary"
           }
          ],
          "surface": [
           {
            "colorbar": {
             "outlinewidth": 0,
             "ticks": ""
            },
            "colorscale": [
             [
              0,
              "#0d0887"
             ],
             [
              0.1111111111111111,
              "#46039f"
             ],
             [
              0.2222222222222222,
              "#7201a8"
             ],
             [
              0.3333333333333333,
              "#9c179e"
             ],
             [
              0.4444444444444444,
              "#bd3786"
             ],
             [
              0.5555555555555556,
              "#d8576b"
             ],
             [
              0.6666666666666666,
              "#ed7953"
             ],
             [
              0.7777777777777778,
              "#fb9f3a"
             ],
             [
              0.8888888888888888,
              "#fdca26"
             ],
             [
              1,
              "#f0f921"
             ]
            ],
            "type": "surface"
           }
          ],
          "table": [
           {
            "cells": {
             "fill": {
              "color": "#EBF0F8"
             },
             "line": {
              "color": "white"
             }
            },
            "header": {
             "fill": {
              "color": "#C8D4E3"
             },
             "line": {
              "color": "white"
             }
            },
            "type": "table"
           }
          ]
         },
         "layout": {
          "annotationdefaults": {
           "arrowcolor": "#2a3f5f",
           "arrowhead": 0,
           "arrowwidth": 1
          },
          "autotypenumbers": "strict",
          "coloraxis": {
           "colorbar": {
            "outlinewidth": 0,
            "ticks": ""
           }
          },
          "colorscale": {
           "diverging": [
            [
             0,
             "#8e0152"
            ],
            [
             0.1,
             "#c51b7d"
            ],
            [
             0.2,
             "#de77ae"
            ],
            [
             0.3,
             "#f1b6da"
            ],
            [
             0.4,
             "#fde0ef"
            ],
            [
             0.5,
             "#f7f7f7"
            ],
            [
             0.6,
             "#e6f5d0"
            ],
            [
             0.7,
             "#b8e186"
            ],
            [
             0.8,
             "#7fbc41"
            ],
            [
             0.9,
             "#4d9221"
            ],
            [
             1,
             "#276419"
            ]
           ],
           "sequential": [
            [
             0,
             "#0d0887"
            ],
            [
             0.1111111111111111,
             "#46039f"
            ],
            [
             0.2222222222222222,
             "#7201a8"
            ],
            [
             0.3333333333333333,
             "#9c179e"
            ],
            [
             0.4444444444444444,
             "#bd3786"
            ],
            [
             0.5555555555555556,
             "#d8576b"
            ],
            [
             0.6666666666666666,
             "#ed7953"
            ],
            [
             0.7777777777777778,
             "#fb9f3a"
            ],
            [
             0.8888888888888888,
             "#fdca26"
            ],
            [
             1,
             "#f0f921"
            ]
           ],
           "sequentialminus": [
            [
             0,
             "#0d0887"
            ],
            [
             0.1111111111111111,
             "#46039f"
            ],
            [
             0.2222222222222222,
             "#7201a8"
            ],
            [
             0.3333333333333333,
             "#9c179e"
            ],
            [
             0.4444444444444444,
             "#bd3786"
            ],
            [
             0.5555555555555556,
             "#d8576b"
            ],
            [
             0.6666666666666666,
             "#ed7953"
            ],
            [
             0.7777777777777778,
             "#fb9f3a"
            ],
            [
             0.8888888888888888,
             "#fdca26"
            ],
            [
             1,
             "#f0f921"
            ]
           ]
          },
          "colorway": [
           "#636efa",
           "#EF553B",
           "#00cc96",
           "#ab63fa",
           "#FFA15A",
           "#19d3f3",
           "#FF6692",
           "#B6E880",
           "#FF97FF",
           "#FECB52"
          ],
          "font": {
           "color": "#2a3f5f"
          },
          "geo": {
           "bgcolor": "white",
           "lakecolor": "white",
           "landcolor": "#E5ECF6",
           "showlakes": true,
           "showland": true,
           "subunitcolor": "white"
          },
          "hoverlabel": {
           "align": "left"
          },
          "hovermode": "closest",
          "mapbox": {
           "style": "light"
          },
          "paper_bgcolor": "white",
          "plot_bgcolor": "#E5ECF6",
          "polar": {
           "angularaxis": {
            "gridcolor": "white",
            "linecolor": "white",
            "ticks": ""
           },
           "bgcolor": "#E5ECF6",
           "radialaxis": {
            "gridcolor": "white",
            "linecolor": "white",
            "ticks": ""
           }
          },
          "scene": {
           "xaxis": {
            "backgroundcolor": "#E5ECF6",
            "gridcolor": "white",
            "gridwidth": 2,
            "linecolor": "white",
            "showbackground": true,
            "ticks": "",
            "zerolinecolor": "white"
           },
           "yaxis": {
            "backgroundcolor": "#E5ECF6",
            "gridcolor": "white",
            "gridwidth": 2,
            "linecolor": "white",
            "showbackground": true,
            "ticks": "",
            "zerolinecolor": "white"
           },
           "zaxis": {
            "backgroundcolor": "#E5ECF6",
            "gridcolor": "white",
            "gridwidth": 2,
            "linecolor": "white",
            "showbackground": true,
            "ticks": "",
            "zerolinecolor": "white"
           }
          },
          "shapedefaults": {
           "line": {
            "color": "#2a3f5f"
           }
          },
          "ternary": {
           "aaxis": {
            "gridcolor": "white",
            "linecolor": "white",
            "ticks": ""
           },
           "baxis": {
            "gridcolor": "white",
            "linecolor": "white",
            "ticks": ""
           },
           "bgcolor": "#E5ECF6",
           "caxis": {
            "gridcolor": "white",
            "linecolor": "white",
            "ticks": ""
           }
          },
          "title": {
           "x": 0.05
          },
          "xaxis": {
           "automargin": true,
           "gridcolor": "white",
           "linecolor": "white",
           "ticks": "",
           "title": {
            "standoff": 15
           },
           "zerolinecolor": "white",
           "zerolinewidth": 2
          },
          "yaxis": {
           "automargin": true,
           "gridcolor": "white",
           "linecolor": "white",
           "ticks": "",
           "title": {
            "standoff": 15
           },
           "zerolinecolor": "white",
           "zerolinewidth": 2
          }
         }
        },
        "title": {
         "text": "Covid-19"
        }
       }
      }
     },
     "metadata": {},
     "output_type": "display_data"
    }
   ],
   "source": [
    "fig = go.Figure(data = go.Choropleth(locations = df['Country, Other'],locationmode = 'country names',z = df['Total Cases'],text = df['Country, Other'],\n",
    "    colorscale = 'viridis',\n",
    "    autocolorscale = False,\n",
    "    reversescale = True,\n",
    "    colorbar_title = 'Total Covid Cases',\n",
    "))\n",
    "fig.update_layout(title_text = 'Covid-19',geo = dict(showframe = False,showcoastlines = False,projection_type = 'orthographic'))\n",
    "fig.show()"
   ]
  },
  {
   "cell_type": "code",
   "execution_count": 51,
   "metadata": {},
   "outputs": [
    {
     "data": {
      "text/html": [
       "<div>\n",
       "<style scoped>\n",
       "    .dataframe tbody tr th:only-of-type {\n",
       "        vertical-align: middle;\n",
       "    }\n",
       "\n",
       "    .dataframe tbody tr th {\n",
       "        vertical-align: top;\n",
       "    }\n",
       "\n",
       "    .dataframe thead th {\n",
       "        text-align: right;\n",
       "    }\n",
       "</style>\n",
       "<table border=\"1\" class=\"dataframe\">\n",
       "  <thead>\n",
       "    <tr style=\"text-align: right;\">\n",
       "      <th></th>\n",
       "      <th>Total Cases</th>\n",
       "      <th>Total Deaths</th>\n",
       "      <th>Total Recovered</th>\n",
       "      <th>Active Cases</th>\n",
       "      <th>Population</th>\n",
       "      <th>Per Total Cases</th>\n",
       "      <th>Per Total Recovered /cases</th>\n",
       "      <th>Per Total Total Deaths /cases</th>\n",
       "    </tr>\n",
       "  </thead>\n",
       "  <tbody>\n",
       "    <tr>\n",
       "      <th>Word</th>\n",
       "      <td>681822504.0</td>\n",
       "      <td>6813655.0</td>\n",
       "      <td>635936151.0</td>\n",
       "      <td>18520348.0</td>\n",
       "      <td>7.944935e+09</td>\n",
       "      <td>8.581851</td>\n",
       "      <td>93.270044</td>\n",
       "      <td>0.99933</td>\n",
       "    </tr>\n",
       "  </tbody>\n",
       "</table>\n",
       "</div>"
      ],
      "text/plain": [
       "      Total Cases  Total Deaths  Total Recovered  Active Cases    Population  \\\n",
       "Word  681822504.0     6813655.0      635936151.0    18520348.0  7.944935e+09   \n",
       "\n",
       "      Per Total Cases   Per Total Recovered /cases  \\\n",
       "Word          8.581851                   93.270044   \n",
       "\n",
       "      Per Total Total Deaths /cases  \n",
       "Word                        0.99933  "
      ]
     },
     "execution_count": 51,
     "metadata": {},
     "output_type": "execute_result"
    }
   ],
   "source": [
    "dv=df[['Total Cases','Total Deaths','Total Recovered','Active Cases','Population']]\n",
    "dv=dv.sum(axis=0)\n",
    "# dv=pd.DataFrame(dv,columns=['Word'])\n",
    "data={\n",
    "    'Total Cases' : dv.values[0],\n",
    "    'Total Deaths': dv.values[1],\n",
    "    'Total Recovered':dv.values[2],\n",
    "    'Active Cases':dv.values[3],\n",
    "    'Population':dv.values[4]\n",
    "}\n",
    "dz=pd.DataFrame(data,index=['Word'])\n",
    "dz['Per Total Cases ']=(dz['Total Cases']/dz['Population'])*100\n",
    "dz['Per Total Recovered /cases']=(dz['Total Recovered']/dz['Total Cases'])*100\n",
    "dz['Per Total Total Deaths /cases']=(dz['Total Deaths']/dz['Total Cases'])*100\n",
    "\n",
    "dz"
   ]
  },
  {
   "cell_type": "code",
   "execution_count": 52,
   "metadata": {},
   "outputs": [
    {
     "data": {
      "application/vnd.plotly.v1+json": {
       "config": {
        "plotlyServerURL": "https://plot.ly"
       },
       "data": [
        {
         "name": "Total cases",
         "text": [
          681822504
         ],
         "textposition": "outside",
         "texttemplate": "%{text:.4s}",
         "type": "bar",
         "x": [
          "Word"
         ],
         "y": [
          681822504
         ]
        },
        {
         "name": "Total Deaths",
         "text": [
          6813655
         ],
         "textposition": "outside",
         "texttemplate": "%{text:.4s}",
         "type": "bar",
         "x": [
          "Word"
         ],
         "y": [
          6813655
         ]
        },
        {
         "name": "Total Recovered",
         "text": [
          635936151
         ],
         "textposition": "outside",
         "texttemplate": "%{text:.4s}",
         "type": "bar",
         "x": [
          "Word"
         ],
         "y": [
          635936151
         ]
        }
       ],
       "layout": {
        "template": {
         "data": {
          "bar": [
           {
            "error_x": {
             "color": "#2a3f5f"
            },
            "error_y": {
             "color": "#2a3f5f"
            },
            "marker": {
             "line": {
              "color": "#E5ECF6",
              "width": 0.5
             },
             "pattern": {
              "fillmode": "overlay",
              "size": 10,
              "solidity": 0.2
             }
            },
            "type": "bar"
           }
          ],
          "barpolar": [
           {
            "marker": {
             "line": {
              "color": "#E5ECF6",
              "width": 0.5
             },
             "pattern": {
              "fillmode": "overlay",
              "size": 10,
              "solidity": 0.2
             }
            },
            "type": "barpolar"
           }
          ],
          "carpet": [
           {
            "aaxis": {
             "endlinecolor": "#2a3f5f",
             "gridcolor": "white",
             "linecolor": "white",
             "minorgridcolor": "white",
             "startlinecolor": "#2a3f5f"
            },
            "baxis": {
             "endlinecolor": "#2a3f5f",
             "gridcolor": "white",
             "linecolor": "white",
             "minorgridcolor": "white",
             "startlinecolor": "#2a3f5f"
            },
            "type": "carpet"
           }
          ],
          "choropleth": [
           {
            "colorbar": {
             "outlinewidth": 0,
             "ticks": ""
            },
            "type": "choropleth"
           }
          ],
          "contour": [
           {
            "colorbar": {
             "outlinewidth": 0,
             "ticks": ""
            },
            "colorscale": [
             [
              0,
              "#0d0887"
             ],
             [
              0.1111111111111111,
              "#46039f"
             ],
             [
              0.2222222222222222,
              "#7201a8"
             ],
             [
              0.3333333333333333,
              "#9c179e"
             ],
             [
              0.4444444444444444,
              "#bd3786"
             ],
             [
              0.5555555555555556,
              "#d8576b"
             ],
             [
              0.6666666666666666,
              "#ed7953"
             ],
             [
              0.7777777777777778,
              "#fb9f3a"
             ],
             [
              0.8888888888888888,
              "#fdca26"
             ],
             [
              1,
              "#f0f921"
             ]
            ],
            "type": "contour"
           }
          ],
          "contourcarpet": [
           {
            "colorbar": {
             "outlinewidth": 0,
             "ticks": ""
            },
            "type": "contourcarpet"
           }
          ],
          "heatmap": [
           {
            "colorbar": {
             "outlinewidth": 0,
             "ticks": ""
            },
            "colorscale": [
             [
              0,
              "#0d0887"
             ],
             [
              0.1111111111111111,
              "#46039f"
             ],
             [
              0.2222222222222222,
              "#7201a8"
             ],
             [
              0.3333333333333333,
              "#9c179e"
             ],
             [
              0.4444444444444444,
              "#bd3786"
             ],
             [
              0.5555555555555556,
              "#d8576b"
             ],
             [
              0.6666666666666666,
              "#ed7953"
             ],
             [
              0.7777777777777778,
              "#fb9f3a"
             ],
             [
              0.8888888888888888,
              "#fdca26"
             ],
             [
              1,
              "#f0f921"
             ]
            ],
            "type": "heatmap"
           }
          ],
          "heatmapgl": [
           {
            "colorbar": {
             "outlinewidth": 0,
             "ticks": ""
            },
            "colorscale": [
             [
              0,
              "#0d0887"
             ],
             [
              0.1111111111111111,
              "#46039f"
             ],
             [
              0.2222222222222222,
              "#7201a8"
             ],
             [
              0.3333333333333333,
              "#9c179e"
             ],
             [
              0.4444444444444444,
              "#bd3786"
             ],
             [
              0.5555555555555556,
              "#d8576b"
             ],
             [
              0.6666666666666666,
              "#ed7953"
             ],
             [
              0.7777777777777778,
              "#fb9f3a"
             ],
             [
              0.8888888888888888,
              "#fdca26"
             ],
             [
              1,
              "#f0f921"
             ]
            ],
            "type": "heatmapgl"
           }
          ],
          "histogram": [
           {
            "marker": {
             "pattern": {
              "fillmode": "overlay",
              "size": 10,
              "solidity": 0.2
             }
            },
            "type": "histogram"
           }
          ],
          "histogram2d": [
           {
            "colorbar": {
             "outlinewidth": 0,
             "ticks": ""
            },
            "colorscale": [
             [
              0,
              "#0d0887"
             ],
             [
              0.1111111111111111,
              "#46039f"
             ],
             [
              0.2222222222222222,
              "#7201a8"
             ],
             [
              0.3333333333333333,
              "#9c179e"
             ],
             [
              0.4444444444444444,
              "#bd3786"
             ],
             [
              0.5555555555555556,
              "#d8576b"
             ],
             [
              0.6666666666666666,
              "#ed7953"
             ],
             [
              0.7777777777777778,
              "#fb9f3a"
             ],
             [
              0.8888888888888888,
              "#fdca26"
             ],
             [
              1,
              "#f0f921"
             ]
            ],
            "type": "histogram2d"
           }
          ],
          "histogram2dcontour": [
           {
            "colorbar": {
             "outlinewidth": 0,
             "ticks": ""
            },
            "colorscale": [
             [
              0,
              "#0d0887"
             ],
             [
              0.1111111111111111,
              "#46039f"
             ],
             [
              0.2222222222222222,
              "#7201a8"
             ],
             [
              0.3333333333333333,
              "#9c179e"
             ],
             [
              0.4444444444444444,
              "#bd3786"
             ],
             [
              0.5555555555555556,
              "#d8576b"
             ],
             [
              0.6666666666666666,
              "#ed7953"
             ],
             [
              0.7777777777777778,
              "#fb9f3a"
             ],
             [
              0.8888888888888888,
              "#fdca26"
             ],
             [
              1,
              "#f0f921"
             ]
            ],
            "type": "histogram2dcontour"
           }
          ],
          "mesh3d": [
           {
            "colorbar": {
             "outlinewidth": 0,
             "ticks": ""
            },
            "type": "mesh3d"
           }
          ],
          "parcoords": [
           {
            "line": {
             "colorbar": {
              "outlinewidth": 0,
              "ticks": ""
             }
            },
            "type": "parcoords"
           }
          ],
          "pie": [
           {
            "automargin": true,
            "type": "pie"
           }
          ],
          "scatter": [
           {
            "fillpattern": {
             "fillmode": "overlay",
             "size": 10,
             "solidity": 0.2
            },
            "type": "scatter"
           }
          ],
          "scatter3d": [
           {
            "line": {
             "colorbar": {
              "outlinewidth": 0,
              "ticks": ""
             }
            },
            "marker": {
             "colorbar": {
              "outlinewidth": 0,
              "ticks": ""
             }
            },
            "type": "scatter3d"
           }
          ],
          "scattercarpet": [
           {
            "marker": {
             "colorbar": {
              "outlinewidth": 0,
              "ticks": ""
             }
            },
            "type": "scattercarpet"
           }
          ],
          "scattergeo": [
           {
            "marker": {
             "colorbar": {
              "outlinewidth": 0,
              "ticks": ""
             }
            },
            "type": "scattergeo"
           }
          ],
          "scattergl": [
           {
            "marker": {
             "colorbar": {
              "outlinewidth": 0,
              "ticks": ""
             }
            },
            "type": "scattergl"
           }
          ],
          "scattermapbox": [
           {
            "marker": {
             "colorbar": {
              "outlinewidth": 0,
              "ticks": ""
             }
            },
            "type": "scattermapbox"
           }
          ],
          "scatterpolar": [
           {
            "marker": {
             "colorbar": {
              "outlinewidth": 0,
              "ticks": ""
             }
            },
            "type": "scatterpolar"
           }
          ],
          "scatterpolargl": [
           {
            "marker": {
             "colorbar": {
              "outlinewidth": 0,
              "ticks": ""
             }
            },
            "type": "scatterpolargl"
           }
          ],
          "scatterternary": [
           {
            "marker": {
             "colorbar": {
              "outlinewidth": 0,
              "ticks": ""
             }
            },
            "type": "scatterternary"
           }
          ],
          "surface": [
           {
            "colorbar": {
             "outlinewidth": 0,
             "ticks": ""
            },
            "colorscale": [
             [
              0,
              "#0d0887"
             ],
             [
              0.1111111111111111,
              "#46039f"
             ],
             [
              0.2222222222222222,
              "#7201a8"
             ],
             [
              0.3333333333333333,
              "#9c179e"
             ],
             [
              0.4444444444444444,
              "#bd3786"
             ],
             [
              0.5555555555555556,
              "#d8576b"
             ],
             [
              0.6666666666666666,
              "#ed7953"
             ],
             [
              0.7777777777777778,
              "#fb9f3a"
             ],
             [
              0.8888888888888888,
              "#fdca26"
             ],
             [
              1,
              "#f0f921"
             ]
            ],
            "type": "surface"
           }
          ],
          "table": [
           {
            "cells": {
             "fill": {
              "color": "#EBF0F8"
             },
             "line": {
              "color": "white"
             }
            },
            "header": {
             "fill": {
              "color": "#C8D4E3"
             },
             "line": {
              "color": "white"
             }
            },
            "type": "table"
           }
          ]
         },
         "layout": {
          "annotationdefaults": {
           "arrowcolor": "#2a3f5f",
           "arrowhead": 0,
           "arrowwidth": 1
          },
          "autotypenumbers": "strict",
          "coloraxis": {
           "colorbar": {
            "outlinewidth": 0,
            "ticks": ""
           }
          },
          "colorscale": {
           "diverging": [
            [
             0,
             "#8e0152"
            ],
            [
             0.1,
             "#c51b7d"
            ],
            [
             0.2,
             "#de77ae"
            ],
            [
             0.3,
             "#f1b6da"
            ],
            [
             0.4,
             "#fde0ef"
            ],
            [
             0.5,
             "#f7f7f7"
            ],
            [
             0.6,
             "#e6f5d0"
            ],
            [
             0.7,
             "#b8e186"
            ],
            [
             0.8,
             "#7fbc41"
            ],
            [
             0.9,
             "#4d9221"
            ],
            [
             1,
             "#276419"
            ]
           ],
           "sequential": [
            [
             0,
             "#0d0887"
            ],
            [
             0.1111111111111111,
             "#46039f"
            ],
            [
             0.2222222222222222,
             "#7201a8"
            ],
            [
             0.3333333333333333,
             "#9c179e"
            ],
            [
             0.4444444444444444,
             "#bd3786"
            ],
            [
             0.5555555555555556,
             "#d8576b"
            ],
            [
             0.6666666666666666,
             "#ed7953"
            ],
            [
             0.7777777777777778,
             "#fb9f3a"
            ],
            [
             0.8888888888888888,
             "#fdca26"
            ],
            [
             1,
             "#f0f921"
            ]
           ],
           "sequentialminus": [
            [
             0,
             "#0d0887"
            ],
            [
             0.1111111111111111,
             "#46039f"
            ],
            [
             0.2222222222222222,
             "#7201a8"
            ],
            [
             0.3333333333333333,
             "#9c179e"
            ],
            [
             0.4444444444444444,
             "#bd3786"
            ],
            [
             0.5555555555555556,
             "#d8576b"
            ],
            [
             0.6666666666666666,
             "#ed7953"
            ],
            [
             0.7777777777777778,
             "#fb9f3a"
            ],
            [
             0.8888888888888888,
             "#fdca26"
            ],
            [
             1,
             "#f0f921"
            ]
           ]
          },
          "colorway": [
           "#636efa",
           "#EF553B",
           "#00cc96",
           "#ab63fa",
           "#FFA15A",
           "#19d3f3",
           "#FF6692",
           "#B6E880",
           "#FF97FF",
           "#FECB52"
          ],
          "font": {
           "color": "#2a3f5f"
          },
          "geo": {
           "bgcolor": "white",
           "lakecolor": "white",
           "landcolor": "#E5ECF6",
           "showlakes": true,
           "showland": true,
           "subunitcolor": "white"
          },
          "hoverlabel": {
           "align": "left"
          },
          "hovermode": "closest",
          "mapbox": {
           "style": "light"
          },
          "paper_bgcolor": "white",
          "plot_bgcolor": "#E5ECF6",
          "polar": {
           "angularaxis": {
            "gridcolor": "white",
            "linecolor": "white",
            "ticks": ""
           },
           "bgcolor": "#E5ECF6",
           "radialaxis": {
            "gridcolor": "white",
            "linecolor": "white",
            "ticks": ""
           }
          },
          "scene": {
           "xaxis": {
            "backgroundcolor": "#E5ECF6",
            "gridcolor": "white",
            "gridwidth": 2,
            "linecolor": "white",
            "showbackground": true,
            "ticks": "",
            "zerolinecolor": "white"
           },
           "yaxis": {
            "backgroundcolor": "#E5ECF6",
            "gridcolor": "white",
            "gridwidth": 2,
            "linecolor": "white",
            "showbackground": true,
            "ticks": "",
            "zerolinecolor": "white"
           },
           "zaxis": {
            "backgroundcolor": "#E5ECF6",
            "gridcolor": "white",
            "gridwidth": 2,
            "linecolor": "white",
            "showbackground": true,
            "ticks": "",
            "zerolinecolor": "white"
           }
          },
          "shapedefaults": {
           "line": {
            "color": "#2a3f5f"
           }
          },
          "ternary": {
           "aaxis": {
            "gridcolor": "white",
            "linecolor": "white",
            "ticks": ""
           },
           "baxis": {
            "gridcolor": "white",
            "linecolor": "white",
            "ticks": ""
           },
           "bgcolor": "#E5ECF6",
           "caxis": {
            "gridcolor": "white",
            "linecolor": "white",
            "ticks": ""
           }
          },
          "title": {
           "x": 0.05
          },
          "xaxis": {
           "automargin": true,
           "gridcolor": "white",
           "linecolor": "white",
           "ticks": "",
           "title": {
            "standoff": 15
           },
           "zerolinecolor": "white",
           "zerolinewidth": 2
          },
          "yaxis": {
           "automargin": true,
           "gridcolor": "white",
           "linecolor": "white",
           "ticks": "",
           "title": {
            "standoff": 15
           },
           "zerolinecolor": "white",
           "zerolinewidth": 2
          }
         }
        },
        "title": {
         "text": "The situation of covid 19 in the world"
        }
       }
      }
     },
     "metadata": {},
     "output_type": "display_data"
    }
   ],
   "source": [
    "fig=go.Figure(data=[\n",
    "      go.Bar(name='Total cases',x=dz.index,y=dz['Total Cases'],text=dz['Total Cases']),\n",
    "      go.Bar(name='Total Deaths',x=dz.index,y=dz['Total Deaths'],text=dz['Total Deaths']),\n",
    "      go.Bar(name='Total Recovered',x=dz.index,y=dz['Total Recovered'],text=dz['Total Recovered'])\n",
    "   ])\n",
    "fig.update_traces(texttemplate='%{text:.4s}', textposition='outside')\n",
    "fig.update_layout(title='The situation of covid 19 in the world')\n",
    "fig.show()"
   ]
  },
  {
   "attachments": {},
   "cell_type": "markdown",
   "metadata": {},
   "source": [
    "`Comment`: \n",
    "- The largest total number of cases in a country is over 100 million\n",
    "- The world has 681.8M cases of covid including 635.9M recoveries (accounted for 93.27%) and 6.814M deaths (accounted for 0.99 %)\n"
   ]
  },
  {
   "cell_type": "code",
   "execution_count": 53,
   "metadata": {},
   "outputs": [
    {
     "data": {
      "text/html": [
       "<div>\n",
       "<style scoped>\n",
       "    .dataframe tbody tr th:only-of-type {\n",
       "        vertical-align: middle;\n",
       "    }\n",
       "\n",
       "    .dataframe tbody tr th {\n",
       "        vertical-align: top;\n",
       "    }\n",
       "\n",
       "    .dataframe thead th {\n",
       "        text-align: right;\n",
       "    }\n",
       "</style>\n",
       "<table border=\"1\" class=\"dataframe\">\n",
       "  <thead>\n",
       "    <tr style=\"text-align: right;\">\n",
       "      <th></th>\n",
       "      <th>Total Cases</th>\n",
       "      <th>Total Deaths</th>\n",
       "      <th>Total Recovered</th>\n",
       "      <th>Active Cases</th>\n",
       "    </tr>\n",
       "    <tr>\n",
       "      <th>Continent</th>\n",
       "      <th></th>\n",
       "      <th></th>\n",
       "      <th></th>\n",
       "      <th></th>\n",
       "    </tr>\n",
       "  </thead>\n",
       "  <tbody>\n",
       "    <tr>\n",
       "      <th>Africa</th>\n",
       "      <td>12802223</td>\n",
       "      <td>258615.0</td>\n",
       "      <td>10960262.0</td>\n",
       "      <td>369848.0</td>\n",
       "    </tr>\n",
       "    <tr>\n",
       "      <th>Asia</th>\n",
       "      <td>214819047</td>\n",
       "      <td>1538868.0</td>\n",
       "      <td>182634450.0</td>\n",
       "      <td>13487233.0</td>\n",
       "    </tr>\n",
       "    <tr>\n",
       "      <th>Australia/Oceania</th>\n",
       "      <td>14039060</td>\n",
       "      <td>26243.0</td>\n",
       "      <td>13815896.0</td>\n",
       "      <td>71206.0</td>\n",
       "    </tr>\n",
       "    <tr>\n",
       "      <th>Europe</th>\n",
       "      <td>247023846</td>\n",
       "      <td>2023023.0</td>\n",
       "      <td>242554318.0</td>\n",
       "      <td>2165044.0</td>\n",
       "    </tr>\n",
       "    <tr>\n",
       "      <th>North America</th>\n",
       "      <td>125046486</td>\n",
       "      <td>1615689.0</td>\n",
       "      <td>120382331.0</td>\n",
       "      <td>2144976.0</td>\n",
       "    </tr>\n",
       "    <tr>\n",
       "      <th>South America</th>\n",
       "      <td>68091121</td>\n",
       "      <td>1351202.0</td>\n",
       "      <td>65588188.0</td>\n",
       "      <td>282041.0</td>\n",
       "    </tr>\n",
       "  </tbody>\n",
       "</table>\n",
       "</div>"
      ],
      "text/plain": [
       "                   Total Cases  Total Deaths  Total Recovered  Active Cases\n",
       "Continent                                                                  \n",
       "Africa                12802223      258615.0       10960262.0      369848.0\n",
       "Asia                 214819047     1538868.0      182634450.0    13487233.0\n",
       "Australia/Oceania     14039060       26243.0       13815896.0       71206.0\n",
       "Europe               247023846     2023023.0      242554318.0     2165044.0\n",
       "North America        125046486     1615689.0      120382331.0     2144976.0\n",
       "South America         68091121     1351202.0       65588188.0      282041.0"
      ]
     },
     "execution_count": 53,
     "metadata": {},
     "output_type": "execute_result"
    }
   ],
   "source": [
    "Continent = df[['Total Cases','Total Deaths','Total Recovered','Active Cases','Continent']]\n",
    "Continent = Continent.groupby('Continent').sum()#.astype(int)\n",
    "Continent"
   ]
  },
  {
   "cell_type": "code",
   "execution_count": 54,
   "metadata": {},
   "outputs": [
    {
     "data": {
      "image/png": "[encoded data removed]",
      "text/plain": [
       "<Figure size 432x288 with 1 Axes>"
      ]
     },
     "metadata": {},
     "output_type": "display_data"
    }
   ],
   "source": [
    "def donut_attri_product(attr):\n",
    "\tdata = Continent.sort_values(by=attr, ascending=0)\n",
    "\tcolors = ['#F92969','#FACA0C','#17C37B','#D9DFEB','#ADFF2F','#FFA500']\n",
    "\texplode = [0.05]*6\n",
    "\n",
    "\tplt.pie(data[f'{attr}'], colors=colors, labels=data.index,\n",
    "\t\t\tautopct='%1.1f%%', pctdistance=0.85, explode=explode)\n",
    "\n",
    "\t# draw circle\n",
    "\tcentre_circle = plt.Circle((0, 0), 0.70, fc='white')\n",
    "\tfig = plt.gcf()\n",
    "\n",
    "\t# Adding Circle in Pie chart\n",
    "\tfig.gca().add_artist(centre_circle)\n",
    "\n",
    "\tplt.title(f'Percentage of COVID Cases by Continents')\n",
    "\tplt.show()\n",
    "\n",
    "donut_attri_product('Total Cases')"
   ]
  },
  {
   "cell_type": "markdown",
   "metadata": {},
   "source": [
    "`Comment:`\n",
    "- Europe have highest the total cases.\n",
    "- Meanwhile, Africa has weak medical, but the number of total cases of Africa is the smalest one."
   ]
  },
  {
   "cell_type": "markdown",
   "metadata": {},
   "source": [
    "- Radar chart code is referenced from [website](https://betterdatascience.com/radar-charts-matplotlib-plotly/)"
   ]
  },
  {
   "cell_type": "code",
   "execution_count": 55,
   "metadata": {},
   "outputs": [
    {
     "data": {
      "image/png": "[encoded data removed]",
      "text/plain": [
       "<Figure size 360x360 with 1 Axes>"
      ]
     },
     "metadata": {
      "needs_background": "light"
     },
     "output_type": "display_data"
    }
   ],
   "source": [
    "categories = list(Continent.columns[1:4])\n",
    "categories = [*categories,categories[0]]\n",
    "\n",
    "label_loc = np.linspace(start=0, stop=2*np.pi, num=4)\n",
    "\n",
    "plt.figure(figsize=(5, 5))\n",
    "plt.subplot(polar=True)\n",
    "for i in range(len(Continent.index)):\n",
    "    data = list(Continent.iloc[i,1:4].apply(lambda x: math.log10(x)))\n",
    "    plt.plot(label_loc, [*data,data[0]], label=Continent.index[i])\n",
    "\n",
    "plt.title('Continents comparison (log scale)')\n",
    "lines, labels = plt.thetagrids(np.degrees(label_loc), labels=categories)\n",
    "plt.legend()\n",
    "plt.show()"
   ]
  },
  {
   "cell_type": "markdown",
   "metadata": {},
   "source": [
    "`Comment:` \n",
    "- Recovered rate is high in all continents.\n",
    "- Asia has highest total cases but the number of recovered and deaths is near to America and Europe.\n",
    "- "
   ]
  },
  {
   "cell_type": "code",
   "execution_count": 56,
   "metadata": {},
   "outputs": [
    {
     "data": {
      "application/vnd.plotly.v1+json": {
       "config": {
        "plotlyServerURL": "https://plot.ly"
       },
       "data": [
        {
         "name": "Total cases",
         "text": [
          12802223,
          214819047,
          14039060,
          247023846,
          125046486,
          68091121
         ],
         "textposition": "outside",
         "texttemplate": "%{text:.4s}",
         "type": "bar",
         "x": [
          "Africa",
          "Asia",
          "Australia/Oceania",
          "Europe",
          "North America",
          "South America"
         ],
         "y": [
          12802223,
          214819047,
          14039060,
          247023846,
          125046486,
          68091121
         ]
        },
        {
         "name": "Total Deaths",
         "text": [
          258615,
          1538868,
          26243,
          2023023,
          1615689,
          1351202
         ],
         "textposition": "outside",
         "texttemplate": "%{text:.4s}",
         "type": "bar",
         "x": [
          "Africa",
          "Asia",
          "Australia/Oceania",
          "Europe",
          "North America",
          "South America"
         ],
         "y": [
          258615,
          1538868,
          26243,
          2023023,
          1615689,
          1351202
         ]
        },
        {
         "name": "Total Recovered",
         "text": [
          10960262,
          182634450,
          13815896,
          242554318,
          120382331,
          65588188
         ],
         "textposition": "outside",
         "texttemplate": "%{text:.4s}",
         "type": "bar",
         "x": [
          "Africa",
          "Asia",
          "Australia/Oceania",
          "Europe",
          "North America",
          "South America"
         ],
         "y": [
          10960262,
          182634450,
          13815896,
          242554318,
          120382331,
          65588188
         ]
        }
       ],
       "layout": {
        "barmode": "group",
        "template": {
         "data": {
          "bar": [
           {
            "error_x": {
             "color": "#2a3f5f"
            },
            "error_y": {
             "color": "#2a3f5f"
            },
            "marker": {
             "line": {
              "color": "#E5ECF6",
              "width": 0.5
             },
             "pattern": {
              "fillmode": "overlay",
              "size": 10,
              "solidity": 0.2
             }
            },
            "type": "bar"
           }
          ],
          "barpolar": [
           {
            "marker": {
             "line": {
              "color": "#E5ECF6",
              "width": 0.5
             },
             "pattern": {
              "fillmode": "overlay",
              "size": 10,
              "solidity": 0.2
             }
            },
            "type": "barpolar"
           }
          ],
          "carpet": [
           {
            "aaxis": {
             "endlinecolor": "#2a3f5f",
             "gridcolor": "white",
             "linecolor": "white",
             "minorgridcolor": "white",
             "startlinecolor": "#2a3f5f"
            },
            "baxis": {
             "endlinecolor": "#2a3f5f",
             "gridcolor": "white",
             "linecolor": "white",
             "minorgridcolor": "white",
             "startlinecolor": "#2a3f5f"
            },
            "type": "carpet"
           }
          ],
          "choropleth": [
           {
            "colorbar": {
             "outlinewidth": 0,
             "ticks": ""
            },
            "type": "choropleth"
           }
          ],
          "contour": [
           {
            "colorbar": {
             "outlinewidth": 0,
             "ticks": ""
            },
            "colorscale": [
             [
              0,
              "#0d0887"
             ],
             [
              0.1111111111111111,
              "#46039f"
             ],
             [
              0.2222222222222222,
              "#7201a8"
             ],
             [
              0.3333333333333333,
              "#9c179e"
             ],
             [
              0.4444444444444444,
              "#bd3786"
             ],
             [
              0.5555555555555556,
              "#d8576b"
             ],
             [
              0.6666666666666666,
              "#ed7953"
             ],
             [
              0.7777777777777778,
              "#fb9f3a"
             ],
             [
              0.8888888888888888,
              "#fdca26"
             ],
             [
              1,
              "#f0f921"
             ]
            ],
            "type": "contour"
           }
          ],
          "contourcarpet": [
           {
            "colorbar": {
             "outlinewidth": 0,
             "ticks": ""
            },
            "type": "contourcarpet"
           }
          ],
          "heatmap": [
           {
            "colorbar": {
             "outlinewidth": 0,
             "ticks": ""
            },
            "colorscale": [
             [
              0,
              "#0d0887"
             ],
             [
              0.1111111111111111,
              "#46039f"
             ],
             [
              0.2222222222222222,
              "#7201a8"
             ],
             [
              0.3333333333333333,
              "#9c179e"
             ],
             [
              0.4444444444444444,
              "#bd3786"
             ],
             [
              0.5555555555555556,
              "#d8576b"
             ],
             [
              0.6666666666666666,
              "#ed7953"
             ],
             [
              0.7777777777777778,
              "#fb9f3a"
             ],
             [
              0.8888888888888888,
              "#fdca26"
             ],
             [
              1,
              "#f0f921"
             ]
            ],
            "type": "heatmap"
           }
          ],
          "heatmapgl": [
           {
            "colorbar": {
             "outlinewidth": 0,
             "ticks": ""
            },
            "colorscale": [
             [
              0,
              "#0d0887"
             ],
             [
              0.1111111111111111,
              "#46039f"
             ],
             [
              0.2222222222222222,
              "#7201a8"
             ],
             [
              0.3333333333333333,
              "#9c179e"
             ],
             [
              0.4444444444444444,
              "#bd3786"
             ],
             [
              0.5555555555555556,
              "#d8576b"
             ],
             [
              0.6666666666666666,
              "#ed7953"
             ],
             [
              0.7777777777777778,
              "#fb9f3a"
             ],
             [
              0.8888888888888888,
              "#fdca26"
             ],
             [
              1,
              "#f0f921"
             ]
            ],
            "type": "heatmapgl"
           }
          ],
          "histogram": [
           {
            "marker": {
             "pattern": {
              "fillmode": "overlay",
              "size": 10,
              "solidity": 0.2
             }
            },
            "type": "histogram"
           }
          ],
          "histogram2d": [
           {
            "colorbar": {
             "outlinewidth": 0,
             "ticks": ""
            },
            "colorscale": [
             [
              0,
              "#0d0887"
             ],
             [
              0.1111111111111111,
              "#46039f"
             ],
             [
              0.2222222222222222,
              "#7201a8"
             ],
             [
              0.3333333333333333,
              "#9c179e"
             ],
             [
              0.4444444444444444,
              "#bd3786"
             ],
             [
              0.5555555555555556,
              "#d8576b"
             ],
             [
              0.6666666666666666,
              "#ed7953"
             ],
             [
              0.7777777777777778,
              "#fb9f3a"
             ],
             [
              0.8888888888888888,
              "#fdca26"
             ],
             [
              1,
              "#f0f921"
             ]
            ],
            "type": "histogram2d"
           }
          ],
          "histogram2dcontour": [
           {
            "colorbar": {
             "outlinewidth": 0,
             "ticks": ""
            },
            "colorscale": [
             [
              0,
              "#0d0887"
             ],
             [
              0.1111111111111111,
              "#46039f"
             ],
             [
              0.2222222222222222,
              "#7201a8"
             ],
             [
              0.3333333333333333,
              "#9c179e"
             ],
             [
              0.4444444444444444,
              "#bd3786"
             ],
             [
              0.5555555555555556,
              "#d8576b"
             ],
             [
              0.6666666666666666,
              "#ed7953"
             ],
             [
              0.7777777777777778,
              "#fb9f3a"
             ],
             [
              0.8888888888888888,
              "#fdca26"
             ],
             [
              1,
              "#f0f921"
             ]
            ],
            "type": "histogram2dcontour"
           }
          ],
          "mesh3d": [
           {
            "colorbar": {
             "outlinewidth": 0,
             "ticks": ""
            },
            "type": "mesh3d"
           }
          ],
          "parcoords": [
           {
            "line": {
             "colorbar": {
              "outlinewidth": 0,
              "ticks": ""
             }
            },
            "type": "parcoords"
           }
          ],
          "pie": [
           {
            "automargin": true,
            "type": "pie"
           }
          ],
          "scatter": [
           {
            "fillpattern": {
             "fillmode": "overlay",
             "size": 10,
             "solidity": 0.2
            },
            "type": "scatter"
           }
          ],
          "scatter3d": [
           {
            "line": {
             "colorbar": {
              "outlinewidth": 0,
              "ticks": ""
             }
            },
            "marker": {
             "colorbar": {
              "outlinewidth": 0,
              "ticks": ""
             }
            },
            "type": "scatter3d"
           }
          ],
          "scattercarpet": [
           {
            "marker": {
             "colorbar": {
              "outlinewidth": 0,
              "ticks": ""
             }
            },
            "type": "scattercarpet"
           }
          ],
          "scattergeo": [
           {
            "marker": {
             "colorbar": {
              "outlinewidth": 0,
              "ticks": ""
             }
            },
            "type": "scattergeo"
           }
          ],
          "scattergl": [
           {
            "marker": {
             "colorbar": {
              "outlinewidth": 0,
              "ticks": ""
             }
            },
            "type": "scattergl"
           }
          ],
          "scattermapbox": [
           {
            "marker": {
             "colorbar": {
              "outlinewidth": 0,
              "ticks": ""
             }
            },
            "type": "scattermapbox"
           }
          ],
          "scatterpolar": [
           {
            "marker": {
             "colorbar": {
              "outlinewidth": 0,
              "ticks": ""
             }
            },
            "type": "scatterpolar"
           }
          ],
          "scatterpolargl": [
           {
            "marker": {
             "colorbar": {
              "outlinewidth": 0,
              "ticks": ""
             }
            },
            "type": "scatterpolargl"
           }
          ],
          "scatterternary": [
           {
            "marker": {
             "colorbar": {
              "outlinewidth": 0,
              "ticks": ""
             }
            },
            "type": "scatterternary"
           }
          ],
          "surface": [
           {
            "colorbar": {
             "outlinewidth": 0,
             "ticks": ""
            },
            "colorscale": [
             [
              0,
              "#0d0887"
             ],
             [
              0.1111111111111111,
              "#46039f"
             ],
             [
              0.2222222222222222,
              "#7201a8"
             ],
             [
              0.3333333333333333,
              "#9c179e"
             ],
             [
              0.4444444444444444,
              "#bd3786"
             ],
             [
              0.5555555555555556,
              "#d8576b"
             ],
             [
              0.6666666666666666,
              "#ed7953"
             ],
             [
              0.7777777777777778,
              "#fb9f3a"
             ],
             [
              0.8888888888888888,
              "#fdca26"
             ],
             [
              1,
              "#f0f921"
             ]
            ],
            "type": "surface"
           }
          ],
          "table": [
           {
            "cells": {
             "fill": {
              "color": "#EBF0F8"
             },
             "line": {
              "color": "white"
             }
            },
            "header": {
             "fill": {
              "color": "#C8D4E3"
             },
             "line": {
              "color": "white"
             }
            },
            "type": "table"
           }
          ]
         },
         "layout": {
          "annotationdefaults": {
           "arrowcolor": "#2a3f5f",
           "arrowhead": 0,
           "arrowwidth": 1
          },
          "autotypenumbers": "strict",
          "coloraxis": {
           "colorbar": {
            "outlinewidth": 0,
            "ticks": ""
           }
          },
          "colorscale": {
           "diverging": [
            [
             0,
             "#8e0152"
            ],
            [
             0.1,
             "#c51b7d"
            ],
            [
             0.2,
             "#de77ae"
            ],
            [
             0.3,
             "#f1b6da"
            ],
            [
             0.4,
             "#fde0ef"
            ],
            [
             0.5,
             "#f7f7f7"
            ],
            [
             0.6,
             "#e6f5d0"
            ],
            [
             0.7,
             "#b8e186"
            ],
            [
             0.8,
             "#7fbc41"
            ],
            [
             0.9,
             "#4d9221"
            ],
            [
             1,
             "#276419"
            ]
           ],
           "sequential": [
            [
             0,
             "#0d0887"
            ],
            [
             0.1111111111111111,
             "#46039f"
            ],
            [
             0.2222222222222222,
             "#7201a8"
            ],
            [
             0.3333333333333333,
             "#9c179e"
            ],
            [
             0.4444444444444444,
             "#bd3786"
            ],
            [
             0.5555555555555556,
             "#d8576b"
            ],
            [
             0.6666666666666666,
             "#ed7953"
            ],
            [
             0.7777777777777778,
             "#fb9f3a"
            ],
            [
             0.8888888888888888,
             "#fdca26"
            ],
            [
             1,
             "#f0f921"
            ]
           ],
           "sequentialminus": [
            [
             0,
             "#0d0887"
            ],
            [
             0.1111111111111111,
             "#46039f"
            ],
            [
             0.2222222222222222,
             "#7201a8"
            ],
            [
             0.3333333333333333,
             "#9c179e"
            ],
            [
             0.4444444444444444,
             "#bd3786"
            ],
            [
             0.5555555555555556,
             "#d8576b"
            ],
            [
             0.6666666666666666,
             "#ed7953"
            ],
            [
             0.7777777777777778,
             "#fb9f3a"
            ],
            [
             0.8888888888888888,
             "#fdca26"
            ],
            [
             1,
             "#f0f921"
            ]
           ]
          },
          "colorway": [
           "#636efa",
           "#EF553B",
           "#00cc96",
           "#ab63fa",
           "#FFA15A",
           "#19d3f3",
           "#FF6692",
           "#B6E880",
           "#FF97FF",
           "#FECB52"
          ],
          "font": {
           "color": "#2a3f5f"
          },
          "geo": {
           "bgcolor": "white",
           "lakecolor": "white",
           "landcolor": "#E5ECF6",
           "showlakes": true,
           "showland": true,
           "subunitcolor": "white"
          },
          "hoverlabel": {
           "align": "left"
          },
          "hovermode": "closest",
          "mapbox": {
           "style": "light"
          },
          "paper_bgcolor": "white",
          "plot_bgcolor": "#E5ECF6",
          "polar": {
           "angularaxis": {
            "gridcolor": "white",
            "linecolor": "white",
            "ticks": ""
           },
           "bgcolor": "#E5ECF6",
           "radialaxis": {
            "gridcolor": "white",
            "linecolor": "white",
            "ticks": ""
           }
          },
          "scene": {
           "xaxis": {
            "backgroundcolor": "#E5ECF6",
            "gridcolor": "white",
            "gridwidth": 2,
            "linecolor": "white",
            "showbackground": true,
            "ticks": "",
            "zerolinecolor": "white"
           },
           "yaxis": {
            "backgroundcolor": "#E5ECF6",
            "gridcolor": "white",
            "gridwidth": 2,
            "linecolor": "white",
            "showbackground": true,
            "ticks": "",
            "zerolinecolor": "white"
           },
           "zaxis": {
            "backgroundcolor": "#E5ECF6",
            "gridcolor": "white",
            "gridwidth": 2,
            "linecolor": "white",
            "showbackground": true,
            "ticks": "",
            "zerolinecolor": "white"
           }
          },
          "shapedefaults": {
           "line": {
            "color": "#2a3f5f"
           }
          },
          "ternary": {
           "aaxis": {
            "gridcolor": "white",
            "linecolor": "white",
            "ticks": ""
           },
           "baxis": {
            "gridcolor": "white",
            "linecolor": "white",
            "ticks": ""
           },
           "bgcolor": "#E5ECF6",
           "caxis": {
            "gridcolor": "white",
            "linecolor": "white",
            "ticks": ""
           }
          },
          "title": {
           "x": 0.05
          },
          "xaxis": {
           "automargin": true,
           "gridcolor": "white",
           "linecolor": "white",
           "ticks": "",
           "title": {
            "standoff": 15
           },
           "zerolinecolor": "white",
           "zerolinewidth": 2
          },
          "yaxis": {
           "automargin": true,
           "gridcolor": "white",
           "linecolor": "white",
           "ticks": "",
           "title": {
            "standoff": 15
           },
           "zerolinecolor": "white",
           "zerolinewidth": 2
          }
         }
        },
        "title": {
         "text": "Total cases , total deaths , total recovered of continents"
        },
        "yaxis": {
         "range": [
          0,
          300000000
         ]
        }
       }
      }
     },
     "metadata": {},
     "output_type": "display_data"
    }
   ],
   "source": [
    "fig=go.Figure(data=[\n",
    "      go.Bar(name='Total cases',x=Continent.index,y=Continent['Total Cases'],text=Continent['Total Cases']),\n",
    "      go.Bar(name='Total Deaths',x=Continent.index,y=Continent['Total Deaths'],text=Continent['Total Deaths']),\n",
    "      go.Bar(name='Total Recovered',x=Continent.index,y=Continent['Total Recovered'],text=Continent['Total Recovered'])\n",
    "   ])\n",
    "fig.update_layout(barmode='group',title='Total cases , total deaths , total recovered of continents')\n",
    "fig.update_traces(texttemplate='%{text:.4s}', textposition='outside')\n",
    "fig.update_layout(yaxis_range=[0,300000000])\n",
    "fig.show()"
   ]
  },
  {
   "attachments": {},
   "cell_type": "markdown",
   "metadata": {},
   "source": [
    "`Comment`:\n",
    "- Europe is the country with the highest number of covid cases among the continents\n",
    "-  The continent with the most total deaths is Europe\n",
    "- Looking at the chart, we see that most continents have total recovered close to total cases, but in Asia we see that these two columns have a clear difference. This may indicate that treating covid patients in Asia is very difficult"
   ]
  },
  {
   "cell_type": "code",
   "execution_count": 57,
   "metadata": {},
   "outputs": [
    {
     "data": {
      "text/html": [
       "<div>\n",
       "<style scoped>\n",
       "    .dataframe tbody tr th:only-of-type {\n",
       "        vertical-align: middle;\n",
       "    }\n",
       "\n",
       "    .dataframe tbody tr th {\n",
       "        vertical-align: top;\n",
       "    }\n",
       "\n",
       "    .dataframe thead th {\n",
       "        text-align: right;\n",
       "    }\n",
       "</style>\n",
       "<table border=\"1\" class=\"dataframe\">\n",
       "  <thead>\n",
       "    <tr style=\"text-align: right;\">\n",
       "      <th></th>\n",
       "      <th>Total Cases</th>\n",
       "      <th>Total Deaths</th>\n",
       "      <th>Total Recovered</th>\n",
       "      <th>Active Cases</th>\n",
       "    </tr>\n",
       "    <tr>\n",
       "      <th>Continent</th>\n",
       "      <th></th>\n",
       "      <th></th>\n",
       "      <th></th>\n",
       "      <th></th>\n",
       "    </tr>\n",
       "  </thead>\n",
       "  <tbody>\n",
       "    <tr>\n",
       "      <th>Africa</th>\n",
       "      <td>11556054</td>\n",
       "      <td>228110.0</td>\n",
       "      <td>10960260.0</td>\n",
       "      <td>367684.0</td>\n",
       "    </tr>\n",
       "    <tr>\n",
       "      <th>Asia</th>\n",
       "      <td>197558301</td>\n",
       "      <td>1436618.0</td>\n",
       "      <td>182634450.0</td>\n",
       "      <td>13487233.0</td>\n",
       "    </tr>\n",
       "    <tr>\n",
       "      <th>Australia/Oceania</th>\n",
       "      <td>13908879</td>\n",
       "      <td>25380.0</td>\n",
       "      <td>13815105.0</td>\n",
       "      <td>68394.0</td>\n",
       "    </tr>\n",
       "    <tr>\n",
       "      <th>Europe</th>\n",
       "      <td>246741983</td>\n",
       "      <td>2022650.0</td>\n",
       "      <td>242554289.0</td>\n",
       "      <td>2165044.0</td>\n",
       "    </tr>\n",
       "    <tr>\n",
       "      <th>North America</th>\n",
       "      <td>124129707</td>\n",
       "      <td>1602400.0</td>\n",
       "      <td>120382331.0</td>\n",
       "      <td>2144976.0</td>\n",
       "    </tr>\n",
       "    <tr>\n",
       "      <th>South America</th>\n",
       "      <td>67198217</td>\n",
       "      <td>1329918.0</td>\n",
       "      <td>65586258.0</td>\n",
       "      <td>282041.0</td>\n",
       "    </tr>\n",
       "  </tbody>\n",
       "</table>\n",
       "</div>"
      ],
      "text/plain": [
       "                   Total Cases  Total Deaths  Total Recovered  Active Cases\n",
       "Continent                                                                  \n",
       "Africa                11556054      228110.0       10960260.0      367684.0\n",
       "Asia                 197558301     1436618.0      182634450.0    13487233.0\n",
       "Australia/Oceania     13908879       25380.0       13815105.0       68394.0\n",
       "Europe               246741983     2022650.0      242554289.0     2165044.0\n",
       "North America        124129707     1602400.0      120382331.0     2144976.0\n",
       "South America         67198217     1329918.0       65586258.0      282041.0"
      ]
     },
     "execution_count": 57,
     "metadata": {},
     "output_type": "execute_result"
    }
   ],
   "source": [
    "# continent need to be dropna before calculating, it makes sure that sum of percentage is 100%\n",
    "Continent = df[['Total Cases','Total Deaths','Total Recovered','Active Cases','Continent']]\n",
    "Continent = Continent.dropna().groupby('Continent').sum()#.astype(int)\n",
    "Continent"
   ]
  },
  {
   "cell_type": "code",
   "execution_count": 58,
   "metadata": {},
   "outputs": [
    {
     "data": {
      "text/html": [
       "<div>\n",
       "<style scoped>\n",
       "    .dataframe tbody tr th:only-of-type {\n",
       "        vertical-align: middle;\n",
       "    }\n",
       "\n",
       "    .dataframe tbody tr th {\n",
       "        vertical-align: top;\n",
       "    }\n",
       "\n",
       "    .dataframe thead th {\n",
       "        text-align: right;\n",
       "    }\n",
       "</style>\n",
       "<table border=\"1\" class=\"dataframe\">\n",
       "  <thead>\n",
       "    <tr style=\"text-align: right;\">\n",
       "      <th></th>\n",
       "      <th>Total Recovered</th>\n",
       "      <th>Total Deaths</th>\n",
       "      <th>Active Cases</th>\n",
       "    </tr>\n",
       "    <tr>\n",
       "      <th>Continent</th>\n",
       "      <th></th>\n",
       "      <th></th>\n",
       "      <th></th>\n",
       "    </tr>\n",
       "  </thead>\n",
       "  <tbody>\n",
       "    <tr>\n",
       "      <th>Africa</th>\n",
       "      <td>94.844313</td>\n",
       "      <td>1.973944</td>\n",
       "      <td>3.181744</td>\n",
       "    </tr>\n",
       "    <tr>\n",
       "      <th>Asia</th>\n",
       "      <td>92.445850</td>\n",
       "      <td>0.727187</td>\n",
       "      <td>6.826963</td>\n",
       "    </tr>\n",
       "    <tr>\n",
       "      <th>Australia/Oceania</th>\n",
       "      <td>99.325798</td>\n",
       "      <td>0.182473</td>\n",
       "      <td>0.491729</td>\n",
       "    </tr>\n",
       "    <tr>\n",
       "      <th>Europe</th>\n",
       "      <td>98.302804</td>\n",
       "      <td>0.819743</td>\n",
       "      <td>0.877453</td>\n",
       "    </tr>\n",
       "    <tr>\n",
       "      <th>North America</th>\n",
       "      <td>96.981080</td>\n",
       "      <td>1.290908</td>\n",
       "      <td>1.728012</td>\n",
       "    </tr>\n",
       "    <tr>\n",
       "      <th>South America</th>\n",
       "      <td>97.601188</td>\n",
       "      <td>1.979097</td>\n",
       "      <td>0.419715</td>\n",
       "    </tr>\n",
       "  </tbody>\n",
       "</table>\n",
       "</div>"
      ],
      "text/plain": [
       "                   Total Recovered  Total Deaths  Active Cases\n",
       "Continent                                                     \n",
       "Africa                   94.844313      1.973944      3.181744\n",
       "Asia                     92.445850      0.727187      6.826963\n",
       "Australia/Oceania        99.325798      0.182473      0.491729\n",
       "Europe                   98.302804      0.819743      0.877453\n",
       "North America            96.981080      1.290908      1.728012\n",
       "South America            97.601188      1.979097      0.419715"
      ]
     },
     "execution_count": 58,
     "metadata": {},
     "output_type": "execute_result"
    }
   ],
   "source": [
    "percent_continent = Continent[['Total Recovered','Total Deaths','Active Cases']].div(Continent['Total Cases'], 0)*100\n",
    "percent_continent"
   ]
  },
  {
   "cell_type": "code",
   "execution_count": 59,
   "metadata": {},
   "outputs": [
    {
     "data": {
      "image/png": "[encoded data removed]",
      "text/plain": [
       "<Figure size 432x288 with 1 Axes>"
      ]
     },
     "metadata": {
      "needs_background": "light"
     },
     "output_type": "display_data"
    }
   ],
   "source": [
    "from matplotlib.ticker import FormatStrFormatter\n",
    "\n",
    "percent_continent.plot(kind='bar', stacked=True, colormap='tab10')\n",
    "\n",
    "plt.legend(ncol=3)\n",
    "plt.xlabel(\"Continents\")\n",
    "plt.ylabel(\"Proportion\")\n",
    "plt.yticks(range(0,101,10))\n",
    "plt.gca().yaxis.set_major_formatter(FormatStrFormatter('%d%%'))\n",
    "plt.show()"
   ]
  },
  {
   "cell_type": "markdown",
   "metadata": {},
   "source": [
    "`Comment:`\n",
    "- Asia has the highest active cases.\n",
    "- Australia/Oceania seems to be dealing with Covid epidemic most effectively.\n",
    "- Meanwhile, Africa and South America have the highest Deaths ratio."
   ]
  },
  {
   "attachments": {},
   "cell_type": "markdown",
   "metadata": {},
   "source": [
    "### Distribution total case, total deaths , total Recovered of countries "
   ]
  },
  {
   "cell_type": "code",
   "execution_count": 60,
   "metadata": {},
   "outputs": [
    {
     "data": {
      "application/vnd.plotly.v1+json": {
       "config": {
        "plotlyServerURL": "https://plot.ly"
       },
       "data": [
        {
         "hovertemplate": "Country, Other=USA<br>Total Cases=%{marker.size}<br>Total Deaths=%{y}<extra></extra>",
         "legendgroup": "USA",
         "marker": {
          "color": "#636efa",
          "size": [
           105665981
          ],
          "sizemode": "area",
          "sizeref": 264164.9525,
          "symbol": "circle"
         },
         "mode": "markers",
         "name": "USA",
         "orientation": "v",
         "showlegend": true,
         "type": "scatter",
         "x": [
          105665981
         ],
         "xaxis": "x",
         "y": [
          1149253
         ],
         "yaxis": "y"
        },
        {
         "hovertemplate": "Country, Other=India<br>Total Cases=%{marker.size}<br>Total Deaths=%{y}<extra></extra>",
         "legendgroup": "India",
         "marker": {
          "color": "#EF553B",
          "size": [
           44691956
          ],
          "sizemode": "area",
          "sizeref": 264164.9525,
          "symbol": "circle"
         },
         "mode": "markers",
         "name": "India",
         "orientation": "v",
         "showlegend": true,
         "type": "scatter",
         "x": [
          44691956
         ],
         "xaxis": "x",
         "y": [
          530789
         ],
         "yaxis": "y"
        },
        {
         "hovertemplate": "Country, Other=France<br>Total Cases=%{marker.size}<br>Total Deaths=%{y}<extra></extra>",
         "legendgroup": "France",
         "marker": {
          "color": "#00cc96",
          "size": [
           39667102
          ],
          "sizemode": "area",
          "sizeref": 264164.9525,
          "symbol": "circle"
         },
         "mode": "markers",
         "name": "France",
         "orientation": "v",
         "showlegend": true,
         "type": "scatter",
         "x": [
          39667102
         ],
         "xaxis": "x",
         "y": [
          165240
         ],
         "yaxis": "y"
        },
        {
         "hovertemplate": "Country, Other=Germany<br>Total Cases=%{marker.size}<br>Total Deaths=%{y}<extra></extra>",
         "legendgroup": "Germany",
         "marker": {
          "color": "#ab63fa",
          "size": [
           38276190
          ],
          "sizemode": "area",
          "sizeref": 264164.9525,
          "symbol": "circle"
         },
         "mode": "markers",
         "name": "Germany",
         "orientation": "v",
         "showlegend": true,
         "type": "scatter",
         "x": [
          38276190
         ],
         "xaxis": "x",
         "y": [
          169345
         ],
         "yaxis": "y"
        },
        {
         "hovertemplate": "Country, Other=Brazil<br>Total Cases=%{marker.size}<br>Total Deaths=%{y}<extra></extra>",
         "legendgroup": "Brazil",
         "marker": {
          "color": "#FFA15A",
          "size": [
           37085520
          ],
          "sizemode": "area",
          "sizeref": 264164.9525,
          "symbol": "circle"
         },
         "mode": "markers",
         "name": "Brazil",
         "orientation": "v",
         "showlegend": true,
         "type": "scatter",
         "x": [
          37085520
         ],
         "xaxis": "x",
         "y": [
          699310
         ],
         "yaxis": "y"
        },
        {
         "hovertemplate": "Country, Other=Japan<br>Total Cases=%{marker.size}<br>Total Deaths=%{y}<extra></extra>",
         "legendgroup": "Japan",
         "marker": {
          "color": "#19d3f3",
          "size": [
           33346529
          ],
          "sizemode": "area",
          "sizeref": 264164.9525,
          "symbol": "circle"
         },
         "mode": "markers",
         "name": "Japan",
         "orientation": "v",
         "showlegend": true,
         "type": "scatter",
         "x": [
          33346529
         ],
         "xaxis": "x",
         "y": [
          73334
         ],
         "yaxis": "y"
        },
        {
         "hovertemplate": "Country, Other=S. Korea<br>Total Cases=%{marker.size}<br>Total Deaths=%{y}<extra></extra>",
         "legendgroup": "S. Korea",
         "marker": {
          "color": "#FF6692",
          "size": [
           30662229
          ],
          "sizemode": "area",
          "sizeref": 264164.9525,
          "symbol": "circle"
         },
         "mode": "markers",
         "name": "S. Korea",
         "orientation": "v",
         "showlegend": true,
         "type": "scatter",
         "x": [
          30662229
         ],
         "xaxis": "x",
         "y": [
          34131
         ],
         "yaxis": "y"
        },
        {
         "hovertemplate": "Country, Other=Italy<br>Total Cases=%{marker.size}<br>Total Deaths=%{y}<extra></extra>",
         "legendgroup": "Italy",
         "marker": {
          "color": "#B6E880",
          "size": [
           25627473
          ],
          "sizemode": "area",
          "sizeref": 264164.9525,
          "symbol": "circle"
         },
         "mode": "markers",
         "name": "Italy",
         "orientation": "v",
         "showlegend": true,
         "type": "scatter",
         "x": [
          25627473
         ],
         "xaxis": "x",
         "y": [
          188538
         ],
         "yaxis": "y"
        },
        {
         "hovertemplate": "Country, Other=UK<br>Total Cases=%{marker.size}<br>Total Deaths=%{y}<extra></extra>",
         "legendgroup": "UK",
         "marker": {
          "color": "#FF97FF",
          "size": [
           24396534
          ],
          "sizemode": "area",
          "sizeref": 264164.9525,
          "symbol": "circle"
         },
         "mode": "markers",
         "name": "UK",
         "orientation": "v",
         "showlegend": true,
         "type": "scatter",
         "x": [
          24396534
         ],
         "xaxis": "x",
         "y": [
          207695
         ],
         "yaxis": "y"
        },
        {
         "hovertemplate": "Country, Other=Russia<br>Total Cases=%{marker.size}<br>Total Deaths=%{y}<extra></extra>",
         "legendgroup": "Russia",
         "marker": {
          "color": "#FECB52",
          "size": [
           22454933
          ],
          "sizemode": "area",
          "sizeref": 264164.9525,
          "symbol": "circle"
         },
         "mode": "markers",
         "name": "Russia",
         "orientation": "v",
         "showlegend": true,
         "type": "scatter",
         "x": [
          22454933
         ],
         "xaxis": "x",
         "y": [
          396696
         ],
         "yaxis": "y"
        },
        {
         "hovertemplate": "Country, Other=Turkey<br>Total Cases=%{marker.size}<br>Total Deaths=%{y}<extra></extra>",
         "legendgroup": "Turkey",
         "marker": {
          "color": "#636efa",
          "size": [
           17042722
          ],
          "sizemode": "area",
          "sizeref": 264164.9525,
          "symbol": "circle"
         },
         "mode": "markers",
         "name": "Turkey",
         "orientation": "v",
         "showlegend": true,
         "type": "scatter",
         "x": [
          17042722
         ],
         "xaxis": "x",
         "y": [
          101492
         ],
         "yaxis": "y"
        },
        {
         "hovertemplate": "Country, Other=Spain<br>Total Cases=%{marker.size}<br>Total Deaths=%{y}<extra></extra>",
         "legendgroup": "Spain",
         "marker": {
          "color": "#EF553B",
          "size": [
           13778467
          ],
          "sizemode": "area",
          "sizeref": 264164.9525,
          "symbol": "circle"
         },
         "mode": "markers",
         "name": "Spain",
         "orientation": "v",
         "showlegend": true,
         "type": "scatter",
         "x": [
          13778467
         ],
         "xaxis": "x",
         "y": [
          119618
         ],
         "yaxis": "y"
        },
        {
         "hovertemplate": "Country, Other=Vietnam<br>Total Cases=%{marker.size}<br>Total Deaths=%{y}<extra></extra>",
         "legendgroup": "Vietnam",
         "marker": {
          "color": "#00cc96",
          "size": [
           11527079
          ],
          "sizemode": "area",
          "sizeref": 264164.9525,
          "symbol": "circle"
         },
         "mode": "markers",
         "name": "Vietnam",
         "orientation": "v",
         "showlegend": true,
         "type": "scatter",
         "x": [
          11527079
         ],
         "xaxis": "x",
         "y": [
          43186
         ],
         "yaxis": "y"
        },
        {
         "hovertemplate": "Country, Other=Australia<br>Total Cases=%{marker.size}<br>Total Deaths=%{y}<extra></extra>",
         "legendgroup": "Australia",
         "marker": {
          "color": "#ab63fa",
          "size": [
           11385534
          ],
          "sizemode": "area",
          "sizeref": 264164.9525,
          "symbol": "circle"
         },
         "mode": "markers",
         "name": "Australia",
         "orientation": "v",
         "showlegend": true,
         "type": "scatter",
         "x": [
          11385534
         ],
         "xaxis": "x",
         "y": [
          19459
         ],
         "yaxis": "y"
        },
        {
         "hovertemplate": "Country, Other=Taiwan<br>Total Cases=%{marker.size}<br>Total Deaths=%{y}<extra></extra>",
         "legendgroup": "Taiwan",
         "marker": {
          "color": "#FFA15A",
          "size": [
           10197421
          ],
          "sizemode": "area",
          "sizeref": 264164.9525,
          "symbol": "circle"
         },
         "mode": "markers",
         "name": "Taiwan",
         "orientation": "v",
         "showlegend": true,
         "type": "scatter",
         "x": [
          10197421
         ],
         "xaxis": "x",
         "y": [
          18619
         ],
         "yaxis": "y"
        },
        {
         "hovertemplate": "Country, Other=Argentina<br>Total Cases=%{marker.size}<br>Total Deaths=%{y}<extra></extra>",
         "legendgroup": "Argentina",
         "marker": {
          "color": "#19d3f3",
          "size": [
           10044957
          ],
          "sizemode": "area",
          "sizeref": 264164.9525,
          "symbol": "circle"
         },
         "mode": "markers",
         "name": "Argentina",
         "orientation": "v",
         "showlegend": true,
         "type": "scatter",
         "x": [
          10044957
         ],
         "xaxis": "x",
         "y": [
          130472
         ],
         "yaxis": "y"
        },
        {
         "hovertemplate": "Country, Other=Netherlands<br>Total Cases=%{marker.size}<br>Total Deaths=%{y}<extra></extra>",
         "legendgroup": "Netherlands",
         "marker": {
          "color": "#FF6692",
          "size": [
           8604733
          ],
          "sizemode": "area",
          "sizeref": 264164.9525,
          "symbol": "circle"
         },
         "mode": "markers",
         "name": "Netherlands",
         "orientation": "v",
         "showlegend": true,
         "type": "scatter",
         "x": [
          8604733
         ],
         "xaxis": "x",
         "y": [
          22992
         ],
         "yaxis": "y"
        },
        {
         "hovertemplate": "Country, Other=Iran<br>Total Cases=%{marker.size}<br>Total Deaths=%{y}<extra></extra>",
         "legendgroup": "Iran",
         "marker": {
          "color": "#B6E880",
          "size": [
           7573328
          ],
          "sizemode": "area",
          "sizeref": 264164.9525,
          "symbol": "circle"
         },
         "mode": "markers",
         "name": "Iran",
         "orientation": "v",
         "showlegend": true,
         "type": "scatter",
         "x": [
          7573328
         ],
         "xaxis": "x",
         "y": [
          144956
         ],
         "yaxis": "y"
        },
        {
         "hovertemplate": "Country, Other=Mexico<br>Total Cases=%{marker.size}<br>Total Deaths=%{y}<extra></extra>",
         "legendgroup": "Mexico",
         "marker": {
          "color": "#FF97FF",
          "size": [
           7492112
          ],
          "sizemode": "area",
          "sizeref": 264164.9525,
          "symbol": "circle"
         },
         "mode": "markers",
         "name": "Mexico",
         "orientation": "v",
         "showlegend": true,
         "type": "scatter",
         "x": [
          7492112
         ],
         "xaxis": "x",
         "y": [
          333243
         ],
         "yaxis": "y"
        },
        {
         "hovertemplate": "Country, Other=Indonesia<br>Total Cases=%{marker.size}<br>Total Deaths=%{y}<extra></extra>",
         "legendgroup": "Indonesia",
         "marker": {
          "color": "#FECB52",
          "size": [
           6740031
          ],
          "sizemode": "area",
          "sizeref": 264164.9525,
          "symbol": "circle"
         },
         "mode": "markers",
         "name": "Indonesia",
         "orientation": "v",
         "showlegend": true,
         "type": "scatter",
         "x": [
          6740031
         ],
         "xaxis": "x",
         "y": [
          160956
         ],
         "yaxis": "y"
        },
        {
         "hovertemplate": "Country, Other=Poland<br>Total Cases=%{marker.size}<br>Total Deaths=%{y}<extra></extra>",
         "legendgroup": "Poland",
         "marker": {
          "color": "#636efa",
          "size": [
           6462369
          ],
          "sizemode": "area",
          "sizeref": 264164.9525,
          "symbol": "circle"
         },
         "mode": "markers",
         "name": "Poland",
         "orientation": "v",
         "showlegend": true,
         "type": "scatter",
         "x": [
          6462369
         ],
         "xaxis": "x",
         "y": [
          119072
         ],
         "yaxis": "y"
        },
        {
         "hovertemplate": "Country, Other=Colombia<br>Total Cases=%{marker.size}<br>Total Deaths=%{y}<extra></extra>",
         "legendgroup": "Colombia",
         "marker": {
          "color": "#EF553B",
          "size": [
           6360780
          ],
          "sizemode": "area",
          "sizeref": 264164.9525,
          "symbol": "circle"
         },
         "mode": "markers",
         "name": "Colombia",
         "orientation": "v",
         "showlegend": true,
         "type": "scatter",
         "x": [
          6360780
         ],
         "xaxis": "x",
         "y": [
          142639
         ],
         "yaxis": "y"
        },
        {
         "hovertemplate": "Country, Other=Austria<br>Total Cases=%{marker.size}<br>Total Deaths=%{y}<extra></extra>",
         "legendgroup": "Austria",
         "marker": {
          "color": "#00cc96",
          "size": [
           5981084
          ],
          "sizemode": "area",
          "sizeref": 264164.9525,
          "symbol": "circle"
         },
         "mode": "markers",
         "name": "Austria",
         "orientation": "v",
         "showlegend": true,
         "type": "scatter",
         "x": [
          5981084
         ],
         "xaxis": "x",
         "y": [
          22002
         ],
         "yaxis": "y"
        },
        {
         "hovertemplate": "Country, Other=Greece<br>Total Cases=%{marker.size}<br>Total Deaths=%{y}<extra></extra>",
         "legendgroup": "Greece",
         "marker": {
          "color": "#ab63fa",
          "size": [
           5896788
          ],
          "sizemode": "area",
          "sizeref": 264164.9525,
          "symbol": "circle"
         },
         "mode": "markers",
         "name": "Greece",
         "orientation": "v",
         "showlegend": true,
         "type": "scatter",
         "x": [
          5896788
         ],
         "xaxis": "x",
         "y": [
          36283
         ],
         "yaxis": "y"
        },
        {
         "hovertemplate": "Country, Other=Portugal<br>Total Cases=%{marker.size}<br>Total Deaths=%{y}<extra></extra>",
         "legendgroup": "Portugal",
         "marker": {
          "color": "#FFA15A",
          "size": [
           5570473
          ],
          "sizemode": "area",
          "sizeref": 264164.9525,
          "symbol": "circle"
         },
         "mode": "markers",
         "name": "Portugal",
         "orientation": "v",
         "showlegend": true,
         "type": "scatter",
         "x": [
          5570473
         ],
         "xaxis": "x",
         "y": [
          26266
         ],
         "yaxis": "y"
        },
        {
         "hovertemplate": "Country, Other=Ukraine<br>Total Cases=%{marker.size}<br>Total Deaths=%{y}<extra></extra>",
         "legendgroup": "Ukraine",
         "marker": {
          "color": "#19d3f3",
          "size": [
           5399231
          ],
          "sizemode": "area",
          "sizeref": 264164.9525,
          "symbol": "circle"
         },
         "mode": "markers",
         "name": "Ukraine",
         "orientation": "v",
         "showlegend": true,
         "type": "scatter",
         "x": [
          5399231
         ],
         "xaxis": "x",
         "y": [
          111298
         ],
         "yaxis": "y"
        },
        {
         "hovertemplate": "Country, Other=Chile<br>Total Cases=%{marker.size}<br>Total Deaths=%{y}<extra></extra>",
         "legendgroup": "Chile",
         "marker": {
          "color": "#FF6692",
          "size": [
           5209152
          ],
          "sizemode": "area",
          "sizeref": 264164.9525,
          "symbol": "circle"
         },
         "mode": "markers",
         "name": "Chile",
         "orientation": "v",
         "showlegend": true,
         "type": "scatter",
         "x": [
          5209152
         ],
         "xaxis": "x",
         "y": [
          64330
         ],
         "yaxis": "y"
        },
        {
         "hovertemplate": "Country, Other=Malaysia<br>Total Cases=%{marker.size}<br>Total Deaths=%{y}<extra></extra>",
         "legendgroup": "Malaysia",
         "marker": {
          "color": "#B6E880",
          "size": [
           5045192
          ],
          "sizemode": "area",
          "sizeref": 264164.9525,
          "symbol": "circle"
         },
         "mode": "markers",
         "name": "Malaysia",
         "orientation": "v",
         "showlegend": true,
         "type": "scatter",
         "x": [
          5045192
         ],
         "xaxis": "x",
         "y": [
          36967
         ],
         "yaxis": "y"
        },
        {
         "hovertemplate": "Country, Other=Israel<br>Total Cases=%{marker.size}<br>Total Deaths=%{y}<extra></extra>",
         "legendgroup": "Israel",
         "marker": {
          "color": "#FF97FF",
          "size": [
           4806396
          ],
          "sizemode": "area",
          "sizeref": 264164.9525,
          "symbol": "circle"
         },
         "mode": "markers",
         "name": "Israel",
         "orientation": "v",
         "showlegend": true,
         "type": "scatter",
         "x": [
          4806396
         ],
         "xaxis": "x",
         "y": [
          12341
         ],
         "yaxis": "y"
        },
        {
         "hovertemplate": "Country, Other=DPRK<br>Total Cases=%{marker.size}<br>Total Deaths=%{y}<extra></extra>",
         "legendgroup": "DPRK",
         "marker": {
          "color": "#FECB52",
          "size": [
           4772813
          ],
          "sizemode": "area",
          "sizeref": 264164.9525,
          "symbol": "circle"
         },
         "mode": "markers",
         "name": "DPRK",
         "orientation": "v",
         "showlegend": true,
         "type": "scatter",
         "x": [
          4772813
         ],
         "xaxis": "x",
         "y": [
          74
         ],
         "yaxis": "y"
        },
        {
         "hovertemplate": "Country, Other=Belgium<br>Total Cases=%{marker.size}<br>Total Deaths=%{y}<extra></extra>",
         "legendgroup": "Belgium",
         "marker": {
          "color": "#636efa",
          "size": [
           4739365
          ],
          "sizemode": "area",
          "sizeref": 264164.9525,
          "symbol": "circle"
         },
         "mode": "markers",
         "name": "Belgium",
         "orientation": "v",
         "showlegend": true,
         "type": "scatter",
         "x": [
          4739365
         ],
         "xaxis": "x",
         "y": [
          33814
         ],
         "yaxis": "y"
        },
        {
         "hovertemplate": "Country, Other=Thailand<br>Total Cases=%{marker.size}<br>Total Deaths=%{y}<extra></extra>",
         "legendgroup": "Thailand",
         "marker": {
          "color": "#EF553B",
          "size": [
           4728304
          ],
          "sizemode": "area",
          "sizeref": 264164.9525,
          "symbol": "circle"
         },
         "mode": "markers",
         "name": "Thailand",
         "orientation": "v",
         "showlegend": true,
         "type": "scatter",
         "x": [
          4728304
         ],
         "xaxis": "x",
         "y": [
          33924
         ],
         "yaxis": "y"
        },
        {
         "hovertemplate": "Country, Other=Czechia<br>Total Cases=%{marker.size}<br>Total Deaths=%{y}<extra></extra>",
         "legendgroup": "Czechia",
         "marker": {
          "color": "#00cc96",
          "size": [
           4623277
          ],
          "sizemode": "area",
          "sizeref": 264164.9525,
          "symbol": "circle"
         },
         "mode": "markers",
         "name": "Czechia",
         "orientation": "v",
         "showlegend": true,
         "type": "scatter",
         "x": [
          4623277
         ],
         "xaxis": "x",
         "y": [
          42528
         ],
         "yaxis": "y"
        },
        {
         "hovertemplate": "Country, Other=Canada<br>Total Cases=%{marker.size}<br>Total Deaths=%{y}<extra></extra>",
         "legendgroup": "Canada",
         "marker": {
          "color": "#ab63fa",
          "size": [
           4609277
          ],
          "sizemode": "area",
          "sizeref": 264164.9525,
          "symbol": "circle"
         },
         "mode": "markers",
         "name": "Canada",
         "orientation": "v",
         "showlegend": true,
         "type": "scatter",
         "x": [
          4609277
         ],
         "xaxis": "x",
         "y": [
          51624
         ],
         "yaxis": "y"
        },
        {
         "hovertemplate": "Country, Other=Peru<br>Total Cases=%{marker.size}<br>Total Deaths=%{y}<extra></extra>",
         "legendgroup": "Peru",
         "marker": {
          "color": "#FFA15A",
          "size": [
           4488338
          ],
          "sizemode": "area",
          "sizeref": 264164.9525,
          "symbol": "circle"
         },
         "mode": "markers",
         "name": "Peru",
         "orientation": "v",
         "showlegend": true,
         "type": "scatter",
         "x": [
          4488338
         ],
         "xaxis": "x",
         "y": [
          219597
         ],
         "yaxis": "y"
        },
        {
         "hovertemplate": "Country, Other=Switzerland<br>Total Cases=%{marker.size}<br>Total Deaths=%{y}<extra></extra>",
         "legendgroup": "Switzerland",
         "marker": {
          "color": "#19d3f3",
          "size": [
           4392464
          ],
          "sizemode": "area",
          "sizeref": 264164.9525,
          "symbol": "circle"
         },
         "mode": "markers",
         "name": "Switzerland",
         "orientation": "v",
         "showlegend": true,
         "type": "scatter",
         "x": [
          4392464
         ],
         "xaxis": "x",
         "y": [
          14452
         ],
         "yaxis": "y"
        },
        {
         "hovertemplate": "Country, Other=Philippines<br>Total Cases=%{marker.size}<br>Total Deaths=%{y}<extra></extra>",
         "legendgroup": "Philippines",
         "marker": {
          "color": "#FF6692",
          "size": [
           4078231
          ],
          "sizemode": "area",
          "sizeref": 264164.9525,
          "symbol": "circle"
         },
         "mode": "markers",
         "name": "Philippines",
         "orientation": "v",
         "showlegend": true,
         "type": "scatter",
         "x": [
          4078231
         ],
         "xaxis": "x",
         "y": [
          66237
         ],
         "yaxis": "y"
        },
        {
         "hovertemplate": "Country, Other=South Africa<br>Total Cases=%{marker.size}<br>Total Deaths=%{y}<extra></extra>",
         "legendgroup": "South Africa",
         "marker": {
          "color": "#B6E880",
          "size": [
           4068319
          ],
          "sizemode": "area",
          "sizeref": 264164.9525,
          "symbol": "circle"
         },
         "mode": "markers",
         "name": "South Africa",
         "orientation": "v",
         "showlegend": true,
         "type": "scatter",
         "x": [
          4068319
         ],
         "xaxis": "x",
         "y": [
          102595
         ],
         "yaxis": "y"
        },
        {
         "hovertemplate": "Country, Other=Romania<br>Total Cases=%{marker.size}<br>Total Deaths=%{y}<extra></extra>",
         "legendgroup": "Romania",
         "marker": {
          "color": "#FF97FF",
          "size": [
           3352356
          ],
          "sizemode": "area",
          "sizeref": 264164.9525,
          "symbol": "circle"
         },
         "mode": "markers",
         "name": "Romania",
         "orientation": "v",
         "showlegend": true,
         "type": "scatter",
         "x": [
          3352356
         ],
         "xaxis": "x",
         "y": [
          67773
         ],
         "yaxis": "y"
        },
        {
         "hovertemplate": "Country, Other=Denmark<br>Total Cases=%{marker.size}<br>Total Deaths=%{y}<extra></extra>",
         "legendgroup": "Denmark",
         "marker": {
          "color": "#FECB52",
          "size": [
           3176268
          ],
          "sizemode": "area",
          "sizeref": 264164.9525,
          "symbol": "circle"
         },
         "mode": "markers",
         "name": "Denmark",
         "orientation": "v",
         "showlegend": true,
         "type": "scatter",
         "x": [
          3176268
         ],
         "xaxis": "x",
         "y": [
          8322
         ],
         "yaxis": "y"
        },
        {
         "hovertemplate": "Country, Other=Hong Kong<br>Total Cases=%{marker.size}<br>Total Deaths=%{y}<extra></extra>",
         "legendgroup": "Hong Kong",
         "marker": {
          "color": "#636efa",
          "size": [
           2884099
          ],
          "sizemode": "area",
          "sizeref": 264164.9525,
          "symbol": "circle"
         },
         "mode": "markers",
         "name": "Hong Kong",
         "orientation": "v",
         "showlegend": true,
         "type": "scatter",
         "x": [
          2884099
         ],
         "xaxis": "x",
         "y": [
          13472
         ],
         "yaxis": "y"
        },
        {
         "hovertemplate": "Country, Other=Sweden<br>Total Cases=%{marker.size}<br>Total Deaths=%{y}<extra></extra>",
         "legendgroup": "Sweden",
         "marker": {
          "color": "#EF553B",
          "size": [
           2699339
          ],
          "sizemode": "area",
          "sizeref": 264164.9525,
          "symbol": "circle"
         },
         "mode": "markers",
         "name": "Sweden",
         "orientation": "v",
         "showlegend": true,
         "type": "scatter",
         "x": [
          2699339
         ],
         "xaxis": "x",
         "y": [
          23749
         ],
         "yaxis": "y"
        },
        {
         "hovertemplate": "Country, Other=Serbia<br>Total Cases=%{marker.size}<br>Total Deaths=%{y}<extra></extra>",
         "legendgroup": "Serbia",
         "marker": {
          "color": "#00cc96",
          "size": [
           2504113
          ],
          "sizemode": "area",
          "sizeref": 264164.9525,
          "symbol": "circle"
         },
         "mode": "markers",
         "name": "Serbia",
         "orientation": "v",
         "showlegend": true,
         "type": "scatter",
         "x": [
          2504113
         ],
         "xaxis": "x",
         "y": [
          17900
         ],
         "yaxis": "y"
        },
        {
         "hovertemplate": "Country, Other=Iraq<br>Total Cases=%{marker.size}<br>Total Deaths=%{y}<extra></extra>",
         "legendgroup": "Iraq",
         "marker": {
          "color": "#ab63fa",
          "size": [
           2465545
          ],
          "sizemode": "area",
          "sizeref": 264164.9525,
          "symbol": "circle"
         },
         "mode": "markers",
         "name": "Iraq",
         "orientation": "v",
         "showlegend": true,
         "type": "scatter",
         "x": [
          2465545
         ],
         "xaxis": "x",
         "y": [
          25375
         ],
         "yaxis": "y"
        },
        {
         "hovertemplate": "Country, Other=New Zealand<br>Total Cases=%{marker.size}<br>Total Deaths=%{y}<extra></extra>",
         "legendgroup": "New Zealand",
         "marker": {
          "color": "#FFA15A",
          "size": [
           2239800
          ],
          "sizemode": "area",
          "sizeref": 264164.9525,
          "symbol": "circle"
         },
         "mode": "markers",
         "name": "New Zealand",
         "orientation": "v",
         "showlegend": true,
         "type": "scatter",
         "x": [
          2239800
         ],
         "xaxis": "x",
         "y": [
          3944
         ],
         "yaxis": "y"
        },
        {
         "hovertemplate": "Country, Other=Singapore<br>Total Cases=%{marker.size}<br>Total Deaths=%{y}<extra></extra>",
         "legendgroup": "Singapore",
         "marker": {
          "color": "#19d3f3",
          "size": [
           2234996
          ],
          "sizemode": "area",
          "sizeref": 264164.9525,
          "symbol": "circle"
         },
         "mode": "markers",
         "name": "Singapore",
         "orientation": "v",
         "showlegend": true,
         "type": "scatter",
         "x": [
          2234996
         ],
         "xaxis": "x",
         "y": [
          1722
         ],
         "yaxis": "y"
        },
        {
         "hovertemplate": "Country, Other=Hungary<br>Total Cases=%{marker.size}<br>Total Deaths=%{y}<extra></extra>",
         "legendgroup": "Hungary",
         "marker": {
          "color": "#FF6692",
          "size": [
           2196804
          ],
          "sizemode": "area",
          "sizeref": 264164.9525,
          "symbol": "circle"
         },
         "mode": "markers",
         "name": "Hungary",
         "orientation": "v",
         "showlegend": true,
         "type": "scatter",
         "x": [
          2196804
         ],
         "xaxis": "x",
         "y": [
          48762
         ],
         "yaxis": "y"
        },
        {
         "hovertemplate": "Country, Other=Bangladesh<br>Total Cases=%{marker.size}<br>Total Deaths=%{y}<extra></extra>",
         "legendgroup": "Bangladesh",
         "marker": {
          "color": "#B6E880",
          "size": [
           2037871
          ],
          "sizemode": "area",
          "sizeref": 264164.9525,
          "symbol": "circle"
         },
         "mode": "markers",
         "name": "Bangladesh",
         "orientation": "v",
         "showlegend": true,
         "type": "scatter",
         "x": [
          2037871
         ],
         "xaxis": "x",
         "y": [
          29445
         ],
         "yaxis": "y"
        },
        {
         "hovertemplate": "Country, Other=Slovakia<br>Total Cases=%{marker.size}<br>Total Deaths=%{y}<extra></extra>",
         "legendgroup": "Slovakia",
         "marker": {
          "color": "#FF97FF",
          "size": [
           1864353
          ],
          "sizemode": "area",
          "sizeref": 264164.9525,
          "symbol": "circle"
         },
         "mode": "markers",
         "name": "Slovakia",
         "orientation": "v",
         "showlegend": true,
         "type": "scatter",
         "x": [
          1864353
         ],
         "xaxis": "x",
         "y": [
          21049
         ],
         "yaxis": "y"
        },
        {
         "hovertemplate": "Country, Other=Georgia<br>Total Cases=%{marker.size}<br>Total Deaths=%{y}<extra></extra>",
         "legendgroup": "Georgia",
         "marker": {
          "color": "#FECB52",
          "size": [
           1827537
          ],
          "sizemode": "area",
          "sizeref": 264164.9525,
          "symbol": "circle"
         },
         "mode": "markers",
         "name": "Georgia",
         "orientation": "v",
         "showlegend": true,
         "type": "scatter",
         "x": [
          1827537
         ],
         "xaxis": "x",
         "y": [
          16971
         ],
         "yaxis": "y"
        },
        {
         "hovertemplate": "Country, Other=Jordan<br>Total Cases=%{marker.size}<br>Total Deaths=%{y}<extra></extra>",
         "legendgroup": "Jordan",
         "marker": {
          "color": "#636efa",
          "size": [
           1746997
          ],
          "sizemode": "area",
          "sizeref": 264164.9525,
          "symbol": "circle"
         },
         "mode": "markers",
         "name": "Jordan",
         "orientation": "v",
         "showlegend": true,
         "type": "scatter",
         "x": [
          1746997
         ],
         "xaxis": "x",
         "y": [
          14122
         ],
         "yaxis": "y"
        },
        {
         "hovertemplate": "Country, Other=Ireland<br>Total Cases=%{marker.size}<br>Total Deaths=%{y}<extra></extra>",
         "legendgroup": "Ireland",
         "marker": {
          "color": "#EF553B",
          "size": [
           1704502
          ],
          "sizemode": "area",
          "sizeref": 264164.9525,
          "symbol": "circle"
         },
         "mode": "markers",
         "name": "Ireland",
         "orientation": "v",
         "showlegend": true,
         "type": "scatter",
         "x": [
          1704502
         ],
         "xaxis": "x",
         "y": [
          8708
         ],
         "yaxis": "y"
        },
        {
         "hovertemplate": "Country, Other=Pakistan<br>Total Cases=%{marker.size}<br>Total Deaths=%{y}<extra></extra>",
         "legendgroup": "Pakistan",
         "marker": {
          "color": "#00cc96",
          "size": [
           1577785
          ],
          "sizemode": "area",
          "sizeref": 264164.9525,
          "symbol": "circle"
         },
         "mode": "markers",
         "name": "Pakistan",
         "orientation": "v",
         "showlegend": true,
         "type": "scatter",
         "x": [
          1577785
         ],
         "xaxis": "x",
         "y": [
          30645
         ],
         "yaxis": "y"
        },
        {
         "hovertemplate": "Country, Other=Norway<br>Total Cases=%{marker.size}<br>Total Deaths=%{y}<extra></extra>",
         "legendgroup": "Norway",
         "marker": {
          "color": "#ab63fa",
          "size": [
           1479746
          ],
          "sizemode": "area",
          "sizeref": 264164.9525,
          "symbol": "circle"
         },
         "mode": "markers",
         "name": "Norway",
         "orientation": "v",
         "showlegend": true,
         "type": "scatter",
         "x": [
          1479746
         ],
         "xaxis": "x",
         "y": [
          5213
         ],
         "yaxis": "y"
        },
        {
         "hovertemplate": "Country, Other=Finland<br>Total Cases=%{marker.size}<br>Total Deaths=%{y}<extra></extra>",
         "legendgroup": "Finland",
         "marker": {
          "color": "#FFA15A",
          "size": [
           1463644
          ],
          "sizemode": "area",
          "sizeref": 264164.9525,
          "symbol": "circle"
         },
         "mode": "markers",
         "name": "Finland",
         "orientation": "v",
         "showlegend": true,
         "type": "scatter",
         "x": [
          1463644
         ],
         "xaxis": "x",
         "y": [
          8967
         ],
         "yaxis": "y"
        },
        {
         "hovertemplate": "Country, Other=Kazakhstan<br>Total Cases=%{marker.size}<br>Total Deaths=%{y}<extra></extra>",
         "legendgroup": "Kazakhstan",
         "marker": {
          "color": "#19d3f3",
          "size": [
           1408124
          ],
          "sizemode": "area",
          "sizeref": 264164.9525,
          "symbol": "circle"
         },
         "mode": "markers",
         "name": "Kazakhstan",
         "orientation": "v",
         "showlegend": true,
         "type": "scatter",
         "x": [
          1408124
         ],
         "xaxis": "x",
         "y": [
          13846
         ],
         "yaxis": "y"
        },
        {
         "hovertemplate": "Country, Other=Slovenia<br>Total Cases=%{marker.size}<br>Total Deaths=%{y}<extra></extra>",
         "legendgroup": "Slovenia",
         "marker": {
          "color": "#FF6692",
          "size": [
           1334089
          ],
          "sizemode": "area",
          "sizeref": 264164.9525,
          "symbol": "circle"
         },
         "mode": "markers",
         "name": "Slovenia",
         "orientation": "v",
         "showlegend": true,
         "type": "scatter",
         "x": [
          1334089
         ],
         "xaxis": "x",
         "y": [
          7083
         ],
         "yaxis": "y"
        },
        {
         "hovertemplate": "Country, Other=Lithuania<br>Total Cases=%{marker.size}<br>Total Deaths=%{y}<extra></extra>",
         "legendgroup": "Lithuania",
         "marker": {
          "color": "#B6E880",
          "size": [
           1309661
          ],
          "sizemode": "area",
          "sizeref": 264164.9525,
          "symbol": "circle"
         },
         "mode": "markers",
         "name": "Lithuania",
         "orientation": "v",
         "showlegend": true,
         "type": "scatter",
         "x": [
          1309661
         ],
         "xaxis": "x",
         "y": [
          9606
         ],
         "yaxis": "y"
        },
        {
         "hovertemplate": "Country, Other=Bulgaria<br>Total Cases=%{marker.size}<br>Total Deaths=%{y}<extra></extra>",
         "legendgroup": "Bulgaria",
         "marker": {
          "color": "#FF97FF",
          "size": [
           1298013
          ],
          "sizemode": "area",
          "sizeref": 264164.9525,
          "symbol": "circle"
         },
         "mode": "markers",
         "name": "Bulgaria",
         "orientation": "v",
         "showlegend": true,
         "type": "scatter",
         "x": [
          1298013
         ],
         "xaxis": "x",
         "y": [
          38232
         ],
         "yaxis": "y"
        },
        {
         "hovertemplate": "Country, Other=Morocco<br>Total Cases=%{marker.size}<br>Total Deaths=%{y}<extra></extra>",
         "legendgroup": "Morocco",
         "marker": {
          "color": "#FECB52",
          "size": [
           1272526
          ],
          "sizemode": "area",
          "sizeref": 264164.9525,
          "symbol": "circle"
         },
         "mode": "markers",
         "name": "Morocco",
         "orientation": "v",
         "showlegend": true,
         "type": "scatter",
         "x": [
          1272526
         ],
         "xaxis": "x",
         "y": [
          16296
         ],
         "yaxis": "y"
        },
        {
         "hovertemplate": "Country, Other=Croatia<br>Total Cases=%{marker.size}<br>Total Deaths=%{y}<extra></extra>",
         "legendgroup": "Croatia",
         "marker": {
          "color": "#636efa",
          "size": [
           1269687
          ],
          "sizemode": "area",
          "sizeref": 264164.9525,
          "symbol": "circle"
         },
         "mode": "markers",
         "name": "Croatia",
         "orientation": "v",
         "showlegend": true,
         "type": "scatter",
         "x": [
          1269687
         ],
         "xaxis": "x",
         "y": [
          18006
         ],
         "yaxis": "y"
        },
        {
         "hovertemplate": "Country, Other=Guatemala<br>Total Cases=%{marker.size}<br>Total Deaths=%{y}<extra></extra>",
         "legendgroup": "Guatemala",
         "marker": {
          "color": "#EF553B",
          "size": [
           1239341
          ],
          "sizemode": "area",
          "sizeref": 264164.9525,
          "symbol": "circle"
         },
         "mode": "markers",
         "name": "Guatemala",
         "orientation": "v",
         "showlegend": true,
         "type": "scatter",
         "x": [
          1239341
         ],
         "xaxis": "x",
         "y": [
          20182
         ],
         "yaxis": "y"
        },
        {
         "hovertemplate": "Country, Other=Lebanon<br>Total Cases=%{marker.size}<br>Total Deaths=%{y}<extra></extra>",
         "legendgroup": "Lebanon",
         "marker": {
          "color": "#00cc96",
          "size": [
           1233151
          ],
          "sizemode": "area",
          "sizeref": 264164.9525,
          "symbol": "circle"
         },
         "mode": "markers",
         "name": "Lebanon",
         "orientation": "v",
         "showlegend": true,
         "type": "scatter",
         "x": [
          1233151
         ],
         "xaxis": "x",
         "y": [
          10846
         ],
         "yaxis": "y"
        },
        {
         "hovertemplate": "Country, Other=Costa Rica<br>Total Cases=%{marker.size}<br>Total Deaths=%{y}<extra></extra>",
         "legendgroup": "Costa Rica",
         "marker": {
          "color": "#ab63fa",
          "size": [
           1209725
          ],
          "sizemode": "area",
          "sizeref": 264164.9525,
          "symbol": "circle"
         },
         "mode": "markers",
         "name": "Costa Rica",
         "orientation": "v",
         "showlegend": true,
         "type": "scatter",
         "x": [
          1209725
         ],
         "xaxis": "x",
         "y": [
          9245
         ],
         "yaxis": "y"
        },
        {
         "hovertemplate": "Country, Other=Bolivia<br>Total Cases=%{marker.size}<br>Total Deaths=%{y}<extra></extra>",
         "legendgroup": "Bolivia",
         "marker": {
          "color": "#FFA15A",
          "size": [
           1194687
          ],
          "sizemode": "area",
          "sizeref": 264164.9525,
          "symbol": "circle"
         },
         "mode": "markers",
         "name": "Bolivia",
         "orientation": "v",
         "showlegend": true,
         "type": "scatter",
         "x": [
          1194687
         ],
         "xaxis": "x",
         "y": [
          22367
         ],
         "yaxis": "y"
        },
        {
         "hovertemplate": "Country, Other=Tunisia<br>Total Cases=%{marker.size}<br>Total Deaths=%{y}<extra></extra>",
         "legendgroup": "Tunisia",
         "marker": {
          "color": "#19d3f3",
          "size": [
           1151333
          ],
          "sizemode": "area",
          "sizeref": 264164.9525,
          "symbol": "circle"
         },
         "mode": "markers",
         "name": "Tunisia",
         "orientation": "v",
         "showlegend": true,
         "type": "scatter",
         "x": [
          1151333
         ],
         "xaxis": "x",
         "y": [
          29345
         ],
         "yaxis": "y"
        },
        {
         "hovertemplate": "Country, Other=Cuba<br>Total Cases=%{marker.size}<br>Total Deaths=%{y}<extra></extra>",
         "legendgroup": "Cuba",
         "marker": {
          "color": "#FF6692",
          "size": [
           1112667
          ],
          "sizemode": "area",
          "sizeref": 264164.9525,
          "symbol": "circle"
         },
         "mode": "markers",
         "name": "Cuba",
         "orientation": "v",
         "showlegend": true,
         "type": "scatter",
         "x": [
          1112667
         ],
         "xaxis": "x",
         "y": [
          8530
         ],
         "yaxis": "y"
        },
        {
         "hovertemplate": "Country, Other=Ecuador<br>Total Cases=%{marker.size}<br>Total Deaths=%{y}<extra></extra>",
         "legendgroup": "Ecuador",
         "marker": {
          "color": "#B6E880",
          "size": [
           1057121
          ],
          "sizemode": "area",
          "sizeref": 264164.9525,
          "symbol": "circle"
         },
         "mode": "markers",
         "name": "Ecuador",
         "orientation": "v",
         "showlegend": true,
         "type": "scatter",
         "x": [
          1057121
         ],
         "xaxis": "x",
         "y": [
          36014
         ],
         "yaxis": "y"
        },
        {
         "hovertemplate": "Country, Other=UAE<br>Total Cases=%{marker.size}<br>Total Deaths=%{y}<extra></extra>",
         "legendgroup": "UAE",
         "marker": {
          "color": "#FF97FF",
          "size": [
           1054008
          ],
          "sizemode": "area",
          "sizeref": 264164.9525,
          "symbol": "circle"
         },
         "mode": "markers",
         "name": "UAE",
         "orientation": "v",
         "showlegend": true,
         "type": "scatter",
         "x": [
          1054008
         ],
         "xaxis": "x",
         "y": [
          2349
         ],
         "yaxis": "y"
        },
        {
         "hovertemplate": "Country, Other=Uruguay<br>Total Cases=%{marker.size}<br>Total Deaths=%{y}<extra></extra>",
         "legendgroup": "Uruguay",
         "marker": {
          "color": "#FECB52",
          "size": [
           1034303
          ],
          "sizemode": "area",
          "sizeref": 264164.9525,
          "symbol": "circle"
         },
         "mode": "markers",
         "name": "Uruguay",
         "orientation": "v",
         "showlegend": true,
         "type": "scatter",
         "x": [
          1034303
         ],
         "xaxis": "x",
         "y": [
          7617
         ],
         "yaxis": "y"
        },
        {
         "hovertemplate": "Country, Other=Panama<br>Total Cases=%{marker.size}<br>Total Deaths=%{y}<extra></extra>",
         "legendgroup": "Panama",
         "marker": {
          "color": "#636efa",
          "size": [
           1032237
          ],
          "sizemode": "area",
          "sizeref": 264164.9525,
          "symbol": "circle"
         },
         "mode": "markers",
         "name": "Panama",
         "orientation": "v",
         "showlegend": true,
         "type": "scatter",
         "x": [
          1032237
         ],
         "xaxis": "x",
         "y": [
          8611
         ],
         "yaxis": "y"
        },
        {
         "hovertemplate": "Country, Other=Mongolia<br>Total Cases=%{marker.size}<br>Total Deaths=%{y}<extra></extra>",
         "legendgroup": "Mongolia",
         "marker": {
          "color": "#EF553B",
          "size": [
           1007900
          ],
          "sizemode": "area",
          "sizeref": 264164.9525,
          "symbol": "circle"
         },
         "mode": "markers",
         "name": "Mongolia",
         "orientation": "v",
         "showlegend": true,
         "type": "scatter",
         "x": [
          1007900
         ],
         "xaxis": "x",
         "y": [
          2179
         ],
         "yaxis": "y"
        },
        {
         "hovertemplate": "Country, Other=Nepal<br>Total Cases=%{marker.size}<br>Total Deaths=%{y}<extra></extra>",
         "legendgroup": "Nepal",
         "marker": {
          "color": "#00cc96",
          "size": [
           1001172
          ],
          "sizemode": "area",
          "sizeref": 264164.9525,
          "symbol": "circle"
         },
         "mode": "markers",
         "name": "Nepal",
         "orientation": "v",
         "showlegend": true,
         "type": "scatter",
         "x": [
          1001172
         ],
         "xaxis": "x",
         "y": [
          12020
         ],
         "yaxis": "y"
        },
        {
         "hovertemplate": "Country, Other=Belarus<br>Total Cases=%{marker.size}<br>Total Deaths=%{y}<extra></extra>",
         "legendgroup": "Belarus",
         "marker": {
          "color": "#ab63fa",
          "size": [
           994037
          ],
          "sizemode": "area",
          "sizeref": 264164.9525,
          "symbol": "circle"
         },
         "mode": "markers",
         "name": "Belarus",
         "orientation": "v",
         "showlegend": true,
         "type": "scatter",
         "x": [
          994037
         ],
         "xaxis": "x",
         "y": [
          7118
         ],
         "yaxis": "y"
        },
        {
         "hovertemplate": "Country, Other=Latvia<br>Total Cases=%{marker.size}<br>Total Deaths=%{y}<extra></extra>",
         "legendgroup": "Latvia",
         "marker": {
          "color": "#FFA15A",
          "size": [
           976402
          ],
          "sizemode": "area",
          "sizeref": 264164.9525,
          "symbol": "circle"
         },
         "mode": "markers",
         "name": "Latvia",
         "orientation": "v",
         "showlegend": true,
         "type": "scatter",
         "x": [
          976402
         ],
         "xaxis": "x",
         "y": [
          6257
         ],
         "yaxis": "y"
        },
        {
         "hovertemplate": "Country, Other=Saudi Arabia<br>Total Cases=%{marker.size}<br>Total Deaths=%{y}<extra></extra>",
         "legendgroup": "Saudi Arabia",
         "marker": {
          "color": "#19d3f3",
          "size": [
           830870
          ],
          "sizemode": "area",
          "sizeref": 264164.9525,
          "symbol": "circle"
         },
         "mode": "markers",
         "name": "Saudi Arabia",
         "orientation": "v",
         "showlegend": true,
         "type": "scatter",
         "x": [
          830870
         ],
         "xaxis": "x",
         "y": [
          9623
         ],
         "yaxis": "y"
        },
        {
         "hovertemplate": "Country, Other=Azerbaijan<br>Total Cases=%{marker.size}<br>Total Deaths=%{y}<extra></extra>",
         "legendgroup": "Azerbaijan",
         "marker": {
          "color": "#FF6692",
          "size": [
           829011
          ],
          "sizemode": "area",
          "sizeref": 264164.9525,
          "symbol": "circle"
         },
         "mode": "markers",
         "name": "Azerbaijan",
         "orientation": "v",
         "showlegend": true,
         "type": "scatter",
         "x": [
          829011
         ],
         "xaxis": "x",
         "y": [
          10147
         ],
         "yaxis": "y"
        },
        {
         "hovertemplate": "Country, Other=Paraguay<br>Total Cases=%{marker.size}<br>Total Deaths=%{y}<extra></extra>",
         "legendgroup": "Paraguay",
         "marker": {
          "color": "#B6E880",
          "size": [
           808507
          ],
          "sizemode": "area",
          "sizeref": 264164.9525,
          "symbol": "circle"
         },
         "mode": "markers",
         "name": "Paraguay",
         "orientation": "v",
         "showlegend": true,
         "type": "scatter",
         "x": [
          808507
         ],
         "xaxis": "x",
         "y": [
          19880
         ],
         "yaxis": "y"
        },
        {
         "hovertemplate": "Country, Other=Bahrain<br>Total Cases=%{marker.size}<br>Total Deaths=%{y}<extra></extra>",
         "legendgroup": "Bahrain",
         "marker": {
          "color": "#FF97FF",
          "size": [
           712094
          ],
          "sizemode": "area",
          "sizeref": 264164.9525,
          "symbol": "circle"
         },
         "mode": "markers",
         "name": "Bahrain",
         "orientation": "v",
         "showlegend": true,
         "type": "scatter",
         "x": [
          712094
         ],
         "xaxis": "x",
         "y": [
          1553
         ],
         "yaxis": "y"
        },
        {
         "hovertemplate": "Country, Other=Sri Lanka<br>Total Cases=%{marker.size}<br>Total Deaths=%{y}<extra></extra>",
         "legendgroup": "Sri Lanka",
         "marker": {
          "color": "#FECB52",
          "size": [
           672047
          ],
          "sizemode": "area",
          "sizeref": 264164.9525,
          "symbol": "circle"
         },
         "mode": "markers",
         "name": "Sri Lanka",
         "orientation": "v",
         "showlegend": true,
         "type": "scatter",
         "x": [
          672047
         ],
         "xaxis": "x",
         "y": [
          16831
         ],
         "yaxis": "y"
        },
        {
         "hovertemplate": "Country, Other=Kuwait<br>Total Cases=%{marker.size}<br>Total Deaths=%{y}<extra></extra>",
         "legendgroup": "Kuwait",
         "marker": {
          "color": "#636efa",
          "size": [
           663860
          ],
          "sizemode": "area",
          "sizeref": 264164.9525,
          "symbol": "circle"
         },
         "mode": "markers",
         "name": "Kuwait",
         "orientation": "v",
         "showlegend": true,
         "type": "scatter",
         "x": [
          663860
         ],
         "xaxis": "x",
         "y": [
          2570
         ],
         "yaxis": "y"
        },
        {
         "hovertemplate": "Country, Other=Dominican Republic<br>Total Cases=%{marker.size}<br>Total Deaths=%{y}<extra></extra>",
         "legendgroup": "Dominican Republic",
         "marker": {
          "color": "#EF553B",
          "size": [
           660790
          ],
          "sizemode": "area",
          "sizeref": 264164.9525,
          "symbol": "circle"
         },
         "mode": "markers",
         "name": "Dominican Republic",
         "orientation": "v",
         "showlegend": true,
         "type": "scatter",
         "x": [
          660790
         ],
         "xaxis": "x",
         "y": [
          4384
         ],
         "yaxis": "y"
        },
        {
         "hovertemplate": "Country, Other=Cyprus<br>Total Cases=%{marker.size}<br>Total Deaths=%{y}<extra></extra>",
         "legendgroup": "Cyprus",
         "marker": {
          "color": "#00cc96",
          "size": [
           652386
          ],
          "sizemode": "area",
          "sizeref": 264164.9525,
          "symbol": "circle"
         },
         "mode": "markers",
         "name": "Cyprus",
         "orientation": "v",
         "showlegend": true,
         "type": "scatter",
         "x": [
          652386
         ],
         "xaxis": "x",
         "y": [
          1335
         ],
         "yaxis": "y"
        },
        {
         "hovertemplate": "Country, Other=Myanmar<br>Total Cases=%{marker.size}<br>Total Deaths=%{y}<extra></extra>",
         "legendgroup": "Myanmar",
         "marker": {
          "color": "#ab63fa",
          "size": [
           633965
          ],
          "sizemode": "area",
          "sizeref": 264164.9525,
          "symbol": "circle"
         },
         "mode": "markers",
         "name": "Myanmar",
         "orientation": "v",
         "showlegend": true,
         "type": "scatter",
         "x": [
          633965
         ],
         "xaxis": "x",
         "y": [
          19490
         ],
         "yaxis": "y"
        },
        {
         "hovertemplate": "Country, Other=Palestine<br>Total Cases=%{marker.size}<br>Total Deaths=%{y}<extra></extra>",
         "legendgroup": "Palestine",
         "marker": {
          "color": "#FFA15A",
          "size": [
           621008
          ],
          "sizemode": "area",
          "sizeref": 264164.9525,
          "symbol": "circle"
         },
         "mode": "markers",
         "name": "Palestine",
         "orientation": "v",
         "showlegend": true,
         "type": "scatter",
         "x": [
          621008
         ],
         "xaxis": "x",
         "y": [
          5404
         ],
         "yaxis": "y"
        },
        {
         "hovertemplate": "Country, Other=Estonia<br>Total Cases=%{marker.size}<br>Total Deaths=%{y}<extra></extra>",
         "legendgroup": "Estonia",
         "marker": {
          "color": "#19d3f3",
          "size": [
           615735
          ],
          "sizemode": "area",
          "sizeref": 264164.9525,
          "symbol": "circle"
         },
         "mode": "markers",
         "name": "Estonia",
         "orientation": "v",
         "showlegend": true,
         "type": "scatter",
         "x": [
          615735
         ],
         "xaxis": "x",
         "y": [
          2949
         ],
         "yaxis": "y"
        },
        {
         "hovertemplate": "Country, Other=Moldova<br>Total Cases=%{marker.size}<br>Total Deaths=%{y}<extra></extra>",
         "legendgroup": "Moldova",
         "marker": {
          "color": "#FF6692",
          "size": [
           613974
          ],
          "sizemode": "area",
          "sizeref": 264164.9525,
          "symbol": "circle"
         },
         "mode": "markers",
         "name": "Moldova",
         "orientation": "v",
         "showlegend": true,
         "type": "scatter",
         "x": [
          613974
         ],
         "xaxis": "x",
         "y": [
          12025
         ],
         "yaxis": "y"
        },
        {
         "hovertemplate": "Country, Other=Venezuela<br>Total Cases=%{marker.size}<br>Total Deaths=%{y}<extra></extra>",
         "legendgroup": "Venezuela",
         "marker": {
          "color": "#B6E880",
          "size": [
           552225
          ],
          "sizemode": "area",
          "sizeref": 264164.9525,
          "symbol": "circle"
         },
         "mode": "markers",
         "name": "Venezuela",
         "orientation": "v",
         "showlegend": true,
         "type": "scatter",
         "x": [
          552225
         ],
         "xaxis": "x",
         "y": [
          5854
         ],
         "yaxis": "y"
        },
        {
         "hovertemplate": "Country, Other=Egypt<br>Total Cases=%{marker.size}<br>Total Deaths=%{y}<extra></extra>",
         "legendgroup": "Egypt",
         "marker": {
          "color": "#FF97FF",
          "size": [
           515759
          ],
          "sizemode": "area",
          "sizeref": 264164.9525,
          "symbol": "circle"
         },
         "mode": "markers",
         "name": "Egypt",
         "orientation": "v",
         "showlegend": true,
         "type": "scatter",
         "x": [
          515759
         ],
         "xaxis": "x",
         "y": [
          24613
         ],
         "yaxis": "y"
        },
        {
         "hovertemplate": "Country, Other=Libya<br>Total Cases=%{marker.size}<br>Total Deaths=%{y}<extra></extra>",
         "legendgroup": "Libya",
         "marker": {
          "color": "#FECB52",
          "size": [
           507201
          ],
          "sizemode": "area",
          "sizeref": 264164.9525,
          "symbol": "circle"
         },
         "mode": "markers",
         "name": "Libya",
         "orientation": "v",
         "showlegend": true,
         "type": "scatter",
         "x": [
          507201
         ],
         "xaxis": "x",
         "y": [
          6437
         ],
         "yaxis": "y"
        },
        {
         "hovertemplate": "Country, Other=China<br>Total Cases=%{marker.size}<br>Total Deaths=%{y}<extra></extra>",
         "legendgroup": "China",
         "marker": {
          "color": "#636efa",
          "size": [
           503302
          ],
          "sizemode": "area",
          "sizeref": 264164.9525,
          "symbol": "circle"
         },
         "mode": "markers",
         "name": "China",
         "orientation": "v",
         "showlegend": true,
         "type": "scatter",
         "x": [
          503302
         ],
         "xaxis": "x",
         "y": [
          5272
         ],
         "yaxis": "y"
        },
        {
         "hovertemplate": "Country, Other=Ethiopia<br>Total Cases=%{marker.size}<br>Total Deaths=%{y}<extra></extra>",
         "legendgroup": "Ethiopia",
         "marker": {
          "color": "#EF553B",
          "size": [
           500188
          ],
          "sizemode": "area",
          "sizeref": 264164.9525,
          "symbol": "circle"
         },
         "mode": "markers",
         "name": "Ethiopia",
         "orientation": "v",
         "showlegend": true,
         "type": "scatter",
         "x": [
          500188
         ],
         "xaxis": "x",
         "y": [
          7572
         ],
         "yaxis": "y"
        },
        {
         "hovertemplate": "Country, Other=Qatar<br>Total Cases=%{marker.size}<br>Total Deaths=%{y}<extra></extra>",
         "legendgroup": "Qatar",
         "marker": {
          "color": "#00cc96",
          "size": [
           495856
          ],
          "sizemode": "area",
          "sizeref": 264164.9525,
          "symbol": "circle"
         },
         "mode": "markers",
         "name": "Qatar",
         "orientation": "v",
         "showlegend": true,
         "type": "scatter",
         "x": [
          495856
         ],
         "xaxis": "x",
         "y": [
          688
         ],
         "yaxis": "y"
        },
        {
         "hovertemplate": "Country, Other=Réunion<br>Total Cases=%{marker.size}<br>Total Deaths=%{y}<extra></extra>",
         "legendgroup": "Réunion",
         "marker": {
          "color": "#ab63fa",
          "size": [
           486588
          ],
          "sizemode": "area",
          "sizeref": 264164.9525,
          "symbol": "circle"
         },
         "mode": "markers",
         "name": "Réunion",
         "orientation": "v",
         "showlegend": true,
         "type": "scatter",
         "x": [
          486588
         ],
         "xaxis": "x",
         "y": [
          921
         ],
         "yaxis": "y"
        },
        {
         "hovertemplate": "Country, Other=Honduras<br>Total Cases=%{marker.size}<br>Total Deaths=%{y}<extra></extra>",
         "legendgroup": "Honduras",
         "marker": {
          "color": "#FFA15A",
          "size": [
           472340
          ],
          "sizemode": "area",
          "sizeref": 264164.9525,
          "symbol": "circle"
         },
         "mode": "markers",
         "name": "Honduras",
         "orientation": "v",
         "showlegend": true,
         "type": "scatter",
         "x": [
          472340
         ],
         "xaxis": "x",
         "y": [
          11111
         ],
         "yaxis": "y"
        },
        {
         "hovertemplate": "Country, Other=Armenia<br>Total Cases=%{marker.size}<br>Total Deaths=%{y}<extra></extra>",
         "legendgroup": "Armenia",
         "marker": {
          "color": "#19d3f3",
          "size": [
           447308
          ],
          "sizemode": "area",
          "sizeref": 264164.9525,
          "symbol": "circle"
         },
         "mode": "markers",
         "name": "Armenia",
         "orientation": "v",
         "showlegend": true,
         "type": "scatter",
         "x": [
          447308
         ],
         "xaxis": "x",
         "y": [
          8727
         ],
         "yaxis": "y"
        },
        {
         "hovertemplate": "Country, Other=Bosnia and Herzegovina<br>Total Cases=%{marker.size}<br>Total Deaths=%{y}<extra></extra>",
         "legendgroup": "Bosnia and Herzegovina",
         "marker": {
          "color": "#FF6692",
          "size": [
           401729
          ],
          "sizemode": "area",
          "sizeref": 264164.9525,
          "symbol": "circle"
         },
         "mode": "markers",
         "name": "Bosnia and Herzegovina",
         "orientation": "v",
         "showlegend": true,
         "type": "scatter",
         "x": [
          401729
         ],
         "xaxis": "x",
         "y": [
          16280
         ],
         "yaxis": "y"
        },
        {
         "hovertemplate": "Country, Other=Oman<br>Total Cases=%{marker.size}<br>Total Deaths=%{y}<extra></extra>",
         "legendgroup": "Oman",
         "marker": {
          "color": "#B6E880",
          "size": [
           399449
          ],
          "sizemode": "area",
          "sizeref": 264164.9525,
          "symbol": "circle"
         },
         "mode": "markers",
         "name": "Oman",
         "orientation": "v",
         "showlegend": true,
         "type": "scatter",
         "x": [
          399449
         ],
         "xaxis": "x",
         "y": [
          4628
         ],
         "yaxis": "y"
        },
        {
         "hovertemplate": "Country, Other=North Macedonia<br>Total Cases=%{marker.size}<br>Total Deaths=%{y}<extra></extra>",
         "legendgroup": "North Macedonia",
         "marker": {
          "color": "#FF97FF",
          "size": [
           346852
          ],
          "sizemode": "area",
          "sizeref": 264164.9525,
          "symbol": "circle"
         },
         "mode": "markers",
         "name": "North Macedonia",
         "orientation": "v",
         "showlegend": true,
         "type": "scatter",
         "x": [
          346852
         ],
         "xaxis": "x",
         "y": [
          9662
         ],
         "yaxis": "y"
        },
        {
         "hovertemplate": "Country, Other=Zambia<br>Total Cases=%{marker.size}<br>Total Deaths=%{y}<extra></extra>",
         "legendgroup": "Zambia",
         "marker": {
          "color": "#FECB52",
          "size": [
           343271
          ],
          "sizemode": "area",
          "sizeref": 264164.9525,
          "symbol": "circle"
         },
         "mode": "markers",
         "name": "Zambia",
         "orientation": "v",
         "showlegend": true,
         "type": "scatter",
         "x": [
          343271
         ],
         "xaxis": "x",
         "y": [
          4057
         ],
         "yaxis": "y"
        },
        {
         "hovertemplate": "Country, Other=Kenya<br>Total Cases=%{marker.size}<br>Total Deaths=%{y}<extra></extra>",
         "legendgroup": "Kenya",
         "marker": {
          "color": "#636efa",
          "size": [
           342938
          ],
          "sizemode": "area",
          "sizeref": 264164.9525,
          "symbol": "circle"
         },
         "mode": "markers",
         "name": "Kenya",
         "orientation": "v",
         "showlegend": true,
         "type": "scatter",
         "x": [
          342938
         ],
         "xaxis": "x",
         "y": [
          5688
         ],
         "yaxis": "y"
        },
        {
         "hovertemplate": "Country, Other=Albania<br>Total Cases=%{marker.size}<br>Total Deaths=%{y}<extra></extra>",
         "legendgroup": "Albania",
         "marker": {
          "color": "#EF553B",
          "size": [
           334523
          ],
          "sizemode": "area",
          "sizeref": 264164.9525,
          "symbol": "circle"
         },
         "mode": "markers",
         "name": "Albania",
         "orientation": "v",
         "showlegend": true,
         "type": "scatter",
         "x": [
          334523
         ],
         "xaxis": "x",
         "y": [
          3598
         ],
         "yaxis": "y"
        },
        {
         "hovertemplate": "Country, Other=Botswana<br>Total Cases=%{marker.size}<br>Total Deaths=%{y}<extra></extra>",
         "legendgroup": "Botswana",
         "marker": {
          "color": "#00cc96",
          "size": [
           329769
          ],
          "sizemode": "area",
          "sizeref": 264164.9525,
          "symbol": "circle"
         },
         "mode": "markers",
         "name": "Botswana",
         "orientation": "v",
         "showlegend": true,
         "type": "scatter",
         "x": [
          329769
         ],
         "xaxis": "x",
         "y": [
          2801
         ],
         "yaxis": "y"
        },
        {
         "hovertemplate": "Country, Other=Luxembourg<br>Total Cases=%{marker.size}<br>Total Deaths=%{y}<extra></extra>",
         "legendgroup": "Luxembourg",
         "marker": {
          "color": "#ab63fa",
          "size": [
           297757
          ],
          "sizemode": "area",
          "sizeref": 264164.9525,
          "symbol": "circle"
         },
         "mode": "markers",
         "name": "Luxembourg",
         "orientation": "v",
         "showlegend": true,
         "type": "scatter",
         "x": [
          297757
         ],
         "xaxis": "x",
         "y": [
          1133
         ],
         "yaxis": "y"
        },
        {
         "hovertemplate": "Country, Other=Montenegro<br>Total Cases=%{marker.size}<br>Total Deaths=%{y}<extra></extra>",
         "legendgroup": "Montenegro",
         "marker": {
          "color": "#FFA15A",
          "size": [
           289069
          ],
          "sizemode": "area",
          "sizeref": 264164.9525,
          "symbol": "circle"
         },
         "mode": "markers",
         "name": "Montenegro",
         "orientation": "v",
         "showlegend": true,
         "type": "scatter",
         "x": [
          289069
         ],
         "xaxis": "x",
         "y": [
          2808
         ],
         "yaxis": "y"
        },
        {
         "hovertemplate": "Country, Other=Brunei <br>Total Cases=%{marker.size}<br>Total Deaths=%{y}<extra></extra>",
         "legendgroup": "Brunei ",
         "marker": {
          "color": "#19d3f3",
          "size": [
           279661
          ],
          "sizemode": "area",
          "sizeref": 264164.9525,
          "symbol": "circle"
         },
         "mode": "markers",
         "name": "Brunei ",
         "orientation": "v",
         "showlegend": true,
         "type": "scatter",
         "x": [
          279661
         ],
         "xaxis": "x",
         "y": [
          225
         ],
         "yaxis": "y"
        },
        {
         "hovertemplate": "Country, Other=Algeria<br>Total Cases=%{marker.size}<br>Total Deaths=%{y}<extra></extra>",
         "legendgroup": "Algeria",
         "marker": {
          "color": "#FF6692",
          "size": [
           271535
          ],
          "sizemode": "area",
          "sizeref": 264164.9525,
          "symbol": "circle"
         },
         "mode": "markers",
         "name": "Algeria",
         "orientation": "v",
         "showlegend": true,
         "type": "scatter",
         "x": [
          271535
         ],
         "xaxis": "x",
         "y": [
          6881
         ],
         "yaxis": "y"
        },
        {
         "hovertemplate": "Country, Other=Nigeria<br>Total Cases=%{marker.size}<br>Total Deaths=%{y}<extra></extra>",
         "legendgroup": "Nigeria",
         "marker": {
          "color": "#B6E880",
          "size": [
           266628
          ],
          "sizemode": "area",
          "sizeref": 264164.9525,
          "symbol": "circle"
         },
         "mode": "markers",
         "name": "Nigeria",
         "orientation": "v",
         "showlegend": true,
         "type": "scatter",
         "x": [
          266628
         ],
         "xaxis": "x",
         "y": [
          3155
         ],
         "yaxis": "y"
        },
        {
         "hovertemplate": "Country, Other=Zimbabwe<br>Total Cases=%{marker.size}<br>Total Deaths=%{y}<extra></extra>",
         "legendgroup": "Zimbabwe",
         "marker": {
          "color": "#FF97FF",
          "size": [
           264276
          ],
          "sizemode": "area",
          "sizeref": 264164.9525,
          "symbol": "circle"
         },
         "mode": "markers",
         "name": "Zimbabwe",
         "orientation": "v",
         "showlegend": true,
         "type": "scatter",
         "x": [
          264276
         ],
         "xaxis": "x",
         "y": [
          5671
         ],
         "yaxis": "y"
        },
        {
         "hovertemplate": "Country, Other=Uzbekistan<br>Total Cases=%{marker.size}<br>Total Deaths=%{y}<extra></extra>",
         "legendgroup": "Uzbekistan",
         "marker": {
          "color": "#FECB52",
          "size": [
           251247
          ],
          "sizemode": "area",
          "sizeref": 264164.9525,
          "symbol": "circle"
         },
         "mode": "markers",
         "name": "Uzbekistan",
         "orientation": "v",
         "showlegend": true,
         "type": "scatter",
         "x": [
          251247
         ],
         "xaxis": "x",
         "y": [
          1637
         ],
         "yaxis": "y"
        },
        {
         "hovertemplate": "Country, Other=Mozambique<br>Total Cases=%{marker.size}<br>Total Deaths=%{y}<extra></extra>",
         "legendgroup": "Mozambique",
         "marker": {
          "color": "#636efa",
          "size": [
           233214
          ],
          "sizemode": "area",
          "sizeref": 264164.9525,
          "symbol": "circle"
         },
         "mode": "markers",
         "name": "Mozambique",
         "orientation": "v",
         "showlegend": true,
         "type": "scatter",
         "x": [
          233214
         ],
         "xaxis": "x",
         "y": [
          2242
         ],
         "yaxis": "y"
        },
        {
         "hovertemplate": "Country, Other=Martinique<br>Total Cases=%{marker.size}<br>Total Deaths=%{y}<extra></extra>",
         "legendgroup": "Martinique",
         "marker": {
          "color": "#EF553B",
          "size": [
           229807
          ],
          "sizemode": "area",
          "sizeref": 264164.9525,
          "symbol": "circle"
         },
         "mode": "markers",
         "name": "Martinique",
         "orientation": "v",
         "showlegend": true,
         "type": "scatter",
         "x": [
          229807
         ],
         "xaxis": "x",
         "y": [
          1098
         ],
         "yaxis": "y"
        },
        {
         "hovertemplate": "Country, Other=Laos<br>Total Cases=%{marker.size}<br>Total Deaths=%{y}<extra></extra>",
         "legendgroup": "Laos",
         "marker": {
          "color": "#00cc96",
          "size": [
           218024
          ],
          "sizemode": "area",
          "sizeref": 264164.9525,
          "symbol": "circle"
         },
         "mode": "markers",
         "name": "Laos",
         "orientation": "v",
         "showlegend": true,
         "type": "scatter",
         "x": [
          218024
         ],
         "xaxis": "x",
         "y": [
          758
         ],
         "yaxis": "y"
        },
        {
         "hovertemplate": "Country, Other=Afghanistan<br>Total Cases=%{marker.size}<br>Total Deaths=%{y}<extra></extra>",
         "legendgroup": "Afghanistan",
         "marker": {
          "color": "#ab63fa",
          "size": [
           209602
          ],
          "sizemode": "area",
          "sizeref": 264164.9525,
          "symbol": "circle"
         },
         "mode": "markers",
         "name": "Afghanistan",
         "orientation": "v",
         "showlegend": true,
         "type": "scatter",
         "x": [
          209602
         ],
         "xaxis": "x",
         "y": [
          7896
         ],
         "yaxis": "y"
        },
        {
         "hovertemplate": "Country, Other=Iceland<br>Total Cases=%{marker.size}<br>Total Deaths=%{y}<extra></extra>",
         "legendgroup": "Iceland",
         "marker": {
          "color": "#FFA15A",
          "size": [
           209168
          ],
          "sizemode": "area",
          "sizeref": 264164.9525,
          "symbol": "circle"
         },
         "mode": "markers",
         "name": "Iceland",
         "orientation": "v",
         "showlegend": true,
         "type": "scatter",
         "x": [
          209168
         ],
         "xaxis": "x",
         "y": [
          229
         ],
         "yaxis": "y"
        },
        {
         "hovertemplate": "Country, Other=Kyrgyzstan<br>Total Cases=%{marker.size}<br>Total Deaths=%{y}<extra></extra>",
         "legendgroup": "Kyrgyzstan",
         "marker": {
          "color": "#19d3f3",
          "size": [
           206708
          ],
          "sizemode": "area",
          "sizeref": 264164.9525,
          "symbol": "circle"
         },
         "mode": "markers",
         "name": "Kyrgyzstan",
         "orientation": "v",
         "showlegend": true,
         "type": "scatter",
         "x": [
          206708
         ],
         "xaxis": "x",
         "y": [
          2991
         ],
         "yaxis": "y"
        },
        {
         "hovertemplate": "Country, Other=Guadeloupe<br>Total Cases=%{marker.size}<br>Total Deaths=%{y}<extra></extra>",
         "legendgroup": "Guadeloupe",
         "marker": {
          "color": "#FF6692",
          "size": [
           201886
          ],
          "sizemode": "area",
          "sizeref": 264164.9525,
          "symbol": "circle"
         },
         "mode": "markers",
         "name": "Guadeloupe",
         "orientation": "v",
         "showlegend": true,
         "type": "scatter",
         "x": [
          201886
         ],
         "xaxis": "x",
         "y": [
          1010
         ],
         "yaxis": "y"
        },
        {
         "hovertemplate": "Country, Other=El Salvador<br>Total Cases=%{marker.size}<br>Total Deaths=%{y}<extra></extra>",
         "legendgroup": "El Salvador",
         "marker": {
          "color": "#B6E880",
          "size": [
           201785
          ],
          "sizemode": "area",
          "sizeref": 264164.9525,
          "symbol": "circle"
         },
         "mode": "markers",
         "name": "El Salvador",
         "orientation": "v",
         "showlegend": true,
         "type": "scatter",
         "x": [
          201785
         ],
         "xaxis": "x",
         "y": [
          4230
         ],
         "yaxis": "y"
        },
        {
         "hovertemplate": "Country, Other=Trinidad and Tobago<br>Total Cases=%{marker.size}<br>Total Deaths=%{y}<extra></extra>",
         "legendgroup": "Trinidad and Tobago",
         "marker": {
          "color": "#FF97FF",
          "size": [
           190285
          ],
          "sizemode": "area",
          "sizeref": 264164.9525,
          "symbol": "circle"
         },
         "mode": "markers",
         "name": "Trinidad and Tobago",
         "orientation": "v",
         "showlegend": true,
         "type": "scatter",
         "x": [
          190285
         ],
         "xaxis": "x",
         "y": [
          4361
         ],
         "yaxis": "y"
        },
        {
         "hovertemplate": "Country, Other=Maldives<br>Total Cases=%{marker.size}<br>Total Deaths=%{y}<extra></extra>",
         "legendgroup": "Maldives",
         "marker": {
          "color": "#FECB52",
          "size": [
           185744
          ],
          "sizemode": "area",
          "sizeref": 264164.9525,
          "symbol": "circle"
         },
         "mode": "markers",
         "name": "Maldives",
         "orientation": "v",
         "showlegend": true,
         "type": "scatter",
         "x": [
          185744
         ],
         "xaxis": "x",
         "y": [
          311
         ],
         "yaxis": "y"
        },
        {
         "hovertemplate": "Country, Other=Ghana<br>Total Cases=%{marker.size}<br>Total Deaths=%{y}<extra></extra>",
         "legendgroup": "Ghana",
         "marker": {
          "color": "#636efa",
          "size": [
           171288
          ],
          "sizemode": "area",
          "sizeref": 264164.9525,
          "symbol": "circle"
         },
         "mode": "markers",
         "name": "Ghana",
         "orientation": "v",
         "showlegend": true,
         "type": "scatter",
         "x": [
          171288
         ],
         "xaxis": "x",
         "y": [
          1462
         ],
         "yaxis": "y"
        },
        {
         "hovertemplate": "Country, Other=Namibia<br>Total Cases=%{marker.size}<br>Total Deaths=%{y}<extra></extra>",
         "legendgroup": "Namibia",
         "marker": {
          "color": "#EF553B",
          "size": [
           171156
          ],
          "sizemode": "area",
          "sizeref": 264164.9525,
          "symbol": "circle"
         },
         "mode": "markers",
         "name": "Namibia",
         "orientation": "v",
         "showlegend": true,
         "type": "scatter",
         "x": [
          171156
         ],
         "xaxis": "x",
         "y": [
          4090
         ],
         "yaxis": "y"
        },
        {
         "hovertemplate": "Country, Other=Uganda<br>Total Cases=%{marker.size}<br>Total Deaths=%{y}<extra></extra>",
         "legendgroup": "Uganda",
         "marker": {
          "color": "#00cc96",
          "size": [
           170558
          ],
          "sizemode": "area",
          "sizeref": 264164.9525,
          "symbol": "circle"
         },
         "mode": "markers",
         "name": "Uganda",
         "orientation": "v",
         "showlegend": true,
         "type": "scatter",
         "x": [
          170558
         ],
         "xaxis": "x",
         "y": [
          3630
         ],
         "yaxis": "y"
        },
        {
         "hovertemplate": "Country, Other=Jamaica<br>Total Cases=%{marker.size}<br>Total Deaths=%{y}<extra></extra>",
         "legendgroup": "Jamaica",
         "marker": {
          "color": "#ab63fa",
          "size": [
           154416
          ],
          "sizemode": "area",
          "sizeref": 264164.9525,
          "symbol": "circle"
         },
         "mode": "markers",
         "name": "Jamaica",
         "orientation": "v",
         "showlegend": true,
         "type": "scatter",
         "x": [
          154416
         ],
         "xaxis": "x",
         "y": [
          3514
         ],
         "yaxis": "y"
        },
        {
         "hovertemplate": "Country, Other=Cambodia<br>Total Cases=%{marker.size}<br>Total Deaths=%{y}<extra></extra>",
         "legendgroup": "Cambodia",
         "marker": {
          "color": "#FFA15A",
          "size": [
           138720
          ],
          "sizemode": "area",
          "sizeref": 264164.9525,
          "symbol": "circle"
         },
         "mode": "markers",
         "name": "Cambodia",
         "orientation": "v",
         "showlegend": true,
         "type": "scatter",
         "x": [
          138720
         ],
         "xaxis": "x",
         "y": [
          3056
         ],
         "yaxis": "y"
        },
        {
         "hovertemplate": "Country, Other=Rwanda<br>Total Cases=%{marker.size}<br>Total Deaths=%{y}<extra></extra>",
         "legendgroup": "Rwanda",
         "marker": {
          "color": "#19d3f3",
          "size": [
           133194
          ],
          "sizemode": "area",
          "sizeref": 264164.9525,
          "symbol": "circle"
         },
         "mode": "markers",
         "name": "Rwanda",
         "orientation": "v",
         "showlegend": true,
         "type": "scatter",
         "x": [
          133194
         ],
         "xaxis": "x",
         "y": [
          1468
         ],
         "yaxis": "y"
        },
        {
         "hovertemplate": "Country, Other=Cameroon<br>Total Cases=%{marker.size}<br>Total Deaths=%{y}<extra></extra>",
         "legendgroup": "Cameroon",
         "marker": {
          "color": "#FF6692",
          "size": [
           124605
          ],
          "sizemode": "area",
          "sizeref": 264164.9525,
          "symbol": "circle"
         },
         "mode": "markers",
         "name": "Cameroon",
         "orientation": "v",
         "showlegend": true,
         "type": "scatter",
         "x": [
          124605
         ],
         "xaxis": "x",
         "y": [
          1966
         ],
         "yaxis": "y"
        },
        {
         "hovertemplate": "Country, Other=Malta<br>Total Cases=%{marker.size}<br>Total Deaths=%{y}<extra></extra>",
         "legendgroup": "Malta",
         "marker": {
          "color": "#B6E880",
          "size": [
           117749
          ],
          "sizemode": "area",
          "sizeref": 264164.9525,
          "symbol": "circle"
         },
         "mode": "markers",
         "name": "Malta",
         "orientation": "v",
         "showlegend": true,
         "type": "scatter",
         "x": [
          117749
         ],
         "xaxis": "x",
         "y": [
          829
         ],
         "yaxis": "y"
        },
        {
         "hovertemplate": "Country, Other=Barbados<br>Total Cases=%{marker.size}<br>Total Deaths=%{y}<extra></extra>",
         "legendgroup": "Barbados",
         "marker": {
          "color": "#FF97FF",
          "size": [
           106798
          ],
          "sizemode": "area",
          "sizeref": 264164.9525,
          "symbol": "circle"
         },
         "mode": "markers",
         "name": "Barbados",
         "orientation": "v",
         "showlegend": true,
         "type": "scatter",
         "x": [
          106798
         ],
         "xaxis": "x",
         "y": [
          579
         ],
         "yaxis": "y"
        },
        {
         "hovertemplate": "Country, Other=Angola<br>Total Cases=%{marker.size}<br>Total Deaths=%{y}<extra></extra>",
         "legendgroup": "Angola",
         "marker": {
          "color": "#FECB52",
          "size": [
           105288
          ],
          "sizemode": "area",
          "sizeref": 264164.9525,
          "symbol": "circle"
         },
         "mode": "markers",
         "name": "Angola",
         "orientation": "v",
         "showlegend": true,
         "type": "scatter",
         "x": [
          105288
         ],
         "xaxis": "x",
         "y": [
          1933
         ],
         "yaxis": "y"
        },
        {
         "hovertemplate": "Country, Other=Channel Islands<br>Total Cases=%{marker.size}<br>Total Deaths=%{y}<extra></extra>",
         "legendgroup": "Channel Islands",
         "marker": {
          "color": "#636efa",
          "size": [
           101530
          ],
          "sizemode": "area",
          "sizeref": 264164.9525,
          "symbol": "circle"
         },
         "mode": "markers",
         "name": "Channel Islands",
         "orientation": "v",
         "showlegend": true,
         "type": "scatter",
         "x": [
          101530
         ],
         "xaxis": "x",
         "y": [
          228
         ],
         "yaxis": "y"
        },
        {
         "hovertemplate": "Country, Other=French Guiana<br>Total Cases=%{marker.size}<br>Total Deaths=%{y}<extra></extra>",
         "legendgroup": "French Guiana",
         "marker": {
          "color": "#EF553B",
          "size": [
           98041
          ],
          "sizemode": "area",
          "sizeref": 264164.9525,
          "symbol": "circle"
         },
         "mode": "markers",
         "name": "French Guiana",
         "orientation": "v",
         "showlegend": true,
         "type": "scatter",
         "x": [
          98041
         ],
         "xaxis": "x",
         "y": [
          420
         ],
         "yaxis": "y"
        },
        {
         "hovertemplate": "Country, Other=DRC<br>Total Cases=%{marker.size}<br>Total Deaths=%{y}<extra></extra>",
         "legendgroup": "DRC",
         "marker": {
          "color": "#00cc96",
          "size": [
           95815
          ],
          "sizemode": "area",
          "sizeref": 264164.9525,
          "symbol": "circle"
         },
         "mode": "markers",
         "name": "DRC",
         "orientation": "v",
         "showlegend": true,
         "type": "scatter",
         "x": [
          95815
         ],
         "xaxis": "x",
         "y": [
          1464
         ],
         "yaxis": "y"
        },
        {
         "hovertemplate": "Country, Other=Senegal<br>Total Cases=%{marker.size}<br>Total Deaths=%{y}<extra></extra>",
         "legendgroup": "Senegal",
         "marker": {
          "color": "#ab63fa",
          "size": [
           88926
          ],
          "sizemode": "area",
          "sizeref": 264164.9525,
          "symbol": "circle"
         },
         "mode": "markers",
         "name": "Senegal",
         "orientation": "v",
         "showlegend": true,
         "type": "scatter",
         "x": [
          88926
         ],
         "xaxis": "x",
         "y": [
          1971
         ],
         "yaxis": "y"
        },
        {
         "hovertemplate": "Country, Other=Malawi<br>Total Cases=%{marker.size}<br>Total Deaths=%{y}<extra></extra>",
         "legendgroup": "Malawi",
         "marker": {
          "color": "#FFA15A",
          "size": [
           88707
          ],
          "sizemode": "area",
          "sizeref": 264164.9525,
          "symbol": "circle"
         },
         "mode": "markers",
         "name": "Malawi",
         "orientation": "v",
         "showlegend": true,
         "type": "scatter",
         "x": [
          88707
         ],
         "xaxis": "x",
         "y": [
          2686
         ],
         "yaxis": "y"
        },
        {
         "hovertemplate": "Country, Other=Ivory Coast<br>Total Cases=%{marker.size}<br>Total Deaths=%{y}<extra></extra>",
         "legendgroup": "Ivory Coast",
         "marker": {
          "color": "#19d3f3",
          "size": [
           88286
          ],
          "sizemode": "area",
          "sizeref": 264164.9525,
          "symbol": "circle"
         },
         "mode": "markers",
         "name": "Ivory Coast",
         "orientation": "v",
         "showlegend": true,
         "type": "scatter",
         "x": [
          88286
         ],
         "xaxis": "x",
         "y": [
          834
         ],
         "yaxis": "y"
        },
        {
         "hovertemplate": "Country, Other=Suriname<br>Total Cases=%{marker.size}<br>Total Deaths=%{y}<extra></extra>",
         "legendgroup": "Suriname",
         "marker": {
          "color": "#FF6692",
          "size": [
           82467
          ],
          "sizemode": "area",
          "sizeref": 264164.9525,
          "symbol": "circle"
         },
         "mode": "markers",
         "name": "Suriname",
         "orientation": "v",
         "showlegend": true,
         "type": "scatter",
         "x": [
          82467
         ],
         "xaxis": "x",
         "y": [
          1404
         ],
         "yaxis": "y"
        },
        {
         "hovertemplate": "Country, Other=New Caledonia<br>Total Cases=%{marker.size}<br>Total Deaths=%{y}<extra></extra>",
         "legendgroup": "New Caledonia",
         "marker": {
          "color": "#B6E880",
          "size": [
           79881
          ],
          "sizemode": "area",
          "sizeref": 264164.9525,
          "symbol": "circle"
         },
         "mode": "markers",
         "name": "New Caledonia",
         "orientation": "v",
         "showlegend": true,
         "type": "scatter",
         "x": [
          79881
         ],
         "xaxis": "x",
         "y": [
          314
         ],
         "yaxis": "y"
        },
        {
         "hovertemplate": "Country, Other=French Polynesia<br>Total Cases=%{marker.size}<br>Total Deaths=%{y}<extra></extra>",
         "legendgroup": "French Polynesia",
         "marker": {
          "color": "#FF97FF",
          "size": [
           78055
          ],
          "sizemode": "area",
          "sizeref": 264164.9525,
          "symbol": "circle"
         },
         "mode": "markers",
         "name": "French Polynesia",
         "orientation": "v",
         "showlegend": true,
         "type": "scatter",
         "x": [
          78055
         ],
         "xaxis": "x",
         "y": [
          649
         ],
         "yaxis": "y"
        },
        {
         "hovertemplate": "Country, Other=Eswatini<br>Total Cases=%{marker.size}<br>Total Deaths=%{y}<extra></extra>",
         "legendgroup": "Eswatini",
         "marker": {
          "color": "#FECB52",
          "size": [
           74323
          ],
          "sizemode": "area",
          "sizeref": 264164.9525,
          "symbol": "circle"
         },
         "mode": "markers",
         "name": "Eswatini",
         "orientation": "v",
         "showlegend": true,
         "type": "scatter",
         "x": [
          74323
         ],
         "xaxis": "x",
         "y": [
          1425
         ],
         "yaxis": "y"
        },
        {
         "hovertemplate": "Country, Other=Guyana<br>Total Cases=%{marker.size}<br>Total Deaths=%{y}<extra></extra>",
         "legendgroup": "Guyana",
         "marker": {
          "color": "#636efa",
          "size": [
           73093
          ],
          "sizemode": "area",
          "sizeref": 264164.9525,
          "symbol": "circle"
         },
         "mode": "markers",
         "name": "Guyana",
         "orientation": "v",
         "showlegend": true,
         "type": "scatter",
         "x": [
          73093
         ],
         "xaxis": "x",
         "y": [
          1298
         ],
         "yaxis": "y"
        },
        {
         "hovertemplate": "Country, Other=Belize<br>Total Cases=%{marker.size}<br>Total Deaths=%{y}<extra></extra>",
         "legendgroup": "Belize",
         "marker": {
          "color": "#EF553B",
          "size": [
           70782
          ],
          "sizemode": "area",
          "sizeref": 264164.9525,
          "symbol": "circle"
         },
         "mode": "markers",
         "name": "Belize",
         "orientation": "v",
         "showlegend": true,
         "type": "scatter",
         "x": [
          70782
         ],
         "xaxis": "x",
         "y": [
          688
         ],
         "yaxis": "y"
        },
        {
         "hovertemplate": "Country, Other=Fiji<br>Total Cases=%{marker.size}<br>Total Deaths=%{y}<extra></extra>",
         "legendgroup": "Fiji",
         "marker": {
          "color": "#00cc96",
          "size": [
           68898
          ],
          "sizemode": "area",
          "sizeref": 264164.9525,
          "symbol": "circle"
         },
         "mode": "markers",
         "name": "Fiji",
         "orientation": "v",
         "showlegend": true,
         "type": "scatter",
         "x": [
          68898
         ],
         "xaxis": "x",
         "y": [
          883
         ],
         "yaxis": "y"
        },
        {
         "hovertemplate": "Country, Other=Madagascar<br>Total Cases=%{marker.size}<br>Total Deaths=%{y}<extra></extra>",
         "legendgroup": "Madagascar",
         "marker": {
          "color": "#ab63fa",
          "size": [
           67941
          ],
          "sizemode": "area",
          "sizeref": 264164.9525,
          "symbol": "circle"
         },
         "mode": "markers",
         "name": "Madagascar",
         "orientation": "v",
         "showlegend": true,
         "type": "scatter",
         "x": [
          67941
         ],
         "xaxis": "x",
         "y": [
          1423
         ],
         "yaxis": "y"
        },
        {
         "hovertemplate": "Country, Other=Sudan<br>Total Cases=%{marker.size}<br>Total Deaths=%{y}<extra></extra>",
         "legendgroup": "Sudan",
         "marker": {
          "color": "#FFA15A",
          "size": [
           63829
          ],
          "sizemode": "area",
          "sizeref": 264164.9525,
          "symbol": "circle"
         },
         "mode": "markers",
         "name": "Sudan",
         "orientation": "v",
         "showlegend": true,
         "type": "scatter",
         "x": [
          63829
         ],
         "xaxis": "x",
         "y": [
          5017
         ],
         "yaxis": "y"
        },
        {
         "hovertemplate": "Country, Other=Mauritania<br>Total Cases=%{marker.size}<br>Total Deaths=%{y}<extra></extra>",
         "legendgroup": "Mauritania",
         "marker": {
          "color": "#19d3f3",
          "size": [
           63668
          ],
          "sizemode": "area",
          "sizeref": 264164.9525,
          "symbol": "circle"
         },
         "mode": "markers",
         "name": "Mauritania",
         "orientation": "v",
         "showlegend": true,
         "type": "scatter",
         "x": [
          63668
         ],
         "xaxis": "x",
         "y": [
          997
         ],
         "yaxis": "y"
        },
        {
         "hovertemplate": "Country, Other=Cabo Verde<br>Total Cases=%{marker.size}<br>Total Deaths=%{y}<extra></extra>",
         "legendgroup": "Cabo Verde",
         "marker": {
          "color": "#FF6692",
          "size": [
           63249
          ],
          "sizemode": "area",
          "sizeref": 264164.9525,
          "symbol": "circle"
         },
         "mode": "markers",
         "name": "Cabo Verde",
         "orientation": "v",
         "showlegend": true,
         "type": "scatter",
         "x": [
          63249
         ],
         "xaxis": "x",
         "y": [
          413
         ],
         "yaxis": "y"
        },
        {
         "hovertemplate": "Country, Other=Bhutan<br>Total Cases=%{marker.size}<br>Total Deaths=%{y}<extra></extra>",
         "legendgroup": "Bhutan",
         "marker": {
          "color": "#B6E880",
          "size": [
           62627
          ],
          "sizemode": "area",
          "sizeref": 264164.9525,
          "symbol": "circle"
         },
         "mode": "markers",
         "name": "Bhutan",
         "orientation": "v",
         "showlegend": true,
         "type": "scatter",
         "x": [
          62627
         ],
         "xaxis": "x",
         "y": [
          21
         ],
         "yaxis": "y"
        },
        {
         "hovertemplate": "Country, Other=Syria<br>Total Cases=%{marker.size}<br>Total Deaths=%{y}<extra></extra>",
         "legendgroup": "Syria",
         "marker": {
          "color": "#FF97FF",
          "size": [
           57478
          ],
          "sizemode": "area",
          "sizeref": 264164.9525,
          "symbol": "circle"
         },
         "mode": "markers",
         "name": "Syria",
         "orientation": "v",
         "showlegend": true,
         "type": "scatter",
         "x": [
          57478
         ],
         "xaxis": "x",
         "y": [
          3164
         ],
         "yaxis": "y"
        },
        {
         "hovertemplate": "Country, Other=Burundi<br>Total Cases=%{marker.size}<br>Total Deaths=%{y}<extra></extra>",
         "legendgroup": "Burundi",
         "marker": {
          "color": "#FECB52",
          "size": [
           53631
          ],
          "sizemode": "area",
          "sizeref": 264164.9525,
          "symbol": "circle"
         },
         "mode": "markers",
         "name": "Burundi",
         "orientation": "v",
         "showlegend": true,
         "type": "scatter",
         "x": [
          53631
         ],
         "xaxis": "x",
         "y": [
          38
         ],
         "yaxis": "y"
        },
        {
         "hovertemplate": "Country, Other=Seychelles<br>Total Cases=%{marker.size}<br>Total Deaths=%{y}<extra></extra>",
         "legendgroup": "Seychelles",
         "marker": {
          "color": "#636efa",
          "size": [
           50937
          ],
          "sizemode": "area",
          "sizeref": 264164.9525,
          "symbol": "circle"
         },
         "mode": "markers",
         "name": "Seychelles",
         "orientation": "v",
         "showlegend": true,
         "type": "scatter",
         "x": [
          50937
         ],
         "xaxis": "x",
         "y": [
          172
         ],
         "yaxis": "y"
        },
        {
         "hovertemplate": "Country, Other=Gabon<br>Total Cases=%{marker.size}<br>Total Deaths=%{y}<extra></extra>",
         "legendgroup": "Gabon",
         "marker": {
          "color": "#EF553B",
          "size": [
           48981
          ],
          "sizemode": "area",
          "sizeref": 264164.9525,
          "symbol": "circle"
         },
         "mode": "markers",
         "name": "Gabon",
         "orientation": "v",
         "showlegend": true,
         "type": "scatter",
         "x": [
          48981
         ],
         "xaxis": "x",
         "y": [
          306
         ],
         "yaxis": "y"
        },
        {
         "hovertemplate": "Country, Other=Andorra<br>Total Cases=%{marker.size}<br>Total Deaths=%{y}<extra></extra>",
         "legendgroup": "Andorra",
         "marker": {
          "color": "#00cc96",
          "size": [
           47890
          ],
          "sizemode": "area",
          "sizeref": 264164.9525,
          "symbol": "circle"
         },
         "mode": "markers",
         "name": "Andorra",
         "orientation": "v",
         "showlegend": true,
         "type": "scatter",
         "x": [
          47890
         ],
         "xaxis": "x",
         "y": [
          165
         ],
         "yaxis": "y"
        },
        {
         "hovertemplate": "Country, Other=Papua New Guinea<br>Total Cases=%{marker.size}<br>Total Deaths=%{y}<extra></extra>",
         "legendgroup": "Papua New Guinea",
         "marker": {
          "color": "#ab63fa",
          "size": [
           46825
          ],
          "sizemode": "area",
          "sizeref": 264164.9525,
          "symbol": "circle"
         },
         "mode": "markers",
         "name": "Papua New Guinea",
         "orientation": "v",
         "showlegend": true,
         "type": "scatter",
         "x": [
          46825
         ],
         "xaxis": "x",
         "y": [
          670
         ],
         "yaxis": "y"
        },
        {
         "hovertemplate": "Country, Other=Curaçao<br>Total Cases=%{marker.size}<br>Total Deaths=%{y}<extra></extra>",
         "legendgroup": "Curaçao",
         "marker": {
          "color": "#FFA15A",
          "size": [
           45986
          ],
          "sizemode": "area",
          "sizeref": 264164.9525,
          "symbol": "circle"
         },
         "mode": "markers",
         "name": "Curaçao",
         "orientation": "v",
         "showlegend": true,
         "type": "scatter",
         "x": [
          45986
         ],
         "xaxis": "x",
         "y": [
          295
         ],
         "yaxis": "y"
        },
        {
         "hovertemplate": "Country, Other=Aruba<br>Total Cases=%{marker.size}<br>Total Deaths=%{y}<extra></extra>",
         "legendgroup": "Aruba",
         "marker": {
          "color": "#19d3f3",
          "size": [
           44044
          ],
          "sizemode": "area",
          "sizeref": 264164.9525,
          "symbol": "circle"
         },
         "mode": "markers",
         "name": "Aruba",
         "orientation": "v",
         "showlegend": true,
         "type": "scatter",
         "x": [
          44044
         ],
         "xaxis": "x",
         "y": [
          236
         ],
         "yaxis": "y"
        },
        {
         "hovertemplate": "Country, Other=Tanzania<br>Total Cases=%{marker.size}<br>Total Deaths=%{y}<extra></extra>",
         "legendgroup": "Tanzania",
         "marker": {
          "color": "#FF6692",
          "size": [
           42906
          ],
          "sizemode": "area",
          "sizeref": 264164.9525,
          "symbol": "circle"
         },
         "mode": "markers",
         "name": "Tanzania",
         "orientation": "v",
         "showlegend": true,
         "type": "scatter",
         "x": [
          42906
         ],
         "xaxis": "x",
         "y": [
          846
         ],
         "yaxis": "y"
        },
        {
         "hovertemplate": "Country, Other=Mayotte<br>Total Cases=%{marker.size}<br>Total Deaths=%{y}<extra></extra>",
         "legendgroup": "Mayotte",
         "marker": {
          "color": "#B6E880",
          "size": [
           42004
          ],
          "sizemode": "area",
          "sizeref": 264164.9525,
          "symbol": "circle"
         },
         "mode": "markers",
         "name": "Mayotte",
         "orientation": "v",
         "showlegend": true,
         "type": "scatter",
         "x": [
          42004
         ],
         "xaxis": "x",
         "y": [
          188
         ],
         "yaxis": "y"
        },
        {
         "hovertemplate": "Country, Other=Mauritius<br>Total Cases=%{marker.size}<br>Total Deaths=%{y}<extra></extra>",
         "legendgroup": "Mauritius",
         "marker": {
          "color": "#FF97FF",
          "size": [
           41769
          ],
          "sizemode": "area",
          "sizeref": 264164.9525,
          "symbol": "circle"
         },
         "mode": "markers",
         "name": "Mauritius",
         "orientation": "v",
         "showlegend": true,
         "type": "scatter",
         "x": [
          41769
         ],
         "xaxis": "x",
         "y": [
          1043
         ],
         "yaxis": "y"
        },
        {
         "hovertemplate": "Country, Other=Togo<br>Total Cases=%{marker.size}<br>Total Deaths=%{y}<extra></extra>",
         "legendgroup": "Togo",
         "marker": {
          "color": "#FECB52",
          "size": [
           39408
          ],
          "sizemode": "area",
          "sizeref": 264164.9525,
          "symbol": "circle"
         },
         "mode": "markers",
         "name": "Togo",
         "orientation": "v",
         "showlegend": true,
         "type": "scatter",
         "x": [
          39408
         ],
         "xaxis": "x",
         "y": [
          290
         ],
         "yaxis": "y"
        },
        {
         "hovertemplate": "Country, Other=Guinea<br>Total Cases=%{marker.size}<br>Total Deaths=%{y}<extra></extra>",
         "legendgroup": "Guinea",
         "marker": {
          "color": "#636efa",
          "size": [
           38267
          ],
          "sizemode": "area",
          "sizeref": 264164.9525,
          "symbol": "circle"
         },
         "mode": "markers",
         "name": "Guinea",
         "orientation": "v",
         "showlegend": true,
         "type": "scatter",
         "x": [
          38267
         ],
         "xaxis": "x",
         "y": [
          467
         ],
         "yaxis": "y"
        },
        {
         "hovertemplate": "Country, Other=Isle of Man<br>Total Cases=%{marker.size}<br>Total Deaths=%{y}<extra></extra>",
         "legendgroup": "Isle of Man",
         "marker": {
          "color": "#EF553B",
          "size": [
           38008
          ],
          "sizemode": "area",
          "sizeref": 264164.9525,
          "symbol": "circle"
         },
         "mode": "markers",
         "name": "Isle of Man",
         "orientation": "v",
         "showlegend": true,
         "type": "scatter",
         "x": [
          38008
         ],
         "xaxis": "x",
         "y": [
          116
         ],
         "yaxis": "y"
        },
        {
         "hovertemplate": "Country, Other=Bahamas<br>Total Cases=%{marker.size}<br>Total Deaths=%{y}<extra></extra>",
         "legendgroup": "Bahamas",
         "marker": {
          "color": "#00cc96",
          "size": [
           37491
          ],
          "sizemode": "area",
          "sizeref": 264164.9525,
          "symbol": "circle"
         },
         "mode": "markers",
         "name": "Bahamas",
         "orientation": "v",
         "showlegend": true,
         "type": "scatter",
         "x": [
          37491
         ],
         "xaxis": "x",
         "y": [
          833
         ],
         "yaxis": "y"
        },
        {
         "hovertemplate": "Country, Other=Lesotho<br>Total Cases=%{marker.size}<br>Total Deaths=%{y}<extra></extra>",
         "legendgroup": "Lesotho",
         "marker": {
          "color": "#ab63fa",
          "size": [
           34790
          ],
          "sizemode": "area",
          "sizeref": 264164.9525,
          "symbol": "circle"
         },
         "mode": "markers",
         "name": "Lesotho",
         "orientation": "v",
         "showlegend": true,
         "type": "scatter",
         "x": [
          34790
         ],
         "xaxis": "x",
         "y": [
          723
         ],
         "yaxis": "y"
        },
        {
         "hovertemplate": "Country, Other=Faeroe Islands<br>Total Cases=%{marker.size}<br>Total Deaths=%{y}<extra></extra>",
         "legendgroup": "Faeroe Islands",
         "marker": {
          "color": "#FFA15A",
          "size": [
           34658
          ],
          "sizemode": "area",
          "sizeref": 264164.9525,
          "symbol": "circle"
         },
         "mode": "markers",
         "name": "Faeroe Islands",
         "orientation": "v",
         "showlegend": true,
         "type": "scatter",
         "x": [
          34658
         ],
         "xaxis": "x",
         "y": [
          28
         ],
         "yaxis": "y"
        },
        {
         "hovertemplate": "Country, Other=Haiti<br>Total Cases=%{marker.size}<br>Total Deaths=%{y}<extra></extra>",
         "legendgroup": "Haiti",
         "marker": {
          "color": "#19d3f3",
          "size": [
           34202
          ],
          "sizemode": "area",
          "sizeref": 264164.9525,
          "symbol": "circle"
         },
         "mode": "markers",
         "name": "Haiti",
         "orientation": "v",
         "showlegend": true,
         "type": "scatter",
         "x": [
          34202
         ],
         "xaxis": "x",
         "y": [
          860
         ],
         "yaxis": "y"
        },
        {
         "hovertemplate": "Country, Other=Mali<br>Total Cases=%{marker.size}<br>Total Deaths=%{y}<extra></extra>",
         "legendgroup": "Mali",
         "marker": {
          "color": "#FF6692",
          "size": [
           33068
          ],
          "sizemode": "area",
          "sizeref": 264164.9525,
          "symbol": "circle"
         },
         "mode": "markers",
         "name": "Mali",
         "orientation": "v",
         "showlegend": true,
         "type": "scatter",
         "x": [
          33068
         ],
         "xaxis": "x",
         "y": [
          743
         ],
         "yaxis": "y"
        },
        {
         "hovertemplate": "Country, Other=Cayman Islands<br>Total Cases=%{marker.size}<br>Total Deaths=%{y}<extra></extra>",
         "legendgroup": "Cayman Islands",
         "marker": {
          "color": "#B6E880",
          "size": [
           31472
          ],
          "sizemode": "area",
          "sizeref": 264164.9525,
          "symbol": "circle"
         },
         "mode": "markers",
         "name": "Cayman Islands",
         "orientation": "v",
         "showlegend": true,
         "type": "scatter",
         "x": [
          31472
         ],
         "xaxis": "x",
         "y": [
          37
         ],
         "yaxis": "y"
        },
        {
         "hovertemplate": "Country, Other=Saint Lucia<br>Total Cases=%{marker.size}<br>Total Deaths=%{y}<extra></extra>",
         "legendgroup": "Saint Lucia",
         "marker": {
          "color": "#FF97FF",
          "size": [
           30004
          ],
          "sizemode": "area",
          "sizeref": 264164.9525,
          "symbol": "circle"
         },
         "mode": "markers",
         "name": "Saint Lucia",
         "orientation": "v",
         "showlegend": true,
         "type": "scatter",
         "x": [
          30004
         ],
         "xaxis": "x",
         "y": [
          409
         ],
         "yaxis": "y"
        },
        {
         "hovertemplate": "Country, Other=Benin<br>Total Cases=%{marker.size}<br>Total Deaths=%{y}<extra></extra>",
         "legendgroup": "Benin",
         "marker": {
          "color": "#FECB52",
          "size": [
           27999
          ],
          "sizemode": "area",
          "sizeref": 264164.9525,
          "symbol": "circle"
         },
         "mode": "markers",
         "name": "Benin",
         "orientation": "v",
         "showlegend": true,
         "type": "scatter",
         "x": [
          27999
         ],
         "xaxis": "x",
         "y": [
          163
         ],
         "yaxis": "y"
        },
        {
         "hovertemplate": "Country, Other=Somalia<br>Total Cases=%{marker.size}<br>Total Deaths=%{y}<extra></extra>",
         "legendgroup": "Somalia",
         "marker": {
          "color": "#636efa",
          "size": [
           27324
          ],
          "sizemode": "area",
          "sizeref": 264164.9525,
          "symbol": "circle"
         },
         "mode": "markers",
         "name": "Somalia",
         "orientation": "v",
         "showlegend": true,
         "type": "scatter",
         "x": [
          27324
         ],
         "xaxis": "x",
         "y": [
          1361
         ],
         "yaxis": "y"
        },
        {
         "hovertemplate": "Country, Other=Congo<br>Total Cases=%{marker.size}<br>Total Deaths=%{y}<extra></extra>",
         "legendgroup": "Congo",
         "marker": {
          "color": "#EF553B",
          "size": [
           25375
          ],
          "sizemode": "area",
          "sizeref": 264164.9525,
          "symbol": "circle"
         },
         "mode": "markers",
         "name": "Congo",
         "orientation": "v",
         "showlegend": true,
         "type": "scatter",
         "x": [
          25375
         ],
         "xaxis": "x",
         "y": [
          386
         ],
         "yaxis": "y"
        },
        {
         "hovertemplate": "Country, Other=Solomon Islands<br>Total Cases=%{marker.size}<br>Total Deaths=%{y}<extra></extra>",
         "legendgroup": "Solomon Islands",
         "marker": {
          "color": "#00cc96",
          "size": [
           24575
          ],
          "sizemode": "area",
          "sizeref": 264164.9525,
          "symbol": "circle"
         },
         "mode": "markers",
         "name": "Solomon Islands",
         "orientation": "v",
         "showlegend": true,
         "type": "scatter",
         "x": [
          24575
         ],
         "xaxis": "x",
         "y": [
          153
         ],
         "yaxis": "y"
        },
        {
         "hovertemplate": "Country, Other=Micronesia<br>Total Cases=%{marker.size}<br>Total Deaths=%{y}<extra></extra>",
         "legendgroup": "Micronesia",
         "marker": {
          "color": "#ab63fa",
          "size": [
           23948
          ],
          "sizemode": "area",
          "sizeref": 264164.9525,
          "symbol": "circle"
         },
         "mode": "markers",
         "name": "Micronesia",
         "orientation": "v",
         "showlegend": true,
         "type": "scatter",
         "x": [
          23948
         ],
         "xaxis": "x",
         "y": [
          61
         ],
         "yaxis": "y"
        },
        {
         "hovertemplate": "Country, Other=San Marino<br>Total Cases=%{marker.size}<br>Total Deaths=%{y}<extra></extra>",
         "legendgroup": "San Marino",
         "marker": {
          "color": "#FFA15A",
          "size": [
           23663
          ],
          "sizemode": "area",
          "sizeref": 264164.9525,
          "symbol": "circle"
         },
         "mode": "markers",
         "name": "San Marino",
         "orientation": "v",
         "showlegend": true,
         "type": "scatter",
         "x": [
          23663
         ],
         "xaxis": "x",
         "y": [
          122
         ],
         "yaxis": "y"
        },
        {
         "hovertemplate": "Country, Other=Timor-Leste<br>Total Cases=%{marker.size}<br>Total Deaths=%{y}<extra></extra>",
         "legendgroup": "Timor-Leste",
         "marker": {
          "color": "#19d3f3",
          "size": [
           23419
          ],
          "sizemode": "area",
          "sizeref": 264164.9525,
          "symbol": "circle"
         },
         "mode": "markers",
         "name": "Timor-Leste",
         "orientation": "v",
         "showlegend": true,
         "type": "scatter",
         "x": [
          23419
         ],
         "xaxis": "x",
         "y": [
          138
         ],
         "yaxis": "y"
        },
        {
         "hovertemplate": "Country, Other=Burkina Faso<br>Total Cases=%{marker.size}<br>Total Deaths=%{y}<extra></extra>",
         "legendgroup": "Burkina Faso",
         "marker": {
          "color": "#FF6692",
          "size": [
           22056
          ],
          "sizemode": "area",
          "sizeref": 264164.9525,
          "symbol": "circle"
         },
         "mode": "markers",
         "name": "Burkina Faso",
         "orientation": "v",
         "showlegend": true,
         "type": "scatter",
         "x": [
          22056
         ],
         "xaxis": "x",
         "y": [
          396
         ],
         "yaxis": "y"
        },
        {
         "hovertemplate": "Country, Other=Liechtenstein<br>Total Cases=%{marker.size}<br>Total Deaths=%{y}<extra></extra>",
         "legendgroup": "Liechtenstein",
         "marker": {
          "color": "#B6E880",
          "size": [
           21434
          ],
          "sizemode": "area",
          "sizeref": 264164.9525,
          "symbol": "circle"
         },
         "mode": "markers",
         "name": "Liechtenstein",
         "orientation": "v",
         "showlegend": true,
         "type": "scatter",
         "x": [
          21434
         ],
         "xaxis": "x",
         "y": [
          89
         ],
         "yaxis": "y"
        },
        {
         "hovertemplate": "Country, Other=Gibraltar<br>Total Cases=%{marker.size}<br>Total Deaths=%{y}<extra></extra>",
         "legendgroup": "Gibraltar",
         "marker": {
          "color": "#FF97FF",
          "size": [
           20462
          ],
          "sizemode": "area",
          "sizeref": 264164.9525,
          "symbol": "circle"
         },
         "mode": "markers",
         "name": "Gibraltar",
         "orientation": "v",
         "showlegend": true,
         "type": "scatter",
         "x": [
          20462
         ],
         "xaxis": "x",
         "y": [
          111
         ],
         "yaxis": "y"
        },
        {
         "hovertemplate": "Country, Other=Grenada<br>Total Cases=%{marker.size}<br>Total Deaths=%{y}<extra></extra>",
         "legendgroup": "Grenada",
         "marker": {
          "color": "#FECB52",
          "size": [
           19680
          ],
          "sizemode": "area",
          "sizeref": 264164.9525,
          "symbol": "circle"
         },
         "mode": "markers",
         "name": "Grenada",
         "orientation": "v",
         "showlegend": true,
         "type": "scatter",
         "x": [
          19680
         ],
         "xaxis": "x",
         "y": [
          238
         ],
         "yaxis": "y"
        },
        {
         "hovertemplate": "Country, Other=Bermuda<br>Total Cases=%{marker.size}<br>Total Deaths=%{y}<extra></extra>",
         "legendgroup": "Bermuda",
         "marker": {
          "color": "#636efa",
          "size": [
           18828
          ],
          "sizemode": "area",
          "sizeref": 264164.9525,
          "symbol": "circle"
         },
         "mode": "markers",
         "name": "Bermuda",
         "orientation": "v",
         "showlegend": true,
         "type": "scatter",
         "x": [
          18828
         ],
         "xaxis": "x",
         "y": [
          160
         ],
         "yaxis": "y"
        },
        {
         "hovertemplate": "Country, Other=Nicaragua<br>Total Cases=%{marker.size}<br>Total Deaths=%{y}<extra></extra>",
         "legendgroup": "Nicaragua",
         "marker": {
          "color": "#EF553B",
          "size": [
           18491
          ],
          "sizemode": "area",
          "sizeref": 264164.9525,
          "symbol": "circle"
         },
         "mode": "markers",
         "name": "Nicaragua",
         "orientation": "v",
         "showlegend": true,
         "type": "scatter",
         "x": [
          18491
         ],
         "xaxis": "x",
         "y": [
          225
         ],
         "yaxis": "y"
        },
        {
         "hovertemplate": "Country, Other=South Sudan<br>Total Cases=%{marker.size}<br>Total Deaths=%{y}<extra></extra>",
         "legendgroup": "South Sudan",
         "marker": {
          "color": "#00cc96",
          "size": [
           18368
          ],
          "sizemode": "area",
          "sizeref": 264164.9525,
          "symbol": "circle"
         },
         "mode": "markers",
         "name": "South Sudan",
         "orientation": "v",
         "showlegend": true,
         "type": "scatter",
         "x": [
          18368
         ],
         "xaxis": "x",
         "y": [
          138
         ],
         "yaxis": "y"
        },
        {
         "hovertemplate": "Country, Other=Tajikistan<br>Total Cases=%{marker.size}<br>Total Deaths=%{y}<extra></extra>",
         "legendgroup": "Tajikistan",
         "marker": {
          "color": "#ab63fa",
          "size": [
           17786
          ],
          "sizemode": "area",
          "sizeref": 264164.9525,
          "symbol": "circle"
         },
         "mode": "markers",
         "name": "Tajikistan",
         "orientation": "v",
         "showlegend": true,
         "type": "scatter",
         "x": [
          17786
         ],
         "xaxis": "x",
         "y": [
          125
         ],
         "yaxis": "y"
        },
        {
         "hovertemplate": "Country, Other=Equatorial Guinea<br>Total Cases=%{marker.size}<br>Total Deaths=%{y}<extra></extra>",
         "legendgroup": "Equatorial Guinea",
         "marker": {
          "color": "#FFA15A",
          "size": [
           17229
          ],
          "sizemode": "area",
          "sizeref": 264164.9525,
          "symbol": "circle"
         },
         "mode": "markers",
         "name": "Equatorial Guinea",
         "orientation": "v",
         "showlegend": true,
         "type": "scatter",
         "x": [
          17229
         ],
         "xaxis": "x",
         "y": [
          183
         ],
         "yaxis": "y"
        },
        {
         "hovertemplate": "Country, Other=Tonga<br>Total Cases=%{marker.size}<br>Total Deaths=%{y}<extra></extra>",
         "legendgroup": "Tonga",
         "marker": {
          "color": "#19d3f3",
          "size": [
           16810
          ],
          "sizemode": "area",
          "sizeref": 264164.9525,
          "symbol": "circle"
         },
         "mode": "markers",
         "name": "Tonga",
         "orientation": "v",
         "showlegend": true,
         "type": "scatter",
         "x": [
          16810
         ],
         "xaxis": "x",
         "y": [
          13
         ],
         "yaxis": "y"
        },
        {
         "hovertemplate": "Country, Other=Samoa<br>Total Cases=%{marker.size}<br>Total Deaths=%{y}<extra></extra>",
         "legendgroup": "Samoa",
         "marker": {
          "color": "#FF6692",
          "size": [
           16607
          ],
          "sizemode": "area",
          "sizeref": 264164.9525,
          "symbol": "circle"
         },
         "mode": "markers",
         "name": "Samoa",
         "orientation": "v",
         "showlegend": true,
         "type": "scatter",
         "x": [
          16607
         ],
         "xaxis": "x",
         "y": [
          29
         ],
         "yaxis": "y"
        },
        {
         "hovertemplate": "Country, Other=Monaco<br>Total Cases=%{marker.size}<br>Total Deaths=%{y}<extra></extra>",
         "legendgroup": "Monaco",
         "marker": {
          "color": "#B6E880",
          "size": [
           16119
          ],
          "sizemode": "area",
          "sizeref": 264164.9525,
          "symbol": "circle"
         },
         "mode": "markers",
         "name": "Monaco",
         "orientation": "v",
         "showlegend": true,
         "type": "scatter",
         "x": [
          16119
         ],
         "xaxis": "x",
         "y": [
          67
         ],
         "yaxis": "y"
        },
        {
         "hovertemplate": "Country, Other=Dominica<br>Total Cases=%{marker.size}<br>Total Deaths=%{y}<extra></extra>",
         "legendgroup": "Dominica",
         "marker": {
          "color": "#FF97FF",
          "size": [
           15760
          ],
          "sizemode": "area",
          "sizeref": 264164.9525,
          "symbol": "circle"
         },
         "mode": "markers",
         "name": "Dominica",
         "orientation": "v",
         "showlegend": true,
         "type": "scatter",
         "x": [
          15760
         ],
         "xaxis": "x",
         "y": [
          74
         ],
         "yaxis": "y"
        },
        {
         "hovertemplate": "Country, Other=Djibouti<br>Total Cases=%{marker.size}<br>Total Deaths=%{y}<extra></extra>",
         "legendgroup": "Djibouti",
         "marker": {
          "color": "#FECB52",
          "size": [
           15690
          ],
          "sizemode": "area",
          "sizeref": 264164.9525,
          "symbol": "circle"
         },
         "mode": "markers",
         "name": "Djibouti",
         "orientation": "v",
         "showlegend": true,
         "type": "scatter",
         "x": [
          15690
         ],
         "xaxis": "x",
         "y": [
          189
         ],
         "yaxis": "y"
        },
        {
         "hovertemplate": "Country, Other=Marshall Islands<br>Total Cases=%{marker.size}<br>Total Deaths=%{y}<extra></extra>",
         "legendgroup": "Marshall Islands",
         "marker": {
          "color": "#636efa",
          "size": [
           15649
          ],
          "sizemode": "area",
          "sizeref": 264164.9525,
          "symbol": "circle"
         },
         "mode": "markers",
         "name": "Marshall Islands",
         "orientation": "v",
         "showlegend": true,
         "type": "scatter",
         "x": [
          15649
         ],
         "xaxis": "x",
         "y": [
          17
         ],
         "yaxis": "y"
        },
        {
         "hovertemplate": "Country, Other=CAR<br>Total Cases=%{marker.size}<br>Total Deaths=%{y}<extra></extra>",
         "legendgroup": "CAR",
         "marker": {
          "color": "#EF553B",
          "size": [
           15368
          ],
          "sizemode": "area",
          "sizeref": 264164.9525,
          "symbol": "circle"
         },
         "mode": "markers",
         "name": "CAR",
         "orientation": "v",
         "showlegend": true,
         "type": "scatter",
         "x": [
          15368
         ],
         "xaxis": "x",
         "y": [
          113
         ],
         "yaxis": "y"
        },
        {
         "hovertemplate": "Country, Other=Gambia<br>Total Cases=%{marker.size}<br>Total Deaths=%{y}<extra></extra>",
         "legendgroup": "Gambia",
         "marker": {
          "color": "#00cc96",
          "size": [
           12598
          ],
          "sizemode": "area",
          "sizeref": 264164.9525,
          "symbol": "circle"
         },
         "mode": "markers",
         "name": "Gambia",
         "orientation": "v",
         "showlegend": true,
         "type": "scatter",
         "x": [
          12598
         ],
         "xaxis": "x",
         "y": [
          372
         ],
         "yaxis": "y"
        },
        {
         "hovertemplate": "Country, Other=Saint Martin<br>Total Cases=%{marker.size}<br>Total Deaths=%{y}<extra></extra>",
         "legendgroup": "Saint Martin",
         "marker": {
          "color": "#ab63fa",
          "size": [
           12271
          ],
          "sizemode": "area",
          "sizeref": 264164.9525,
          "symbol": "circle"
         },
         "mode": "markers",
         "name": "Saint Martin",
         "orientation": "v",
         "showlegend": true,
         "type": "scatter",
         "x": [
          12271
         ],
         "xaxis": "x",
         "y": [
          63
         ],
         "yaxis": "y"
        },
        {
         "hovertemplate": "Country, Other=Vanuatu<br>Total Cases=%{marker.size}<br>Total Deaths=%{y}<extra></extra>",
         "legendgroup": "Vanuatu",
         "marker": {
          "color": "#FFA15A",
          "size": [
           12014
          ],
          "sizemode": "area",
          "sizeref": 264164.9525,
          "symbol": "circle"
         },
         "mode": "markers",
         "name": "Vanuatu",
         "orientation": "v",
         "showlegend": true,
         "type": "scatter",
         "x": [
          12014
         ],
         "xaxis": "x",
         "y": [
          14
         ],
         "yaxis": "y"
        },
        {
         "hovertemplate": "Country, Other=Greenland<br>Total Cases=%{marker.size}<br>Total Deaths=%{y}<extra></extra>",
         "legendgroup": "Greenland",
         "marker": {
          "color": "#19d3f3",
          "size": [
           11971
          ],
          "sizemode": "area",
          "sizeref": 264164.9525,
          "symbol": "circle"
         },
         "mode": "markers",
         "name": "Greenland",
         "orientation": "v",
         "showlegend": true,
         "type": "scatter",
         "x": [
          11971
         ],
         "xaxis": "x",
         "y": [
          21
         ],
         "yaxis": "y"
        },
        {
         "hovertemplate": "Country, Other=Yemen<br>Total Cases=%{marker.size}<br>Total Deaths=%{y}<extra></extra>",
         "legendgroup": "Yemen",
         "marker": {
          "color": "#FF6692",
          "size": [
           11945
          ],
          "sizemode": "area",
          "sizeref": 264164.9525,
          "symbol": "circle"
         },
         "mode": "markers",
         "name": "Yemen",
         "orientation": "v",
         "showlegend": true,
         "type": "scatter",
         "x": [
          11945
         ],
         "xaxis": "x",
         "y": [
          2159
         ],
         "yaxis": "y"
        },
        {
         "hovertemplate": "Country, Other=Caribbean Netherlands<br>Total Cases=%{marker.size}<br>Total Deaths=%{y}<extra></extra>",
         "legendgroup": "Caribbean Netherlands",
         "marker": {
          "color": "#B6E880",
          "size": [
           11679
          ],
          "sizemode": "area",
          "sizeref": 264164.9525,
          "symbol": "circle"
         },
         "mode": "markers",
         "name": "Caribbean Netherlands",
         "orientation": "v",
         "showlegend": true,
         "type": "scatter",
         "x": [
          11679
         ],
         "xaxis": "x",
         "y": [
          38
         ],
         "yaxis": "y"
        },
        {
         "hovertemplate": "Country, Other=Sint Maarten<br>Total Cases=%{marker.size}<br>Total Deaths=%{y}<extra></extra>",
         "legendgroup": "Sint Maarten",
         "marker": {
          "color": "#FF97FF",
          "size": [
           11020
          ],
          "sizemode": "area",
          "sizeref": 264164.9525,
          "symbol": "circle"
         },
         "mode": "markers",
         "name": "Sint Maarten",
         "orientation": "v",
         "showlegend": true,
         "type": "scatter",
         "x": [
          11020
         ],
         "xaxis": "x",
         "y": [
          91
         ],
         "yaxis": "y"
        },
        {
         "hovertemplate": "Country, Other=Eritrea<br>Total Cases=%{marker.size}<br>Total Deaths=%{y}<extra></extra>",
         "legendgroup": "Eritrea",
         "marker": {
          "color": "#FECB52",
          "size": [
           10189
          ],
          "sizemode": "area",
          "sizeref": 264164.9525,
          "symbol": "circle"
         },
         "mode": "markers",
         "name": "Eritrea",
         "orientation": "v",
         "showlegend": true,
         "type": "scatter",
         "x": [
          10189
         ],
         "xaxis": "x",
         "y": [
          103
         ],
         "yaxis": "y"
        },
        {
         "hovertemplate": "Country, Other=Niger<br>Total Cases=%{marker.size}<br>Total Deaths=%{y}<extra></extra>",
         "legendgroup": "Niger",
         "marker": {
          "color": "#636efa",
          "size": [
           9931
          ],
          "sizemode": "area",
          "sizeref": 264164.9525,
          "symbol": "circle"
         },
         "mode": "markers",
         "name": "Niger",
         "orientation": "v",
         "showlegend": true,
         "type": "scatter",
         "x": [
          9931
         ],
         "xaxis": "x",
         "y": [
          312
         ],
         "yaxis": "y"
        },
        {
         "hovertemplate": "Country, Other=St. Vincent Grenadines<br>Total Cases=%{marker.size}<br>Total Deaths=%{y}<extra></extra>",
         "legendgroup": "St. Vincent Grenadines",
         "marker": {
          "color": "#EF553B",
          "size": [
           9589
          ],
          "sizemode": "area",
          "sizeref": 264164.9525,
          "symbol": "circle"
         },
         "mode": "markers",
         "name": "St. Vincent Grenadines",
         "orientation": "v",
         "showlegend": true,
         "type": "scatter",
         "x": [
          9589
         ],
         "xaxis": "x",
         "y": [
          123
         ],
         "yaxis": "y"
        },
        {
         "hovertemplate": "Country, Other=Antigua and Barbuda<br>Total Cases=%{marker.size}<br>Total Deaths=%{y}<extra></extra>",
         "legendgroup": "Antigua and Barbuda",
         "marker": {
          "color": "#00cc96",
          "size": [
           9106
          ],
          "sizemode": "area",
          "sizeref": 264164.9525,
          "symbol": "circle"
         },
         "mode": "markers",
         "name": "Antigua and Barbuda",
         "orientation": "v",
         "showlegend": true,
         "type": "scatter",
         "x": [
          9106
         ],
         "xaxis": "x",
         "y": [
          146
         ],
         "yaxis": "y"
        },
        {
         "hovertemplate": "Country, Other=Comoros<br>Total Cases=%{marker.size}<br>Total Deaths=%{y}<extra></extra>",
         "legendgroup": "Comoros",
         "marker": {
          "color": "#ab63fa",
          "size": [
           9008
          ],
          "sizemode": "area",
          "sizeref": 264164.9525,
          "symbol": "circle"
         },
         "mode": "markers",
         "name": "Comoros",
         "orientation": "v",
         "showlegend": true,
         "type": "scatter",
         "x": [
          9008
         ],
         "xaxis": "x",
         "y": [
          161
         ],
         "yaxis": "y"
        },
        {
         "hovertemplate": "Country, Other=Guinea-Bissau<br>Total Cases=%{marker.size}<br>Total Deaths=%{y}<extra></extra>",
         "legendgroup": "Guinea-Bissau",
         "marker": {
          "color": "#FFA15A",
          "size": [
           8960
          ],
          "sizemode": "area",
          "sizeref": 264164.9525,
          "symbol": "circle"
         },
         "mode": "markers",
         "name": "Guinea-Bissau",
         "orientation": "v",
         "showlegend": true,
         "type": "scatter",
         "x": [
          8960
         ],
         "xaxis": "x",
         "y": [
          176
         ],
         "yaxis": "y"
        },
        {
         "hovertemplate": "Country, Other=Liberia<br>Total Cases=%{marker.size}<br>Total Deaths=%{y}<extra></extra>",
         "legendgroup": "Liberia",
         "marker": {
          "color": "#19d3f3",
          "size": [
           8090
          ],
          "sizemode": "area",
          "sizeref": 264164.9525,
          "symbol": "circle"
         },
         "mode": "markers",
         "name": "Liberia",
         "orientation": "v",
         "showlegend": true,
         "type": "scatter",
         "x": [
          8090
         ],
         "xaxis": "x",
         "y": [
          295
         ],
         "yaxis": "y"
        },
        {
         "hovertemplate": "Country, Other=Sierra Leone<br>Total Cases=%{marker.size}<br>Total Deaths=%{y}<extra></extra>",
         "legendgroup": "Sierra Leone",
         "marker": {
          "color": "#FF6692",
          "size": [
           7760
          ],
          "sizemode": "area",
          "sizeref": 264164.9525,
          "symbol": "circle"
         },
         "mode": "markers",
         "name": "Sierra Leone",
         "orientation": "v",
         "showlegend": true,
         "type": "scatter",
         "x": [
          7760
         ],
         "xaxis": "x",
         "y": [
          126
         ],
         "yaxis": "y"
        },
        {
         "hovertemplate": "Country, Other=Chad<br>Total Cases=%{marker.size}<br>Total Deaths=%{y}<extra></extra>",
         "legendgroup": "Chad",
         "marker": {
          "color": "#B6E880",
          "size": [
           7682
          ],
          "sizemode": "area",
          "sizeref": 264164.9525,
          "symbol": "circle"
         },
         "mode": "markers",
         "name": "Chad",
         "orientation": "v",
         "showlegend": true,
         "type": "scatter",
         "x": [
          7682
         ],
         "xaxis": "x",
         "y": [
          194
         ],
         "yaxis": "y"
        },
        {
         "hovertemplate": "Country, Other=British Virgin Islands<br>Total Cases=%{marker.size}<br>Total Deaths=%{y}<extra></extra>",
         "legendgroup": "British Virgin Islands",
         "marker": {
          "color": "#FF97FF",
          "size": [
           7305
          ],
          "sizemode": "area",
          "sizeref": 264164.9525,
          "symbol": "circle"
         },
         "mode": "markers",
         "name": "British Virgin Islands",
         "orientation": "v",
         "showlegend": true,
         "type": "scatter",
         "x": [
          7305
         ],
         "xaxis": "x",
         "y": [
          64
         ],
         "yaxis": "y"
        },
        {
         "hovertemplate": "Country, Other=Cook Islands<br>Total Cases=%{marker.size}<br>Total Deaths=%{y}<extra></extra>",
         "legendgroup": "Cook Islands",
         "marker": {
          "color": "#FECB52",
          "size": [
           7033
          ],
          "sizemode": "area",
          "sizeref": 264164.9525,
          "symbol": "circle"
         },
         "mode": "markers",
         "name": "Cook Islands",
         "orientation": "v",
         "showlegend": true,
         "type": "scatter",
         "x": [
          7033
         ],
         "xaxis": "x",
         "y": [
          2
         ],
         "yaxis": "y"
        },
        {
         "hovertemplate": "Country, Other=Saint Kitts and Nevis<br>Total Cases=%{marker.size}<br>Total Deaths=%{y}<extra></extra>",
         "legendgroup": "Saint Kitts and Nevis",
         "marker": {
          "color": "#636efa",
          "size": [
           6597
          ],
          "sizemode": "area",
          "sizeref": 264164.9525,
          "symbol": "circle"
         },
         "mode": "markers",
         "name": "Saint Kitts and Nevis",
         "orientation": "v",
         "showlegend": true,
         "type": "scatter",
         "x": [
          6597
         ],
         "xaxis": "x",
         "y": [
          47
         ],
         "yaxis": "y"
        },
        {
         "hovertemplate": "Country, Other=Turks and Caicos<br>Total Cases=%{marker.size}<br>Total Deaths=%{y}<extra></extra>",
         "legendgroup": "Turks and Caicos",
         "marker": {
          "color": "#EF553B",
          "size": [
           6561
          ],
          "sizemode": "area",
          "sizeref": 264164.9525,
          "symbol": "circle"
         },
         "mode": "markers",
         "name": "Turks and Caicos",
         "orientation": "v",
         "showlegend": true,
         "type": "scatter",
         "x": [
          6561
         ],
         "xaxis": "x",
         "y": [
          38
         ],
         "yaxis": "y"
        },
        {
         "hovertemplate": "Country, Other=Sao Tome and Principe<br>Total Cases=%{marker.size}<br>Total Deaths=%{y}<extra></extra>",
         "legendgroup": "Sao Tome and Principe",
         "marker": {
          "color": "#00cc96",
          "size": [
           6281
          ],
          "sizemode": "area",
          "sizeref": 264164.9525,
          "symbol": "circle"
         },
         "mode": "markers",
         "name": "Sao Tome and Principe",
         "orientation": "v",
         "showlegend": true,
         "type": "scatter",
         "x": [
          6281
         ],
         "xaxis": "x",
         "y": [
          77
         ],
         "yaxis": "y"
        },
        {
         "hovertemplate": "Country, Other=Palau<br>Total Cases=%{marker.size}<br>Total Deaths=%{y}<extra></extra>",
         "legendgroup": "Palau",
         "marker": {
          "color": "#ab63fa",
          "size": [
           5994
          ],
          "sizemode": "area",
          "sizeref": 264164.9525,
          "symbol": "circle"
         },
         "mode": "markers",
         "name": "Palau",
         "orientation": "v",
         "showlegend": true,
         "type": "scatter",
         "x": [
          5994
         ],
         "xaxis": "x",
         "y": [
          9
         ],
         "yaxis": "y"
        },
        {
         "hovertemplate": "Country, Other=St. Barth<br>Total Cases=%{marker.size}<br>Total Deaths=%{y}<extra></extra>",
         "legendgroup": "St. Barth",
         "marker": {
          "color": "#FFA15A",
          "size": [
           5441
          ],
          "sizemode": "area",
          "sizeref": 264164.9525,
          "symbol": "circle"
         },
         "mode": "markers",
         "name": "St. Barth",
         "orientation": "v",
         "showlegend": true,
         "type": "scatter",
         "x": [
          5441
         ],
         "xaxis": "x",
         "y": [
          6
         ],
         "yaxis": "y"
        },
        {
         "hovertemplate": "Country, Other=Nauru<br>Total Cases=%{marker.size}<br>Total Deaths=%{y}<extra></extra>",
         "legendgroup": "Nauru",
         "marker": {
          "color": "#19d3f3",
          "size": [
           5393
          ],
          "sizemode": "area",
          "sizeref": 264164.9525,
          "symbol": "circle"
         },
         "mode": "markers",
         "name": "Nauru",
         "orientation": "v",
         "showlegend": true,
         "type": "scatter",
         "x": [
          5393
         ],
         "xaxis": "x",
         "y": [
          1
         ],
         "yaxis": "y"
        },
        {
         "hovertemplate": "Country, Other=Kiribati<br>Total Cases=%{marker.size}<br>Total Deaths=%{y}<extra></extra>",
         "legendgroup": "Kiribati",
         "marker": {
          "color": "#FF6692",
          "size": [
           5014
          ],
          "sizemode": "area",
          "sizeref": 264164.9525,
          "symbol": "circle"
         },
         "mode": "markers",
         "name": "Kiribati",
         "orientation": "v",
         "showlegend": true,
         "type": "scatter",
         "x": [
          5014
         ],
         "xaxis": "x",
         "y": [
          18
         ],
         "yaxis": "y"
        },
        {
         "hovertemplate": "Country, Other=Anguilla<br>Total Cases=%{marker.size}<br>Total Deaths=%{y}<extra></extra>",
         "legendgroup": "Anguilla",
         "marker": {
          "color": "#B6E880",
          "size": [
           3904
          ],
          "sizemode": "area",
          "sizeref": 264164.9525,
          "symbol": "circle"
         },
         "mode": "markers",
         "name": "Anguilla",
         "orientation": "v",
         "showlegend": true,
         "type": "scatter",
         "x": [
          3904
         ],
         "xaxis": "x",
         "y": [
          12
         ],
         "yaxis": "y"
        },
        {
         "hovertemplate": "Country, Other=Macao<br>Total Cases=%{marker.size}<br>Total Deaths=%{y}<extra></extra>",
         "legendgroup": "Macao",
         "marker": {
          "color": "#FF97FF",
          "size": [
           3514
          ],
          "sizemode": "area",
          "sizeref": 264164.9525,
          "symbol": "circle"
         },
         "mode": "markers",
         "name": "Macao",
         "orientation": "v",
         "showlegend": true,
         "type": "scatter",
         "x": [
          3514
         ],
         "xaxis": "x",
         "y": [
          121
         ],
         "yaxis": "y"
        },
        {
         "hovertemplate": "Country, Other=Saint Pierre Miquelon<br>Total Cases=%{marker.size}<br>Total Deaths=%{y}<extra></extra>",
         "legendgroup": "Saint Pierre Miquelon",
         "marker": {
          "color": "#FECB52",
          "size": [
           3452
          ],
          "sizemode": "area",
          "sizeref": 264164.9525,
          "symbol": "circle"
         },
         "mode": "markers",
         "name": "Saint Pierre Miquelon",
         "orientation": "v",
         "showlegend": true,
         "type": "scatter",
         "x": [
          3452
         ],
         "xaxis": "x",
         "y": [
          2
         ],
         "yaxis": "y"
        },
        {
         "hovertemplate": "Country, Other=Wallis and Futuna<br>Total Cases=%{marker.size}<br>Total Deaths=%{y}<extra></extra>",
         "legendgroup": "Wallis and Futuna",
         "marker": {
          "color": "#636efa",
          "size": [
           3427
          ],
          "sizemode": "area",
          "sizeref": 264164.9525,
          "symbol": "circle"
         },
         "mode": "markers",
         "name": "Wallis and Futuna",
         "orientation": "v",
         "showlegend": true,
         "type": "scatter",
         "x": [
          3427
         ],
         "xaxis": "x",
         "y": [
          7
         ],
         "yaxis": "y"
        },
        {
         "hovertemplate": "Country, Other=Tuvalu<br>Total Cases=%{marker.size}<br>Total Deaths=%{y}<extra></extra>",
         "legendgroup": "Tuvalu",
         "marker": {
          "color": "#EF553B",
          "size": [
           2805
          ],
          "sizemode": "area",
          "sizeref": 264164.9525,
          "symbol": "circle"
         },
         "mode": "markers",
         "name": "Tuvalu",
         "orientation": "v",
         "showlegend": true,
         "type": "scatter",
         "x": [
          2805
         ],
         "xaxis": "x",
         "y": [
          null
         ],
         "yaxis": "y"
        },
        {
         "hovertemplate": "Country, Other=Saint Helena<br>Total Cases=%{marker.size}<br>Total Deaths=%{y}<extra></extra>",
         "legendgroup": "Saint Helena",
         "marker": {
          "color": "#00cc96",
          "size": [
           2166
          ],
          "sizemode": "area",
          "sizeref": 264164.9525,
          "symbol": "circle"
         },
         "mode": "markers",
         "name": "Saint Helena",
         "orientation": "v",
         "showlegend": true,
         "type": "scatter",
         "x": [
          2166
         ],
         "xaxis": "x",
         "y": [
          null
         ],
         "yaxis": "y"
        },
        {
         "hovertemplate": "Country, Other=Falkland Islands<br>Total Cases=%{marker.size}<br>Total Deaths=%{y}<extra></extra>",
         "legendgroup": "Falkland Islands",
         "marker": {
          "color": "#ab63fa",
          "size": [
           1930
          ],
          "sizemode": "area",
          "sizeref": 264164.9525,
          "symbol": "circle"
         },
         "mode": "markers",
         "name": "Falkland Islands",
         "orientation": "v",
         "showlegend": true,
         "type": "scatter",
         "x": [
          1930
         ],
         "xaxis": "x",
         "y": [
          null
         ],
         "yaxis": "y"
        },
        {
         "hovertemplate": "Country, Other=Montserrat<br>Total Cases=%{marker.size}<br>Total Deaths=%{y}<extra></extra>",
         "legendgroup": "Montserrat",
         "marker": {
          "color": "#FFA15A",
          "size": [
           1403
          ],
          "sizemode": "area",
          "sizeref": 264164.9525,
          "symbol": "circle"
         },
         "mode": "markers",
         "name": "Montserrat",
         "orientation": "v",
         "showlegend": true,
         "type": "scatter",
         "x": [
          1403
         ],
         "xaxis": "x",
         "y": [
          8
         ],
         "yaxis": "y"
        },
        {
         "hovertemplate": "Country, Other=Niue<br>Total Cases=%{marker.size}<br>Total Deaths=%{y}<extra></extra>",
         "legendgroup": "Niue",
         "marker": {
          "color": "#19d3f3",
          "size": [
           793
          ],
          "sizemode": "area",
          "sizeref": 264164.9525,
          "symbol": "circle"
         },
         "mode": "markers",
         "name": "Niue",
         "orientation": "v",
         "showlegend": true,
         "type": "scatter",
         "x": [
          793
         ],
         "xaxis": "x",
         "y": [
          null
         ],
         "yaxis": "y"
        },
        {
         "hovertemplate": "Country, Other=Diamond Princess<br>Total Cases=%{marker.size}<br>Total Deaths=%{y}<extra></extra>",
         "legendgroup": "Diamond Princess",
         "marker": {
          "color": "#FF6692",
          "size": [
           712
          ],
          "sizemode": "area",
          "sizeref": 264164.9525,
          "symbol": "circle"
         },
         "mode": "markers",
         "name": "Diamond Princess",
         "orientation": "v",
         "showlegend": true,
         "type": "scatter",
         "x": [
          712
         ],
         "xaxis": "x",
         "y": [
          13
         ],
         "yaxis": "y"
        },
        {
         "hovertemplate": "Country, Other=Vatican City<br>Total Cases=%{marker.size}<br>Total Deaths=%{y}<extra></extra>",
         "legendgroup": "Vatican City",
         "marker": {
          "color": "#B6E880",
          "size": [
           29
          ],
          "sizemode": "area",
          "sizeref": 264164.9525,
          "symbol": "circle"
         },
         "mode": "markers",
         "name": "Vatican City",
         "orientation": "v",
         "showlegend": true,
         "type": "scatter",
         "x": [
          29
         ],
         "xaxis": "x",
         "y": [
          null
         ],
         "yaxis": "y"
        },
        {
         "hovertemplate": "Country, Other=Western Sahara<br>Total Cases=%{marker.size}<br>Total Deaths=%{y}<extra></extra>",
         "legendgroup": "Western Sahara",
         "marker": {
          "color": "#FF97FF",
          "size": [
           10
          ],
          "sizemode": "area",
          "sizeref": 264164.9525,
          "symbol": "circle"
         },
         "mode": "markers",
         "name": "Western Sahara",
         "orientation": "v",
         "showlegend": true,
         "type": "scatter",
         "x": [
          10
         ],
         "xaxis": "x",
         "y": [
          1
         ],
         "yaxis": "y"
        },
        {
         "hovertemplate": "Country, Other=MS Zaandam<br>Total Cases=%{marker.size}<br>Total Deaths=%{y}<extra></extra>",
         "legendgroup": "MS Zaandam",
         "marker": {
          "color": "#FECB52",
          "size": [
           9
          ],
          "sizemode": "area",
          "sizeref": 264164.9525,
          "symbol": "circle"
         },
         "mode": "markers",
         "name": "MS Zaandam",
         "orientation": "v",
         "showlegend": true,
         "type": "scatter",
         "x": [
          9
         ],
         "xaxis": "x",
         "y": [
          2
         ],
         "yaxis": "y"
        },
        {
         "hovertemplate": "Country, Other=Tokelau<br>Total Cases=%{marker.size}<br>Total Deaths=%{y}<extra></extra>",
         "legendgroup": "Tokelau",
         "marker": {
          "color": "#636efa",
          "size": [
           5
          ],
          "sizemode": "area",
          "sizeref": 264164.9525,
          "symbol": "circle"
         },
         "mode": "markers",
         "name": "Tokelau",
         "orientation": "v",
         "showlegend": true,
         "type": "scatter",
         "x": [
          5
         ],
         "xaxis": "x",
         "y": [
          null
         ],
         "yaxis": "y"
        }
       ],
       "layout": {
        "legend": {
         "itemsizing": "constant",
         "title": {
          "text": "Country, Other"
         },
         "tracegroupgap": 0
        },
        "template": {
         "data": {
          "bar": [
           {
            "error_x": {
             "color": "#2a3f5f"
            },
            "error_y": {
             "color": "#2a3f5f"
            },
            "marker": {
             "line": {
              "color": "#E5ECF6",
              "width": 0.5
             },
             "pattern": {
              "fillmode": "overlay",
              "size": 10,
              "solidity": 0.2
             }
            },
            "type": "bar"
           }
          ],
          "barpolar": [
           {
            "marker": {
             "line": {
              "color": "#E5ECF6",
              "width": 0.5
             },
             "pattern": {
              "fillmode": "overlay",
              "size": 10,
              "solidity": 0.2
             }
            },
            "type": "barpolar"
           }
          ],
          "carpet": [
           {
            "aaxis": {
             "endlinecolor": "#2a3f5f",
             "gridcolor": "white",
             "linecolor": "white",
             "minorgridcolor": "white",
             "startlinecolor": "#2a3f5f"
            },
            "baxis": {
             "endlinecolor": "#2a3f5f",
             "gridcolor": "white",
             "linecolor": "white",
             "minorgridcolor": "white",
             "startlinecolor": "#2a3f5f"
            },
            "type": "carpet"
           }
          ],
          "choropleth": [
           {
            "colorbar": {
             "outlinewidth": 0,
             "ticks": ""
            },
            "type": "choropleth"
           }
          ],
          "contour": [
           {
            "colorbar": {
             "outlinewidth": 0,
             "ticks": ""
            },
            "colorscale": [
             [
              0,
              "#0d0887"
             ],
             [
              0.1111111111111111,
              "#46039f"
             ],
             [
              0.2222222222222222,
              "#7201a8"
             ],
             [
              0.3333333333333333,
              "#9c179e"
             ],
             [
              0.4444444444444444,
              "#bd3786"
             ],
             [
              0.5555555555555556,
              "#d8576b"
             ],
             [
              0.6666666666666666,
              "#ed7953"
             ],
             [
              0.7777777777777778,
              "#fb9f3a"
             ],
             [
              0.8888888888888888,
              "#fdca26"
             ],
             [
              1,
              "#f0f921"
             ]
            ],
            "type": "contour"
           }
          ],
          "contourcarpet": [
           {
            "colorbar": {
             "outlinewidth": 0,
             "ticks": ""
            },
            "type": "contourcarpet"
           }
          ],
          "heatmap": [
           {
            "colorbar": {
             "outlinewidth": 0,
             "ticks": ""
            },
            "colorscale": [
             [
              0,
              "#0d0887"
             ],
             [
              0.1111111111111111,
              "#46039f"
             ],
             [
              0.2222222222222222,
              "#7201a8"
             ],
             [
              0.3333333333333333,
              "#9c179e"
             ],
             [
              0.4444444444444444,
              "#bd3786"
             ],
             [
              0.5555555555555556,
              "#d8576b"
             ],
             [
              0.6666666666666666,
              "#ed7953"
             ],
             [
              0.7777777777777778,
              "#fb9f3a"
             ],
             [
              0.8888888888888888,
              "#fdca26"
             ],
             [
              1,
              "#f0f921"
             ]
            ],
            "type": "heatmap"
           }
          ],
          "heatmapgl": [
           {
            "colorbar": {
             "outlinewidth": 0,
             "ticks": ""
            },
            "colorscale": [
             [
              0,
              "#0d0887"
             ],
             [
              0.1111111111111111,
              "#46039f"
             ],
             [
              0.2222222222222222,
              "#7201a8"
             ],
             [
              0.3333333333333333,
              "#9c179e"
             ],
             [
              0.4444444444444444,
              "#bd3786"
             ],
             [
              0.5555555555555556,
              "#d8576b"
             ],
             [
              0.6666666666666666,
              "#ed7953"
             ],
             [
              0.7777777777777778,
              "#fb9f3a"
             ],
             [
              0.8888888888888888,
              "#fdca26"
             ],
             [
              1,
              "#f0f921"
             ]
            ],
            "type": "heatmapgl"
           }
          ],
          "histogram": [
           {
            "marker": {
             "pattern": {
              "fillmode": "overlay",
              "size": 10,
              "solidity": 0.2
             }
            },
            "type": "histogram"
           }
          ],
          "histogram2d": [
           {
            "colorbar": {
             "outlinewidth": 0,
             "ticks": ""
            },
            "colorscale": [
             [
              0,
              "#0d0887"
             ],
             [
              0.1111111111111111,
              "#46039f"
             ],
             [
              0.2222222222222222,
              "#7201a8"
             ],
             [
              0.3333333333333333,
              "#9c179e"
             ],
             [
              0.4444444444444444,
              "#bd3786"
             ],
             [
              0.5555555555555556,
              "#d8576b"
             ],
             [
              0.6666666666666666,
              "#ed7953"
             ],
             [
              0.7777777777777778,
              "#fb9f3a"
             ],
             [
              0.8888888888888888,
              "#fdca26"
             ],
             [
              1,
              "#f0f921"
             ]
            ],
            "type": "histogram2d"
           }
          ],
          "histogram2dcontour": [
           {
            "colorbar": {
             "outlinewidth": 0,
             "ticks": ""
            },
            "colorscale": [
             [
              0,
              "#0d0887"
             ],
             [
              0.1111111111111111,
              "#46039f"
             ],
             [
              0.2222222222222222,
              "#7201a8"
             ],
             [
              0.3333333333333333,
              "#9c179e"
             ],
             [
              0.4444444444444444,
              "#bd3786"
             ],
             [
              0.5555555555555556,
              "#d8576b"
             ],
             [
              0.6666666666666666,
              "#ed7953"
             ],
             [
              0.7777777777777778,
              "#fb9f3a"
             ],
             [
              0.8888888888888888,
              "#fdca26"
             ],
             [
              1,
              "#f0f921"
             ]
            ],
            "type": "histogram2dcontour"
           }
          ],
          "mesh3d": [
           {
            "colorbar": {
             "outlinewidth": 0,
             "ticks": ""
            },
            "type": "mesh3d"
           }
          ],
          "parcoords": [
           {
            "line": {
             "colorbar": {
              "outlinewidth": 0,
              "ticks": ""
             }
            },
            "type": "parcoords"
           }
          ],
          "pie": [
           {
            "automargin": true,
            "type": "pie"
           }
          ],
          "scatter": [
           {
            "fillpattern": {
             "fillmode": "overlay",
             "size": 10,
             "solidity": 0.2
            },
            "type": "scatter"
           }
          ],
          "scatter3d": [
           {
            "line": {
             "colorbar": {
              "outlinewidth": 0,
              "ticks": ""
             }
            },
            "marker": {
             "colorbar": {
              "outlinewidth": 0,
              "ticks": ""
             }
            },
            "type": "scatter3d"
           }
          ],
          "scattercarpet": [
           {
            "marker": {
             "colorbar": {
              "outlinewidth": 0,
              "ticks": ""
             }
            },
            "type": "scattercarpet"
           }
          ],
          "scattergeo": [
           {
            "marker": {
             "colorbar": {
              "outlinewidth": 0,
              "ticks": ""
             }
            },
            "type": "scattergeo"
           }
          ],
          "scattergl": [
           {
            "marker": {
             "colorbar": {
              "outlinewidth": 0,
              "ticks": ""
             }
            },
            "type": "scattergl"
           }
          ],
          "scattermapbox": [
           {
            "marker": {
             "colorbar": {
              "outlinewidth": 0,
              "ticks": ""
             }
            },
            "type": "scattermapbox"
           }
          ],
          "scatterpolar": [
           {
            "marker": {
             "colorbar": {
              "outlinewidth": 0,
              "ticks": ""
             }
            },
            "type": "scatterpolar"
           }
          ],
          "scatterpolargl": [
           {
            "marker": {
             "colorbar": {
              "outlinewidth": 0,
              "ticks": ""
             }
            },
            "type": "scatterpolargl"
           }
          ],
          "scatterternary": [
           {
            "marker": {
             "colorbar": {
              "outlinewidth": 0,
              "ticks": ""
             }
            },
            "type": "scatterternary"
           }
          ],
          "surface": [
           {
            "colorbar": {
             "outlinewidth": 0,
             "ticks": ""
            },
            "colorscale": [
             [
              0,
              "#0d0887"
             ],
             [
              0.1111111111111111,
              "#46039f"
             ],
             [
              0.2222222222222222,
              "#7201a8"
             ],
             [
              0.3333333333333333,
              "#9c179e"
             ],
             [
              0.4444444444444444,
              "#bd3786"
             ],
             [
              0.5555555555555556,
              "#d8576b"
             ],
             [
              0.6666666666666666,
              "#ed7953"
             ],
             [
              0.7777777777777778,
              "#fb9f3a"
             ],
             [
              0.8888888888888888,
              "#fdca26"
             ],
             [
              1,
              "#f0f921"
             ]
            ],
            "type": "surface"
           }
          ],
          "table": [
           {
            "cells": {
             "fill": {
              "color": "#EBF0F8"
             },
             "line": {
              "color": "white"
             }
            },
            "header": {
             "fill": {
              "color": "#C8D4E3"
             },
             "line": {
              "color": "white"
             }
            },
            "type": "table"
           }
          ]
         },
         "layout": {
          "annotationdefaults": {
           "arrowcolor": "#2a3f5f",
           "arrowhead": 0,
           "arrowwidth": 1
          },
          "autotypenumbers": "strict",
          "coloraxis": {
           "colorbar": {
            "outlinewidth": 0,
            "ticks": ""
           }
          },
          "colorscale": {
           "diverging": [
            [
             0,
             "#8e0152"
            ],
            [
             0.1,
             "#c51b7d"
            ],
            [
             0.2,
             "#de77ae"
            ],
            [
             0.3,
             "#f1b6da"
            ],
            [
             0.4,
             "#fde0ef"
            ],
            [
             0.5,
             "#f7f7f7"
            ],
            [
             0.6,
             "#e6f5d0"
            ],
            [
             0.7,
             "#b8e186"
            ],
            [
             0.8,
             "#7fbc41"
            ],
            [
             0.9,
             "#4d9221"
            ],
            [
             1,
             "#276419"
            ]
           ],
           "sequential": [
            [
             0,
             "#0d0887"
            ],
            [
             0.1111111111111111,
             "#46039f"
            ],
            [
             0.2222222222222222,
             "#7201a8"
            ],
            [
             0.3333333333333333,
             "#9c179e"
            ],
            [
             0.4444444444444444,
             "#bd3786"
            ],
            [
             0.5555555555555556,
             "#d8576b"
            ],
            [
             0.6666666666666666,
             "#ed7953"
            ],
            [
             0.7777777777777778,
             "#fb9f3a"
            ],
            [
             0.8888888888888888,
             "#fdca26"
            ],
            [
             1,
             "#f0f921"
            ]
           ],
           "sequentialminus": [
            [
             0,
             "#0d0887"
            ],
            [
             0.1111111111111111,
             "#46039f"
            ],
            [
             0.2222222222222222,
             "#7201a8"
            ],
            [
             0.3333333333333333,
             "#9c179e"
            ],
            [
             0.4444444444444444,
             "#bd3786"
            ],
            [
             0.5555555555555556,
             "#d8576b"
            ],
            [
             0.6666666666666666,
             "#ed7953"
            ],
            [
             0.7777777777777778,
             "#fb9f3a"
            ],
            [
             0.8888888888888888,
             "#fdca26"
            ],
            [
             1,
             "#f0f921"
            ]
           ]
          },
          "colorway": [
           "#636efa",
           "#EF553B",
           "#00cc96",
           "#ab63fa",
           "#FFA15A",
           "#19d3f3",
           "#FF6692",
           "#B6E880",
           "#FF97FF",
           "#FECB52"
          ],
          "font": {
           "color": "#2a3f5f"
          },
          "geo": {
           "bgcolor": "white",
           "lakecolor": "white",
           "landcolor": "#E5ECF6",
           "showlakes": true,
           "showland": true,
           "subunitcolor": "white"
          },
          "hoverlabel": {
           "align": "left"
          },
          "hovermode": "closest",
          "mapbox": {
           "style": "light"
          },
          "paper_bgcolor": "white",
          "plot_bgcolor": "#E5ECF6",
          "polar": {
           "angularaxis": {
            "gridcolor": "white",
            "linecolor": "white",
            "ticks": ""
           },
           "bgcolor": "#E5ECF6",
           "radialaxis": {
            "gridcolor": "white",
            "linecolor": "white",
            "ticks": ""
           }
          },
          "scene": {
           "xaxis": {
            "backgroundcolor": "#E5ECF6",
            "gridcolor": "white",
            "gridwidth": 2,
            "linecolor": "white",
            "showbackground": true,
            "ticks": "",
            "zerolinecolor": "white"
           },
           "yaxis": {
            "backgroundcolor": "#E5ECF6",
            "gridcolor": "white",
            "gridwidth": 2,
            "linecolor": "white",
            "showbackground": true,
            "ticks": "",
            "zerolinecolor": "white"
           },
           "zaxis": {
            "backgroundcolor": "#E5ECF6",
            "gridcolor": "white",
            "gridwidth": 2,
            "linecolor": "white",
            "showbackground": true,
            "ticks": "",
            "zerolinecolor": "white"
           }
          },
          "shapedefaults": {
           "line": {
            "color": "#2a3f5f"
           }
          },
          "ternary": {
           "aaxis": {
            "gridcolor": "white",
            "linecolor": "white",
            "ticks": ""
           },
           "baxis": {
            "gridcolor": "white",
            "linecolor": "white",
            "ticks": ""
           },
           "bgcolor": "#E5ECF6",
           "caxis": {
            "gridcolor": "white",
            "linecolor": "white",
            "ticks": ""
           }
          },
          "title": {
           "x": 0.05
          },
          "xaxis": {
           "automargin": true,
           "gridcolor": "white",
           "linecolor": "white",
           "ticks": "",
           "title": {
            "standoff": 15
           },
           "zerolinecolor": "white",
           "zerolinewidth": 2
          },
          "yaxis": {
           "automargin": true,
           "gridcolor": "white",
           "linecolor": "white",
           "ticks": "",
           "title": {
            "standoff": 15
           },
           "zerolinecolor": "white",
           "zerolinewidth": 2
          }
         }
        },
        "title": {
         "text": " Distribution total case, total deaths"
        },
        "xaxis": {
         "anchor": "y",
         "domain": [
          0,
          1
         ],
         "title": {
          "text": "Total Cases"
         }
        },
        "yaxis": {
         "anchor": "x",
         "domain": [
          0,
          1
         ],
         "title": {
          "text": "Total Deaths"
         }
        }
       }
      }
     },
     "metadata": {},
     "output_type": "display_data"
    }
   ],
   "source": [
    "fig=px.scatter(df,x='Total Cases',y='Total Deaths', size='Total Cases',color='Country, Other', title=' Distribution total case, total deaths')\n",
    "fig.show()"
   ]
  },
  {
   "attachments": {},
   "cell_type": "markdown",
   "metadata": {},
   "source": [
    "`Comment`:\n",
    "-   The country with the most total cases and total Deaths is the US and far ahead of the rest of the countries on the chart\n",
    "-   USA is the first country with total deaths over 1 million people\n"
   ]
  },
  {
   "cell_type": "code",
   "execution_count": 61,
   "metadata": {},
   "outputs": [
    {
     "data": {
      "application/vnd.plotly.v1+json": {
       "config": {
        "plotlyServerURL": "https://plot.ly"
       },
       "data": [
        {
         "hovertemplate": "Country, Other=USA<br>Total Cases=%{marker.size}<br>Total Recovered=%{y}<extra></extra>",
         "legendgroup": "USA",
         "marker": {
          "color": "#636efa",
          "size": [
           105665981
          ],
          "sizemode": "area",
          "sizeref": 264164.9525,
          "symbol": "circle"
         },
         "mode": "markers",
         "name": "USA",
         "orientation": "v",
         "showlegend": true,
         "type": "scatter",
         "x": [
          105665981
         ],
         "xaxis": "x",
         "y": [
          103319965
         ],
         "yaxis": "y"
        },
        {
         "hovertemplate": "Country, Other=India<br>Total Cases=%{marker.size}<br>Total Recovered=%{y}<extra></extra>",
         "legendgroup": "India",
         "marker": {
          "color": "#EF553B",
          "size": [
           44691956
          ],
          "sizemode": "area",
          "sizeref": 264164.9525,
          "symbol": "circle"
         },
         "mode": "markers",
         "name": "India",
         "orientation": "v",
         "showlegend": true,
         "type": "scatter",
         "x": [
          44691956
         ],
         "xaxis": "x",
         "y": [
          44156970
         ],
         "yaxis": "y"
        },
        {
         "hovertemplate": "Country, Other=France<br>Total Cases=%{marker.size}<br>Total Recovered=%{y}<extra></extra>",
         "legendgroup": "France",
         "marker": {
          "color": "#00cc96",
          "size": [
           39667102
          ],
          "sizemode": "area",
          "sizeref": 264164.9525,
          "symbol": "circle"
         },
         "mode": "markers",
         "name": "France",
         "orientation": "v",
         "showlegend": true,
         "type": "scatter",
         "x": [
          39667102
         ],
         "xaxis": "x",
         "y": [
          39435308
         ],
         "yaxis": "y"
        },
        {
         "hovertemplate": "Country, Other=Germany<br>Total Cases=%{marker.size}<br>Total Recovered=%{y}<extra></extra>",
         "legendgroup": "Germany",
         "marker": {
          "color": "#ab63fa",
          "size": [
           38276190
          ],
          "sizemode": "area",
          "sizeref": 264164.9525,
          "symbol": "circle"
         },
         "mode": "markers",
         "name": "Germany",
         "orientation": "v",
         "showlegend": true,
         "type": "scatter",
         "x": [
          38276190
         ],
         "xaxis": "x",
         "y": [
          37906300
         ],
         "yaxis": "y"
        },
        {
         "hovertemplate": "Country, Other=Brazil<br>Total Cases=%{marker.size}<br>Total Recovered=%{y}<extra></extra>",
         "legendgroup": "Brazil",
         "marker": {
          "color": "#FFA15A",
          "size": [
           37085520
          ],
          "sizemode": "area",
          "sizeref": 264164.9525,
          "symbol": "circle"
         },
         "mode": "markers",
         "name": "Brazil",
         "orientation": "v",
         "showlegend": true,
         "type": "scatter",
         "x": [
          37085520
         ],
         "xaxis": "x",
         "y": [
          36249161
         ],
         "yaxis": "y"
        },
        {
         "hovertemplate": "Country, Other=Japan<br>Total Cases=%{marker.size}<br>Total Recovered=%{y}<extra></extra>",
         "legendgroup": "Japan",
         "marker": {
          "color": "#19d3f3",
          "size": [
           33346529
          ],
          "sizemode": "area",
          "sizeref": 264164.9525,
          "symbol": "circle"
         },
         "mode": "markers",
         "name": "Japan",
         "orientation": "v",
         "showlegend": true,
         "type": "scatter",
         "x": [
          33346529
         ],
         "xaxis": "x",
         "y": [
          21704743
         ],
         "yaxis": "y"
        },
        {
         "hovertemplate": "Country, Other=S. Korea<br>Total Cases=%{marker.size}<br>Total Recovered=%{y}<extra></extra>",
         "legendgroup": "S. Korea",
         "marker": {
          "color": "#FF6692",
          "size": [
           30662229
          ],
          "sizemode": "area",
          "sizeref": 264164.9525,
          "symbol": "circle"
         },
         "mode": "markers",
         "name": "S. Korea",
         "orientation": "v",
         "showlegend": true,
         "type": "scatter",
         "x": [
          30662229
         ],
         "xaxis": "x",
         "y": [
          30455545
         ],
         "yaxis": "y"
        },
        {
         "hovertemplate": "Country, Other=Italy<br>Total Cases=%{marker.size}<br>Total Recovered=%{y}<extra></extra>",
         "legendgroup": "Italy",
         "marker": {
          "color": "#B6E880",
          "size": [
           25627473
          ],
          "sizemode": "area",
          "sizeref": 264164.9525,
          "symbol": "circle"
         },
         "mode": "markers",
         "name": "Italy",
         "orientation": "v",
         "showlegend": true,
         "type": "scatter",
         "x": [
          25627473
         ],
         "xaxis": "x",
         "y": [
          25294864
         ],
         "yaxis": "y"
        },
        {
         "hovertemplate": "Country, Other=UK<br>Total Cases=%{marker.size}<br>Total Recovered=%{y}<extra></extra>",
         "legendgroup": "UK",
         "marker": {
          "color": "#FF97FF",
          "size": [
           24396534
          ],
          "sizemode": "area",
          "sizeref": 264164.9525,
          "symbol": "circle"
         },
         "mode": "markers",
         "name": "UK",
         "orientation": "v",
         "showlegend": true,
         "type": "scatter",
         "x": [
          24396534
         ],
         "xaxis": "x",
         "y": [
          24138845
         ],
         "yaxis": "y"
        },
        {
         "hovertemplate": "Country, Other=Russia<br>Total Cases=%{marker.size}<br>Total Recovered=%{y}<extra></extra>",
         "legendgroup": "Russia",
         "marker": {
          "color": "#FECB52",
          "size": [
           22454933
          ],
          "sizemode": "area",
          "sizeref": 264164.9525,
          "symbol": "circle"
         },
         "mode": "markers",
         "name": "Russia",
         "orientation": "v",
         "showlegend": true,
         "type": "scatter",
         "x": [
          22454933
         ],
         "xaxis": "x",
         "y": [
          21806101
         ],
         "yaxis": "y"
        },
        {
         "hovertemplate": "Country, Other=Turkey<br>Total Cases=%{marker.size}<br>Total Recovered=%{y}<extra></extra>",
         "legendgroup": "Turkey",
         "marker": {
          "color": "#636efa",
          "size": [
           17042722
          ],
          "sizemode": "area",
          "sizeref": 264164.9525,
          "symbol": "circle"
         },
         "mode": "markers",
         "name": "Turkey",
         "orientation": "v",
         "showlegend": true,
         "type": "scatter",
         "x": [
          17042722
         ],
         "xaxis": "x",
         "y": [
          null
         ],
         "yaxis": "y"
        },
        {
         "hovertemplate": "Country, Other=Spain<br>Total Cases=%{marker.size}<br>Total Recovered=%{y}<extra></extra>",
         "legendgroup": "Spain",
         "marker": {
          "color": "#EF553B",
          "size": [
           13778467
          ],
          "sizemode": "area",
          "sizeref": 264164.9525,
          "symbol": "circle"
         },
         "mode": "markers",
         "name": "Spain",
         "orientation": "v",
         "showlegend": true,
         "type": "scatter",
         "x": [
          13778467
         ],
         "xaxis": "x",
         "y": [
          13624507
         ],
         "yaxis": "y"
        },
        {
         "hovertemplate": "Country, Other=Vietnam<br>Total Cases=%{marker.size}<br>Total Recovered=%{y}<extra></extra>",
         "legendgroup": "Vietnam",
         "marker": {
          "color": "#00cc96",
          "size": [
           11527079
          ],
          "sizemode": "area",
          "sizeref": 264164.9525,
          "symbol": "circle"
         },
         "mode": "markers",
         "name": "Vietnam",
         "orientation": "v",
         "showlegend": true,
         "type": "scatter",
         "x": [
          11527079
         ],
         "xaxis": "x",
         "y": [
          10614829
         ],
         "yaxis": "y"
        },
        {
         "hovertemplate": "Country, Other=Australia<br>Total Cases=%{marker.size}<br>Total Recovered=%{y}<extra></extra>",
         "legendgroup": "Australia",
         "marker": {
          "color": "#ab63fa",
          "size": [
           11385534
          ],
          "sizemode": "area",
          "sizeref": 264164.9525,
          "symbol": "circle"
         },
         "mode": "markers",
         "name": "Australia",
         "orientation": "v",
         "showlegend": true,
         "type": "scatter",
         "x": [
          11385534
         ],
         "xaxis": "x",
         "y": [
          11332576
         ],
         "yaxis": "y"
        },
        {
         "hovertemplate": "Country, Other=Taiwan<br>Total Cases=%{marker.size}<br>Total Recovered=%{y}<extra></extra>",
         "legendgroup": "Taiwan",
         "marker": {
          "color": "#FFA15A",
          "size": [
           10197421
          ],
          "sizemode": "area",
          "sizeref": 264164.9525,
          "symbol": "circle"
         },
         "mode": "markers",
         "name": "Taiwan",
         "orientation": "v",
         "showlegend": true,
         "type": "scatter",
         "x": [
          10197421
         ],
         "xaxis": "x",
         "y": [
          9966743
         ],
         "yaxis": "y"
        },
        {
         "hovertemplate": "Country, Other=Argentina<br>Total Cases=%{marker.size}<br>Total Recovered=%{y}<extra></extra>",
         "legendgroup": "Argentina",
         "marker": {
          "color": "#19d3f3",
          "size": [
           10044957
          ],
          "sizemode": "area",
          "sizeref": 264164.9525,
          "symbol": "circle"
         },
         "mode": "markers",
         "name": "Argentina",
         "orientation": "v",
         "showlegend": true,
         "type": "scatter",
         "x": [
          10044957
         ],
         "xaxis": "x",
         "y": [
          9912836
         ],
         "yaxis": "y"
        },
        {
         "hovertemplate": "Country, Other=Netherlands<br>Total Cases=%{marker.size}<br>Total Recovered=%{y}<extra></extra>",
         "legendgroup": "Netherlands",
         "marker": {
          "color": "#FF6692",
          "size": [
           8604733
          ],
          "sizemode": "area",
          "sizeref": 264164.9525,
          "symbol": "circle"
         },
         "mode": "markers",
         "name": "Netherlands",
         "orientation": "v",
         "showlegend": true,
         "type": "scatter",
         "x": [
          8604733
         ],
         "xaxis": "x",
         "y": [
          8563853
         ],
         "yaxis": "y"
        },
        {
         "hovertemplate": "Country, Other=Iran<br>Total Cases=%{marker.size}<br>Total Recovered=%{y}<extra></extra>",
         "legendgroup": "Iran",
         "marker": {
          "color": "#B6E880",
          "size": [
           7573328
          ],
          "sizemode": "area",
          "sizeref": 264164.9525,
          "symbol": "circle"
         },
         "mode": "markers",
         "name": "Iran",
         "orientation": "v",
         "showlegend": true,
         "type": "scatter",
         "x": [
          7573328
         ],
         "xaxis": "x",
         "y": [
          7340279
         ],
         "yaxis": "y"
        },
        {
         "hovertemplate": "Country, Other=Mexico<br>Total Cases=%{marker.size}<br>Total Recovered=%{y}<extra></extra>",
         "legendgroup": "Mexico",
         "marker": {
          "color": "#FF97FF",
          "size": [
           7492112
          ],
          "sizemode": "area",
          "sizeref": 264164.9525,
          "symbol": "circle"
         },
         "mode": "markers",
         "name": "Mexico",
         "orientation": "v",
         "showlegend": true,
         "type": "scatter",
         "x": [
          7492112
         ],
         "xaxis": "x",
         "y": [
          6729945
         ],
         "yaxis": "y"
        },
        {
         "hovertemplate": "Country, Other=Indonesia<br>Total Cases=%{marker.size}<br>Total Recovered=%{y}<extra></extra>",
         "legendgroup": "Indonesia",
         "marker": {
          "color": "#FECB52",
          "size": [
           6740031
          ],
          "sizemode": "area",
          "sizeref": 264164.9525,
          "symbol": "circle"
         },
         "mode": "markers",
         "name": "Indonesia",
         "orientation": "v",
         "showlegend": true,
         "type": "scatter",
         "x": [
          6740031
         ],
         "xaxis": "x",
         "y": [
          6575541
         ],
         "yaxis": "y"
        },
        {
         "hovertemplate": "Country, Other=Poland<br>Total Cases=%{marker.size}<br>Total Recovered=%{y}<extra></extra>",
         "legendgroup": "Poland",
         "marker": {
          "color": "#636efa",
          "size": [
           6462369
          ],
          "sizemode": "area",
          "sizeref": 264164.9525,
          "symbol": "circle"
         },
         "mode": "markers",
         "name": "Poland",
         "orientation": "v",
         "showlegend": true,
         "type": "scatter",
         "x": [
          6462369
         ],
         "xaxis": "x",
         "y": [
          5335940
         ],
         "yaxis": "y"
        },
        {
         "hovertemplate": "Country, Other=Colombia<br>Total Cases=%{marker.size}<br>Total Recovered=%{y}<extra></extra>",
         "legendgroup": "Colombia",
         "marker": {
          "color": "#EF553B",
          "size": [
           6360780
          ],
          "sizemode": "area",
          "sizeref": 264164.9525,
          "symbol": "circle"
         },
         "mode": "markers",
         "name": "Colombia",
         "orientation": "v",
         "showlegend": true,
         "type": "scatter",
         "x": [
          6360780
         ],
         "xaxis": "x",
         "y": [
          6184346
         ],
         "yaxis": "y"
        },
        {
         "hovertemplate": "Country, Other=Austria<br>Total Cases=%{marker.size}<br>Total Recovered=%{y}<extra></extra>",
         "legendgroup": "Austria",
         "marker": {
          "color": "#00cc96",
          "size": [
           5981084
          ],
          "sizemode": "area",
          "sizeref": 264164.9525,
          "symbol": "circle"
         },
         "mode": "markers",
         "name": "Austria",
         "orientation": "v",
         "showlegend": true,
         "type": "scatter",
         "x": [
          5981084
         ],
         "xaxis": "x",
         "y": [
          5912126
         ],
         "yaxis": "y"
        },
        {
         "hovertemplate": "Country, Other=Greece<br>Total Cases=%{marker.size}<br>Total Recovered=%{y}<extra></extra>",
         "legendgroup": "Greece",
         "marker": {
          "color": "#ab63fa",
          "size": [
           5896788
          ],
          "sizemode": "area",
          "sizeref": 264164.9525,
          "symbol": "circle"
         },
         "mode": "markers",
         "name": "Greece",
         "orientation": "v",
         "showlegend": true,
         "type": "scatter",
         "x": [
          5896788
         ],
         "xaxis": "x",
         "y": [
          5842412
         ],
         "yaxis": "y"
        },
        {
         "hovertemplate": "Country, Other=Portugal<br>Total Cases=%{marker.size}<br>Total Recovered=%{y}<extra></extra>",
         "legendgroup": "Portugal",
         "marker": {
          "color": "#FFA15A",
          "size": [
           5570473
          ],
          "sizemode": "area",
          "sizeref": 264164.9525,
          "symbol": "circle"
         },
         "mode": "markers",
         "name": "Portugal",
         "orientation": "v",
         "showlegend": true,
         "type": "scatter",
         "x": [
          5570473
         ],
         "xaxis": "x",
         "y": [
          5540048
         ],
         "yaxis": "y"
        },
        {
         "hovertemplate": "Country, Other=Ukraine<br>Total Cases=%{marker.size}<br>Total Recovered=%{y}<extra></extra>",
         "legendgroup": "Ukraine",
         "marker": {
          "color": "#19d3f3",
          "size": [
           5399231
          ],
          "sizemode": "area",
          "sizeref": 264164.9525,
          "symbol": "circle"
         },
         "mode": "markers",
         "name": "Ukraine",
         "orientation": "v",
         "showlegend": true,
         "type": "scatter",
         "x": [
          5399231
         ],
         "xaxis": "x",
         "y": [
          5278141
         ],
         "yaxis": "y"
        },
        {
         "hovertemplate": "Country, Other=Chile<br>Total Cases=%{marker.size}<br>Total Recovered=%{y}<extra></extra>",
         "legendgroup": "Chile",
         "marker": {
          "color": "#FF6692",
          "size": [
           5209152
          ],
          "sizemode": "area",
          "sizeref": 264164.9525,
          "symbol": "circle"
         },
         "mode": "markers",
         "name": "Chile",
         "orientation": "v",
         "showlegend": true,
         "type": "scatter",
         "x": [
          5209152
         ],
         "xaxis": "x",
         "y": [
          5135832
         ],
         "yaxis": "y"
        },
        {
         "hovertemplate": "Country, Other=Malaysia<br>Total Cases=%{marker.size}<br>Total Recovered=%{y}<extra></extra>",
         "legendgroup": "Malaysia",
         "marker": {
          "color": "#B6E880",
          "size": [
           5045192
          ],
          "sizemode": "area",
          "sizeref": 264164.9525,
          "symbol": "circle"
         },
         "mode": "markers",
         "name": "Malaysia",
         "orientation": "v",
         "showlegend": true,
         "type": "scatter",
         "x": [
          5045192
         ],
         "xaxis": "x",
         "y": [
          4998845
         ],
         "yaxis": "y"
        },
        {
         "hovertemplate": "Country, Other=Israel<br>Total Cases=%{marker.size}<br>Total Recovered=%{y}<extra></extra>",
         "legendgroup": "Israel",
         "marker": {
          "color": "#FF97FF",
          "size": [
           4806396
          ],
          "sizemode": "area",
          "sizeref": 264164.9525,
          "symbol": "circle"
         },
         "mode": "markers",
         "name": "Israel",
         "orientation": "v",
         "showlegend": true,
         "type": "scatter",
         "x": [
          4806396
         ],
         "xaxis": "x",
         "y": [
          4781252
         ],
         "yaxis": "y"
        },
        {
         "hovertemplate": "Country, Other=DPRK<br>Total Cases=%{marker.size}<br>Total Recovered=%{y}<extra></extra>",
         "legendgroup": "DPRK",
         "marker": {
          "color": "#FECB52",
          "size": [
           4772813
          ],
          "sizemode": "area",
          "sizeref": 264164.9525,
          "symbol": "circle"
         },
         "mode": "markers",
         "name": "DPRK",
         "orientation": "v",
         "showlegend": true,
         "type": "scatter",
         "x": [
          4772813
         ],
         "xaxis": "x",
         "y": [
          4772739
         ],
         "yaxis": "y"
        },
        {
         "hovertemplate": "Country, Other=Belgium<br>Total Cases=%{marker.size}<br>Total Recovered=%{y}<extra></extra>",
         "legendgroup": "Belgium",
         "marker": {
          "color": "#636efa",
          "size": [
           4739365
          ],
          "sizemode": "area",
          "sizeref": 264164.9525,
          "symbol": "circle"
         },
         "mode": "markers",
         "name": "Belgium",
         "orientation": "v",
         "showlegend": true,
         "type": "scatter",
         "x": [
          4739365
         ],
         "xaxis": "x",
         "y": [
          4670274
         ],
         "yaxis": "y"
        },
        {
         "hovertemplate": "Country, Other=Thailand<br>Total Cases=%{marker.size}<br>Total Recovered=%{y}<extra></extra>",
         "legendgroup": "Thailand",
         "marker": {
          "color": "#EF553B",
          "size": [
           4728304
          ],
          "sizemode": "area",
          "sizeref": 264164.9525,
          "symbol": "circle"
         },
         "mode": "markers",
         "name": "Thailand",
         "orientation": "v",
         "showlegend": true,
         "type": "scatter",
         "x": [
          4728304
         ],
         "xaxis": "x",
         "y": [
          4692636
         ],
         "yaxis": "y"
        },
        {
         "hovertemplate": "Country, Other=Czechia<br>Total Cases=%{marker.size}<br>Total Recovered=%{y}<extra></extra>",
         "legendgroup": "Czechia",
         "marker": {
          "color": "#00cc96",
          "size": [
           4623277
          ],
          "sizemode": "area",
          "sizeref": 264164.9525,
          "symbol": "circle"
         },
         "mode": "markers",
         "name": "Czechia",
         "orientation": "v",
         "showlegend": true,
         "type": "scatter",
         "x": [
          4623277
         ],
         "xaxis": "x",
         "y": [
          4570916
         ],
         "yaxis": "y"
        },
        {
         "hovertemplate": "Country, Other=Canada<br>Total Cases=%{marker.size}<br>Total Recovered=%{y}<extra></extra>",
         "legendgroup": "Canada",
         "marker": {
          "color": "#ab63fa",
          "size": [
           4609277
          ],
          "sizemode": "area",
          "sizeref": 264164.9525,
          "symbol": "circle"
         },
         "mode": "markers",
         "name": "Canada",
         "orientation": "v",
         "showlegend": true,
         "type": "scatter",
         "x": [
          4609277
         ],
         "xaxis": "x",
         "y": [
          4520959
         ],
         "yaxis": "y"
        },
        {
         "hovertemplate": "Country, Other=Peru<br>Total Cases=%{marker.size}<br>Total Recovered=%{y}<extra></extra>",
         "legendgroup": "Peru",
         "marker": {
          "color": "#FFA15A",
          "size": [
           4488338
          ],
          "sizemode": "area",
          "sizeref": 264164.9525,
          "symbol": "circle"
         },
         "mode": "markers",
         "name": "Peru",
         "orientation": "v",
         "showlegend": true,
         "type": "scatter",
         "x": [
          4488338
         ],
         "xaxis": "x",
         "y": [
          4266695
         ],
         "yaxis": "y"
        },
        {
         "hovertemplate": "Country, Other=Switzerland<br>Total Cases=%{marker.size}<br>Total Recovered=%{y}<extra></extra>",
         "legendgroup": "Switzerland",
         "marker": {
          "color": "#19d3f3",
          "size": [
           4392464
          ],
          "sizemode": "area",
          "sizeref": 264164.9525,
          "symbol": "circle"
         },
         "mode": "markers",
         "name": "Switzerland",
         "orientation": "v",
         "showlegend": true,
         "type": "scatter",
         "x": [
          4392464
         ],
         "xaxis": "x",
         "y": [
          4373995
         ],
         "yaxis": "y"
        },
        {
         "hovertemplate": "Country, Other=Philippines<br>Total Cases=%{marker.size}<br>Total Recovered=%{y}<extra></extra>",
         "legendgroup": "Philippines",
         "marker": {
          "color": "#FF6692",
          "size": [
           4078231
          ],
          "sizemode": "area",
          "sizeref": 264164.9525,
          "symbol": "circle"
         },
         "mode": "markers",
         "name": "Philippines",
         "orientation": "v",
         "showlegend": true,
         "type": "scatter",
         "x": [
          4078231
         ],
         "xaxis": "x",
         "y": [
          4002926
         ],
         "yaxis": "y"
        },
        {
         "hovertemplate": "Country, Other=South Africa<br>Total Cases=%{marker.size}<br>Total Recovered=%{y}<extra></extra>",
         "legendgroup": "South Africa",
         "marker": {
          "color": "#B6E880",
          "size": [
           4068319
          ],
          "sizemode": "area",
          "sizeref": 264164.9525,
          "symbol": "circle"
         },
         "mode": "markers",
         "name": "South Africa",
         "orientation": "v",
         "showlegend": true,
         "type": "scatter",
         "x": [
          4068319
         ],
         "xaxis": "x",
         "y": [
          3912506
         ],
         "yaxis": "y"
        },
        {
         "hovertemplate": "Country, Other=Romania<br>Total Cases=%{marker.size}<br>Total Recovered=%{y}<extra></extra>",
         "legendgroup": "Romania",
         "marker": {
          "color": "#FF97FF",
          "size": [
           3352356
          ],
          "sizemode": "area",
          "sizeref": 264164.9525,
          "symbol": "circle"
         },
         "mode": "markers",
         "name": "Romania",
         "orientation": "v",
         "showlegend": true,
         "type": "scatter",
         "x": [
          3352356
         ],
         "xaxis": "x",
         "y": [
          3272569
         ],
         "yaxis": "y"
        },
        {
         "hovertemplate": "Country, Other=Denmark<br>Total Cases=%{marker.size}<br>Total Recovered=%{y}<extra></extra>",
         "legendgroup": "Denmark",
         "marker": {
          "color": "#FECB52",
          "size": [
           3176268
          ],
          "sizemode": "area",
          "sizeref": 264164.9525,
          "symbol": "circle"
         },
         "mode": "markers",
         "name": "Denmark",
         "orientation": "v",
         "showlegend": true,
         "type": "scatter",
         "x": [
          3176268
         ],
         "xaxis": "x",
         "y": [
          3166948
         ],
         "yaxis": "y"
        },
        {
         "hovertemplate": "Country, Other=Hong Kong<br>Total Cases=%{marker.size}<br>Total Recovered=%{y}<extra></extra>",
         "legendgroup": "Hong Kong",
         "marker": {
          "color": "#636efa",
          "size": [
           2884099
          ],
          "sizemode": "area",
          "sizeref": 264164.9525,
          "symbol": "circle"
         },
         "mode": "markers",
         "name": "Hong Kong",
         "orientation": "v",
         "showlegend": true,
         "type": "scatter",
         "x": [
          2884099
         ],
         "xaxis": "x",
         "y": [
          2866168
         ],
         "yaxis": "y"
        },
        {
         "hovertemplate": "Country, Other=Sweden<br>Total Cases=%{marker.size}<br>Total Recovered=%{y}<extra></extra>",
         "legendgroup": "Sweden",
         "marker": {
          "color": "#EF553B",
          "size": [
           2699339
          ],
          "sizemode": "area",
          "sizeref": 264164.9525,
          "symbol": "circle"
         },
         "mode": "markers",
         "name": "Sweden",
         "orientation": "v",
         "showlegend": true,
         "type": "scatter",
         "x": [
          2699339
         ],
         "xaxis": "x",
         "y": [
          2672954
         ],
         "yaxis": "y"
        },
        {
         "hovertemplate": "Country, Other=Serbia<br>Total Cases=%{marker.size}<br>Total Recovered=%{y}<extra></extra>",
         "legendgroup": "Serbia",
         "marker": {
          "color": "#00cc96",
          "size": [
           2504113
          ],
          "sizemode": "area",
          "sizeref": 264164.9525,
          "symbol": "circle"
         },
         "mode": "markers",
         "name": "Serbia",
         "orientation": "v",
         "showlegend": true,
         "type": "scatter",
         "x": [
          2504113
         ],
         "xaxis": "x",
         "y": [
          2471811
         ],
         "yaxis": "y"
        },
        {
         "hovertemplate": "Country, Other=Iraq<br>Total Cases=%{marker.size}<br>Total Recovered=%{y}<extra></extra>",
         "legendgroup": "Iraq",
         "marker": {
          "color": "#ab63fa",
          "size": [
           2465545
          ],
          "sizemode": "area",
          "sizeref": 264164.9525,
          "symbol": "circle"
         },
         "mode": "markers",
         "name": "Iraq",
         "orientation": "v",
         "showlegend": true,
         "type": "scatter",
         "x": [
          2465545
         ],
         "xaxis": "x",
         "y": [
          2439497
         ],
         "yaxis": "y"
        },
        {
         "hovertemplate": "Country, Other=New Zealand<br>Total Cases=%{marker.size}<br>Total Recovered=%{y}<extra></extra>",
         "legendgroup": "New Zealand",
         "marker": {
          "color": "#FFA15A",
          "size": [
           2239800
          ],
          "sizemode": "area",
          "sizeref": 264164.9525,
          "symbol": "circle"
         },
         "mode": "markers",
         "name": "New Zealand",
         "orientation": "v",
         "showlegend": true,
         "type": "scatter",
         "x": [
          2239800
         ],
         "xaxis": "x",
         "y": [
          2225733
         ],
         "yaxis": "y"
        },
        {
         "hovertemplate": "Country, Other=Singapore<br>Total Cases=%{marker.size}<br>Total Recovered=%{y}<extra></extra>",
         "legendgroup": "Singapore",
         "marker": {
          "color": "#19d3f3",
          "size": [
           2234996
          ],
          "sizemode": "area",
          "sizeref": 264164.9525,
          "symbol": "circle"
         },
         "mode": "markers",
         "name": "Singapore",
         "orientation": "v",
         "showlegend": true,
         "type": "scatter",
         "x": [
          2234996
         ],
         "xaxis": "x",
         "y": [
          2149583
         ],
         "yaxis": "y"
        },
        {
         "hovertemplate": "Country, Other=Hungary<br>Total Cases=%{marker.size}<br>Total Recovered=%{y}<extra></extra>",
         "legendgroup": "Hungary",
         "marker": {
          "color": "#FF6692",
          "size": [
           2196804
          ],
          "sizemode": "area",
          "sizeref": 264164.9525,
          "symbol": "circle"
         },
         "mode": "markers",
         "name": "Hungary",
         "orientation": "v",
         "showlegend": true,
         "type": "scatter",
         "x": [
          2196804
         ],
         "xaxis": "x",
         "y": [
          2143788
         ],
         "yaxis": "y"
        },
        {
         "hovertemplate": "Country, Other=Bangladesh<br>Total Cases=%{marker.size}<br>Total Recovered=%{y}<extra></extra>",
         "legendgroup": "Bangladesh",
         "marker": {
          "color": "#B6E880",
          "size": [
           2037871
          ],
          "sizemode": "area",
          "sizeref": 264164.9525,
          "symbol": "circle"
         },
         "mode": "markers",
         "name": "Bangladesh",
         "orientation": "v",
         "showlegend": true,
         "type": "scatter",
         "x": [
          2037871
         ],
         "xaxis": "x",
         "y": [
          1998448
         ],
         "yaxis": "y"
        },
        {
         "hovertemplate": "Country, Other=Slovakia<br>Total Cases=%{marker.size}<br>Total Recovered=%{y}<extra></extra>",
         "legendgroup": "Slovakia",
         "marker": {
          "color": "#FF97FF",
          "size": [
           1864353
          ],
          "sizemode": "area",
          "sizeref": 264164.9525,
          "symbol": "circle"
         },
         "mode": "markers",
         "name": "Slovakia",
         "orientation": "v",
         "showlegend": true,
         "type": "scatter",
         "x": [
          1864353
         ],
         "xaxis": "x",
         "y": [
          1841975
         ],
         "yaxis": "y"
        },
        {
         "hovertemplate": "Country, Other=Georgia<br>Total Cases=%{marker.size}<br>Total Recovered=%{y}<extra></extra>",
         "legendgroup": "Georgia",
         "marker": {
          "color": "#FECB52",
          "size": [
           1827537
          ],
          "sizemode": "area",
          "sizeref": 264164.9525,
          "symbol": "circle"
         },
         "mode": "markers",
         "name": "Georgia",
         "orientation": "v",
         "showlegend": true,
         "type": "scatter",
         "x": [
          1827537
         ],
         "xaxis": "x",
         "y": [
          1776548
         ],
         "yaxis": "y"
        },
        {
         "hovertemplate": "Country, Other=Jordan<br>Total Cases=%{marker.size}<br>Total Recovered=%{y}<extra></extra>",
         "legendgroup": "Jordan",
         "marker": {
          "color": "#636efa",
          "size": [
           1746997
          ],
          "sizemode": "area",
          "sizeref": 264164.9525,
          "symbol": "circle"
         },
         "mode": "markers",
         "name": "Jordan",
         "orientation": "v",
         "showlegend": true,
         "type": "scatter",
         "x": [
          1746997
         ],
         "xaxis": "x",
         "y": [
          1731007
         ],
         "yaxis": "y"
        },
        {
         "hovertemplate": "Country, Other=Ireland<br>Total Cases=%{marker.size}<br>Total Recovered=%{y}<extra></extra>",
         "legendgroup": "Ireland",
         "marker": {
          "color": "#EF553B",
          "size": [
           1704502
          ],
          "sizemode": "area",
          "sizeref": 264164.9525,
          "symbol": "circle"
         },
         "mode": "markers",
         "name": "Ireland",
         "orientation": "v",
         "showlegend": true,
         "type": "scatter",
         "x": [
          1704502
         ],
         "xaxis": "x",
         "y": [
          1693564
         ],
         "yaxis": "y"
        },
        {
         "hovertemplate": "Country, Other=Pakistan<br>Total Cases=%{marker.size}<br>Total Recovered=%{y}<extra></extra>",
         "legendgroup": "Pakistan",
         "marker": {
          "color": "#00cc96",
          "size": [
           1577785
          ],
          "sizemode": "area",
          "sizeref": 264164.9525,
          "symbol": "circle"
         },
         "mode": "markers",
         "name": "Pakistan",
         "orientation": "v",
         "showlegend": true,
         "type": "scatter",
         "x": [
          1577785
         ],
         "xaxis": "x",
         "y": [
          1538689
         ],
         "yaxis": "y"
        },
        {
         "hovertemplate": "Country, Other=Norway<br>Total Cases=%{marker.size}<br>Total Recovered=%{y}<extra></extra>",
         "legendgroup": "Norway",
         "marker": {
          "color": "#ab63fa",
          "size": [
           1479746
          ],
          "sizemode": "area",
          "sizeref": 264164.9525,
          "symbol": "circle"
         },
         "mode": "markers",
         "name": "Norway",
         "orientation": "v",
         "showlegend": true,
         "type": "scatter",
         "x": [
          1479746
         ],
         "xaxis": "x",
         "y": [
          1473694
         ],
         "yaxis": "y"
        },
        {
         "hovertemplate": "Country, Other=Finland<br>Total Cases=%{marker.size}<br>Total Recovered=%{y}<extra></extra>",
         "legendgroup": "Finland",
         "marker": {
          "color": "#FFA15A",
          "size": [
           1463644
          ],
          "sizemode": "area",
          "sizeref": 264164.9525,
          "symbol": "circle"
         },
         "mode": "markers",
         "name": "Finland",
         "orientation": "v",
         "showlegend": true,
         "type": "scatter",
         "x": [
          1463644
         ],
         "xaxis": "x",
         "y": [
          1452968
         ],
         "yaxis": "y"
        },
        {
         "hovertemplate": "Country, Other=Kazakhstan<br>Total Cases=%{marker.size}<br>Total Recovered=%{y}<extra></extra>",
         "legendgroup": "Kazakhstan",
         "marker": {
          "color": "#19d3f3",
          "size": [
           1408124
          ],
          "sizemode": "area",
          "sizeref": 264164.9525,
          "symbol": "circle"
         },
         "mode": "markers",
         "name": "Kazakhstan",
         "orientation": "v",
         "showlegend": true,
         "type": "scatter",
         "x": [
          1408124
         ],
         "xaxis": "x",
         "y": [
          1383020
         ],
         "yaxis": "y"
        },
        {
         "hovertemplate": "Country, Other=Slovenia<br>Total Cases=%{marker.size}<br>Total Recovered=%{y}<extra></extra>",
         "legendgroup": "Slovenia",
         "marker": {
          "color": "#FF6692",
          "size": [
           1334089
          ],
          "sizemode": "area",
          "sizeref": 264164.9525,
          "symbol": "circle"
         },
         "mode": "markers",
         "name": "Slovenia",
         "orientation": "v",
         "showlegend": true,
         "type": "scatter",
         "x": [
          1334089
         ],
         "xaxis": "x",
         "y": [
          1321603
         ],
         "yaxis": "y"
        },
        {
         "hovertemplate": "Country, Other=Lithuania<br>Total Cases=%{marker.size}<br>Total Recovered=%{y}<extra></extra>",
         "legendgroup": "Lithuania",
         "marker": {
          "color": "#B6E880",
          "size": [
           1309661
          ],
          "sizemode": "area",
          "sizeref": 264164.9525,
          "symbol": "circle"
         },
         "mode": "markers",
         "name": "Lithuania",
         "orientation": "v",
         "showlegend": true,
         "type": "scatter",
         "x": [
          1309661
         ],
         "xaxis": "x",
         "y": [
          1293811
         ],
         "yaxis": "y"
        },
        {
         "hovertemplate": "Country, Other=Bulgaria<br>Total Cases=%{marker.size}<br>Total Recovered=%{y}<extra></extra>",
         "legendgroup": "Bulgaria",
         "marker": {
          "color": "#FF97FF",
          "size": [
           1298013
          ],
          "sizemode": "area",
          "sizeref": 264164.9525,
          "symbol": "circle"
         },
         "mode": "markers",
         "name": "Bulgaria",
         "orientation": "v",
         "showlegend": true,
         "type": "scatter",
         "x": [
          1298013
         ],
         "xaxis": "x",
         "y": [
          1256916
         ],
         "yaxis": "y"
        },
        {
         "hovertemplate": "Country, Other=Morocco<br>Total Cases=%{marker.size}<br>Total Recovered=%{y}<extra></extra>",
         "legendgroup": "Morocco",
         "marker": {
          "color": "#FECB52",
          "size": [
           1272526
          ],
          "sizemode": "area",
          "sizeref": 264164.9525,
          "symbol": "circle"
         },
         "mode": "markers",
         "name": "Morocco",
         "orientation": "v",
         "showlegend": true,
         "type": "scatter",
         "x": [
          1272526
         ],
         "xaxis": "x",
         "y": [
          1256151
         ],
         "yaxis": "y"
        },
        {
         "hovertemplate": "Country, Other=Croatia<br>Total Cases=%{marker.size}<br>Total Recovered=%{y}<extra></extra>",
         "legendgroup": "Croatia",
         "marker": {
          "color": "#636efa",
          "size": [
           1269687
          ],
          "sizemode": "area",
          "sizeref": 264164.9525,
          "symbol": "circle"
         },
         "mode": "markers",
         "name": "Croatia",
         "orientation": "v",
         "showlegend": true,
         "type": "scatter",
         "x": [
          1269687
         ],
         "xaxis": "x",
         "y": [
          1251200
         ],
         "yaxis": "y"
        },
        {
         "hovertemplate": "Country, Other=Guatemala<br>Total Cases=%{marker.size}<br>Total Recovered=%{y}<extra></extra>",
         "legendgroup": "Guatemala",
         "marker": {
          "color": "#EF553B",
          "size": [
           1239341
          ],
          "sizemode": "area",
          "sizeref": 264164.9525,
          "symbol": "circle"
         },
         "mode": "markers",
         "name": "Guatemala",
         "orientation": "v",
         "showlegend": true,
         "type": "scatter",
         "x": [
          1239341
         ],
         "xaxis": "x",
         "y": [
          1218185
         ],
         "yaxis": "y"
        },
        {
         "hovertemplate": "Country, Other=Lebanon<br>Total Cases=%{marker.size}<br>Total Recovered=%{y}<extra></extra>",
         "legendgroup": "Lebanon",
         "marker": {
          "color": "#00cc96",
          "size": [
           1233151
          ],
          "sizemode": "area",
          "sizeref": 264164.9525,
          "symbol": "circle"
         },
         "mode": "markers",
         "name": "Lebanon",
         "orientation": "v",
         "showlegend": true,
         "type": "scatter",
         "x": [
          1233151
         ],
         "xaxis": "x",
         "y": [
          1087587
         ],
         "yaxis": "y"
        },
        {
         "hovertemplate": "Country, Other=Costa Rica<br>Total Cases=%{marker.size}<br>Total Recovered=%{y}<extra></extra>",
         "legendgroup": "Costa Rica",
         "marker": {
          "color": "#ab63fa",
          "size": [
           1209725
          ],
          "sizemode": "area",
          "sizeref": 264164.9525,
          "symbol": "circle"
         },
         "mode": "markers",
         "name": "Costa Rica",
         "orientation": "v",
         "showlegend": true,
         "type": "scatter",
         "x": [
          1209725
         ],
         "xaxis": "x",
         "y": [
          860711
         ],
         "yaxis": "y"
        },
        {
         "hovertemplate": "Country, Other=Bolivia<br>Total Cases=%{marker.size}<br>Total Recovered=%{y}<extra></extra>",
         "legendgroup": "Bolivia",
         "marker": {
          "color": "#FFA15A",
          "size": [
           1194687
          ],
          "sizemode": "area",
          "sizeref": 264164.9525,
          "symbol": "circle"
         },
         "mode": "markers",
         "name": "Bolivia",
         "orientation": "v",
         "showlegend": true,
         "type": "scatter",
         "x": [
          1194687
         ],
         "xaxis": "x",
         "y": [
          1161621
         ],
         "yaxis": "y"
        },
        {
         "hovertemplate": "Country, Other=Tunisia<br>Total Cases=%{marker.size}<br>Total Recovered=%{y}<extra></extra>",
         "legendgroup": "Tunisia",
         "marker": {
          "color": "#19d3f3",
          "size": [
           1151333
          ],
          "sizemode": "area",
          "sizeref": 264164.9525,
          "symbol": "circle"
         },
         "mode": "markers",
         "name": "Tunisia",
         "orientation": "v",
         "showlegend": true,
         "type": "scatter",
         "x": [
          1151333
         ],
         "xaxis": "x",
         "y": [
          null
         ],
         "yaxis": "y"
        },
        {
         "hovertemplate": "Country, Other=Cuba<br>Total Cases=%{marker.size}<br>Total Recovered=%{y}<extra></extra>",
         "legendgroup": "Cuba",
         "marker": {
          "color": "#FF6692",
          "size": [
           1112667
          ],
          "sizemode": "area",
          "sizeref": 264164.9525,
          "symbol": "circle"
         },
         "mode": "markers",
         "name": "Cuba",
         "orientation": "v",
         "showlegend": true,
         "type": "scatter",
         "x": [
          1112667
         ],
         "xaxis": "x",
         "y": [
          1104053
         ],
         "yaxis": "y"
        },
        {
         "hovertemplate": "Country, Other=Ecuador<br>Total Cases=%{marker.size}<br>Total Recovered=%{y}<extra></extra>",
         "legendgroup": "Ecuador",
         "marker": {
          "color": "#B6E880",
          "size": [
           1057121
          ],
          "sizemode": "area",
          "sizeref": 264164.9525,
          "symbol": "circle"
         },
         "mode": "markers",
         "name": "Ecuador",
         "orientation": "v",
         "showlegend": true,
         "type": "scatter",
         "x": [
          1057121
         ],
         "xaxis": "x",
         "y": [
          1020564
         ],
         "yaxis": "y"
        },
        {
         "hovertemplate": "Country, Other=UAE<br>Total Cases=%{marker.size}<br>Total Recovered=%{y}<extra></extra>",
         "legendgroup": "UAE",
         "marker": {
          "color": "#FF97FF",
          "size": [
           1054008
          ],
          "sizemode": "area",
          "sizeref": 264164.9525,
          "symbol": "circle"
         },
         "mode": "markers",
         "name": "UAE",
         "orientation": "v",
         "showlegend": true,
         "type": "scatter",
         "x": [
          1054008
         ],
         "xaxis": "x",
         "y": [
          1036392
         ],
         "yaxis": "y"
        },
        {
         "hovertemplate": "Country, Other=Uruguay<br>Total Cases=%{marker.size}<br>Total Recovered=%{y}<extra></extra>",
         "legendgroup": "Uruguay",
         "marker": {
          "color": "#FECB52",
          "size": [
           1034303
          ],
          "sizemode": "area",
          "sizeref": 264164.9525,
          "symbol": "circle"
         },
         "mode": "markers",
         "name": "Uruguay",
         "orientation": "v",
         "showlegend": true,
         "type": "scatter",
         "x": [
          1034303
         ],
         "xaxis": "x",
         "y": [
          1026186
         ],
         "yaxis": "y"
        },
        {
         "hovertemplate": "Country, Other=Panama<br>Total Cases=%{marker.size}<br>Total Recovered=%{y}<extra></extra>",
         "legendgroup": "Panama",
         "marker": {
          "color": "#636efa",
          "size": [
           1032237
          ],
          "sizemode": "area",
          "sizeref": 264164.9525,
          "symbol": "circle"
         },
         "mode": "markers",
         "name": "Panama",
         "orientation": "v",
         "showlegend": true,
         "type": "scatter",
         "x": [
          1032237
         ],
         "xaxis": "x",
         "y": [
          1022929
         ],
         "yaxis": "y"
        },
        {
         "hovertemplate": "Country, Other=Mongolia<br>Total Cases=%{marker.size}<br>Total Recovered=%{y}<extra></extra>",
         "legendgroup": "Mongolia",
         "marker": {
          "color": "#EF553B",
          "size": [
           1007900
          ],
          "sizemode": "area",
          "sizeref": 264164.9525,
          "symbol": "circle"
         },
         "mode": "markers",
         "name": "Mongolia",
         "orientation": "v",
         "showlegend": true,
         "type": "scatter",
         "x": [
          1007900
         ],
         "xaxis": "x",
         "y": [
          1005717
         ],
         "yaxis": "y"
        },
        {
         "hovertemplate": "Country, Other=Nepal<br>Total Cases=%{marker.size}<br>Total Recovered=%{y}<extra></extra>",
         "legendgroup": "Nepal",
         "marker": {
          "color": "#00cc96",
          "size": [
           1001172
          ],
          "sizemode": "area",
          "sizeref": 264164.9525,
          "symbol": "circle"
         },
         "mode": "markers",
         "name": "Nepal",
         "orientation": "v",
         "showlegend": true,
         "type": "scatter",
         "x": [
          1001172
         ],
         "xaxis": "x",
         "y": [
          989133
         ],
         "yaxis": "y"
        },
        {
         "hovertemplate": "Country, Other=Belarus<br>Total Cases=%{marker.size}<br>Total Recovered=%{y}<extra></extra>",
         "legendgroup": "Belarus",
         "marker": {
          "color": "#ab63fa",
          "size": [
           994037
          ],
          "sizemode": "area",
          "sizeref": 264164.9525,
          "symbol": "circle"
         },
         "mode": "markers",
         "name": "Belarus",
         "orientation": "v",
         "showlegend": true,
         "type": "scatter",
         "x": [
          994037
         ],
         "xaxis": "x",
         "y": [
          985592
         ],
         "yaxis": "y"
        },
        {
         "hovertemplate": "Country, Other=Latvia<br>Total Cases=%{marker.size}<br>Total Recovered=%{y}<extra></extra>",
         "legendgroup": "Latvia",
         "marker": {
          "color": "#FFA15A",
          "size": [
           976402
          ],
          "sizemode": "area",
          "sizeref": 264164.9525,
          "symbol": "circle"
         },
         "mode": "markers",
         "name": "Latvia",
         "orientation": "v",
         "showlegend": true,
         "type": "scatter",
         "x": [
          976402
         ],
         "xaxis": "x",
         "y": [
          969765
         ],
         "yaxis": "y"
        },
        {
         "hovertemplate": "Country, Other=Saudi Arabia<br>Total Cases=%{marker.size}<br>Total Recovered=%{y}<extra></extra>",
         "legendgroup": "Saudi Arabia",
         "marker": {
          "color": "#19d3f3",
          "size": [
           830870
          ],
          "sizemode": "area",
          "sizeref": 264164.9525,
          "symbol": "circle"
         },
         "mode": "markers",
         "name": "Saudi Arabia",
         "orientation": "v",
         "showlegend": true,
         "type": "scatter",
         "x": [
          830870
         ],
         "xaxis": "x",
         "y": [
          817580
         ],
         "yaxis": "y"
        },
        {
         "hovertemplate": "Country, Other=Azerbaijan<br>Total Cases=%{marker.size}<br>Total Recovered=%{y}<extra></extra>",
         "legendgroup": "Azerbaijan",
         "marker": {
          "color": "#FF6692",
          "size": [
           829011
          ],
          "sizemode": "area",
          "sizeref": 264164.9525,
          "symbol": "circle"
         },
         "mode": "markers",
         "name": "Azerbaijan",
         "orientation": "v",
         "showlegend": true,
         "type": "scatter",
         "x": [
          829011
         ],
         "xaxis": "x",
         "y": [
          818638
         ],
         "yaxis": "y"
        },
        {
         "hovertemplate": "Country, Other=Paraguay<br>Total Cases=%{marker.size}<br>Total Recovered=%{y}<extra></extra>",
         "legendgroup": "Paraguay",
         "marker": {
          "color": "#B6E880",
          "size": [
           808507
          ],
          "sizemode": "area",
          "sizeref": 264164.9525,
          "symbol": "circle"
         },
         "mode": "markers",
         "name": "Paraguay",
         "orientation": "v",
         "showlegend": true,
         "type": "scatter",
         "x": [
          808507
         ],
         "xaxis": "x",
         "y": [
          null
         ],
         "yaxis": "y"
        },
        {
         "hovertemplate": "Country, Other=Bahrain<br>Total Cases=%{marker.size}<br>Total Recovered=%{y}<extra></extra>",
         "legendgroup": "Bahrain",
         "marker": {
          "color": "#FF97FF",
          "size": [
           712094
          ],
          "sizemode": "area",
          "sizeref": 264164.9525,
          "symbol": "circle"
         },
         "mode": "markers",
         "name": "Bahrain",
         "orientation": "v",
         "showlegend": true,
         "type": "scatter",
         "x": [
          712094
         ],
         "xaxis": "x",
         "y": [
          707851
         ],
         "yaxis": "y"
        },
        {
         "hovertemplate": "Country, Other=Sri Lanka<br>Total Cases=%{marker.size}<br>Total Recovered=%{y}<extra></extra>",
         "legendgroup": "Sri Lanka",
         "marker": {
          "color": "#FECB52",
          "size": [
           672047
          ],
          "sizemode": "area",
          "sizeref": 264164.9525,
          "symbol": "circle"
         },
         "mode": "markers",
         "name": "Sri Lanka",
         "orientation": "v",
         "showlegend": true,
         "type": "scatter",
         "x": [
          672047
         ],
         "xaxis": "x",
         "y": [
          655206
         ],
         "yaxis": "y"
        },
        {
         "hovertemplate": "Country, Other=Kuwait<br>Total Cases=%{marker.size}<br>Total Recovered=%{y}<extra></extra>",
         "legendgroup": "Kuwait",
         "marker": {
          "color": "#636efa",
          "size": [
           663860
          ],
          "sizemode": "area",
          "sizeref": 264164.9525,
          "symbol": "circle"
         },
         "mode": "markers",
         "name": "Kuwait",
         "orientation": "v",
         "showlegend": true,
         "type": "scatter",
         "x": [
          663860
         ],
         "xaxis": "x",
         "y": [
          660237
         ],
         "yaxis": "y"
        },
        {
         "hovertemplate": "Country, Other=Dominican Republic<br>Total Cases=%{marker.size}<br>Total Recovered=%{y}<extra></extra>",
         "legendgroup": "Dominican Republic",
         "marker": {
          "color": "#EF553B",
          "size": [
           660790
          ],
          "sizemode": "area",
          "sizeref": 264164.9525,
          "symbol": "circle"
         },
         "mode": "markers",
         "name": "Dominican Republic",
         "orientation": "v",
         "showlegend": true,
         "type": "scatter",
         "x": [
          660790
         ],
         "xaxis": "x",
         "y": [
          644785
         ],
         "yaxis": "y"
        },
        {
         "hovertemplate": "Country, Other=Cyprus<br>Total Cases=%{marker.size}<br>Total Recovered=%{y}<extra></extra>",
         "legendgroup": "Cyprus",
         "marker": {
          "color": "#00cc96",
          "size": [
           652386
          ],
          "sizemode": "area",
          "sizeref": 264164.9525,
          "symbol": "circle"
         },
         "mode": "markers",
         "name": "Cyprus",
         "orientation": "v",
         "showlegend": true,
         "type": "scatter",
         "x": [
          652386
         ],
         "xaxis": "x",
         "y": [
          645696
         ],
         "yaxis": "y"
        },
        {
         "hovertemplate": "Country, Other=Myanmar<br>Total Cases=%{marker.size}<br>Total Recovered=%{y}<extra></extra>",
         "legendgroup": "Myanmar",
         "marker": {
          "color": "#ab63fa",
          "size": [
           633965
          ],
          "sizemode": "area",
          "sizeref": 264164.9525,
          "symbol": "circle"
         },
         "mode": "markers",
         "name": "Myanmar",
         "orientation": "v",
         "showlegend": true,
         "type": "scatter",
         "x": [
          633965
         ],
         "xaxis": "x",
         "y": [
          614457
         ],
         "yaxis": "y"
        },
        {
         "hovertemplate": "Country, Other=Palestine<br>Total Cases=%{marker.size}<br>Total Recovered=%{y}<extra></extra>",
         "legendgroup": "Palestine",
         "marker": {
          "color": "#FFA15A",
          "size": [
           621008
          ],
          "sizemode": "area",
          "sizeref": 264164.9525,
          "symbol": "circle"
         },
         "mode": "markers",
         "name": "Palestine",
         "orientation": "v",
         "showlegend": true,
         "type": "scatter",
         "x": [
          621008
         ],
         "xaxis": "x",
         "y": [
          615445
         ],
         "yaxis": "y"
        },
        {
         "hovertemplate": "Country, Other=Estonia<br>Total Cases=%{marker.size}<br>Total Recovered=%{y}<extra></extra>",
         "legendgroup": "Estonia",
         "marker": {
          "color": "#19d3f3",
          "size": [
           615735
          ],
          "sizemode": "area",
          "sizeref": 264164.9525,
          "symbol": "circle"
         },
         "mode": "markers",
         "name": "Estonia",
         "orientation": "v",
         "showlegend": true,
         "type": "scatter",
         "x": [
          615735
         ],
         "xaxis": "x",
         "y": [
          524990
         ],
         "yaxis": "y"
        },
        {
         "hovertemplate": "Country, Other=Moldova<br>Total Cases=%{marker.size}<br>Total Recovered=%{y}<extra></extra>",
         "legendgroup": "Moldova",
         "marker": {
          "color": "#FF6692",
          "size": [
           613974
          ],
          "sizemode": "area",
          "sizeref": 264164.9525,
          "symbol": "circle"
         },
         "mode": "markers",
         "name": "Moldova",
         "orientation": "v",
         "showlegend": true,
         "type": "scatter",
         "x": [
          613974
         ],
         "xaxis": "x",
         "y": [
          504142
         ],
         "yaxis": "y"
        },
        {
         "hovertemplate": "Country, Other=Venezuela<br>Total Cases=%{marker.size}<br>Total Recovered=%{y}<extra></extra>",
         "legendgroup": "Venezuela",
         "marker": {
          "color": "#B6E880",
          "size": [
           552225
          ],
          "sizemode": "area",
          "sizeref": 264164.9525,
          "symbol": "circle"
         },
         "mode": "markers",
         "name": "Venezuela",
         "orientation": "v",
         "showlegend": true,
         "type": "scatter",
         "x": [
          552225
         ],
         "xaxis": "x",
         "y": [
          545981
         ],
         "yaxis": "y"
        },
        {
         "hovertemplate": "Country, Other=Egypt<br>Total Cases=%{marker.size}<br>Total Recovered=%{y}<extra></extra>",
         "legendgroup": "Egypt",
         "marker": {
          "color": "#FF97FF",
          "size": [
           515759
          ],
          "sizemode": "area",
          "sizeref": 264164.9525,
          "symbol": "circle"
         },
         "mode": "markers",
         "name": "Egypt",
         "orientation": "v",
         "showlegend": true,
         "type": "scatter",
         "x": [
          515759
         ],
         "xaxis": "x",
         "y": [
          442182
         ],
         "yaxis": "y"
        },
        {
         "hovertemplate": "Country, Other=Libya<br>Total Cases=%{marker.size}<br>Total Recovered=%{y}<extra></extra>",
         "legendgroup": "Libya",
         "marker": {
          "color": "#FECB52",
          "size": [
           507201
          ],
          "sizemode": "area",
          "sizeref": 264164.9525,
          "symbol": "circle"
         },
         "mode": "markers",
         "name": "Libya",
         "orientation": "v",
         "showlegend": true,
         "type": "scatter",
         "x": [
          507201
         ],
         "xaxis": "x",
         "y": [
          500750
         ],
         "yaxis": "y"
        },
        {
         "hovertemplate": "Country, Other=China<br>Total Cases=%{marker.size}<br>Total Recovered=%{y}<extra></extra>",
         "legendgroup": "China",
         "marker": {
          "color": "#636efa",
          "size": [
           503302
          ],
          "sizemode": "area",
          "sizeref": 264164.9525,
          "symbol": "circle"
         },
         "mode": "markers",
         "name": "China",
         "orientation": "v",
         "showlegend": true,
         "type": "scatter",
         "x": [
          503302
         ],
         "xaxis": "x",
         "y": [
          379053
         ],
         "yaxis": "y"
        },
        {
         "hovertemplate": "Country, Other=Ethiopia<br>Total Cases=%{marker.size}<br>Total Recovered=%{y}<extra></extra>",
         "legendgroup": "Ethiopia",
         "marker": {
          "color": "#EF553B",
          "size": [
           500188
          ],
          "sizemode": "area",
          "sizeref": 264164.9525,
          "symbol": "circle"
         },
         "mode": "markers",
         "name": "Ethiopia",
         "orientation": "v",
         "showlegend": true,
         "type": "scatter",
         "x": [
          500188
         ],
         "xaxis": "x",
         "y": [
          487386
         ],
         "yaxis": "y"
        },
        {
         "hovertemplate": "Country, Other=Qatar<br>Total Cases=%{marker.size}<br>Total Recovered=%{y}<extra></extra>",
         "legendgroup": "Qatar",
         "marker": {
          "color": "#00cc96",
          "size": [
           495856
          ],
          "sizemode": "area",
          "sizeref": 264164.9525,
          "symbol": "circle"
         },
         "mode": "markers",
         "name": "Qatar",
         "orientation": "v",
         "showlegend": true,
         "type": "scatter",
         "x": [
          495856
         ],
         "xaxis": "x",
         "y": [
          494555
         ],
         "yaxis": "y"
        },
        {
         "hovertemplate": "Country, Other=Réunion<br>Total Cases=%{marker.size}<br>Total Recovered=%{y}<extra></extra>",
         "legendgroup": "Réunion",
         "marker": {
          "color": "#ab63fa",
          "size": [
           486588
          ],
          "sizemode": "area",
          "sizeref": 264164.9525,
          "symbol": "circle"
         },
         "mode": "markers",
         "name": "Réunion",
         "orientation": "v",
         "showlegend": true,
         "type": "scatter",
         "x": [
          486588
         ],
         "xaxis": "x",
         "y": [
          418572
         ],
         "yaxis": "y"
        },
        {
         "hovertemplate": "Country, Other=Honduras<br>Total Cases=%{marker.size}<br>Total Recovered=%{y}<extra></extra>",
         "legendgroup": "Honduras",
         "marker": {
          "color": "#FFA15A",
          "size": [
           472340
          ],
          "sizemode": "area",
          "sizeref": 264164.9525,
          "symbol": "circle"
         },
         "mode": "markers",
         "name": "Honduras",
         "orientation": "v",
         "showlegend": true,
         "type": "scatter",
         "x": [
          472340
         ],
         "xaxis": "x",
         "y": [
          null
         ],
         "yaxis": "y"
        },
        {
         "hovertemplate": "Country, Other=Armenia<br>Total Cases=%{marker.size}<br>Total Recovered=%{y}<extra></extra>",
         "legendgroup": "Armenia",
         "marker": {
          "color": "#19d3f3",
          "size": [
           447308
          ],
          "sizemode": "area",
          "sizeref": 264164.9525,
          "symbol": "circle"
         },
         "mode": "markers",
         "name": "Armenia",
         "orientation": "v",
         "showlegend": true,
         "type": "scatter",
         "x": [
          447308
         ],
         "xaxis": "x",
         "y": [
          435162
         ],
         "yaxis": "y"
        },
        {
         "hovertemplate": "Country, Other=Bosnia and Herzegovina<br>Total Cases=%{marker.size}<br>Total Recovered=%{y}<extra></extra>",
         "legendgroup": "Bosnia and Herzegovina",
         "marker": {
          "color": "#FF6692",
          "size": [
           401729
          ],
          "sizemode": "area",
          "sizeref": 264164.9525,
          "symbol": "circle"
         },
         "mode": "markers",
         "name": "Bosnia and Herzegovina",
         "orientation": "v",
         "showlegend": true,
         "type": "scatter",
         "x": [
          401729
         ],
         "xaxis": "x",
         "y": [
          379084
         ],
         "yaxis": "y"
        },
        {
         "hovertemplate": "Country, Other=Oman<br>Total Cases=%{marker.size}<br>Total Recovered=%{y}<extra></extra>",
         "legendgroup": "Oman",
         "marker": {
          "color": "#B6E880",
          "size": [
           399449
          ],
          "sizemode": "area",
          "sizeref": 264164.9525,
          "symbol": "circle"
         },
         "mode": "markers",
         "name": "Oman",
         "orientation": "v",
         "showlegend": true,
         "type": "scatter",
         "x": [
          399449
         ],
         "xaxis": "x",
         "y": [
          384669
         ],
         "yaxis": "y"
        },
        {
         "hovertemplate": "Country, Other=North Macedonia<br>Total Cases=%{marker.size}<br>Total Recovered=%{y}<extra></extra>",
         "legendgroup": "North Macedonia",
         "marker": {
          "color": "#FF97FF",
          "size": [
           346852
          ],
          "sizemode": "area",
          "sizeref": 264164.9525,
          "symbol": "circle"
         },
         "mode": "markers",
         "name": "North Macedonia",
         "orientation": "v",
         "showlegend": true,
         "type": "scatter",
         "x": [
          346852
         ],
         "xaxis": "x",
         "y": [
          337068
         ],
         "yaxis": "y"
        },
        {
         "hovertemplate": "Country, Other=Zambia<br>Total Cases=%{marker.size}<br>Total Recovered=%{y}<extra></extra>",
         "legendgroup": "Zambia",
         "marker": {
          "color": "#FECB52",
          "size": [
           343271
          ],
          "sizemode": "area",
          "sizeref": 264164.9525,
          "symbol": "circle"
         },
         "mode": "markers",
         "name": "Zambia",
         "orientation": "v",
         "showlegend": true,
         "type": "scatter",
         "x": [
          343271
         ],
         "xaxis": "x",
         "y": [
          339079
         ],
         "yaxis": "y"
        },
        {
         "hovertemplate": "Country, Other=Kenya<br>Total Cases=%{marker.size}<br>Total Recovered=%{y}<extra></extra>",
         "legendgroup": "Kenya",
         "marker": {
          "color": "#636efa",
          "size": [
           342938
          ],
          "sizemode": "area",
          "sizeref": 264164.9525,
          "symbol": "circle"
         },
         "mode": "markers",
         "name": "Kenya",
         "orientation": "v",
         "showlegend": true,
         "type": "scatter",
         "x": [
          342938
         ],
         "xaxis": "x",
         "y": [
          337225
         ],
         "yaxis": "y"
        },
        {
         "hovertemplate": "Country, Other=Albania<br>Total Cases=%{marker.size}<br>Total Recovered=%{y}<extra></extra>",
         "legendgroup": "Albania",
         "marker": {
          "color": "#EF553B",
          "size": [
           334523
          ],
          "sizemode": "area",
          "sizeref": 264164.9525,
          "symbol": "circle"
         },
         "mode": "markers",
         "name": "Albania",
         "orientation": "v",
         "showlegend": true,
         "type": "scatter",
         "x": [
          334523
         ],
         "xaxis": "x",
         "y": [
          329228
         ],
         "yaxis": "y"
        },
        {
         "hovertemplate": "Country, Other=Botswana<br>Total Cases=%{marker.size}<br>Total Recovered=%{y}<extra></extra>",
         "legendgroup": "Botswana",
         "marker": {
          "color": "#00cc96",
          "size": [
           329769
          ],
          "sizemode": "area",
          "sizeref": 264164.9525,
          "symbol": "circle"
         },
         "mode": "markers",
         "name": "Botswana",
         "orientation": "v",
         "showlegend": true,
         "type": "scatter",
         "x": [
          329769
         ],
         "xaxis": "x",
         "y": [
          326962
         ],
         "yaxis": "y"
        },
        {
         "hovertemplate": "Country, Other=Luxembourg<br>Total Cases=%{marker.size}<br>Total Recovered=%{y}<extra></extra>",
         "legendgroup": "Luxembourg",
         "marker": {
          "color": "#ab63fa",
          "size": [
           297757
          ],
          "sizemode": "area",
          "sizeref": 264164.9525,
          "symbol": "circle"
         },
         "mode": "markers",
         "name": "Luxembourg",
         "orientation": "v",
         "showlegend": true,
         "type": "scatter",
         "x": [
          297757
         ],
         "xaxis": "x",
         "y": [
          288991
         ],
         "yaxis": "y"
        },
        {
         "hovertemplate": "Country, Other=Montenegro<br>Total Cases=%{marker.size}<br>Total Recovered=%{y}<extra></extra>",
         "legendgroup": "Montenegro",
         "marker": {
          "color": "#FFA15A",
          "size": [
           289069
          ],
          "sizemode": "area",
          "sizeref": 264164.9525,
          "symbol": "circle"
         },
         "mode": "markers",
         "name": "Montenegro",
         "orientation": "v",
         "showlegend": true,
         "type": "scatter",
         "x": [
          289069
         ],
         "xaxis": "x",
         "y": [
          285610
         ],
         "yaxis": "y"
        },
        {
         "hovertemplate": "Country, Other=Brunei <br>Total Cases=%{marker.size}<br>Total Recovered=%{y}<extra></extra>",
         "legendgroup": "Brunei ",
         "marker": {
          "color": "#19d3f3",
          "size": [
           279661
          ],
          "sizemode": "area",
          "sizeref": 264164.9525,
          "symbol": "circle"
         },
         "mode": "markers",
         "name": "Brunei ",
         "orientation": "v",
         "showlegend": true,
         "type": "scatter",
         "x": [
          279661
         ],
         "xaxis": "x",
         "y": [
          243601
         ],
         "yaxis": "y"
        },
        {
         "hovertemplate": "Country, Other=Algeria<br>Total Cases=%{marker.size}<br>Total Recovered=%{y}<extra></extra>",
         "legendgroup": "Algeria",
         "marker": {
          "color": "#FF6692",
          "size": [
           271535
          ],
          "sizemode": "area",
          "sizeref": 264164.9525,
          "symbol": "circle"
         },
         "mode": "markers",
         "name": "Algeria",
         "orientation": "v",
         "showlegend": true,
         "type": "scatter",
         "x": [
          271535
         ],
         "xaxis": "x",
         "y": [
          182831
         ],
         "yaxis": "y"
        },
        {
         "hovertemplate": "Country, Other=Nigeria<br>Total Cases=%{marker.size}<br>Total Recovered=%{y}<extra></extra>",
         "legendgroup": "Nigeria",
         "marker": {
          "color": "#B6E880",
          "size": [
           266628
          ],
          "sizemode": "area",
          "sizeref": 264164.9525,
          "symbol": "circle"
         },
         "mode": "markers",
         "name": "Nigeria",
         "orientation": "v",
         "showlegend": true,
         "type": "scatter",
         "x": [
          266628
         ],
         "xaxis": "x",
         "y": [
          259938
         ],
         "yaxis": "y"
        },
        {
         "hovertemplate": "Country, Other=Zimbabwe<br>Total Cases=%{marker.size}<br>Total Recovered=%{y}<extra></extra>",
         "legendgroup": "Zimbabwe",
         "marker": {
          "color": "#FF97FF",
          "size": [
           264276
          ],
          "sizemode": "area",
          "sizeref": 264164.9525,
          "symbol": "circle"
         },
         "mode": "markers",
         "name": "Zimbabwe",
         "orientation": "v",
         "showlegend": true,
         "type": "scatter",
         "x": [
          264276
         ],
         "xaxis": "x",
         "y": [
          258184
         ],
         "yaxis": "y"
        },
        {
         "hovertemplate": "Country, Other=Uzbekistan<br>Total Cases=%{marker.size}<br>Total Recovered=%{y}<extra></extra>",
         "legendgroup": "Uzbekistan",
         "marker": {
          "color": "#FECB52",
          "size": [
           251247
          ],
          "sizemode": "area",
          "sizeref": 264164.9525,
          "symbol": "circle"
         },
         "mode": "markers",
         "name": "Uzbekistan",
         "orientation": "v",
         "showlegend": true,
         "type": "scatter",
         "x": [
          251247
         ],
         "xaxis": "x",
         "y": [
          241486
         ],
         "yaxis": "y"
        },
        {
         "hovertemplate": "Country, Other=Mozambique<br>Total Cases=%{marker.size}<br>Total Recovered=%{y}<extra></extra>",
         "legendgroup": "Mozambique",
         "marker": {
          "color": "#636efa",
          "size": [
           233214
          ],
          "sizemode": "area",
          "sizeref": 264164.9525,
          "symbol": "circle"
         },
         "mode": "markers",
         "name": "Mozambique",
         "orientation": "v",
         "showlegend": true,
         "type": "scatter",
         "x": [
          233214
         ],
         "xaxis": "x",
         "y": [
          228805
         ],
         "yaxis": "y"
        },
        {
         "hovertemplate": "Country, Other=Martinique<br>Total Cases=%{marker.size}<br>Total Recovered=%{y}<extra></extra>",
         "legendgroup": "Martinique",
         "marker": {
          "color": "#EF553B",
          "size": [
           229807
          ],
          "sizemode": "area",
          "sizeref": 264164.9525,
          "symbol": "circle"
         },
         "mode": "markers",
         "name": "Martinique",
         "orientation": "v",
         "showlegend": true,
         "type": "scatter",
         "x": [
          229807
         ],
         "xaxis": "x",
         "y": [
          null
         ],
         "yaxis": "y"
        },
        {
         "hovertemplate": "Country, Other=Laos<br>Total Cases=%{marker.size}<br>Total Recovered=%{y}<extra></extra>",
         "legendgroup": "Laos",
         "marker": {
          "color": "#00cc96",
          "size": [
           218024
          ],
          "sizemode": "area",
          "sizeref": 264164.9525,
          "symbol": "circle"
         },
         "mode": "markers",
         "name": "Laos",
         "orientation": "v",
         "showlegend": true,
         "type": "scatter",
         "x": [
          218024
         ],
         "xaxis": "x",
         "y": [
          null
         ],
         "yaxis": "y"
        },
        {
         "hovertemplate": "Country, Other=Afghanistan<br>Total Cases=%{marker.size}<br>Total Recovered=%{y}<extra></extra>",
         "legendgroup": "Afghanistan",
         "marker": {
          "color": "#ab63fa",
          "size": [
           209602
          ],
          "sizemode": "area",
          "sizeref": 264164.9525,
          "symbol": "circle"
         },
         "mode": "markers",
         "name": "Afghanistan",
         "orientation": "v",
         "showlegend": true,
         "type": "scatter",
         "x": [
          209602
         ],
         "xaxis": "x",
         "y": [
          191463
         ],
         "yaxis": "y"
        },
        {
         "hovertemplate": "Country, Other=Iceland<br>Total Cases=%{marker.size}<br>Total Recovered=%{y}<extra></extra>",
         "legendgroup": "Iceland",
         "marker": {
          "color": "#FFA15A",
          "size": [
           209168
          ],
          "sizemode": "area",
          "sizeref": 264164.9525,
          "symbol": "circle"
         },
         "mode": "markers",
         "name": "Iceland",
         "orientation": "v",
         "showlegend": true,
         "type": "scatter",
         "x": [
          209168
         ],
         "xaxis": "x",
         "y": [
          null
         ],
         "yaxis": "y"
        },
        {
         "hovertemplate": "Country, Other=Kyrgyzstan<br>Total Cases=%{marker.size}<br>Total Recovered=%{y}<extra></extra>",
         "legendgroup": "Kyrgyzstan",
         "marker": {
          "color": "#19d3f3",
          "size": [
           206708
          ],
          "sizemode": "area",
          "sizeref": 264164.9525,
          "symbol": "circle"
         },
         "mode": "markers",
         "name": "Kyrgyzstan",
         "orientation": "v",
         "showlegend": true,
         "type": "scatter",
         "x": [
          206708
         ],
         "xaxis": "x",
         "y": [
          196406
         ],
         "yaxis": "y"
        },
        {
         "hovertemplate": "Country, Other=Guadeloupe<br>Total Cases=%{marker.size}<br>Total Recovered=%{y}<extra></extra>",
         "legendgroup": "Guadeloupe",
         "marker": {
          "color": "#FF6692",
          "size": [
           201886
          ],
          "sizemode": "area",
          "sizeref": 264164.9525,
          "symbol": "circle"
         },
         "mode": "markers",
         "name": "Guadeloupe",
         "orientation": "v",
         "showlegend": true,
         "type": "scatter",
         "x": [
          201886
         ],
         "xaxis": "x",
         "y": [
          null
         ],
         "yaxis": "y"
        },
        {
         "hovertemplate": "Country, Other=El Salvador<br>Total Cases=%{marker.size}<br>Total Recovered=%{y}<extra></extra>",
         "legendgroup": "El Salvador",
         "marker": {
          "color": "#B6E880",
          "size": [
           201785
          ],
          "sizemode": "area",
          "sizeref": 264164.9525,
          "symbol": "circle"
         },
         "mode": "markers",
         "name": "El Salvador",
         "orientation": "v",
         "showlegend": true,
         "type": "scatter",
         "x": [
          201785
         ],
         "xaxis": "x",
         "y": [
          179410
         ],
         "yaxis": "y"
        },
        {
         "hovertemplate": "Country, Other=Trinidad and Tobago<br>Total Cases=%{marker.size}<br>Total Recovered=%{y}<extra></extra>",
         "legendgroup": "Trinidad and Tobago",
         "marker": {
          "color": "#FF97FF",
          "size": [
           190285
          ],
          "sizemode": "area",
          "sizeref": 264164.9525,
          "symbol": "circle"
         },
         "mode": "markers",
         "name": "Trinidad and Tobago",
         "orientation": "v",
         "showlegend": true,
         "type": "scatter",
         "x": [
          190285
         ],
         "xaxis": "x",
         "y": [
          185714
         ],
         "yaxis": "y"
        },
        {
         "hovertemplate": "Country, Other=Maldives<br>Total Cases=%{marker.size}<br>Total Recovered=%{y}<extra></extra>",
         "legendgroup": "Maldives",
         "marker": {
          "color": "#FECB52",
          "size": [
           185744
          ],
          "sizemode": "area",
          "sizeref": 264164.9525,
          "symbol": "circle"
         },
         "mode": "markers",
         "name": "Maldives",
         "orientation": "v",
         "showlegend": true,
         "type": "scatter",
         "x": [
          185744
         ],
         "xaxis": "x",
         "y": [
          163687
         ],
         "yaxis": "y"
        },
        {
         "hovertemplate": "Country, Other=Ghana<br>Total Cases=%{marker.size}<br>Total Recovered=%{y}<extra></extra>",
         "legendgroup": "Ghana",
         "marker": {
          "color": "#636efa",
          "size": [
           171288
          ],
          "sizemode": "area",
          "sizeref": 264164.9525,
          "symbol": "circle"
         },
         "mode": "markers",
         "name": "Ghana",
         "orientation": "v",
         "showlegend": true,
         "type": "scatter",
         "x": [
          171288
         ],
         "xaxis": "x",
         "y": [
          169781
         ],
         "yaxis": "y"
        },
        {
         "hovertemplate": "Country, Other=Namibia<br>Total Cases=%{marker.size}<br>Total Recovered=%{y}<extra></extra>",
         "legendgroup": "Namibia",
         "marker": {
          "color": "#EF553B",
          "size": [
           171156
          ],
          "sizemode": "area",
          "sizeref": 264164.9525,
          "symbol": "circle"
         },
         "mode": "markers",
         "name": "Namibia",
         "orientation": "v",
         "showlegend": true,
         "type": "scatter",
         "x": [
          171156
         ],
         "xaxis": "x",
         "y": [
          166776
         ],
         "yaxis": "y"
        },
        {
         "hovertemplate": "Country, Other=Uganda<br>Total Cases=%{marker.size}<br>Total Recovered=%{y}<extra></extra>",
         "legendgroup": "Uganda",
         "marker": {
          "color": "#00cc96",
          "size": [
           170558
          ],
          "sizemode": "area",
          "sizeref": 264164.9525,
          "symbol": "circle"
         },
         "mode": "markers",
         "name": "Uganda",
         "orientation": "v",
         "showlegend": true,
         "type": "scatter",
         "x": [
          170558
         ],
         "xaxis": "x",
         "y": [
          100431
         ],
         "yaxis": "y"
        },
        {
         "hovertemplate": "Country, Other=Jamaica<br>Total Cases=%{marker.size}<br>Total Recovered=%{y}<extra></extra>",
         "legendgroup": "Jamaica",
         "marker": {
          "color": "#ab63fa",
          "size": [
           154416
          ],
          "sizemode": "area",
          "sizeref": 264164.9525,
          "symbol": "circle"
         },
         "mode": "markers",
         "name": "Jamaica",
         "orientation": "v",
         "showlegend": true,
         "type": "scatter",
         "x": [
          154416
         ],
         "xaxis": "x",
         "y": [
          102529
         ],
         "yaxis": "y"
        },
        {
         "hovertemplate": "Country, Other=Cambodia<br>Total Cases=%{marker.size}<br>Total Recovered=%{y}<extra></extra>",
         "legendgroup": "Cambodia",
         "marker": {
          "color": "#FFA15A",
          "size": [
           138720
          ],
          "sizemode": "area",
          "sizeref": 264164.9525,
          "symbol": "circle"
         },
         "mode": "markers",
         "name": "Cambodia",
         "orientation": "v",
         "showlegend": true,
         "type": "scatter",
         "x": [
          138720
         ],
         "xaxis": "x",
         "y": [
          135661
         ],
         "yaxis": "y"
        },
        {
         "hovertemplate": "Country, Other=Rwanda<br>Total Cases=%{marker.size}<br>Total Recovered=%{y}<extra></extra>",
         "legendgroup": "Rwanda",
         "marker": {
          "color": "#19d3f3",
          "size": [
           133194
          ],
          "sizemode": "area",
          "sizeref": 264164.9525,
          "symbol": "circle"
         },
         "mode": "markers",
         "name": "Rwanda",
         "orientation": "v",
         "showlegend": true,
         "type": "scatter",
         "x": [
          133194
         ],
         "xaxis": "x",
         "y": [
          131647
         ],
         "yaxis": "y"
        },
        {
         "hovertemplate": "Country, Other=Cameroon<br>Total Cases=%{marker.size}<br>Total Recovered=%{y}<extra></extra>",
         "legendgroup": "Cameroon",
         "marker": {
          "color": "#FF6692",
          "size": [
           124605
          ],
          "sizemode": "area",
          "sizeref": 264164.9525,
          "symbol": "circle"
         },
         "mode": "markers",
         "name": "Cameroon",
         "orientation": "v",
         "showlegend": true,
         "type": "scatter",
         "x": [
          124605
         ],
         "xaxis": "x",
         "y": [
          122434
         ],
         "yaxis": "y"
        },
        {
         "hovertemplate": "Country, Other=Malta<br>Total Cases=%{marker.size}<br>Total Recovered=%{y}<extra></extra>",
         "legendgroup": "Malta",
         "marker": {
          "color": "#B6E880",
          "size": [
           117749
          ],
          "sizemode": "area",
          "sizeref": 264164.9525,
          "symbol": "circle"
         },
         "mode": "markers",
         "name": "Malta",
         "orientation": "v",
         "showlegend": true,
         "type": "scatter",
         "x": [
          117749
         ],
         "xaxis": "x",
         "y": [
          116248
         ],
         "yaxis": "y"
        },
        {
         "hovertemplate": "Country, Other=Barbados<br>Total Cases=%{marker.size}<br>Total Recovered=%{y}<extra></extra>",
         "legendgroup": "Barbados",
         "marker": {
          "color": "#FF97FF",
          "size": [
           106798
          ],
          "sizemode": "area",
          "sizeref": 264164.9525,
          "symbol": "circle"
         },
         "mode": "markers",
         "name": "Barbados",
         "orientation": "v",
         "showlegend": true,
         "type": "scatter",
         "x": [
          106798
         ],
         "xaxis": "x",
         "y": [
          106211
         ],
         "yaxis": "y"
        },
        {
         "hovertemplate": "Country, Other=Angola<br>Total Cases=%{marker.size}<br>Total Recovered=%{y}<extra></extra>",
         "legendgroup": "Angola",
         "marker": {
          "color": "#FECB52",
          "size": [
           105288
          ],
          "sizemode": "area",
          "sizeref": 264164.9525,
          "symbol": "circle"
         },
         "mode": "markers",
         "name": "Angola",
         "orientation": "v",
         "showlegend": true,
         "type": "scatter",
         "x": [
          105288
         ],
         "xaxis": "x",
         "y": [
          103342
         ],
         "yaxis": "y"
        },
        {
         "hovertemplate": "Country, Other=Channel Islands<br>Total Cases=%{marker.size}<br>Total Recovered=%{y}<extra></extra>",
         "legendgroup": "Channel Islands",
         "marker": {
          "color": "#636efa",
          "size": [
           101530
          ],
          "sizemode": "area",
          "sizeref": 264164.9525,
          "symbol": "circle"
         },
         "mode": "markers",
         "name": "Channel Islands",
         "orientation": "v",
         "showlegend": true,
         "type": "scatter",
         "x": [
          101530
         ],
         "xaxis": "x",
         "y": [
          101161
         ],
         "yaxis": "y"
        },
        {
         "hovertemplate": "Country, Other=French Guiana<br>Total Cases=%{marker.size}<br>Total Recovered=%{y}<extra></extra>",
         "legendgroup": "French Guiana",
         "marker": {
          "color": "#EF553B",
          "size": [
           98041
          ],
          "sizemode": "area",
          "sizeref": 264164.9525,
          "symbol": "circle"
         },
         "mode": "markers",
         "name": "French Guiana",
         "orientation": "v",
         "showlegend": true,
         "type": "scatter",
         "x": [
          98041
         ],
         "xaxis": "x",
         "y": [
          11254
         ],
         "yaxis": "y"
        },
        {
         "hovertemplate": "Country, Other=DRC<br>Total Cases=%{marker.size}<br>Total Recovered=%{y}<extra></extra>",
         "legendgroup": "DRC",
         "marker": {
          "color": "#00cc96",
          "size": [
           95815
          ],
          "sizemode": "area",
          "sizeref": 264164.9525,
          "symbol": "circle"
         },
         "mode": "markers",
         "name": "DRC",
         "orientation": "v",
         "showlegend": true,
         "type": "scatter",
         "x": [
          95815
         ],
         "xaxis": "x",
         "y": [
          84379
         ],
         "yaxis": "y"
        },
        {
         "hovertemplate": "Country, Other=Senegal<br>Total Cases=%{marker.size}<br>Total Recovered=%{y}<extra></extra>",
         "legendgroup": "Senegal",
         "marker": {
          "color": "#ab63fa",
          "size": [
           88926
          ],
          "sizemode": "area",
          "sizeref": 264164.9525,
          "symbol": "circle"
         },
         "mode": "markers",
         "name": "Senegal",
         "orientation": "v",
         "showlegend": true,
         "type": "scatter",
         "x": [
          88926
         ],
         "xaxis": "x",
         "y": [
          86947
         ],
         "yaxis": "y"
        },
        {
         "hovertemplate": "Country, Other=Malawi<br>Total Cases=%{marker.size}<br>Total Recovered=%{y}<extra></extra>",
         "legendgroup": "Malawi",
         "marker": {
          "color": "#FFA15A",
          "size": [
           88707
          ],
          "sizemode": "area",
          "sizeref": 264164.9525,
          "symbol": "circle"
         },
         "mode": "markers",
         "name": "Malawi",
         "orientation": "v",
         "showlegend": true,
         "type": "scatter",
         "x": [
          88707
         ],
         "xaxis": "x",
         "y": [
          85583
         ],
         "yaxis": "y"
        },
        {
         "hovertemplate": "Country, Other=Ivory Coast<br>Total Cases=%{marker.size}<br>Total Recovered=%{y}<extra></extra>",
         "legendgroup": "Ivory Coast",
         "marker": {
          "color": "#19d3f3",
          "size": [
           88286
          ],
          "sizemode": "area",
          "sizeref": 264164.9525,
          "symbol": "circle"
         },
         "mode": "markers",
         "name": "Ivory Coast",
         "orientation": "v",
         "showlegend": true,
         "type": "scatter",
         "x": [
          88286
         ],
         "xaxis": "x",
         "y": [
          87426
         ],
         "yaxis": "y"
        },
        {
         "hovertemplate": "Country, Other=Suriname<br>Total Cases=%{marker.size}<br>Total Recovered=%{y}<extra></extra>",
         "legendgroup": "Suriname",
         "marker": {
          "color": "#FF6692",
          "size": [
           82467
          ],
          "sizemode": "area",
          "sizeref": 264164.9525,
          "symbol": "circle"
         },
         "mode": "markers",
         "name": "Suriname",
         "orientation": "v",
         "showlegend": true,
         "type": "scatter",
         "x": [
          82467
         ],
         "xaxis": "x",
         "y": [
          null
         ],
         "yaxis": "y"
        },
        {
         "hovertemplate": "Country, Other=New Caledonia<br>Total Cases=%{marker.size}<br>Total Recovered=%{y}<extra></extra>",
         "legendgroup": "New Caledonia",
         "marker": {
          "color": "#B6E880",
          "size": [
           79881
          ],
          "sizemode": "area",
          "sizeref": 264164.9525,
          "symbol": "circle"
         },
         "mode": "markers",
         "name": "New Caledonia",
         "orientation": "v",
         "showlegend": true,
         "type": "scatter",
         "x": [
          79881
         ],
         "xaxis": "x",
         "y": [
          79558
         ],
         "yaxis": "y"
        },
        {
         "hovertemplate": "Country, Other=French Polynesia<br>Total Cases=%{marker.size}<br>Total Recovered=%{y}<extra></extra>",
         "legendgroup": "French Polynesia",
         "marker": {
          "color": "#FF97FF",
          "size": [
           78055
          ],
          "sizemode": "area",
          "sizeref": 264164.9525,
          "symbol": "circle"
         },
         "mode": "markers",
         "name": "French Polynesia",
         "orientation": "v",
         "showlegend": true,
         "type": "scatter",
         "x": [
          78055
         ],
         "xaxis": "x",
         "y": [
          null
         ],
         "yaxis": "y"
        },
        {
         "hovertemplate": "Country, Other=Eswatini<br>Total Cases=%{marker.size}<br>Total Recovered=%{y}<extra></extra>",
         "legendgroup": "Eswatini",
         "marker": {
          "color": "#FECB52",
          "size": [
           74323
          ],
          "sizemode": "area",
          "sizeref": 264164.9525,
          "symbol": "circle"
         },
         "mode": "markers",
         "name": "Eswatini",
         "orientation": "v",
         "showlegend": true,
         "type": "scatter",
         "x": [
          74323
         ],
         "xaxis": "x",
         "y": [
          72824
         ],
         "yaxis": "y"
        },
        {
         "hovertemplate": "Country, Other=Guyana<br>Total Cases=%{marker.size}<br>Total Recovered=%{y}<extra></extra>",
         "legendgroup": "Guyana",
         "marker": {
          "color": "#636efa",
          "size": [
           73093
          ],
          "sizemode": "area",
          "sizeref": 264164.9525,
          "symbol": "circle"
         },
         "mode": "markers",
         "name": "Guyana",
         "orientation": "v",
         "showlegend": true,
         "type": "scatter",
         "x": [
          73093
         ],
         "xaxis": "x",
         "y": [
          71782
         ],
         "yaxis": "y"
        },
        {
         "hovertemplate": "Country, Other=Belize<br>Total Cases=%{marker.size}<br>Total Recovered=%{y}<extra></extra>",
         "legendgroup": "Belize",
         "marker": {
          "color": "#EF553B",
          "size": [
           70782
          ],
          "sizemode": "area",
          "sizeref": 264164.9525,
          "symbol": "circle"
         },
         "mode": "markers",
         "name": "Belize",
         "orientation": "v",
         "showlegend": true,
         "type": "scatter",
         "x": [
          70782
         ],
         "xaxis": "x",
         "y": [
          70085
         ],
         "yaxis": "y"
        },
        {
         "hovertemplate": "Country, Other=Fiji<br>Total Cases=%{marker.size}<br>Total Recovered=%{y}<extra></extra>",
         "legendgroup": "Fiji",
         "marker": {
          "color": "#00cc96",
          "size": [
           68898
          ],
          "sizemode": "area",
          "sizeref": 264164.9525,
          "symbol": "circle"
         },
         "mode": "markers",
         "name": "Fiji",
         "orientation": "v",
         "showlegend": true,
         "type": "scatter",
         "x": [
          68898
         ],
         "xaxis": "x",
         "y": [
          67006
         ],
         "yaxis": "y"
        },
        {
         "hovertemplate": "Country, Other=Madagascar<br>Total Cases=%{marker.size}<br>Total Recovered=%{y}<extra></extra>",
         "legendgroup": "Madagascar",
         "marker": {
          "color": "#ab63fa",
          "size": [
           67941
          ],
          "sizemode": "area",
          "sizeref": 264164.9525,
          "symbol": "circle"
         },
         "mode": "markers",
         "name": "Madagascar",
         "orientation": "v",
         "showlegend": true,
         "type": "scatter",
         "x": [
          67941
         ],
         "xaxis": "x",
         "y": [
          66470
         ],
         "yaxis": "y"
        },
        {
         "hovertemplate": "Country, Other=Sudan<br>Total Cases=%{marker.size}<br>Total Recovered=%{y}<extra></extra>",
         "legendgroup": "Sudan",
         "marker": {
          "color": "#FFA15A",
          "size": [
           63829
          ],
          "sizemode": "area",
          "sizeref": 264164.9525,
          "symbol": "circle"
         },
         "mode": "markers",
         "name": "Sudan",
         "orientation": "v",
         "showlegend": true,
         "type": "scatter",
         "x": [
          63829
         ],
         "xaxis": "x",
         "y": [
          58541
         ],
         "yaxis": "y"
        },
        {
         "hovertemplate": "Country, Other=Mauritania<br>Total Cases=%{marker.size}<br>Total Recovered=%{y}<extra></extra>",
         "legendgroup": "Mauritania",
         "marker": {
          "color": "#19d3f3",
          "size": [
           63668
          ],
          "sizemode": "area",
          "sizeref": 264164.9525,
          "symbol": "circle"
         },
         "mode": "markers",
         "name": "Mauritania",
         "orientation": "v",
         "showlegend": true,
         "type": "scatter",
         "x": [
          63668
         ],
         "xaxis": "x",
         "y": [
          62441
         ],
         "yaxis": "y"
        },
        {
         "hovertemplate": "Country, Other=Cabo Verde<br>Total Cases=%{marker.size}<br>Total Recovered=%{y}<extra></extra>",
         "legendgroup": "Cabo Verde",
         "marker": {
          "color": "#FF6692",
          "size": [
           63249
          ],
          "sizemode": "area",
          "sizeref": 264164.9525,
          "symbol": "circle"
         },
         "mode": "markers",
         "name": "Cabo Verde",
         "orientation": "v",
         "showlegend": true,
         "type": "scatter",
         "x": [
          63249
         ],
         "xaxis": "x",
         "y": [
          62780
         ],
         "yaxis": "y"
        },
        {
         "hovertemplate": "Country, Other=Bhutan<br>Total Cases=%{marker.size}<br>Total Recovered=%{y}<extra></extra>",
         "legendgroup": "Bhutan",
         "marker": {
          "color": "#B6E880",
          "size": [
           62627
          ],
          "sizemode": "area",
          "sizeref": 264164.9525,
          "symbol": "circle"
         },
         "mode": "markers",
         "name": "Bhutan",
         "orientation": "v",
         "showlegend": true,
         "type": "scatter",
         "x": [
          62627
         ],
         "xaxis": "x",
         "y": [
          61564
         ],
         "yaxis": "y"
        },
        {
         "hovertemplate": "Country, Other=Syria<br>Total Cases=%{marker.size}<br>Total Recovered=%{y}<extra></extra>",
         "legendgroup": "Syria",
         "marker": {
          "color": "#FF97FF",
          "size": [
           57478
          ],
          "sizemode": "area",
          "sizeref": 264164.9525,
          "symbol": "circle"
         },
         "mode": "markers",
         "name": "Syria",
         "orientation": "v",
         "showlegend": true,
         "type": "scatter",
         "x": [
          57478
         ],
         "xaxis": "x",
         "y": [
          54314
         ],
         "yaxis": "y"
        },
        {
         "hovertemplate": "Country, Other=Burundi<br>Total Cases=%{marker.size}<br>Total Recovered=%{y}<extra></extra>",
         "legendgroup": "Burundi",
         "marker": {
          "color": "#FECB52",
          "size": [
           53631
          ],
          "sizemode": "area",
          "sizeref": 264164.9525,
          "symbol": "circle"
         },
         "mode": "markers",
         "name": "Burundi",
         "orientation": "v",
         "showlegend": true,
         "type": "scatter",
         "x": [
          53631
         ],
         "xaxis": "x",
         "y": [
          53569
         ],
         "yaxis": "y"
        },
        {
         "hovertemplate": "Country, Other=Seychelles<br>Total Cases=%{marker.size}<br>Total Recovered=%{y}<extra></extra>",
         "legendgroup": "Seychelles",
         "marker": {
          "color": "#636efa",
          "size": [
           50937
          ],
          "sizemode": "area",
          "sizeref": 264164.9525,
          "symbol": "circle"
         },
         "mode": "markers",
         "name": "Seychelles",
         "orientation": "v",
         "showlegend": true,
         "type": "scatter",
         "x": [
          50937
         ],
         "xaxis": "x",
         "y": [
          50750
         ],
         "yaxis": "y"
        },
        {
         "hovertemplate": "Country, Other=Gabon<br>Total Cases=%{marker.size}<br>Total Recovered=%{y}<extra></extra>",
         "legendgroup": "Gabon",
         "marker": {
          "color": "#EF553B",
          "size": [
           48981
          ],
          "sizemode": "area",
          "sizeref": 264164.9525,
          "symbol": "circle"
         },
         "mode": "markers",
         "name": "Gabon",
         "orientation": "v",
         "showlegend": true,
         "type": "scatter",
         "x": [
          48981
         ],
         "xaxis": "x",
         "y": [
          48674
         ],
         "yaxis": "y"
        },
        {
         "hovertemplate": "Country, Other=Andorra<br>Total Cases=%{marker.size}<br>Total Recovered=%{y}<extra></extra>",
         "legendgroup": "Andorra",
         "marker": {
          "color": "#00cc96",
          "size": [
           47890
          ],
          "sizemode": "area",
          "sizeref": 264164.9525,
          "symbol": "circle"
         },
         "mode": "markers",
         "name": "Andorra",
         "orientation": "v",
         "showlegend": true,
         "type": "scatter",
         "x": [
          47890
         ],
         "xaxis": "x",
         "y": [
          47563
         ],
         "yaxis": "y"
        },
        {
         "hovertemplate": "Country, Other=Papua New Guinea<br>Total Cases=%{marker.size}<br>Total Recovered=%{y}<extra></extra>",
         "legendgroup": "Papua New Guinea",
         "marker": {
          "color": "#ab63fa",
          "size": [
           46825
          ],
          "sizemode": "area",
          "sizeref": 264164.9525,
          "symbol": "circle"
         },
         "mode": "markers",
         "name": "Papua New Guinea",
         "orientation": "v",
         "showlegend": true,
         "type": "scatter",
         "x": [
          46825
         ],
         "xaxis": "x",
         "y": [
          43982
         ],
         "yaxis": "y"
        },
        {
         "hovertemplate": "Country, Other=Curaçao<br>Total Cases=%{marker.size}<br>Total Recovered=%{y}<extra></extra>",
         "legendgroup": "Curaçao",
         "marker": {
          "color": "#FFA15A",
          "size": [
           45986
          ],
          "sizemode": "area",
          "sizeref": 264164.9525,
          "symbol": "circle"
         },
         "mode": "markers",
         "name": "Curaçao",
         "orientation": "v",
         "showlegend": true,
         "type": "scatter",
         "x": [
          45986
         ],
         "xaxis": "x",
         "y": [
          44720
         ],
         "yaxis": "y"
        },
        {
         "hovertemplate": "Country, Other=Aruba<br>Total Cases=%{marker.size}<br>Total Recovered=%{y}<extra></extra>",
         "legendgroup": "Aruba",
         "marker": {
          "color": "#19d3f3",
          "size": [
           44044
          ],
          "sizemode": "area",
          "sizeref": 264164.9525,
          "symbol": "circle"
         },
         "mode": "markers",
         "name": "Aruba",
         "orientation": "v",
         "showlegend": true,
         "type": "scatter",
         "x": [
          44044
         ],
         "xaxis": "x",
         "y": [
          42438
         ],
         "yaxis": "y"
        },
        {
         "hovertemplate": "Country, Other=Tanzania<br>Total Cases=%{marker.size}<br>Total Recovered=%{y}<extra></extra>",
         "legendgroup": "Tanzania",
         "marker": {
          "color": "#FF6692",
          "size": [
           42906
          ],
          "sizemode": "area",
          "sizeref": 264164.9525,
          "symbol": "circle"
         },
         "mode": "markers",
         "name": "Tanzania",
         "orientation": "v",
         "showlegend": true,
         "type": "scatter",
         "x": [
          42906
         ],
         "xaxis": "x",
         "y": [
          null
         ],
         "yaxis": "y"
        },
        {
         "hovertemplate": "Country, Other=Mayotte<br>Total Cases=%{marker.size}<br>Total Recovered=%{y}<extra></extra>",
         "legendgroup": "Mayotte",
         "marker": {
          "color": "#B6E880",
          "size": [
           42004
          ],
          "sizemode": "area",
          "sizeref": 264164.9525,
          "symbol": "circle"
         },
         "mode": "markers",
         "name": "Mayotte",
         "orientation": "v",
         "showlegend": true,
         "type": "scatter",
         "x": [
          42004
         ],
         "xaxis": "x",
         "y": [
          null
         ],
         "yaxis": "y"
        },
        {
         "hovertemplate": "Country, Other=Mauritius<br>Total Cases=%{marker.size}<br>Total Recovered=%{y}<extra></extra>",
         "legendgroup": "Mauritius",
         "marker": {
          "color": "#FF97FF",
          "size": [
           41769
          ],
          "sizemode": "area",
          "sizeref": 264164.9525,
          "symbol": "circle"
         },
         "mode": "markers",
         "name": "Mauritius",
         "orientation": "v",
         "showlegend": true,
         "type": "scatter",
         "x": [
          41769
         ],
         "xaxis": "x",
         "y": [
          40052
         ],
         "yaxis": "y"
        },
        {
         "hovertemplate": "Country, Other=Togo<br>Total Cases=%{marker.size}<br>Total Recovered=%{y}<extra></extra>",
         "legendgroup": "Togo",
         "marker": {
          "color": "#FECB52",
          "size": [
           39408
          ],
          "sizemode": "area",
          "sizeref": 264164.9525,
          "symbol": "circle"
         },
         "mode": "markers",
         "name": "Togo",
         "orientation": "v",
         "showlegend": true,
         "type": "scatter",
         "x": [
          39408
         ],
         "xaxis": "x",
         "y": [
          39085
         ],
         "yaxis": "y"
        },
        {
         "hovertemplate": "Country, Other=Guinea<br>Total Cases=%{marker.size}<br>Total Recovered=%{y}<extra></extra>",
         "legendgroup": "Guinea",
         "marker": {
          "color": "#636efa",
          "size": [
           38267
          ],
          "sizemode": "area",
          "sizeref": 264164.9525,
          "symbol": "circle"
         },
         "mode": "markers",
         "name": "Guinea",
         "orientation": "v",
         "showlegend": true,
         "type": "scatter",
         "x": [
          38267
         ],
         "xaxis": "x",
         "y": [
          37757
         ],
         "yaxis": "y"
        },
        {
         "hovertemplate": "Country, Other=Isle of Man<br>Total Cases=%{marker.size}<br>Total Recovered=%{y}<extra></extra>",
         "legendgroup": "Isle of Man",
         "marker": {
          "color": "#EF553B",
          "size": [
           38008
          ],
          "sizemode": "area",
          "sizeref": 264164.9525,
          "symbol": "circle"
         },
         "mode": "markers",
         "name": "Isle of Man",
         "orientation": "v",
         "showlegend": true,
         "type": "scatter",
         "x": [
          38008
         ],
         "xaxis": "x",
         "y": [
          null
         ],
         "yaxis": "y"
        },
        {
         "hovertemplate": "Country, Other=Bahamas<br>Total Cases=%{marker.size}<br>Total Recovered=%{y}<extra></extra>",
         "legendgroup": "Bahamas",
         "marker": {
          "color": "#00cc96",
          "size": [
           37491
          ],
          "sizemode": "area",
          "sizeref": 264164.9525,
          "symbol": "circle"
         },
         "mode": "markers",
         "name": "Bahamas",
         "orientation": "v",
         "showlegend": true,
         "type": "scatter",
         "x": [
          37491
         ],
         "xaxis": "x",
         "y": [
          36366
         ],
         "yaxis": "y"
        },
        {
         "hovertemplate": "Country, Other=Lesotho<br>Total Cases=%{marker.size}<br>Total Recovered=%{y}<extra></extra>",
         "legendgroup": "Lesotho",
         "marker": {
          "color": "#ab63fa",
          "size": [
           34790
          ],
          "sizemode": "area",
          "sizeref": 264164.9525,
          "symbol": "circle"
         },
         "mode": "markers",
         "name": "Lesotho",
         "orientation": "v",
         "showlegend": true,
         "type": "scatter",
         "x": [
          34790
         ],
         "xaxis": "x",
         "y": [
          25980
         ],
         "yaxis": "y"
        },
        {
         "hovertemplate": "Country, Other=Faeroe Islands<br>Total Cases=%{marker.size}<br>Total Recovered=%{y}<extra></extra>",
         "legendgroup": "Faeroe Islands",
         "marker": {
          "color": "#FFA15A",
          "size": [
           34658
          ],
          "sizemode": "area",
          "sizeref": 264164.9525,
          "symbol": "circle"
         },
         "mode": "markers",
         "name": "Faeroe Islands",
         "orientation": "v",
         "showlegend": true,
         "type": "scatter",
         "x": [
          34658
         ],
         "xaxis": "x",
         "y": [
          null
         ],
         "yaxis": "y"
        },
        {
         "hovertemplate": "Country, Other=Haiti<br>Total Cases=%{marker.size}<br>Total Recovered=%{y}<extra></extra>",
         "legendgroup": "Haiti",
         "marker": {
          "color": "#19d3f3",
          "size": [
           34202
          ],
          "sizemode": "area",
          "sizeref": 264164.9525,
          "symbol": "circle"
         },
         "mode": "markers",
         "name": "Haiti",
         "orientation": "v",
         "showlegend": true,
         "type": "scatter",
         "x": [
          34202
         ],
         "xaxis": "x",
         "y": [
          33052
         ],
         "yaxis": "y"
        },
        {
         "hovertemplate": "Country, Other=Mali<br>Total Cases=%{marker.size}<br>Total Recovered=%{y}<extra></extra>",
         "legendgroup": "Mali",
         "marker": {
          "color": "#FF6692",
          "size": [
           33068
          ],
          "sizemode": "area",
          "sizeref": 264164.9525,
          "symbol": "circle"
         },
         "mode": "markers",
         "name": "Mali",
         "orientation": "v",
         "showlegend": true,
         "type": "scatter",
         "x": [
          33068
         ],
         "xaxis": "x",
         "y": [
          32224
         ],
         "yaxis": "y"
        },
        {
         "hovertemplate": "Country, Other=Cayman Islands<br>Total Cases=%{marker.size}<br>Total Recovered=%{y}<extra></extra>",
         "legendgroup": "Cayman Islands",
         "marker": {
          "color": "#B6E880",
          "size": [
           31472
          ],
          "sizemode": "area",
          "sizeref": 264164.9525,
          "symbol": "circle"
         },
         "mode": "markers",
         "name": "Cayman Islands",
         "orientation": "v",
         "showlegend": true,
         "type": "scatter",
         "x": [
          31472
         ],
         "xaxis": "x",
         "y": [
          8553
         ],
         "yaxis": "y"
        },
        {
         "hovertemplate": "Country, Other=Saint Lucia<br>Total Cases=%{marker.size}<br>Total Recovered=%{y}<extra></extra>",
         "legendgroup": "Saint Lucia",
         "marker": {
          "color": "#FF97FF",
          "size": [
           30004
          ],
          "sizemode": "area",
          "sizeref": 264164.9525,
          "symbol": "circle"
         },
         "mode": "markers",
         "name": "Saint Lucia",
         "orientation": "v",
         "showlegend": true,
         "type": "scatter",
         "x": [
          30004
         ],
         "xaxis": "x",
         "y": [
          29095
         ],
         "yaxis": "y"
        },
        {
         "hovertemplate": "Country, Other=Benin<br>Total Cases=%{marker.size}<br>Total Recovered=%{y}<extra></extra>",
         "legendgroup": "Benin",
         "marker": {
          "color": "#FECB52",
          "size": [
           27999
          ],
          "sizemode": "area",
          "sizeref": 264164.9525,
          "symbol": "circle"
         },
         "mode": "markers",
         "name": "Benin",
         "orientation": "v",
         "showlegend": true,
         "type": "scatter",
         "x": [
          27999
         ],
         "xaxis": "x",
         "y": [
          27830
         ],
         "yaxis": "y"
        },
        {
         "hovertemplate": "Country, Other=Somalia<br>Total Cases=%{marker.size}<br>Total Recovered=%{y}<extra></extra>",
         "legendgroup": "Somalia",
         "marker": {
          "color": "#636efa",
          "size": [
           27324
          ],
          "sizemode": "area",
          "sizeref": 264164.9525,
          "symbol": "circle"
         },
         "mode": "markers",
         "name": "Somalia",
         "orientation": "v",
         "showlegend": true,
         "type": "scatter",
         "x": [
          27324
         ],
         "xaxis": "x",
         "y": [
          13182
         ],
         "yaxis": "y"
        },
        {
         "hovertemplate": "Country, Other=Congo<br>Total Cases=%{marker.size}<br>Total Recovered=%{y}<extra></extra>",
         "legendgroup": "Congo",
         "marker": {
          "color": "#EF553B",
          "size": [
           25375
          ],
          "sizemode": "area",
          "sizeref": 264164.9525,
          "symbol": "circle"
         },
         "mode": "markers",
         "name": "Congo",
         "orientation": "v",
         "showlegend": true,
         "type": "scatter",
         "x": [
          25375
         ],
         "xaxis": "x",
         "y": [
          24006
         ],
         "yaxis": "y"
        },
        {
         "hovertemplate": "Country, Other=Solomon Islands<br>Total Cases=%{marker.size}<br>Total Recovered=%{y}<extra></extra>",
         "legendgroup": "Solomon Islands",
         "marker": {
          "color": "#00cc96",
          "size": [
           24575
          ],
          "sizemode": "area",
          "sizeref": 264164.9525,
          "symbol": "circle"
         },
         "mode": "markers",
         "name": "Solomon Islands",
         "orientation": "v",
         "showlegend": true,
         "type": "scatter",
         "x": [
          24575
         ],
         "xaxis": "x",
         "y": [
          null
         ],
         "yaxis": "y"
        },
        {
         "hovertemplate": "Country, Other=Micronesia<br>Total Cases=%{marker.size}<br>Total Recovered=%{y}<extra></extra>",
         "legendgroup": "Micronesia",
         "marker": {
          "color": "#ab63fa",
          "size": [
           23948
          ],
          "sizemode": "area",
          "sizeref": 264164.9525,
          "symbol": "circle"
         },
         "mode": "markers",
         "name": "Micronesia",
         "orientation": "v",
         "showlegend": true,
         "type": "scatter",
         "x": [
          23948
         ],
         "xaxis": "x",
         "y": [
          null
         ],
         "yaxis": "y"
        },
        {
         "hovertemplate": "Country, Other=San Marino<br>Total Cases=%{marker.size}<br>Total Recovered=%{y}<extra></extra>",
         "legendgroup": "San Marino",
         "marker": {
          "color": "#FFA15A",
          "size": [
           23663
          ],
          "sizemode": "area",
          "sizeref": 264164.9525,
          "symbol": "circle"
         },
         "mode": "markers",
         "name": "San Marino",
         "orientation": "v",
         "showlegend": true,
         "type": "scatter",
         "x": [
          23663
         ],
         "xaxis": "x",
         "y": [
          23506
         ],
         "yaxis": "y"
        },
        {
         "hovertemplate": "Country, Other=Timor-Leste<br>Total Cases=%{marker.size}<br>Total Recovered=%{y}<extra></extra>",
         "legendgroup": "Timor-Leste",
         "marker": {
          "color": "#19d3f3",
          "size": [
           23419
          ],
          "sizemode": "area",
          "sizeref": 264164.9525,
          "symbol": "circle"
         },
         "mode": "markers",
         "name": "Timor-Leste",
         "orientation": "v",
         "showlegend": true,
         "type": "scatter",
         "x": [
          23419
         ],
         "xaxis": "x",
         "y": [
          23102
         ],
         "yaxis": "y"
        },
        {
         "hovertemplate": "Country, Other=Burkina Faso<br>Total Cases=%{marker.size}<br>Total Recovered=%{y}<extra></extra>",
         "legendgroup": "Burkina Faso",
         "marker": {
          "color": "#FF6692",
          "size": [
           22056
          ],
          "sizemode": "area",
          "sizeref": 264164.9525,
          "symbol": "circle"
         },
         "mode": "markers",
         "name": "Burkina Faso",
         "orientation": "v",
         "showlegend": true,
         "type": "scatter",
         "x": [
          22056
         ],
         "xaxis": "x",
         "y": [
          21596
         ],
         "yaxis": "y"
        },
        {
         "hovertemplate": "Country, Other=Liechtenstein<br>Total Cases=%{marker.size}<br>Total Recovered=%{y}<extra></extra>",
         "legendgroup": "Liechtenstein",
         "marker": {
          "color": "#B6E880",
          "size": [
           21434
          ],
          "sizemode": "area",
          "sizeref": 264164.9525,
          "symbol": "circle"
         },
         "mode": "markers",
         "name": "Liechtenstein",
         "orientation": "v",
         "showlegend": true,
         "type": "scatter",
         "x": [
          21434
         ],
         "xaxis": "x",
         "y": [
          21339
         ],
         "yaxis": "y"
        },
        {
         "hovertemplate": "Country, Other=Gibraltar<br>Total Cases=%{marker.size}<br>Total Recovered=%{y}<extra></extra>",
         "legendgroup": "Gibraltar",
         "marker": {
          "color": "#FF97FF",
          "size": [
           20462
          ],
          "sizemode": "area",
          "sizeref": 264164.9525,
          "symbol": "circle"
         },
         "mode": "markers",
         "name": "Gibraltar",
         "orientation": "v",
         "showlegend": true,
         "type": "scatter",
         "x": [
          20462
         ],
         "xaxis": "x",
         "y": [
          16579
         ],
         "yaxis": "y"
        },
        {
         "hovertemplate": "Country, Other=Grenada<br>Total Cases=%{marker.size}<br>Total Recovered=%{y}<extra></extra>",
         "legendgroup": "Grenada",
         "marker": {
          "color": "#FECB52",
          "size": [
           19680
          ],
          "sizemode": "area",
          "sizeref": 264164.9525,
          "symbol": "circle"
         },
         "mode": "markers",
         "name": "Grenada",
         "orientation": "v",
         "showlegend": true,
         "type": "scatter",
         "x": [
          19680
         ],
         "xaxis": "x",
         "y": [
          19358
         ],
         "yaxis": "y"
        },
        {
         "hovertemplate": "Country, Other=Bermuda<br>Total Cases=%{marker.size}<br>Total Recovered=%{y}<extra></extra>",
         "legendgroup": "Bermuda",
         "marker": {
          "color": "#636efa",
          "size": [
           18828
          ],
          "sizemode": "area",
          "sizeref": 264164.9525,
          "symbol": "circle"
         },
         "mode": "markers",
         "name": "Bermuda",
         "orientation": "v",
         "showlegend": true,
         "type": "scatter",
         "x": [
          18828
         ],
         "xaxis": "x",
         "y": [
          18653
         ],
         "yaxis": "y"
        },
        {
         "hovertemplate": "Country, Other=Nicaragua<br>Total Cases=%{marker.size}<br>Total Recovered=%{y}<extra></extra>",
         "legendgroup": "Nicaragua",
         "marker": {
          "color": "#EF553B",
          "size": [
           18491
          ],
          "sizemode": "area",
          "sizeref": 264164.9525,
          "symbol": "circle"
         },
         "mode": "markers",
         "name": "Nicaragua",
         "orientation": "v",
         "showlegend": true,
         "type": "scatter",
         "x": [
          18491
         ],
         "xaxis": "x",
         "y": [
          4225
         ],
         "yaxis": "y"
        },
        {
         "hovertemplate": "Country, Other=South Sudan<br>Total Cases=%{marker.size}<br>Total Recovered=%{y}<extra></extra>",
         "legendgroup": "South Sudan",
         "marker": {
          "color": "#00cc96",
          "size": [
           18368
          ],
          "sizemode": "area",
          "sizeref": 264164.9525,
          "symbol": "circle"
         },
         "mode": "markers",
         "name": "South Sudan",
         "orientation": "v",
         "showlegend": true,
         "type": "scatter",
         "x": [
          18368
         ],
         "xaxis": "x",
         "y": [
          18115
         ],
         "yaxis": "y"
        },
        {
         "hovertemplate": "Country, Other=Tajikistan<br>Total Cases=%{marker.size}<br>Total Recovered=%{y}<extra></extra>",
         "legendgroup": "Tajikistan",
         "marker": {
          "color": "#ab63fa",
          "size": [
           17786
          ],
          "sizemode": "area",
          "sizeref": 264164.9525,
          "symbol": "circle"
         },
         "mode": "markers",
         "name": "Tajikistan",
         "orientation": "v",
         "showlegend": true,
         "type": "scatter",
         "x": [
          17786
         ],
         "xaxis": "x",
         "y": [
          17264
         ],
         "yaxis": "y"
        },
        {
         "hovertemplate": "Country, Other=Equatorial Guinea<br>Total Cases=%{marker.size}<br>Total Recovered=%{y}<extra></extra>",
         "legendgroup": "Equatorial Guinea",
         "marker": {
          "color": "#FFA15A",
          "size": [
           17229
          ],
          "sizemode": "area",
          "sizeref": 264164.9525,
          "symbol": "circle"
         },
         "mode": "markers",
         "name": "Equatorial Guinea",
         "orientation": "v",
         "showlegend": true,
         "type": "scatter",
         "x": [
          17229
         ],
         "xaxis": "x",
         "y": [
          16907
         ],
         "yaxis": "y"
        },
        {
         "hovertemplate": "Country, Other=Tonga<br>Total Cases=%{marker.size}<br>Total Recovered=%{y}<extra></extra>",
         "legendgroup": "Tonga",
         "marker": {
          "color": "#19d3f3",
          "size": [
           16810
          ],
          "sizemode": "area",
          "sizeref": 264164.9525,
          "symbol": "circle"
         },
         "mode": "markers",
         "name": "Tonga",
         "orientation": "v",
         "showlegend": true,
         "type": "scatter",
         "x": [
          16810
         ],
         "xaxis": "x",
         "y": [
          15638
         ],
         "yaxis": "y"
        },
        {
         "hovertemplate": "Country, Other=Samoa<br>Total Cases=%{marker.size}<br>Total Recovered=%{y}<extra></extra>",
         "legendgroup": "Samoa",
         "marker": {
          "color": "#FF6692",
          "size": [
           16607
          ],
          "sizemode": "area",
          "sizeref": 264164.9525,
          "symbol": "circle"
         },
         "mode": "markers",
         "name": "Samoa",
         "orientation": "v",
         "showlegend": true,
         "type": "scatter",
         "x": [
          16607
         ],
         "xaxis": "x",
         "y": [
          1605
         ],
         "yaxis": "y"
        },
        {
         "hovertemplate": "Country, Other=Monaco<br>Total Cases=%{marker.size}<br>Total Recovered=%{y}<extra></extra>",
         "legendgroup": "Monaco",
         "marker": {
          "color": "#B6E880",
          "size": [
           16119
          ],
          "sizemode": "area",
          "sizeref": 264164.9525,
          "symbol": "circle"
         },
         "mode": "markers",
         "name": "Monaco",
         "orientation": "v",
         "showlegend": true,
         "type": "scatter",
         "x": [
          16119
         ],
         "xaxis": "x",
         "y": [
          15992
         ],
         "yaxis": "y"
        },
        {
         "hovertemplate": "Country, Other=Dominica<br>Total Cases=%{marker.size}<br>Total Recovered=%{y}<extra></extra>",
         "legendgroup": "Dominica",
         "marker": {
          "color": "#FF97FF",
          "size": [
           15760
          ],
          "sizemode": "area",
          "sizeref": 264164.9525,
          "symbol": "circle"
         },
         "mode": "markers",
         "name": "Dominica",
         "orientation": "v",
         "showlegend": true,
         "type": "scatter",
         "x": [
          15760
         ],
         "xaxis": "x",
         "y": [
          15673
         ],
         "yaxis": "y"
        },
        {
         "hovertemplate": "Country, Other=Djibouti<br>Total Cases=%{marker.size}<br>Total Recovered=%{y}<extra></extra>",
         "legendgroup": "Djibouti",
         "marker": {
          "color": "#FECB52",
          "size": [
           15690
          ],
          "sizemode": "area",
          "sizeref": 264164.9525,
          "symbol": "circle"
         },
         "mode": "markers",
         "name": "Djibouti",
         "orientation": "v",
         "showlegend": true,
         "type": "scatter",
         "x": [
          15690
         ],
         "xaxis": "x",
         "y": [
          15427
         ],
         "yaxis": "y"
        },
        {
         "hovertemplate": "Country, Other=Marshall Islands<br>Total Cases=%{marker.size}<br>Total Recovered=%{y}<extra></extra>",
         "legendgroup": "Marshall Islands",
         "marker": {
          "color": "#636efa",
          "size": [
           15649
          ],
          "sizemode": "area",
          "sizeref": 264164.9525,
          "symbol": "circle"
         },
         "mode": "markers",
         "name": "Marshall Islands",
         "orientation": "v",
         "showlegend": true,
         "type": "scatter",
         "x": [
          15649
         ],
         "xaxis": "x",
         "y": [
          15528
         ],
         "yaxis": "y"
        },
        {
         "hovertemplate": "Country, Other=CAR<br>Total Cases=%{marker.size}<br>Total Recovered=%{y}<extra></extra>",
         "legendgroup": "CAR",
         "marker": {
          "color": "#EF553B",
          "size": [
           15368
          ],
          "sizemode": "area",
          "sizeref": 264164.9525,
          "symbol": "circle"
         },
         "mode": "markers",
         "name": "CAR",
         "orientation": "v",
         "showlegend": true,
         "type": "scatter",
         "x": [
          15368
         ],
         "xaxis": "x",
         "y": [
          15200
         ],
         "yaxis": "y"
        },
        {
         "hovertemplate": "Country, Other=Gambia<br>Total Cases=%{marker.size}<br>Total Recovered=%{y}<extra></extra>",
         "legendgroup": "Gambia",
         "marker": {
          "color": "#00cc96",
          "size": [
           12598
          ],
          "sizemode": "area",
          "sizeref": 264164.9525,
          "symbol": "circle"
         },
         "mode": "markers",
         "name": "Gambia",
         "orientation": "v",
         "showlegend": true,
         "type": "scatter",
         "x": [
          12598
         ],
         "xaxis": "x",
         "y": [
          12189
         ],
         "yaxis": "y"
        },
        {
         "hovertemplate": "Country, Other=Saint Martin<br>Total Cases=%{marker.size}<br>Total Recovered=%{y}<extra></extra>",
         "legendgroup": "Saint Martin",
         "marker": {
          "color": "#ab63fa",
          "size": [
           12271
          ],
          "sizemode": "area",
          "sizeref": 264164.9525,
          "symbol": "circle"
         },
         "mode": "markers",
         "name": "Saint Martin",
         "orientation": "v",
         "showlegend": true,
         "type": "scatter",
         "x": [
          12271
         ],
         "xaxis": "x",
         "y": [
          1399
         ],
         "yaxis": "y"
        },
        {
         "hovertemplate": "Country, Other=Vanuatu<br>Total Cases=%{marker.size}<br>Total Recovered=%{y}<extra></extra>",
         "legendgroup": "Vanuatu",
         "marker": {
          "color": "#FFA15A",
          "size": [
           12014
          ],
          "sizemode": "area",
          "sizeref": 264164.9525,
          "symbol": "circle"
         },
         "mode": "markers",
         "name": "Vanuatu",
         "orientation": "v",
         "showlegend": true,
         "type": "scatter",
         "x": [
          12014
         ],
         "xaxis": "x",
         "y": [
          11976
         ],
         "yaxis": "y"
        },
        {
         "hovertemplate": "Country, Other=Greenland<br>Total Cases=%{marker.size}<br>Total Recovered=%{y}<extra></extra>",
         "legendgroup": "Greenland",
         "marker": {
          "color": "#19d3f3",
          "size": [
           11971
          ],
          "sizemode": "area",
          "sizeref": 264164.9525,
          "symbol": "circle"
         },
         "mode": "markers",
         "name": "Greenland",
         "orientation": "v",
         "showlegend": true,
         "type": "scatter",
         "x": [
          11971
         ],
         "xaxis": "x",
         "y": [
          2761
         ],
         "yaxis": "y"
        },
        {
         "hovertemplate": "Country, Other=Yemen<br>Total Cases=%{marker.size}<br>Total Recovered=%{y}<extra></extra>",
         "legendgroup": "Yemen",
         "marker": {
          "color": "#FF6692",
          "size": [
           11945
          ],
          "sizemode": "area",
          "sizeref": 264164.9525,
          "symbol": "circle"
         },
         "mode": "markers",
         "name": "Yemen",
         "orientation": "v",
         "showlegend": true,
         "type": "scatter",
         "x": [
          11945
         ],
         "xaxis": "x",
         "y": [
          9124
         ],
         "yaxis": "y"
        },
        {
         "hovertemplate": "Country, Other=Caribbean Netherlands<br>Total Cases=%{marker.size}<br>Total Recovered=%{y}<extra></extra>",
         "legendgroup": "Caribbean Netherlands",
         "marker": {
          "color": "#B6E880",
          "size": [
           11679
          ],
          "sizemode": "area",
          "sizeref": 264164.9525,
          "symbol": "circle"
         },
         "mode": "markers",
         "name": "Caribbean Netherlands",
         "orientation": "v",
         "showlegend": true,
         "type": "scatter",
         "x": [
          11679
         ],
         "xaxis": "x",
         "y": [
          10476
         ],
         "yaxis": "y"
        },
        {
         "hovertemplate": "Country, Other=Sint Maarten<br>Total Cases=%{marker.size}<br>Total Recovered=%{y}<extra></extra>",
         "legendgroup": "Sint Maarten",
         "marker": {
          "color": "#FF97FF",
          "size": [
           11020
          ],
          "sizemode": "area",
          "sizeref": 264164.9525,
          "symbol": "circle"
         },
         "mode": "markers",
         "name": "Sint Maarten",
         "orientation": "v",
         "showlegend": true,
         "type": "scatter",
         "x": [
          11020
         ],
         "xaxis": "x",
         "y": [
          10905
         ],
         "yaxis": "y"
        },
        {
         "hovertemplate": "Country, Other=Eritrea<br>Total Cases=%{marker.size}<br>Total Recovered=%{y}<extra></extra>",
         "legendgroup": "Eritrea",
         "marker": {
          "color": "#FECB52",
          "size": [
           10189
          ],
          "sizemode": "area",
          "sizeref": 264164.9525,
          "symbol": "circle"
         },
         "mode": "markers",
         "name": "Eritrea",
         "orientation": "v",
         "showlegend": true,
         "type": "scatter",
         "x": [
          10189
         ],
         "xaxis": "x",
         "y": [
          10086
         ],
         "yaxis": "y"
        },
        {
         "hovertemplate": "Country, Other=Niger<br>Total Cases=%{marker.size}<br>Total Recovered=%{y}<extra></extra>",
         "legendgroup": "Niger",
         "marker": {
          "color": "#636efa",
          "size": [
           9931
          ],
          "sizemode": "area",
          "sizeref": 264164.9525,
          "symbol": "circle"
         },
         "mode": "markers",
         "name": "Niger",
         "orientation": "v",
         "showlegend": true,
         "type": "scatter",
         "x": [
          9931
         ],
         "xaxis": "x",
         "y": [
          8890
         ],
         "yaxis": "y"
        },
        {
         "hovertemplate": "Country, Other=St. Vincent Grenadines<br>Total Cases=%{marker.size}<br>Total Recovered=%{y}<extra></extra>",
         "legendgroup": "St. Vincent Grenadines",
         "marker": {
          "color": "#EF553B",
          "size": [
           9589
          ],
          "sizemode": "area",
          "sizeref": 264164.9525,
          "symbol": "circle"
         },
         "mode": "markers",
         "name": "St. Vincent Grenadines",
         "orientation": "v",
         "showlegend": true,
         "type": "scatter",
         "x": [
          9589
         ],
         "xaxis": "x",
         "y": [
          9466
         ],
         "yaxis": "y"
        },
        {
         "hovertemplate": "Country, Other=Antigua and Barbuda<br>Total Cases=%{marker.size}<br>Total Recovered=%{y}<extra></extra>",
         "legendgroup": "Antigua and Barbuda",
         "marker": {
          "color": "#00cc96",
          "size": [
           9106
          ],
          "sizemode": "area",
          "sizeref": 264164.9525,
          "symbol": "circle"
         },
         "mode": "markers",
         "name": "Antigua and Barbuda",
         "orientation": "v",
         "showlegend": true,
         "type": "scatter",
         "x": [
          9106
         ],
         "xaxis": "x",
         "y": [
          8954
         ],
         "yaxis": "y"
        },
        {
         "hovertemplate": "Country, Other=Comoros<br>Total Cases=%{marker.size}<br>Total Recovered=%{y}<extra></extra>",
         "legendgroup": "Comoros",
         "marker": {
          "color": "#ab63fa",
          "size": [
           9008
          ],
          "sizemode": "area",
          "sizeref": 264164.9525,
          "symbol": "circle"
         },
         "mode": "markers",
         "name": "Comoros",
         "orientation": "v",
         "showlegend": true,
         "type": "scatter",
         "x": [
          9008
         ],
         "xaxis": "x",
         "y": [
          8838
         ],
         "yaxis": "y"
        },
        {
         "hovertemplate": "Country, Other=Guinea-Bissau<br>Total Cases=%{marker.size}<br>Total Recovered=%{y}<extra></extra>",
         "legendgroup": "Guinea-Bissau",
         "marker": {
          "color": "#FFA15A",
          "size": [
           8960
          ],
          "sizemode": "area",
          "sizeref": 264164.9525,
          "symbol": "circle"
         },
         "mode": "markers",
         "name": "Guinea-Bissau",
         "orientation": "v",
         "showlegend": true,
         "type": "scatter",
         "x": [
          8960
         ],
         "xaxis": "x",
         "y": [
          8660
         ],
         "yaxis": "y"
        },
        {
         "hovertemplate": "Country, Other=Liberia<br>Total Cases=%{marker.size}<br>Total Recovered=%{y}<extra></extra>",
         "legendgroup": "Liberia",
         "marker": {
          "color": "#19d3f3",
          "size": [
           8090
          ],
          "sizemode": "area",
          "sizeref": 264164.9525,
          "symbol": "circle"
         },
         "mode": "markers",
         "name": "Liberia",
         "orientation": "v",
         "showlegend": true,
         "type": "scatter",
         "x": [
          8090
         ],
         "xaxis": "x",
         "y": [
          7783
         ],
         "yaxis": "y"
        },
        {
         "hovertemplate": "Country, Other=Sierra Leone<br>Total Cases=%{marker.size}<br>Total Recovered=%{y}<extra></extra>",
         "legendgroup": "Sierra Leone",
         "marker": {
          "color": "#FF6692",
          "size": [
           7760
          ],
          "sizemode": "area",
          "sizeref": 264164.9525,
          "symbol": "circle"
         },
         "mode": "markers",
         "name": "Sierra Leone",
         "orientation": "v",
         "showlegend": true,
         "type": "scatter",
         "x": [
          7760
         ],
         "xaxis": "x",
         "y": [
          null
         ],
         "yaxis": "y"
        },
        {
         "hovertemplate": "Country, Other=Chad<br>Total Cases=%{marker.size}<br>Total Recovered=%{y}<extra></extra>",
         "legendgroup": "Chad",
         "marker": {
          "color": "#B6E880",
          "size": [
           7682
          ],
          "sizemode": "area",
          "sizeref": 264164.9525,
          "symbol": "circle"
         },
         "mode": "markers",
         "name": "Chad",
         "orientation": "v",
         "showlegend": true,
         "type": "scatter",
         "x": [
          7682
         ],
         "xaxis": "x",
         "y": [
          4874
         ],
         "yaxis": "y"
        },
        {
         "hovertemplate": "Country, Other=British Virgin Islands<br>Total Cases=%{marker.size}<br>Total Recovered=%{y}<extra></extra>",
         "legendgroup": "British Virgin Islands",
         "marker": {
          "color": "#FF97FF",
          "size": [
           7305
          ],
          "sizemode": "area",
          "sizeref": 264164.9525,
          "symbol": "circle"
         },
         "mode": "markers",
         "name": "British Virgin Islands",
         "orientation": "v",
         "showlegend": true,
         "type": "scatter",
         "x": [
          7305
         ],
         "xaxis": "x",
         "y": [
          null
         ],
         "yaxis": "y"
        },
        {
         "hovertemplate": "Country, Other=Cook Islands<br>Total Cases=%{marker.size}<br>Total Recovered=%{y}<extra></extra>",
         "legendgroup": "Cook Islands",
         "marker": {
          "color": "#FECB52",
          "size": [
           7033
          ],
          "sizemode": "area",
          "sizeref": 264164.9525,
          "symbol": "circle"
         },
         "mode": "markers",
         "name": "Cook Islands",
         "orientation": "v",
         "showlegend": true,
         "type": "scatter",
         "x": [
          7033
         ],
         "xaxis": "x",
         "y": [
          7030
         ],
         "yaxis": "y"
        },
        {
         "hovertemplate": "Country, Other=Saint Kitts and Nevis<br>Total Cases=%{marker.size}<br>Total Recovered=%{y}<extra></extra>",
         "legendgroup": "Saint Kitts and Nevis",
         "marker": {
          "color": "#636efa",
          "size": [
           6597
          ],
          "sizemode": "area",
          "sizeref": 264164.9525,
          "symbol": "circle"
         },
         "mode": "markers",
         "name": "Saint Kitts and Nevis",
         "orientation": "v",
         "showlegend": true,
         "type": "scatter",
         "x": [
          6597
         ],
         "xaxis": "x",
         "y": [
          6548
         ],
         "yaxis": "y"
        },
        {
         "hovertemplate": "Country, Other=Turks and Caicos<br>Total Cases=%{marker.size}<br>Total Recovered=%{y}<extra></extra>",
         "legendgroup": "Turks and Caicos",
         "marker": {
          "color": "#EF553B",
          "size": [
           6561
          ],
          "sizemode": "area",
          "sizeref": 264164.9525,
          "symbol": "circle"
         },
         "mode": "markers",
         "name": "Turks and Caicos",
         "orientation": "v",
         "showlegend": true,
         "type": "scatter",
         "x": [
          6561
         ],
         "xaxis": "x",
         "y": [
          6504
         ],
         "yaxis": "y"
        },
        {
         "hovertemplate": "Country, Other=Sao Tome and Principe<br>Total Cases=%{marker.size}<br>Total Recovered=%{y}<extra></extra>",
         "legendgroup": "Sao Tome and Principe",
         "marker": {
          "color": "#00cc96",
          "size": [
           6281
          ],
          "sizemode": "area",
          "sizeref": 264164.9525,
          "symbol": "circle"
         },
         "mode": "markers",
         "name": "Sao Tome and Principe",
         "orientation": "v",
         "showlegend": true,
         "type": "scatter",
         "x": [
          6281
         ],
         "xaxis": "x",
         "y": [
          6204
         ],
         "yaxis": "y"
        },
        {
         "hovertemplate": "Country, Other=Palau<br>Total Cases=%{marker.size}<br>Total Recovered=%{y}<extra></extra>",
         "legendgroup": "Palau",
         "marker": {
          "color": "#ab63fa",
          "size": [
           5994
          ],
          "sizemode": "area",
          "sizeref": 264164.9525,
          "symbol": "circle"
         },
         "mode": "markers",
         "name": "Palau",
         "orientation": "v",
         "showlegend": true,
         "type": "scatter",
         "x": [
          5994
         ],
         "xaxis": "x",
         "y": [
          5985
         ],
         "yaxis": "y"
        },
        {
         "hovertemplate": "Country, Other=St. Barth<br>Total Cases=%{marker.size}<br>Total Recovered=%{y}<extra></extra>",
         "legendgroup": "St. Barth",
         "marker": {
          "color": "#FFA15A",
          "size": [
           5441
          ],
          "sizemode": "area",
          "sizeref": 264164.9525,
          "symbol": "circle"
         },
         "mode": "markers",
         "name": "St. Barth",
         "orientation": "v",
         "showlegend": true,
         "type": "scatter",
         "x": [
          5441
         ],
         "xaxis": "x",
         "y": [
          null
         ],
         "yaxis": "y"
        },
        {
         "hovertemplate": "Country, Other=Nauru<br>Total Cases=%{marker.size}<br>Total Recovered=%{y}<extra></extra>",
         "legendgroup": "Nauru",
         "marker": {
          "color": "#19d3f3",
          "size": [
           5393
          ],
          "sizemode": "area",
          "sizeref": 264164.9525,
          "symbol": "circle"
         },
         "mode": "markers",
         "name": "Nauru",
         "orientation": "v",
         "showlegend": true,
         "type": "scatter",
         "x": [
          5393
         ],
         "xaxis": "x",
         "y": [
          5347
         ],
         "yaxis": "y"
        },
        {
         "hovertemplate": "Country, Other=Kiribati<br>Total Cases=%{marker.size}<br>Total Recovered=%{y}<extra></extra>",
         "legendgroup": "Kiribati",
         "marker": {
          "color": "#FF6692",
          "size": [
           5014
          ],
          "sizemode": "area",
          "sizeref": 264164.9525,
          "symbol": "circle"
         },
         "mode": "markers",
         "name": "Kiribati",
         "orientation": "v",
         "showlegend": true,
         "type": "scatter",
         "x": [
          5014
         ],
         "xaxis": "x",
         "y": [
          2703
         ],
         "yaxis": "y"
        },
        {
         "hovertemplate": "Country, Other=Anguilla<br>Total Cases=%{marker.size}<br>Total Recovered=%{y}<extra></extra>",
         "legendgroup": "Anguilla",
         "marker": {
          "color": "#B6E880",
          "size": [
           3904
          ],
          "sizemode": "area",
          "sizeref": 264164.9525,
          "symbol": "circle"
         },
         "mode": "markers",
         "name": "Anguilla",
         "orientation": "v",
         "showlegend": true,
         "type": "scatter",
         "x": [
          3904
         ],
         "xaxis": "x",
         "y": [
          3879
         ],
         "yaxis": "y"
        },
        {
         "hovertemplate": "Country, Other=Macao<br>Total Cases=%{marker.size}<br>Total Recovered=%{y}<extra></extra>",
         "legendgroup": "Macao",
         "marker": {
          "color": "#FF97FF",
          "size": [
           3514
          ],
          "sizemode": "area",
          "sizeref": 264164.9525,
          "symbol": "circle"
         },
         "mode": "markers",
         "name": "Macao",
         "orientation": "v",
         "showlegend": true,
         "type": "scatter",
         "x": [
          3514
         ],
         "xaxis": "x",
         "y": [
          3392
         ],
         "yaxis": "y"
        },
        {
         "hovertemplate": "Country, Other=Saint Pierre Miquelon<br>Total Cases=%{marker.size}<br>Total Recovered=%{y}<extra></extra>",
         "legendgroup": "Saint Pierre Miquelon",
         "marker": {
          "color": "#FECB52",
          "size": [
           3452
          ],
          "sizemode": "area",
          "sizeref": 264164.9525,
          "symbol": "circle"
         },
         "mode": "markers",
         "name": "Saint Pierre Miquelon",
         "orientation": "v",
         "showlegend": true,
         "type": "scatter",
         "x": [
          3452
         ],
         "xaxis": "x",
         "y": [
          2449
         ],
         "yaxis": "y"
        },
        {
         "hovertemplate": "Country, Other=Wallis and Futuna<br>Total Cases=%{marker.size}<br>Total Recovered=%{y}<extra></extra>",
         "legendgroup": "Wallis and Futuna",
         "marker": {
          "color": "#636efa",
          "size": [
           3427
          ],
          "sizemode": "area",
          "sizeref": 264164.9525,
          "symbol": "circle"
         },
         "mode": "markers",
         "name": "Wallis and Futuna",
         "orientation": "v",
         "showlegend": true,
         "type": "scatter",
         "x": [
          3427
         ],
         "xaxis": "x",
         "y": [
          438
         ],
         "yaxis": "y"
        },
        {
         "hovertemplate": "Country, Other=Tuvalu<br>Total Cases=%{marker.size}<br>Total Recovered=%{y}<extra></extra>",
         "legendgroup": "Tuvalu",
         "marker": {
          "color": "#EF553B",
          "size": [
           2805
          ],
          "sizemode": "area",
          "sizeref": 264164.9525,
          "symbol": "circle"
         },
         "mode": "markers",
         "name": "Tuvalu",
         "orientation": "v",
         "showlegend": true,
         "type": "scatter",
         "x": [
          2805
         ],
         "xaxis": "x",
         "y": [
          null
         ],
         "yaxis": "y"
        },
        {
         "hovertemplate": "Country, Other=Saint Helena<br>Total Cases=%{marker.size}<br>Total Recovered=%{y}<extra></extra>",
         "legendgroup": "Saint Helena",
         "marker": {
          "color": "#00cc96",
          "size": [
           2166
          ],
          "sizemode": "area",
          "sizeref": 264164.9525,
          "symbol": "circle"
         },
         "mode": "markers",
         "name": "Saint Helena",
         "orientation": "v",
         "showlegend": true,
         "type": "scatter",
         "x": [
          2166
         ],
         "xaxis": "x",
         "y": [
          2
         ],
         "yaxis": "y"
        },
        {
         "hovertemplate": "Country, Other=Falkland Islands<br>Total Cases=%{marker.size}<br>Total Recovered=%{y}<extra></extra>",
         "legendgroup": "Falkland Islands",
         "marker": {
          "color": "#ab63fa",
          "size": [
           1930
          ],
          "sizemode": "area",
          "sizeref": 264164.9525,
          "symbol": "circle"
         },
         "mode": "markers",
         "name": "Falkland Islands",
         "orientation": "v",
         "showlegend": true,
         "type": "scatter",
         "x": [
          1930
         ],
         "xaxis": "x",
         "y": [
          1930
         ],
         "yaxis": "y"
        },
        {
         "hovertemplate": "Country, Other=Montserrat<br>Total Cases=%{marker.size}<br>Total Recovered=%{y}<extra></extra>",
         "legendgroup": "Montserrat",
         "marker": {
          "color": "#FFA15A",
          "size": [
           1403
          ],
          "sizemode": "area",
          "sizeref": 264164.9525,
          "symbol": "circle"
         },
         "mode": "markers",
         "name": "Montserrat",
         "orientation": "v",
         "showlegend": true,
         "type": "scatter",
         "x": [
          1403
         ],
         "xaxis": "x",
         "y": [
          1376
         ],
         "yaxis": "y"
        },
        {
         "hovertemplate": "Country, Other=Niue<br>Total Cases=%{marker.size}<br>Total Recovered=%{y}<extra></extra>",
         "legendgroup": "Niue",
         "marker": {
          "color": "#19d3f3",
          "size": [
           793
          ],
          "sizemode": "area",
          "sizeref": 264164.9525,
          "symbol": "circle"
         },
         "mode": "markers",
         "name": "Niue",
         "orientation": "v",
         "showlegend": true,
         "type": "scatter",
         "x": [
          793
         ],
         "xaxis": "x",
         "y": [
          791
         ],
         "yaxis": "y"
        },
        {
         "hovertemplate": "Country, Other=Diamond Princess<br>Total Cases=%{marker.size}<br>Total Recovered=%{y}<extra></extra>",
         "legendgroup": "Diamond Princess",
         "marker": {
          "color": "#FF6692",
          "size": [
           712
          ],
          "sizemode": "area",
          "sizeref": 264164.9525,
          "symbol": "circle"
         },
         "mode": "markers",
         "name": "Diamond Princess",
         "orientation": "v",
         "showlegend": true,
         "type": "scatter",
         "x": [
          712
         ],
         "xaxis": "x",
         "y": [
          699
         ],
         "yaxis": "y"
        },
        {
         "hovertemplate": "Country, Other=Vatican City<br>Total Cases=%{marker.size}<br>Total Recovered=%{y}<extra></extra>",
         "legendgroup": "Vatican City",
         "marker": {
          "color": "#B6E880",
          "size": [
           29
          ],
          "sizemode": "area",
          "sizeref": 264164.9525,
          "symbol": "circle"
         },
         "mode": "markers",
         "name": "Vatican City",
         "orientation": "v",
         "showlegend": true,
         "type": "scatter",
         "x": [
          29
         ],
         "xaxis": "x",
         "y": [
          29
         ],
         "yaxis": "y"
        },
        {
         "hovertemplate": "Country, Other=Western Sahara<br>Total Cases=%{marker.size}<br>Total Recovered=%{y}<extra></extra>",
         "legendgroup": "Western Sahara",
         "marker": {
          "color": "#FF97FF",
          "size": [
           10
          ],
          "sizemode": "area",
          "sizeref": 264164.9525,
          "symbol": "circle"
         },
         "mode": "markers",
         "name": "Western Sahara",
         "orientation": "v",
         "showlegend": true,
         "type": "scatter",
         "x": [
          10
         ],
         "xaxis": "x",
         "y": [
          9
         ],
         "yaxis": "y"
        },
        {
         "hovertemplate": "Country, Other=MS Zaandam<br>Total Cases=%{marker.size}<br>Total Recovered=%{y}<extra></extra>",
         "legendgroup": "MS Zaandam",
         "marker": {
          "color": "#FECB52",
          "size": [
           9
          ],
          "sizemode": "area",
          "sizeref": 264164.9525,
          "symbol": "circle"
         },
         "mode": "markers",
         "name": "MS Zaandam",
         "orientation": "v",
         "showlegend": true,
         "type": "scatter",
         "x": [
          9
         ],
         "xaxis": "x",
         "y": [
          7
         ],
         "yaxis": "y"
        },
        {
         "hovertemplate": "Country, Other=Tokelau<br>Total Cases=%{marker.size}<br>Total Recovered=%{y}<extra></extra>",
         "legendgroup": "Tokelau",
         "marker": {
          "color": "#636efa",
          "size": [
           5
          ],
          "sizemode": "area",
          "sizeref": 264164.9525,
          "symbol": "circle"
         },
         "mode": "markers",
         "name": "Tokelau",
         "orientation": "v",
         "showlegend": true,
         "type": "scatter",
         "x": [
          5
         ],
         "xaxis": "x",
         "y": [
          null
         ],
         "yaxis": "y"
        }
       ],
       "layout": {
        "legend": {
         "itemsizing": "constant",
         "title": {
          "text": "Country, Other"
         },
         "tracegroupgap": 0
        },
        "template": {
         "data": {
          "bar": [
           {
            "error_x": {
             "color": "#2a3f5f"
            },
            "error_y": {
             "color": "#2a3f5f"
            },
            "marker": {
             "line": {
              "color": "#E5ECF6",
              "width": 0.5
             },
             "pattern": {
              "fillmode": "overlay",
              "size": 10,
              "solidity": 0.2
             }
            },
            "type": "bar"
           }
          ],
          "barpolar": [
           {
            "marker": {
             "line": {
              "color": "#E5ECF6",
              "width": 0.5
             },
             "pattern": {
              "fillmode": "overlay",
              "size": 10,
              "solidity": 0.2
             }
            },
            "type": "barpolar"
           }
          ],
          "carpet": [
           {
            "aaxis": {
             "endlinecolor": "#2a3f5f",
             "gridcolor": "white",
             "linecolor": "white",
             "minorgridcolor": "white",
             "startlinecolor": "#2a3f5f"
            },
            "baxis": {
             "endlinecolor": "#2a3f5f",
             "gridcolor": "white",
             "linecolor": "white",
             "minorgridcolor": "white",
             "startlinecolor": "#2a3f5f"
            },
            "type": "carpet"
           }
          ],
          "choropleth": [
           {
            "colorbar": {
             "outlinewidth": 0,
             "ticks": ""
            },
            "type": "choropleth"
           }
          ],
          "contour": [
           {
            "colorbar": {
             "outlinewidth": 0,
             "ticks": ""
            },
            "colorscale": [
             [
              0,
              "#0d0887"
             ],
             [
              0.1111111111111111,
              "#46039f"
             ],
             [
              0.2222222222222222,
              "#7201a8"
             ],
             [
              0.3333333333333333,
              "#9c179e"
             ],
             [
              0.4444444444444444,
              "#bd3786"
             ],
             [
              0.5555555555555556,
              "#d8576b"
             ],
             [
              0.6666666666666666,
              "#ed7953"
             ],
             [
              0.7777777777777778,
              "#fb9f3a"
             ],
             [
              0.8888888888888888,
              "#fdca26"
             ],
             [
              1,
              "#f0f921"
             ]
            ],
            "type": "contour"
           }
          ],
          "contourcarpet": [
           {
            "colorbar": {
             "outlinewidth": 0,
             "ticks": ""
            },
            "type": "contourcarpet"
           }
          ],
          "heatmap": [
           {
            "colorbar": {
             "outlinewidth": 0,
             "ticks": ""
            },
            "colorscale": [
             [
              0,
              "#0d0887"
             ],
             [
              0.1111111111111111,
              "#46039f"
             ],
             [
              0.2222222222222222,
              "#7201a8"
             ],
             [
              0.3333333333333333,
              "#9c179e"
             ],
             [
              0.4444444444444444,
              "#bd3786"
             ],
             [
              0.5555555555555556,
              "#d8576b"
             ],
             [
              0.6666666666666666,
              "#ed7953"
             ],
             [
              0.7777777777777778,
              "#fb9f3a"
             ],
             [
              0.8888888888888888,
              "#fdca26"
             ],
             [
              1,
              "#f0f921"
             ]
            ],
            "type": "heatmap"
           }
          ],
          "heatmapgl": [
           {
            "colorbar": {
             "outlinewidth": 0,
             "ticks": ""
            },
            "colorscale": [
             [
              0,
              "#0d0887"
             ],
             [
              0.1111111111111111,
              "#46039f"
             ],
             [
              0.2222222222222222,
              "#7201a8"
             ],
             [
              0.3333333333333333,
              "#9c179e"
             ],
             [
              0.4444444444444444,
              "#bd3786"
             ],
             [
              0.5555555555555556,
              "#d8576b"
             ],
             [
              0.6666666666666666,
              "#ed7953"
             ],
             [
              0.7777777777777778,
              "#fb9f3a"
             ],
             [
              0.8888888888888888,
              "#fdca26"
             ],
             [
              1,
              "#f0f921"
             ]
            ],
            "type": "heatmapgl"
           }
          ],
          "histogram": [
           {
            "marker": {
             "pattern": {
              "fillmode": "overlay",
              "size": 10,
              "solidity": 0.2
             }
            },
            "type": "histogram"
           }
          ],
          "histogram2d": [
           {
            "colorbar": {
             "outlinewidth": 0,
             "ticks": ""
            },
            "colorscale": [
             [
              0,
              "#0d0887"
             ],
             [
              0.1111111111111111,
              "#46039f"
             ],
             [
              0.2222222222222222,
              "#7201a8"
             ],
             [
              0.3333333333333333,
              "#9c179e"
             ],
             [
              0.4444444444444444,
              "#bd3786"
             ],
             [
              0.5555555555555556,
              "#d8576b"
             ],
             [
              0.6666666666666666,
              "#ed7953"
             ],
             [
              0.7777777777777778,
              "#fb9f3a"
             ],
             [
              0.8888888888888888,
              "#fdca26"
             ],
             [
              1,
              "#f0f921"
             ]
            ],
            "type": "histogram2d"
           }
          ],
          "histogram2dcontour": [
           {
            "colorbar": {
             "outlinewidth": 0,
             "ticks": ""
            },
            "colorscale": [
             [
              0,
              "#0d0887"
             ],
             [
              0.1111111111111111,
              "#46039f"
             ],
             [
              0.2222222222222222,
              "#7201a8"
             ],
             [
              0.3333333333333333,
              "#9c179e"
             ],
             [
              0.4444444444444444,
              "#bd3786"
             ],
             [
              0.5555555555555556,
              "#d8576b"
             ],
             [
              0.6666666666666666,
              "#ed7953"
             ],
             [
              0.7777777777777778,
              "#fb9f3a"
             ],
             [
              0.8888888888888888,
              "#fdca26"
             ],
             [
              1,
              "#f0f921"
             ]
            ],
            "type": "histogram2dcontour"
           }
          ],
          "mesh3d": [
           {
            "colorbar": {
             "outlinewidth": 0,
             "ticks": ""
            },
            "type": "mesh3d"
           }
          ],
          "parcoords": [
           {
            "line": {
             "colorbar": {
              "outlinewidth": 0,
              "ticks": ""
             }
            },
            "type": "parcoords"
           }
          ],
          "pie": [
           {
            "automargin": true,
            "type": "pie"
           }
          ],
          "scatter": [
           {
            "fillpattern": {
             "fillmode": "overlay",
             "size": 10,
             "solidity": 0.2
            },
            "type": "scatter"
           }
          ],
          "scatter3d": [
           {
            "line": {
             "colorbar": {
              "outlinewidth": 0,
              "ticks": ""
             }
            },
            "marker": {
             "colorbar": {
              "outlinewidth": 0,
              "ticks": ""
             }
            },
            "type": "scatter3d"
           }
          ],
          "scattercarpet": [
           {
            "marker": {
             "colorbar": {
              "outlinewidth": 0,
              "ticks": ""
             }
            },
            "type": "scattercarpet"
           }
          ],
          "scattergeo": [
           {
            "marker": {
             "colorbar": {
              "outlinewidth": 0,
              "ticks": ""
             }
            },
            "type": "scattergeo"
           }
          ],
          "scattergl": [
           {
            "marker": {
             "colorbar": {
              "outlinewidth": 0,
              "ticks": ""
             }
            },
            "type": "scattergl"
           }
          ],
          "scattermapbox": [
           {
            "marker": {
             "colorbar": {
              "outlinewidth": 0,
              "ticks": ""
             }
            },
            "type": "scattermapbox"
           }
          ],
          "scatterpolar": [
           {
            "marker": {
             "colorbar": {
              "outlinewidth": 0,
              "ticks": ""
             }
            },
            "type": "scatterpolar"
           }
          ],
          "scatterpolargl": [
           {
            "marker": {
             "colorbar": {
              "outlinewidth": 0,
              "ticks": ""
             }
            },
            "type": "scatterpolargl"
           }
          ],
          "scatterternary": [
           {
            "marker": {
             "colorbar": {
              "outlinewidth": 0,
              "ticks": ""
             }
            },
            "type": "scatterternary"
           }
          ],
          "surface": [
           {
            "colorbar": {
             "outlinewidth": 0,
             "ticks": ""
            },
            "colorscale": [
             [
              0,
              "#0d0887"
             ],
             [
              0.1111111111111111,
              "#46039f"
             ],
             [
              0.2222222222222222,
              "#7201a8"
             ],
             [
              0.3333333333333333,
              "#9c179e"
             ],
             [
              0.4444444444444444,
              "#bd3786"
             ],
             [
              0.5555555555555556,
              "#d8576b"
             ],
             [
              0.6666666666666666,
              "#ed7953"
             ],
             [
              0.7777777777777778,
              "#fb9f3a"
             ],
             [
              0.8888888888888888,
              "#fdca26"
             ],
             [
              1,
              "#f0f921"
             ]
            ],
            "type": "surface"
           }
          ],
          "table": [
           {
            "cells": {
             "fill": {
              "color": "#EBF0F8"
             },
             "line": {
              "color": "white"
             }
            },
            "header": {
             "fill": {
              "color": "#C8D4E3"
             },
             "line": {
              "color": "white"
             }
            },
            "type": "table"
           }
          ]
         },
         "layout": {
          "annotationdefaults": {
           "arrowcolor": "#2a3f5f",
           "arrowhead": 0,
           "arrowwidth": 1
          },
          "autotypenumbers": "strict",
          "coloraxis": {
           "colorbar": {
            "outlinewidth": 0,
            "ticks": ""
           }
          },
          "colorscale": {
           "diverging": [
            [
             0,
             "#8e0152"
            ],
            [
             0.1,
             "#c51b7d"
            ],
            [
             0.2,
             "#de77ae"
            ],
            [
             0.3,
             "#f1b6da"
            ],
            [
             0.4,
             "#fde0ef"
            ],
            [
             0.5,
             "#f7f7f7"
            ],
            [
             0.6,
             "#e6f5d0"
            ],
            [
             0.7,
             "#b8e186"
            ],
            [
             0.8,
             "#7fbc41"
            ],
            [
             0.9,
             "#4d9221"
            ],
            [
             1,
             "#276419"
            ]
           ],
           "sequential": [
            [
             0,
             "#0d0887"
            ],
            [
             0.1111111111111111,
             "#46039f"
            ],
            [
             0.2222222222222222,
             "#7201a8"
            ],
            [
             0.3333333333333333,
             "#9c179e"
            ],
            [
             0.4444444444444444,
             "#bd3786"
            ],
            [
             0.5555555555555556,
             "#d8576b"
            ],
            [
             0.6666666666666666,
             "#ed7953"
            ],
            [
             0.7777777777777778,
             "#fb9f3a"
            ],
            [
             0.8888888888888888,
             "#fdca26"
            ],
            [
             1,
             "#f0f921"
            ]
           ],
           "sequentialminus": [
            [
             0,
             "#0d0887"
            ],
            [
             0.1111111111111111,
             "#46039f"
            ],
            [
             0.2222222222222222,
             "#7201a8"
            ],
            [
             0.3333333333333333,
             "#9c179e"
            ],
            [
             0.4444444444444444,
             "#bd3786"
            ],
            [
             0.5555555555555556,
             "#d8576b"
            ],
            [
             0.6666666666666666,
             "#ed7953"
            ],
            [
             0.7777777777777778,
             "#fb9f3a"
            ],
            [
             0.8888888888888888,
             "#fdca26"
            ],
            [
             1,
             "#f0f921"
            ]
           ]
          },
          "colorway": [
           "#636efa",
           "#EF553B",
           "#00cc96",
           "#ab63fa",
           "#FFA15A",
           "#19d3f3",
           "#FF6692",
           "#B6E880",
           "#FF97FF",
           "#FECB52"
          ],
          "font": {
           "color": "#2a3f5f"
          },
          "geo": {
           "bgcolor": "white",
           "lakecolor": "white",
           "landcolor": "#E5ECF6",
           "showlakes": true,
           "showland": true,
           "subunitcolor": "white"
          },
          "hoverlabel": {
           "align": "left"
          },
          "hovermode": "closest",
          "mapbox": {
           "style": "light"
          },
          "paper_bgcolor": "white",
          "plot_bgcolor": "#E5ECF6",
          "polar": {
           "angularaxis": {
            "gridcolor": "white",
            "linecolor": "white",
            "ticks": ""
           },
           "bgcolor": "#E5ECF6",
           "radialaxis": {
            "gridcolor": "white",
            "linecolor": "white",
            "ticks": ""
           }
          },
          "scene": {
           "xaxis": {
            "backgroundcolor": "#E5ECF6",
            "gridcolor": "white",
            "gridwidth": 2,
            "linecolor": "white",
            "showbackground": true,
            "ticks": "",
            "zerolinecolor": "white"
           },
           "yaxis": {
            "backgroundcolor": "#E5ECF6",
            "gridcolor": "white",
            "gridwidth": 2,
            "linecolor": "white",
            "showbackground": true,
            "ticks": "",
            "zerolinecolor": "white"
           },
           "zaxis": {
            "backgroundcolor": "#E5ECF6",
            "gridcolor": "white",
            "gridwidth": 2,
            "linecolor": "white",
            "showbackground": true,
            "ticks": "",
            "zerolinecolor": "white"
           }
          },
          "shapedefaults": {
           "line": {
            "color": "#2a3f5f"
           }
          },
          "ternary": {
           "aaxis": {
            "gridcolor": "white",
            "linecolor": "white",
            "ticks": ""
           },
           "baxis": {
            "gridcolor": "white",
            "linecolor": "white",
            "ticks": ""
           },
           "bgcolor": "#E5ECF6",
           "caxis": {
            "gridcolor": "white",
            "linecolor": "white",
            "ticks": ""
           }
          },
          "title": {
           "x": 0.05
          },
          "xaxis": {
           "automargin": true,
           "gridcolor": "white",
           "linecolor": "white",
           "ticks": "",
           "title": {
            "standoff": 15
           },
           "zerolinecolor": "white",
           "zerolinewidth": 2
          },
          "yaxis": {
           "automargin": true,
           "gridcolor": "white",
           "linecolor": "white",
           "ticks": "",
           "title": {
            "standoff": 15
           },
           "zerolinecolor": "white",
           "zerolinewidth": 2
          }
         }
        },
        "title": {
         "text": " Distribution total case, total Recovered "
        },
        "xaxis": {
         "anchor": "y",
         "domain": [
          0,
          1
         ],
         "title": {
          "text": "Total Cases"
         }
        },
        "yaxis": {
         "anchor": "x",
         "domain": [
          0,
          1
         ],
         "title": {
          "text": "Total Recovered"
         }
        }
       }
      }
     },
     "metadata": {},
     "output_type": "display_data"
    }
   ],
   "source": [
    "fig=px.scatter(df,x='Total Cases',y='Total Recovered', size='Total Cases',color='Country, Other',title=' Distribution total case, total Recovered ')\n",
    "fig.show()"
   ]
  },
  {
   "attachments": {},
   "cell_type": "markdown",
   "metadata": {},
   "source": [
    "`comment`:\n",
    "-   In most countries, total Case and total recovered values are roughly equal, so the distribution of the data looks like a straight line. If there are data points that are skewed, the total recovered in that country is much lower than the total cases"
   ]
  },
  {
   "attachments": {},
   "cell_type": "markdown",
   "metadata": {},
   "source": [
    "## Analysis of disease control in continents"
   ]
  },
  {
   "cell_type": "code",
   "execution_count": 62,
   "metadata": {},
   "outputs": [],
   "source": [
    "newDf1 = df[['Tests/ 1M pop','Continent']]\n",
    "ContinentForTest = newDf1.dropna().groupby('Continent').mean().astype(int).apply(lambda x: x/pow(10,4))\n",
    "ContinentForTest.rename(columns = {'Tests/ 1M pop':'Test rate per person'}, inplace = True)"
   ]
  },
  {
   "cell_type": "code",
   "execution_count": 63,
   "metadata": {},
   "outputs": [
    {
     "data": {
      "image/png": "[encoded data removed]",
      "text/plain": [
       "<Figure size 432x288 with 1 Axes>"
      ]
     },
     "metadata": {
      "needs_background": "light"
     },
     "output_type": "display_data"
    }
   ],
   "source": [
    "fig, ax = plt.subplots()\n",
    "continents = list(ContinentForTest.index)\n",
    "numCon0 = np.arange(0,len(continents))  \n",
    "raito = ContinentForTest['Test rate per person'].values\n",
    "ax.bar(continents,raito) \n",
    "ax.set_ylabel('Percentage of testing per person (%)')\n",
    "ax.set_xlabel('Continent')\n",
    "ax.set_title('Test percentage in each continent')\n",
    "plt.xticks(numCon0,continents,rotation=60)\n",
    "plt.show()"
   ]
  },
  {
   "cell_type": "markdown",
   "metadata": {},
   "source": [
    "`Comment:` \n",
    "- The rate of people being tested in Europe is the highest of all continents, which shows that Europe's epidemic screening is quite effective at the testing stage to screen for infected and non-infected cases.\n",
    "- The testing rate of people in Africa is the lowest, which shows that the ability to screen for infected and non-infected cases is the lowest in all continents and at an alarming rate."
   ]
  },
  {
   "cell_type": "code",
   "execution_count": 64,
   "metadata": {},
   "outputs": [],
   "source": [
    "newDf2 = df[['Deaths/ 1M pop','Continent']]\n",
    "ContinentForDeath = newDf2.dropna().groupby('Continent').mean().astype(int).apply(lambda x: x/pow(10,4))\n",
    "ContinentForDeath.rename(columns = {'Deaths/ 1M pop':'Death rate per person'}, inplace = True)"
   ]
  },
  {
   "cell_type": "code",
   "execution_count": 65,
   "metadata": {},
   "outputs": [
    {
     "data": {
      "image/png": "[encoded data removed]",
      "text/plain": [
       "<Figure size 432x288 with 1 Axes>"
      ]
     },
     "metadata": {
      "needs_background": "light"
     },
     "output_type": "display_data"
    }
   ],
   "source": [
    "fig, ax = plt.subplots()\n",
    "continents1 = list(ContinentForDeath.index)\n",
    "numCon1 = np.arange(0,len(continents1))  \n",
    "raito = ContinentForDeath['Death rate per person'].values\n",
    "ax.bar(continents,raito) \n",
    "ax.set_ylabel('Death rate per person ')\n",
    "ax.set_xlabel('Continent')\n",
    "ax.set_title('Death ratio in each continent')\n",
    "plt.xticks(numCon1,continents1,rotation = 60)\n",
    "plt.show()"
   ]
  },
  {
   "cell_type": "markdown",
   "metadata": {},
   "source": [
    "`Comment:` Europe is the place with the highest death rate from infection, the second highest death rate is South America, the lowest mortality rate is Africa."
   ]
  },
  {
   "cell_type": "code",
   "execution_count": 66,
   "metadata": {},
   "outputs": [],
   "source": [
    "newDf3 = df[['1M pop','Continent']]\n",
    "ContinentForCase = newDf3.dropna().groupby('Continent').mean().astype(int).apply(lambda x: x/pow(10,6))\n",
    "ContinentForCase.rename(columns = {'1M pop':'Case rate'}, inplace = True)"
   ]
  },
  {
   "cell_type": "code",
   "execution_count": 67,
   "metadata": {},
   "outputs": [
    {
     "data": {
      "image/png": "[encoded data removed]",
      "text/plain": [
       "<Figure size 432x288 with 1 Axes>"
      ]
     },
     "metadata": {
      "needs_background": "light"
     },
     "output_type": "display_data"
    }
   ],
   "source": [
    "fig, ax = plt.subplots()\n",
    "ContinentForCaseIndex = list(ContinentForCase.index)\n",
    "numCon1 = np.arange(0,len(ContinentForCaseIndex))  \n",
    "raito = ContinentForCase['Case rate'].values\n",
    "ax.bar(ContinentForCaseIndex,raito) \n",
    "ax.set_ylabel('Infection rate per person ')\n",
    "ax.set_xlabel('Continent')\n",
    "ax.set_title('Case ratio in each continent')\n",
    "plt.xticks(numCon1,ContinentForCaseIndex,rotation = 60)\n",
    "plt.show()"
   ]
  },
  {
   "cell_type": "markdown",
   "metadata": {},
   "source": [
    "`Comment: `\n",
    "- The rate of one person dying from the disease is highest in Europe, followed by Australia/Oceania and North America, and the rate is quite high, it is approximately many times the rest of the continents."
   ]
  },
  {
   "cell_type": "code",
   "execution_count": 68,
   "metadata": {},
   "outputs": [],
   "source": [
    "newDf3 = df[['Tests/ 1M pop','1M pop','Continent']]\n",
    "Continent2 = newDf3.dropna().groupby('Continent').mean().astype(int).apply(lambda x: round(x/pow(10,4),1))\n",
    "Continent2.rename(columns = {'1M pop':'Rate of infection per person'}, inplace = True)\n",
    "Continent2.rename(columns = {'Tests/ 1M pop':'Testing rate per person'}, inplace = True)"
   ]
  },
  {
   "cell_type": "code",
   "execution_count": 69,
   "metadata": {},
   "outputs": [
    {
     "data": {
      "text/plain": [
       "<AxesSubplot:xlabel='Continent'>"
      ]
     },
     "execution_count": 69,
     "metadata": {},
     "output_type": "execute_result"
    },
    {
     "data": {
      "image/png": "[encoded data removed]",
      "text/plain": [
       "<Figure size 720x360 with 1 Axes>"
      ]
     },
     "metadata": {
      "needs_background": "light"
     },
     "output_type": "display_data"
    }
   ],
   "source": [
    "Continent2.plot.bar(rot=0,width=0.8,figsize=(10,5))"
   ]
  },
  {
   "cell_type": "markdown",
   "metadata": {},
   "source": [
    "`Comment:` \n",
    "- What an interesting statistic, Europe with the highest rate of testing per population is also the continent with the highest number of cases, which shows that the disease originated in Asia but exploded quite strong in Europe.\n",
    "- The continent with the second highest rate of infections is Oceania, which is also strange when the outbreak is Asia.\n",
    "- And Asia, where the disease occurs, has the lowest infection rate among the continents and is only above Africa, which shows that Asia has quite effective disease handling options. In contrast, Europe and Oceania have not handled well in handling the disease, causing the disease to spread quickly, which can be identified by the number of cases."
   ]
  },
  {
   "cell_type": "code",
   "execution_count": 70,
   "metadata": {},
   "outputs": [],
   "source": [
    "newDf4 = df[['Country, Other','Total Cases','Population', 'Continent']].dropna()\n",
    "newDf4['Rate case per population (%)'] = newDf4['Total Cases']*100/newDf4['Population']\n",
    "nationCase = newDf4.sort_values('Rate case per population (%)', ascending=False)\n",
    "nationCase = nationCase[['Country, Other','Continent','Rate case per population (%)']]"
   ]
  },
  {
   "cell_type": "code",
   "execution_count": 71,
   "metadata": {},
   "outputs": [
    {
     "data": {
      "image/png": "[encoded data removed]",
      "text/plain": [
       "<Figure size 432x288 with 1 Axes>"
      ]
     },
     "metadata": {
      "needs_background": "light"
     },
     "output_type": "display_data"
    }
   ],
   "source": [
    "fig, ax = plt.subplots()\n",
    "country = list(nationCase['Country, Other'])\n",
    "values = np.array(nationCase['Rate case per population (%)'])\n",
    "bar_labels = ['Europe','Europe','Europe','Europe','Asia']\n",
    "bar_colors = ['tab:red','tab:red','tab:red','tab:red','tab:orange']\n",
    "ax.bar(country[0],values[0], label = bar_labels[0], color = bar_colors[0])\n",
    "ax.bar(country[1],values[1], color = bar_colors[1])\n",
    "ax.bar(country[2],values[2], color = bar_colors[2])\n",
    "ax.bar(country[3],values[3], color = bar_colors[3])\n",
    "ax.bar(country[4],values[4], label = bar_labels[4], color = bar_colors[4])\n",
    "ax.set_ylabel('Rate case per population (%)')\n",
    "ax.set_title('Countries with the highest number of infections in the world')\n",
    "ax.legend(title = 'Continent')\n",
    "plt.xticks(rotation = 30)\n",
    "ax.set_ylim(0,100)\n",
    "plt.show()\n"
   ]
  },
  {
   "cell_type": "markdown",
   "metadata": {},
   "source": [
    "`Comment: `\n",
    "- The top 5 countries with the highest percentage of infected populations are European countries and one country in Asia, the rate of population infected in the top 5 countries is quite high in the range of 62% to 70% (WHO recommends that when the proportion of the population infected with COVID-19 exceeds 10% of the total population of a particular area, the health system in that area may become overwhelmed and unable to provide adequate supplies provide medical services to people with COVID-19 and other illnesses). This shows that the epidemic situation in these countries is quite serious, which does not exclude the possibility that reinfection cases exist in the data, but the number of such populations is quite high. This could potentially lead to an overload of the medical department."
   ]
  },
  {
   "attachments": {},
   "cell_type": "markdown",
   "metadata": {},
   "source": [
    "## Phân tích top 10 quốc gia"
   ]
  },
  {
   "cell_type": "markdown",
   "metadata": {},
   "source": [
    "### Phân tích dữ liệu 10 quốc gia có số ca nhiễm nhiều nhất trên thế giới:"
   ]
  },
  {
   "cell_type": "code",
   "execution_count": 72,
   "metadata": {},
   "outputs": [
    {
     "data": {
      "text/html": [
       "<div>\n",
       "<style scoped>\n",
       "    .dataframe tbody tr th:only-of-type {\n",
       "        vertical-align: middle;\n",
       "    }\n",
       "\n",
       "    .dataframe tbody tr th {\n",
       "        vertical-align: top;\n",
       "    }\n",
       "\n",
       "    .dataframe thead th {\n",
       "        text-align: right;\n",
       "    }\n",
       "</style>\n",
       "<table border=\"1\" class=\"dataframe\">\n",
       "  <thead>\n",
       "    <tr style=\"text-align: right;\">\n",
       "      <th></th>\n",
       "      <th>Country, Other</th>\n",
       "      <th>Total Cases</th>\n",
       "      <th>Total Deaths</th>\n",
       "      <th>Total Recovered</th>\n",
       "      <th>Active Cases</th>\n",
       "      <th>Serious, Critical</th>\n",
       "      <th>1M pop</th>\n",
       "      <th>Deaths/ 1M pop</th>\n",
       "      <th>Total Tests</th>\n",
       "      <th>Tests/ 1M pop</th>\n",
       "      <th>Population</th>\n",
       "      <th>Continent</th>\n",
       "    </tr>\n",
       "  </thead>\n",
       "  <tbody>\n",
       "    <tr>\n",
       "      <th>0</th>\n",
       "      <td>USA</td>\n",
       "      <td>105665981</td>\n",
       "      <td>1149253.0</td>\n",
       "      <td>103319965.0</td>\n",
       "      <td>1196763.0</td>\n",
       "      <td>2157.0</td>\n",
       "      <td>315604.0</td>\n",
       "      <td>3433.0</td>\n",
       "      <td>1.169268e+09</td>\n",
       "      <td>3492381.0</td>\n",
       "      <td>3.348053e+08</td>\n",
       "      <td>North America</td>\n",
       "    </tr>\n",
       "    <tr>\n",
       "      <th>1</th>\n",
       "      <td>India</td>\n",
       "      <td>44691956</td>\n",
       "      <td>530789.0</td>\n",
       "      <td>44156970.0</td>\n",
       "      <td>4197.0</td>\n",
       "      <td>NaN</td>\n",
       "      <td>31772.0</td>\n",
       "      <td>377.0</td>\n",
       "      <td>9.198164e+08</td>\n",
       "      <td>653914.0</td>\n",
       "      <td>1.406632e+09</td>\n",
       "      <td>Asia</td>\n",
       "    </tr>\n",
       "    <tr>\n",
       "      <th>2</th>\n",
       "      <td>France</td>\n",
       "      <td>39667102</td>\n",
       "      <td>165240.0</td>\n",
       "      <td>39435308.0</td>\n",
       "      <td>66554.0</td>\n",
       "      <td>869.0</td>\n",
       "      <td>604824.0</td>\n",
       "      <td>2519.0</td>\n",
       "      <td>2.714902e+08</td>\n",
       "      <td>4139547.0</td>\n",
       "      <td>6.558452e+07</td>\n",
       "      <td>Europe</td>\n",
       "    </tr>\n",
       "    <tr>\n",
       "      <th>3</th>\n",
       "      <td>Germany</td>\n",
       "      <td>38276190</td>\n",
       "      <td>169345.0</td>\n",
       "      <td>37906300.0</td>\n",
       "      <td>200545.0</td>\n",
       "      <td>NaN</td>\n",
       "      <td>456301.0</td>\n",
       "      <td>2019.0</td>\n",
       "      <td>1.223324e+08</td>\n",
       "      <td>1458359.0</td>\n",
       "      <td>8.388360e+07</td>\n",
       "      <td>Europe</td>\n",
       "    </tr>\n",
       "    <tr>\n",
       "      <th>4</th>\n",
       "      <td>Brazil</td>\n",
       "      <td>37085520</td>\n",
       "      <td>699310.0</td>\n",
       "      <td>36249161.0</td>\n",
       "      <td>137049.0</td>\n",
       "      <td>NaN</td>\n",
       "      <td>172208.0</td>\n",
       "      <td>3247.0</td>\n",
       "      <td>6.377617e+07</td>\n",
       "      <td>296146.0</td>\n",
       "      <td>2.153536e+08</td>\n",
       "      <td>South America</td>\n",
       "    </tr>\n",
       "    <tr>\n",
       "      <th>5</th>\n",
       "      <td>Japan</td>\n",
       "      <td>33346529</td>\n",
       "      <td>73334.0</td>\n",
       "      <td>21704743.0</td>\n",
       "      <td>11568452.0</td>\n",
       "      <td>119.0</td>\n",
       "      <td>265530.0</td>\n",
       "      <td>584.0</td>\n",
       "      <td>9.645984e+07</td>\n",
       "      <td>768085.0</td>\n",
       "      <td>1.255848e+08</td>\n",
       "      <td>Asia</td>\n",
       "    </tr>\n",
       "    <tr>\n",
       "      <th>6</th>\n",
       "      <td>S. Korea</td>\n",
       "      <td>30662229</td>\n",
       "      <td>34131.0</td>\n",
       "      <td>30455545.0</td>\n",
       "      <td>172553.0</td>\n",
       "      <td>147.0</td>\n",
       "      <td>597356.0</td>\n",
       "      <td>665.0</td>\n",
       "      <td>1.580406e+07</td>\n",
       "      <td>307892.0</td>\n",
       "      <td>5.132990e+07</td>\n",
       "      <td>Asia</td>\n",
       "    </tr>\n",
       "    <tr>\n",
       "      <th>7</th>\n",
       "      <td>Italy</td>\n",
       "      <td>25627473</td>\n",
       "      <td>188538.0</td>\n",
       "      <td>25294864.0</td>\n",
       "      <td>144071.0</td>\n",
       "      <td>104.0</td>\n",
       "      <td>425262.0</td>\n",
       "      <td>3129.0</td>\n",
       "      <td>2.686743e+08</td>\n",
       "      <td>4458380.0</td>\n",
       "      <td>6.026277e+07</td>\n",
       "      <td>Europe</td>\n",
       "    </tr>\n",
       "    <tr>\n",
       "      <th>8</th>\n",
       "      <td>UK</td>\n",
       "      <td>24396534</td>\n",
       "      <td>207695.0</td>\n",
       "      <td>24138845.0</td>\n",
       "      <td>49994.0</td>\n",
       "      <td>NaN</td>\n",
       "      <td>356165.0</td>\n",
       "      <td>3032.0</td>\n",
       "      <td>5.225265e+08</td>\n",
       "      <td>7628357.0</td>\n",
       "      <td>6.849791e+07</td>\n",
       "      <td>Europe</td>\n",
       "    </tr>\n",
       "    <tr>\n",
       "      <th>9</th>\n",
       "      <td>Russia</td>\n",
       "      <td>22454933</td>\n",
       "      <td>396696.0</td>\n",
       "      <td>21806101.0</td>\n",
       "      <td>252136.0</td>\n",
       "      <td>NaN</td>\n",
       "      <td>154006.0</td>\n",
       "      <td>2721.0</td>\n",
       "      <td>2.734000e+08</td>\n",
       "      <td>1875095.0</td>\n",
       "      <td>1.458059e+08</td>\n",
       "      <td>Europe</td>\n",
       "    </tr>\n",
       "  </tbody>\n",
       "</table>\n",
       "</div>"
      ],
      "text/plain": [
       "  Country, Other  Total Cases  Total Deaths  Total Recovered  Active Cases  \\\n",
       "0            USA    105665981     1149253.0      103319965.0     1196763.0   \n",
       "1          India     44691956      530789.0       44156970.0        4197.0   \n",
       "2         France     39667102      165240.0       39435308.0       66554.0   \n",
       "3        Germany     38276190      169345.0       37906300.0      200545.0   \n",
       "4         Brazil     37085520      699310.0       36249161.0      137049.0   \n",
       "5          Japan     33346529       73334.0       21704743.0    11568452.0   \n",
       "6       S. Korea     30662229       34131.0       30455545.0      172553.0   \n",
       "7          Italy     25627473      188538.0       25294864.0      144071.0   \n",
       "8             UK     24396534      207695.0       24138845.0       49994.0   \n",
       "9         Russia     22454933      396696.0       21806101.0      252136.0   \n",
       "\n",
       "   Serious, Critical    1M pop  Deaths/ 1M pop   Total Tests  Tests/ 1M pop  \\\n",
       "0             2157.0  315604.0          3433.0  1.169268e+09      3492381.0   \n",
       "1                NaN   31772.0           377.0  9.198164e+08       653914.0   \n",
       "2              869.0  604824.0          2519.0  2.714902e+08      4139547.0   \n",
       "3                NaN  456301.0          2019.0  1.223324e+08      1458359.0   \n",
       "4                NaN  172208.0          3247.0  6.377617e+07       296146.0   \n",
       "5              119.0  265530.0           584.0  9.645984e+07       768085.0   \n",
       "6              147.0  597356.0           665.0  1.580406e+07       307892.0   \n",
       "7              104.0  425262.0          3129.0  2.686743e+08      4458380.0   \n",
       "8                NaN  356165.0          3032.0  5.225265e+08      7628357.0   \n",
       "9                NaN  154006.0          2721.0  2.734000e+08      1875095.0   \n",
       "\n",
       "     Population      Continent  \n",
       "0  3.348053e+08  North America  \n",
       "1  1.406632e+09           Asia  \n",
       "2  6.558452e+07         Europe  \n",
       "3  8.388360e+07         Europe  \n",
       "4  2.153536e+08  South America  \n",
       "5  1.255848e+08           Asia  \n",
       "6  5.132990e+07           Asia  \n",
       "7  6.026277e+07         Europe  \n",
       "8  6.849791e+07         Europe  \n",
       "9  1.458059e+08         Europe  "
      ]
     },
     "execution_count": 72,
     "metadata": {},
     "output_type": "execute_result"
    }
   ],
   "source": [
    "top_10=df.sort_values(by=['Total Cases'],ascending=False)[:10]\n",
    "top_10 "
   ]
  },
  {
   "cell_type": "markdown",
   "metadata": {},
   "source": [
    "#### 1. Nhận xét về Total Cases, Total Recovered, Total Deaths, Active Cases:"
   ]
  },
  {
   "cell_type": "code",
   "execution_count": 73,
   "metadata": {},
   "outputs": [
    {
     "data": {
      "text/plain": [
       "<AxesSubplot:xlabel='Country, Other'>"
      ]
     },
     "execution_count": 73,
     "metadata": {},
     "output_type": "execute_result"
    },
    {
     "data": {
      "image/png": "[encoded data removed]",
      "text/plain": [
       "<Figure size 1080x720 with 1 Axes>"
      ]
     },
     "metadata": {
      "needs_background": "light"
     },
     "output_type": "display_data"
    }
   ],
   "source": [
    "df1=top_10[['Country, Other','Total Cases', 'Total Recovered', 'Total Deaths','Active Cases']]\n",
    "df1=df1.set_index('Country, Other')\n",
    "df1.plot.bar(rot=0,width=0.8,figsize=(15,10))"
   ]
  },
  {
   "cell_type": "markdown",
   "metadata": {},
   "source": [
    "- Tốc độ phục hồi dịch bệnh của các nước đều rất tốt ('TotalRecovered' xấp xỉ gần bằng 'TotalCases'), tất cả các nước không có sự chênh lệch gì quá đáng kể.\n",
    "- USA và Japan là những nước đang có tỉ lệ số ca đang điều trị ( ActiveCases/ TotalCases) lớn trong top10, tuy nhiên nổi trội nhất chỉ có Japan, có vẻ như tình hình dịch bệnh vẫn còn đang căng thẳng ở đây. Nhưng nhìn chung, các nước đều đang kiểm soát được dịch (tỉ lệ ActiveCases/ TotalCases thấp).\n",
    "- Tỉ lệ tử vong nhìn chung thấp, chứng tỏ bệnh không gây chết nhiều"
   ]
  },
  {
   "cell_type": "markdown",
   "metadata": {},
   "source": [
    "#### 2. Tương quan Serious, Critical so với Active Cases:"
   ]
  },
  {
   "cell_type": "code",
   "execution_count": 74,
   "metadata": {},
   "outputs": [
    {
     "data": {
      "image/png": "[encoded data removed]",
      "text/plain": [
       "<Figure size 432x288 with 1 Axes>"
      ]
     },
     "metadata": {
      "needs_background": "light"
     },
     "output_type": "display_data"
    }
   ],
   "source": [
    "plt.scatter(x=top_10['Serious, Critical'], y=top_10['Active Cases'])\n",
    "plt.xlabel('Serious,Critical')\n",
    "plt.ylabel('ActiveCases')\n",
    "plt.show()"
   ]
  },
  {
   "cell_type": "markdown",
   "metadata": {},
   "source": [
    "- Ta thấy hai biến 'Serious, Critical' và 'ActiveCases' không có mối liên hệ với nhau. Nhưng biểu đồ vẫn cho ta thấy tỷ lệ bị biến chứng nặng do bệnh gây ra không nhiều."
   ]
  },
  {
   "cell_type": "markdown",
   "metadata": {},
   "source": [
    "#### 3. Nhận xét mối quan hệ giữa Total Cases/1M pop, Total Deaths/1M pop, Total Tests/1M pop:"
   ]
  },
  {
   "cell_type": "code",
   "execution_count": 75,
   "metadata": {},
   "outputs": [
    {
     "data": {
      "text/plain": [
       "array([[<AxesSubplot:xlabel='TotCases/ 1M pop', ylabel='TotCases/ 1M pop'>,\n",
       "        <AxesSubplot:xlabel='Deaths/ 1M pop', ylabel='TotCases/ 1M pop'>,\n",
       "        <AxesSubplot:xlabel='Tests/ 1M pop', ylabel='TotCases/ 1M pop'>],\n",
       "       [<AxesSubplot:xlabel='TotCases/ 1M pop', ylabel='Deaths/ 1M pop'>,\n",
       "        <AxesSubplot:xlabel='Deaths/ 1M pop', ylabel='Deaths/ 1M pop'>,\n",
       "        <AxesSubplot:xlabel='Tests/ 1M pop', ylabel='Deaths/ 1M pop'>],\n",
       "       [<AxesSubplot:xlabel='TotCases/ 1M pop', ylabel='Tests/ 1M pop'>,\n",
       "        <AxesSubplot:xlabel='Deaths/ 1M pop', ylabel='Tests/ 1M pop'>,\n",
       "        <AxesSubplot:xlabel='Tests/ 1M pop', ylabel='Tests/ 1M pop'>]],\n",
       "      dtype=object)"
      ]
     },
     "execution_count": 75,
     "metadata": {},
     "output_type": "execute_result"
    },
    {
     "data": {
      "image/png": "[encoded data removed]",
      "text/plain": [
       "<Figure size 432x288 with 9 Axes>"
      ]
     },
     "metadata": {
      "needs_background": "light"
     },
     "output_type": "display_data"
    }
   ],
   "source": [
    "top_10['TotCases/ 1M pop'] = top_10['Total Cases']/ top_10['1M pop']\n",
    "df1=top_10[['TotCases/ 1M pop','Deaths/ 1M pop','Tests/ 1M pop']]\n",
    "pd.plotting.scatter_matrix(df1)"
   ]
  },
  {
   "cell_type": "markdown",
   "metadata": {},
   "source": [
    "- Các histogram của 'TotCases/1M pop', 'Tests/1M pop', 'Deaths/1M pop' đều không đạt phân phối chuẩn.\n",
    "- Histogram của cả 3 thuộc tính đều có xu hướng tăng, tuy nhiên không quá nhiều.\n",
    "- Giữa 2 biến 'TotCases/1M pop' và 'Tests/1M pop' có mối quan hệ thuận, nghĩa là nếu 'Tests/1M pop' tăng thì 'TotCases/1M pop' cũng tăng.\n",
    "- Tồn tại mối liên hệ yếu giữa 'Deaths/1M pop' với hai biến còn lại. Nếu tổng test hoặc tổng số ca nhiễm tăng thì tỉ lệ tử vong cũng tăng lên, tuy nhiên tỉ lệ tăng không quá cao."
   ]
  },
  {
   "cell_type": "markdown",
   "metadata": {},
   "source": [
    "#### 4. Liệu có quan hệ nhân quả giữa hai trường Total Cases và Total Tests không? (số ca nhiễm nhiều do có nhiều xét nghiệm?)"
   ]
  },
  {
   "cell_type": "code",
   "execution_count": 76,
   "metadata": {},
   "outputs": [
    {
     "data": {
      "image/png": "[encoded data removed]",
      "text/plain": [
       "<Figure size 432x288 with 1 Axes>"
      ]
     },
     "metadata": {
      "needs_background": "light"
     },
     "output_type": "display_data"
    }
   ],
   "source": [
    "plt.scatter(x=top_10['Total Cases'], y=top_10['Total Tests'])\n",
    "plt.xlabel('TotalCases')\n",
    "plt.ylabel('TotalTests')\n",
    "plt.show()"
   ]
  },
  {
   "cell_type": "markdown",
   "metadata": {},
   "source": [
    "- Giữa 'TotalCases' và 'TotalTests' có mối quan hệ tương quan thuận với nhau, ta thấy nếu 'TotalCases' tăng thì 'TotalTests' cũng tăng và ngược lại."
   ]
  },
  {
   "cell_type": "code",
   "execution_count": 77,
   "metadata": {},
   "outputs": [
    {
     "data": {
      "image/png": "[encoded data removed]",
      "text/plain": [
       "<Figure size 648x648 with 1 Axes>"
      ]
     },
     "metadata": {
      "needs_background": "light"
     },
     "output_type": "display_data"
    }
   ],
   "source": [
    "df1=top_10[['Country, Other','Total Cases', 'Population']]\n",
    "#set index\n",
    "df1=df1.set_index('Country, Other')\n",
    "plot= df1.plot.bar(stacked=True,figsize=(9,9),rot=0)"
   ]
  },
  {
   "cell_type": "markdown",
   "metadata": {},
   "source": [
    "### Phân tích dữ liệu 10 quốc gia đông dân nhất:"
   ]
  },
  {
   "cell_type": "code",
   "execution_count": 78,
   "metadata": {},
   "outputs": [
    {
     "data": {
      "text/html": [
       "<div>\n",
       "<style scoped>\n",
       "    .dataframe tbody tr th:only-of-type {\n",
       "        vertical-align: middle;\n",
       "    }\n",
       "\n",
       "    .dataframe tbody tr th {\n",
       "        vertical-align: top;\n",
       "    }\n",
       "\n",
       "    .dataframe thead th {\n",
       "        text-align: right;\n",
       "    }\n",
       "</style>\n",
       "<table border=\"1\" class=\"dataframe\">\n",
       "  <thead>\n",
       "    <tr style=\"text-align: right;\">\n",
       "      <th></th>\n",
       "      <th>Country, Other</th>\n",
       "      <th>Total Cases</th>\n",
       "      <th>Total Deaths</th>\n",
       "      <th>Total Recovered</th>\n",
       "      <th>Active Cases</th>\n",
       "      <th>Serious, Critical</th>\n",
       "      <th>1M pop</th>\n",
       "      <th>Deaths/ 1M pop</th>\n",
       "      <th>Total Tests</th>\n",
       "      <th>Tests/ 1M pop</th>\n",
       "      <th>Population</th>\n",
       "      <th>Continent</th>\n",
       "    </tr>\n",
       "  </thead>\n",
       "  <tbody>\n",
       "    <tr>\n",
       "      <th>0</th>\n",
       "      <td>China</td>\n",
       "      <td>503302</td>\n",
       "      <td>5272.0</td>\n",
       "      <td>379053.0</td>\n",
       "      <td>118977.0</td>\n",
       "      <td>NaN</td>\n",
       "      <td>347.0</td>\n",
       "      <td>4.0</td>\n",
       "      <td>1.600000e+08</td>\n",
       "      <td>110461.0</td>\n",
       "      <td>1.448471e+09</td>\n",
       "      <td>Asia</td>\n",
       "    </tr>\n",
       "    <tr>\n",
       "      <th>1</th>\n",
       "      <td>India</td>\n",
       "      <td>44691956</td>\n",
       "      <td>530789.0</td>\n",
       "      <td>44156970.0</td>\n",
       "      <td>4197.0</td>\n",
       "      <td>NaN</td>\n",
       "      <td>31772.0</td>\n",
       "      <td>377.0</td>\n",
       "      <td>9.198164e+08</td>\n",
       "      <td>653914.0</td>\n",
       "      <td>1.406632e+09</td>\n",
       "      <td>Asia</td>\n",
       "    </tr>\n",
       "    <tr>\n",
       "      <th>2</th>\n",
       "      <td>USA</td>\n",
       "      <td>105665981</td>\n",
       "      <td>1149253.0</td>\n",
       "      <td>103319965.0</td>\n",
       "      <td>1196763.0</td>\n",
       "      <td>2157.0</td>\n",
       "      <td>315604.0</td>\n",
       "      <td>3433.0</td>\n",
       "      <td>1.169268e+09</td>\n",
       "      <td>3492381.0</td>\n",
       "      <td>3.348053e+08</td>\n",
       "      <td>North America</td>\n",
       "    </tr>\n",
       "    <tr>\n",
       "      <th>3</th>\n",
       "      <td>Indonesia</td>\n",
       "      <td>6740031</td>\n",
       "      <td>160956.0</td>\n",
       "      <td>6575541.0</td>\n",
       "      <td>3534.0</td>\n",
       "      <td>NaN</td>\n",
       "      <td>24146.0</td>\n",
       "      <td>577.0</td>\n",
       "      <td>1.141589e+08</td>\n",
       "      <td>408975.0</td>\n",
       "      <td>2.791345e+08</td>\n",
       "      <td>Asia</td>\n",
       "    </tr>\n",
       "    <tr>\n",
       "      <th>4</th>\n",
       "      <td>Pakistan</td>\n",
       "      <td>1577785</td>\n",
       "      <td>30645.0</td>\n",
       "      <td>1538689.0</td>\n",
       "      <td>8451.0</td>\n",
       "      <td>11.0</td>\n",
       "      <td>6875.0</td>\n",
       "      <td>134.0</td>\n",
       "      <td>3.057086e+07</td>\n",
       "      <td>133213.0</td>\n",
       "      <td>2.294890e+08</td>\n",
       "      <td>Asia</td>\n",
       "    </tr>\n",
       "    <tr>\n",
       "      <th>5</th>\n",
       "      <td>Nigeria</td>\n",
       "      <td>266628</td>\n",
       "      <td>3155.0</td>\n",
       "      <td>259938.0</td>\n",
       "      <td>3535.0</td>\n",
       "      <td>11.0</td>\n",
       "      <td>1230.0</td>\n",
       "      <td>15.0</td>\n",
       "      <td>5.708974e+06</td>\n",
       "      <td>26339.0</td>\n",
       "      <td>2.167469e+08</td>\n",
       "      <td>Africa</td>\n",
       "    </tr>\n",
       "    <tr>\n",
       "      <th>6</th>\n",
       "      <td>Brazil</td>\n",
       "      <td>37085520</td>\n",
       "      <td>699310.0</td>\n",
       "      <td>36249161.0</td>\n",
       "      <td>137049.0</td>\n",
       "      <td>NaN</td>\n",
       "      <td>172208.0</td>\n",
       "      <td>3247.0</td>\n",
       "      <td>6.377617e+07</td>\n",
       "      <td>296146.0</td>\n",
       "      <td>2.153536e+08</td>\n",
       "      <td>South America</td>\n",
       "    </tr>\n",
       "    <tr>\n",
       "      <th>7</th>\n",
       "      <td>Bangladesh</td>\n",
       "      <td>2037871</td>\n",
       "      <td>29445.0</td>\n",
       "      <td>1998448.0</td>\n",
       "      <td>9978.0</td>\n",
       "      <td>NaN</td>\n",
       "      <td>12138.0</td>\n",
       "      <td>175.0</td>\n",
       "      <td>1.525440e+07</td>\n",
       "      <td>90862.0</td>\n",
       "      <td>1.678857e+08</td>\n",
       "      <td>Asia</td>\n",
       "    </tr>\n",
       "    <tr>\n",
       "      <th>8</th>\n",
       "      <td>Russia</td>\n",
       "      <td>22454933</td>\n",
       "      <td>396696.0</td>\n",
       "      <td>21806101.0</td>\n",
       "      <td>252136.0</td>\n",
       "      <td>NaN</td>\n",
       "      <td>154006.0</td>\n",
       "      <td>2721.0</td>\n",
       "      <td>2.734000e+08</td>\n",
       "      <td>1875095.0</td>\n",
       "      <td>1.458059e+08</td>\n",
       "      <td>Europe</td>\n",
       "    </tr>\n",
       "    <tr>\n",
       "      <th>9</th>\n",
       "      <td>Mexico</td>\n",
       "      <td>7492112</td>\n",
       "      <td>333243.0</td>\n",
       "      <td>6729945.0</td>\n",
       "      <td>428924.0</td>\n",
       "      <td>NaN</td>\n",
       "      <td>56947.0</td>\n",
       "      <td>2533.0</td>\n",
       "      <td>1.964277e+07</td>\n",
       "      <td>149303.0</td>\n",
       "      <td>1.315628e+08</td>\n",
       "      <td>North America</td>\n",
       "    </tr>\n",
       "  </tbody>\n",
       "</table>\n",
       "</div>"
      ],
      "text/plain": [
       "  Country, Other  Total Cases  Total Deaths  Total Recovered  Active Cases  \\\n",
       "0          China       503302        5272.0         379053.0      118977.0   \n",
       "1          India     44691956      530789.0       44156970.0        4197.0   \n",
       "2            USA    105665981     1149253.0      103319965.0     1196763.0   \n",
       "3      Indonesia      6740031      160956.0        6575541.0        3534.0   \n",
       "4       Pakistan      1577785       30645.0        1538689.0        8451.0   \n",
       "5        Nigeria       266628        3155.0         259938.0        3535.0   \n",
       "6         Brazil     37085520      699310.0       36249161.0      137049.0   \n",
       "7     Bangladesh      2037871       29445.0        1998448.0        9978.0   \n",
       "8         Russia     22454933      396696.0       21806101.0      252136.0   \n",
       "9         Mexico      7492112      333243.0        6729945.0      428924.0   \n",
       "\n",
       "   Serious, Critical    1M pop  Deaths/ 1M pop   Total Tests  Tests/ 1M pop  \\\n",
       "0                NaN     347.0             4.0  1.600000e+08       110461.0   \n",
       "1                NaN   31772.0           377.0  9.198164e+08       653914.0   \n",
       "2             2157.0  315604.0          3433.0  1.169268e+09      3492381.0   \n",
       "3                NaN   24146.0           577.0  1.141589e+08       408975.0   \n",
       "4               11.0    6875.0           134.0  3.057086e+07       133213.0   \n",
       "5               11.0    1230.0            15.0  5.708974e+06        26339.0   \n",
       "6                NaN  172208.0          3247.0  6.377617e+07       296146.0   \n",
       "7                NaN   12138.0           175.0  1.525440e+07        90862.0   \n",
       "8                NaN  154006.0          2721.0  2.734000e+08      1875095.0   \n",
       "9                NaN   56947.0          2533.0  1.964277e+07       149303.0   \n",
       "\n",
       "     Population      Continent  \n",
       "0  1.448471e+09           Asia  \n",
       "1  1.406632e+09           Asia  \n",
       "2  3.348053e+08  North America  \n",
       "3  2.791345e+08           Asia  \n",
       "4  2.294890e+08           Asia  \n",
       "5  2.167469e+08         Africa  \n",
       "6  2.153536e+08  South America  \n",
       "7  1.678857e+08           Asia  \n",
       "8  1.458059e+08         Europe  \n",
       "9  1.315628e+08  North America  "
      ]
     },
     "execution_count": 78,
     "metadata": {},
     "output_type": "execute_result"
    }
   ],
   "source": [
    "top10_population_df = df.sort_values(by=['Population'], ascending=False, ignore_index=True).iloc[:10, :]\n",
    "top10_population_df"
   ]
  },
  {
   "cell_type": "markdown",
   "metadata": {},
   "source": [
    "#### 1. Biểu đồ thể hiện Total Cases, Total Recovered, Total Deaths, Total Tests."
   ]
  },
  {
   "cell_type": "code",
   "execution_count": 79,
   "metadata": {},
   "outputs": [
    {
     "data": {
      "image/png": "[encoded data removed]",
      "text/plain": [
       "<Figure size 1080x720 with 1 Axes>"
      ]
     },
     "metadata": {
      "needs_background": "light"
     },
     "output_type": "display_data"
    }
   ],
   "source": [
    "dfs = top10_population_df[['Country, Other', 'Total Cases', 'Total Recovered', 'Total Deaths', 'Total Tests']]\n",
    "dfs = dfs.set_index('Country, Other')\n",
    "ax = dfs.plot.bar(rot = 0, width = 0.5, figsize = (15,10))"
   ]
  },
  {
   "cell_type": "markdown",
   "metadata": {},
   "source": [
    "- Total Cases, Total Recovered, Total Deaths và Total Tests có tỉ lệ với nhau. Khi Total Tests càng cao thì tương ứng 3 thuộc tính còn lại cũng có sự tăng.\n",
    "- Tốc độ phục hồi dịch bệnh của các nước đều rất tốt (TotalRecovered xấp xỉ gần bằng TotalCases).\n",
    "- Số ca tử vong (TotalDeaths) khá thấp nếu so sánh với TotalCases, TotalRecovered"
   ]
  },
  {
   "cell_type": "markdown",
   "metadata": {},
   "source": [
    "#### 2. Mối quan hệ giữa Total Cases và Total Test: "
   ]
  },
  {
   "cell_type": "code",
   "execution_count": 80,
   "metadata": {},
   "outputs": [
    {
     "data": {
      "image/png": "[encoded data removed]",
      "text/plain": [
       "<Figure size 864x576 with 1 Axes>"
      ]
     },
     "metadata": {
      "needs_background": "light"
     },
     "output_type": "display_data"
    }
   ],
   "source": [
    "plt.figure(figsize = (12,8))\n",
    "sns.regplot(data = top10_population_df, x = 'Total Cases', y = 'Total Tests')\n",
    "plt.ticklabel_format(style = 'plain')\n",
    "plt.title('Relationship between total cases and total tests')\n",
    "plt.show()"
   ]
  },
  {
   "cell_type": "markdown",
   "metadata": {},
   "source": [
    "- 2 thuộc tính này có mối quan hệ tuyến tính với nhau, khi cho người dân test càng nhiều thì số lượng ca mắc covid càng cao."
   ]
  }
 ],
 "metadata": {
  "kernelspec": {
   "display_name": "Python 3",
   "language": "python",
   "name": "python3"
  },
  "language_info": {
   "codemirror_mode": {
    "name": "ipython",
    "version": 3
   },
   "file_extension": ".py",
   "mimetype": "text/x-python",
   "name": "python",
   "nbconvert_exporter": "python",
   "pygments_lexer": "ipython3",
   "version": "3.10.5"
  },
  "orig_nbformat": 4
 },
 "nbformat": 4,
 "nbformat_minor": 2
}
