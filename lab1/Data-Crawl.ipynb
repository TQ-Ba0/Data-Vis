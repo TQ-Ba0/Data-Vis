{
 "cells": [
  {
   "cell_type": "markdown",
   "metadata": {},
   "source": [
    "## Import the necessary libraries"
   ]
  },
  {
   "cell_type": "code",
   "execution_count": 1,
   "metadata": {},
   "outputs": [],
   "source": [
    "from bs4 import BeautifulSoup\n",
    "from selenium import webdriver\n",
    "import re\n",
    "\n",
    "import pandas as pd\n",
    "import numpy as np\n",
    "\n",
    "from datetime import date"
   ]
  },
  {
   "cell_type": "markdown",
   "metadata": {},
   "source": [
    "---\n",
    "\n",
    "## Crawling data from web\n",
    "The dataset used for analysising is collected from [Worldometer](https://www.worldometers.info/coronavirus/)"
   ]
  },
  {
   "cell_type": "markdown",
   "metadata": {},
   "source": [
    "- Get chrome driver to browse in `Chrome`"
   ]
  },
  {
   "cell_type": "code",
   "execution_count": 2,
   "metadata": {},
   "outputs": [
    {
     "name": "stderr",
     "output_type": "stream",
     "text": [
      "C:\\Users\\ACER\\AppData\\Local\\Temp\\ipykernel_11356\\1545785294.py:1: DeprecationWarning: executable_path has been deprecated, please pass in a Service object\n",
      "  browser = webdriver.Chrome(executable_path=\"./../chromedriver_win32/chromedriver.exe\")\n"
     ]
    }
   ],
   "source": [
    "browser = webdriver.Chrome(executable_path=\"./../chromedriver_win32/chromedriver.exe\")\n",
    "# browser = webdriver.Chrome()"
   ]
  },
  {
   "cell_type": "code",
   "execution_count": 3,
   "metadata": {},
   "outputs": [],
   "source": [
    "browser.get(\"https://www.worldometers.info/coronavirus/\")\n",
    "browser.implicitly_wait(20)\n",
    "browser.minimize_window()\n",
    "\n",
    "html_text = BeautifulSoup(browser.page_source, \"html.parser\")\n",
    "browser.quit()# Close the Chrome browser"
   ]
  },
  {
   "cell_type": "code",
   "execution_count": 4,
   "metadata": {},
   "outputs": [],
   "source": [
    "def get_string(row):\n",
    "    row.pop(0)# remove id value\n",
    "    if len(row) == 17:\n",
    "        row.pop(-3)# remove redundant empty value\n",
    "    if len(row) == 16:\n",
    "        row.pop(1)# remove duplicated country name\n",
    "    for i in range(len(row)):\n",
    "        row[i] = row[i].string# pure get data\n",
    "        if row[i] in [' ']: row[i] = np.nan\n",
    "        try:\n",
    "            row[i] = int(row[i].replace(',',''))# astype numeric values\n",
    "        except: pass\n",
    "        \n",
    "    return row"
   ]
  },
  {
   "cell_type": "code",
   "execution_count": 5,
   "metadata": {},
   "outputs": [
    {
     "name": "stdout",
     "output_type": "stream",
     "text": [
      "['Country, Other', 'Total Cases', 'New Cases', 'Total Deaths', 'New Deaths', 'Total Recovered', 'New Recovered', 'Active Cases', 'Serious, Critical', '1M pop', 'Deaths/ 1M pop', 'Total Tests', 'Tests/ 1M pop', 'Population', 'Continent'] 15\n"
     ]
    }
   ],
   "source": [
    "rows = html_text.select(\"tr:not([style='display: none'])\")[:233]# get 233 rows of the table\n",
    "columns = re.findall('>([\\w\\d,/ ]*)<',str(rows[0]))# get columns name from html\n",
    "columns = str(columns[2:-1])[2:-2].replace(\"', '', '\",'|').replace(\"', '\",' ').split('|')# get columns name from list \n",
    "print(columns, len(columns))\n",
    "\n",
    "#get data of each table's cell, except 2 first rows\n",
    "rows = list(map(lambda line: line.find_all(['td','a']), rows[2:]))\n",
    "rows = list(map(lambda line: get_string(line), rows))"
   ]
  },
  {
   "cell_type": "code",
   "execution_count": 6,
   "metadata": {},
   "outputs": [],
   "source": [
    "df = pd.DataFrame(rows, columns=columns)\n",
    "# df"
   ]
  },
  {
   "cell_type": "markdown",
   "metadata": {},
   "source": [
    "## Pre-processing"
   ]
  },
  {
   "cell_type": "markdown",
   "metadata": {},
   "source": [
    "- Missing ratio of attributes"
   ]
  },
  {
   "cell_type": "code",
   "execution_count": 7,
   "metadata": {},
   "outputs": [
    {
     "data": {
      "text/plain": [
       "Country, Other       0.000000\n",
       "Total Cases          0.000000\n",
       "New Cases            0.779221\n",
       "Total Deaths         0.025974\n",
       "New Deaths           0.887446\n",
       "Total Recovered      0.008658\n",
       "New Recovered        0.701299\n",
       "Active Cases         0.000000\n",
       "Serious, Critical    0.402597\n",
       "1M pop               0.008658\n",
       "Deaths/ 1M pop       0.034632\n",
       "Total Tests          0.077922\n",
       "Tests/ 1M pop        0.077922\n",
       "Population           0.008658\n",
       "Continent            0.008658\n",
       "dtype: float64"
      ]
     },
     "execution_count": 7,
     "metadata": {},
     "output_type": "execute_result"
    }
   ],
   "source": [
    "df.apply(lambda c: c.isna().mean())"
   ]
  },
  {
   "cell_type": "markdown",
   "metadata": {},
   "source": [
    "`Comment:` Because the covid situation is no longer serious, the attributes consist of 'New Cases', 'New Deaths', 'New Recovered' are not updated regularly (have high missing ratio). They wil be removed. "
   ]
  },
  {
   "cell_type": "code",
   "execution_count": 8,
   "metadata": {},
   "outputs": [
    {
     "data": {
      "text/html": [
       "<div>\n",
       "<style scoped>\n",
       "    .dataframe tbody tr th:only-of-type {\n",
       "        vertical-align: middle;\n",
       "    }\n",
       "\n",
       "    .dataframe tbody tr th {\n",
       "        vertical-align: top;\n",
       "    }\n",
       "\n",
       "    .dataframe thead th {\n",
       "        text-align: right;\n",
       "    }\n",
       "</style>\n",
       "<table border=\"1\" class=\"dataframe\">\n",
       "  <thead>\n",
       "    <tr style=\"text-align: right;\">\n",
       "      <th></th>\n",
       "      <th>Country, Other</th>\n",
       "      <th>Total Cases</th>\n",
       "      <th>Total Deaths</th>\n",
       "      <th>Total Recovered</th>\n",
       "      <th>Active Cases</th>\n",
       "      <th>Serious, Critical</th>\n",
       "      <th>1M pop</th>\n",
       "      <th>Deaths/ 1M pop</th>\n",
       "      <th>Total Tests</th>\n",
       "      <th>Tests/ 1M pop</th>\n",
       "      <th>Population</th>\n",
       "      <th>Continent</th>\n",
       "    </tr>\n",
       "  </thead>\n",
       "  <tbody>\n",
       "    <tr>\n",
       "      <th>0</th>\n",
       "      <td>USA</td>\n",
       "      <td>105820390</td>\n",
       "      <td>1151253.0</td>\n",
       "      <td>103485147</td>\n",
       "      <td>1183990</td>\n",
       "      <td>2261</td>\n",
       "      <td>316065.0</td>\n",
       "      <td>3439.0</td>\n",
       "      <td>1.169977e+09</td>\n",
       "      <td>3494499.0</td>\n",
       "      <td>3.348053e+08</td>\n",
       "      <td>North America</td>\n",
       "    </tr>\n",
       "    <tr>\n",
       "      <th>1</th>\n",
       "      <td>India</td>\n",
       "      <td>44693506</td>\n",
       "      <td>530795.0</td>\n",
       "      <td>44157685</td>\n",
       "      <td>5026</td>\n",
       "      <td>N/A</td>\n",
       "      <td>31773.0</td>\n",
       "      <td>377.0</td>\n",
       "      <td>9.200129e+08</td>\n",
       "      <td>654054.0</td>\n",
       "      <td>1.406632e+09</td>\n",
       "      <td>Asia</td>\n",
       "    </tr>\n",
       "    <tr>\n",
       "      <th>2</th>\n",
       "      <td>France</td>\n",
       "      <td>39690610</td>\n",
       "      <td>165314.0</td>\n",
       "      <td>39447509</td>\n",
       "      <td>77787</td>\n",
       "      <td>869</td>\n",
       "      <td>605183.0</td>\n",
       "      <td>2521.0</td>\n",
       "      <td>2.714902e+08</td>\n",
       "      <td>4139547.0</td>\n",
       "      <td>6.558452e+07</td>\n",
       "      <td>Europe</td>\n",
       "    </tr>\n",
       "    <tr>\n",
       "      <th>3</th>\n",
       "      <td>Germany</td>\n",
       "      <td>38291497</td>\n",
       "      <td>169579.0</td>\n",
       "      <td>37931300</td>\n",
       "      <td>190618</td>\n",
       "      <td>N/A</td>\n",
       "      <td>456484.0</td>\n",
       "      <td>2022.0</td>\n",
       "      <td>1.223324e+08</td>\n",
       "      <td>1458359.0</td>\n",
       "      <td>8.388360e+07</td>\n",
       "      <td>Europe</td>\n",
       "    </tr>\n",
       "    <tr>\n",
       "      <th>4</th>\n",
       "      <td>Brazil</td>\n",
       "      <td>37145514</td>\n",
       "      <td>699634.0</td>\n",
       "      <td>36249161</td>\n",
       "      <td>196719</td>\n",
       "      <td>N/A</td>\n",
       "      <td>172486.0</td>\n",
       "      <td>3249.0</td>\n",
       "      <td>6.377617e+07</td>\n",
       "      <td>296146.0</td>\n",
       "      <td>2.153536e+08</td>\n",
       "      <td>South America</td>\n",
       "    </tr>\n",
       "    <tr>\n",
       "      <th>...</th>\n",
       "      <td>...</td>\n",
       "      <td>...</td>\n",
       "      <td>...</td>\n",
       "      <td>...</td>\n",
       "      <td>...</td>\n",
       "      <td>...</td>\n",
       "      <td>...</td>\n",
       "      <td>...</td>\n",
       "      <td>...</td>\n",
       "      <td>...</td>\n",
       "      <td>...</td>\n",
       "      <td>...</td>\n",
       "    </tr>\n",
       "    <tr>\n",
       "      <th>226</th>\n",
       "      <td>Diamond Princess</td>\n",
       "      <td>712</td>\n",
       "      <td>13.0</td>\n",
       "      <td>699</td>\n",
       "      <td>0</td>\n",
       "      <td>None</td>\n",
       "      <td>NaN</td>\n",
       "      <td>NaN</td>\n",
       "      <td>NaN</td>\n",
       "      <td>NaN</td>\n",
       "      <td>NaN</td>\n",
       "      <td>None</td>\n",
       "    </tr>\n",
       "    <tr>\n",
       "      <th>227</th>\n",
       "      <td>Vatican City</td>\n",
       "      <td>29</td>\n",
       "      <td>NaN</td>\n",
       "      <td>29</td>\n",
       "      <td>0</td>\n",
       "      <td>None</td>\n",
       "      <td>36295.0</td>\n",
       "      <td>NaN</td>\n",
       "      <td>NaN</td>\n",
       "      <td>NaN</td>\n",
       "      <td>7.990000e+02</td>\n",
       "      <td>Europe</td>\n",
       "    </tr>\n",
       "    <tr>\n",
       "      <th>228</th>\n",
       "      <td>Western Sahara</td>\n",
       "      <td>10</td>\n",
       "      <td>1.0</td>\n",
       "      <td>9</td>\n",
       "      <td>0</td>\n",
       "      <td>None</td>\n",
       "      <td>16.0</td>\n",
       "      <td>2.0</td>\n",
       "      <td>NaN</td>\n",
       "      <td>NaN</td>\n",
       "      <td>6.261610e+05</td>\n",
       "      <td>Africa</td>\n",
       "    </tr>\n",
       "    <tr>\n",
       "      <th>229</th>\n",
       "      <td>MS Zaandam</td>\n",
       "      <td>9</td>\n",
       "      <td>2.0</td>\n",
       "      <td>7</td>\n",
       "      <td>0</td>\n",
       "      <td>None</td>\n",
       "      <td>NaN</td>\n",
       "      <td>NaN</td>\n",
       "      <td>NaN</td>\n",
       "      <td>NaN</td>\n",
       "      <td>NaN</td>\n",
       "      <td>None</td>\n",
       "    </tr>\n",
       "    <tr>\n",
       "      <th>230</th>\n",
       "      <td>Tokelau</td>\n",
       "      <td>5</td>\n",
       "      <td>NaN</td>\n",
       "      <td>None</td>\n",
       "      <td>5</td>\n",
       "      <td>None</td>\n",
       "      <td>3628.0</td>\n",
       "      <td>NaN</td>\n",
       "      <td>NaN</td>\n",
       "      <td>NaN</td>\n",
       "      <td>1.378000e+03</td>\n",
       "      <td>Australia/Oceania</td>\n",
       "    </tr>\n",
       "  </tbody>\n",
       "</table>\n",
       "<p>231 rows × 12 columns</p>\n",
       "</div>"
      ],
      "text/plain": [
       "       Country, Other  Total Cases  Total Deaths Total Recovered Active Cases  \\\n",
       "0                 USA    105820390     1151253.0       103485147      1183990   \n",
       "1               India     44693506      530795.0        44157685         5026   \n",
       "2              France     39690610      165314.0        39447509        77787   \n",
       "3             Germany     38291497      169579.0        37931300       190618   \n",
       "4              Brazil     37145514      699634.0        36249161       196719   \n",
       "..                ...          ...           ...             ...          ...   \n",
       "226  Diamond Princess          712          13.0             699            0   \n",
       "227      Vatican City           29           NaN              29            0   \n",
       "228    Western Sahara           10           1.0               9            0   \n",
       "229        MS Zaandam            9           2.0               7            0   \n",
       "230           Tokelau            5           NaN            None            5   \n",
       "\n",
       "    Serious, Critical    1M pop  Deaths/ 1M pop   Total Tests  Tests/ 1M pop  \\\n",
       "0                2261  316065.0          3439.0  1.169977e+09      3494499.0   \n",
       "1                 N/A   31773.0           377.0  9.200129e+08       654054.0   \n",
       "2                 869  605183.0          2521.0  2.714902e+08      4139547.0   \n",
       "3                 N/A  456484.0          2022.0  1.223324e+08      1458359.0   \n",
       "4                 N/A  172486.0          3249.0  6.377617e+07       296146.0   \n",
       "..                ...       ...             ...           ...            ...   \n",
       "226              None       NaN             NaN           NaN            NaN   \n",
       "227              None   36295.0             NaN           NaN            NaN   \n",
       "228              None      16.0             2.0           NaN            NaN   \n",
       "229              None       NaN             NaN           NaN            NaN   \n",
       "230              None    3628.0             NaN           NaN            NaN   \n",
       "\n",
       "       Population          Continent  \n",
       "0    3.348053e+08      North America  \n",
       "1    1.406632e+09               Asia  \n",
       "2    6.558452e+07             Europe  \n",
       "3    8.388360e+07             Europe  \n",
       "4    2.153536e+08      South America  \n",
       "..            ...                ...  \n",
       "226           NaN               None  \n",
       "227  7.990000e+02             Europe  \n",
       "228  6.261610e+05             Africa  \n",
       "229           NaN               None  \n",
       "230  1.378000e+03  Australia/Oceania  \n",
       "\n",
       "[231 rows x 12 columns]"
      ]
     },
     "execution_count": 8,
     "metadata": {},
     "output_type": "execute_result"
    }
   ],
   "source": [
    "df.drop(['New Cases','New Deaths','New Recovered'], axis=1, inplace=True)\n",
    "df"
   ]
  },
  {
   "cell_type": "code",
   "execution_count": 9,
   "metadata": {},
   "outputs": [],
   "source": [
    "# df.to_csv(\"2023-02-20.csv\")\n",
    "df.to_csv(f\"{date.today()}.csv\")"
   ]
  }
 ],
 "metadata": {
  "kernelspec": {
   "display_name": "Python 3",
   "language": "python",
   "name": "python3"
  },
  "language_info": {
   "codemirror_mode": {
    "name": "ipython",
    "version": 3
   },
   "file_extension": ".py",
   "mimetype": "text/x-python",
   "name": "python",
   "nbconvert_exporter": "python",
   "pygments_lexer": "ipython3",
   "version": "3.10.7"
  },
  "orig_nbformat": 4
 },
 "nbformat": 4,
 "nbformat_minor": 2
}
